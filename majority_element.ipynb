{
 "cells": [
  {
   "cell_type": "markdown",
   "metadata": {},
   "source": [
    "# Introduction & Setup"
   ]
  },
  {
   "cell_type": "markdown",
   "metadata": {},
   "source": [
    "In this notebook, I examine the behavior of a transformer trained to solve the [Majority Element](https://leetcode.com/problems/majority-element/) LeetCode problem. This involves returning the most common integer from an array of N elements (all of which are integers between 0 and a specified limit).\n",
    "\n",
    "Specifically, we will look for attention heads that are performing \"counting\" behavior. My best guess is that we will see something similar to \"information about how many occurrences of the number N are contained by the sequence are stored in the position corresponding to the last occurrence of N.\"\n",
    "\n",
    "Throughout the notebook I will use the [TransformerLens](https://github.com/neelnanda-io/TransformerLens) library developed by Neel Nanda, as well as the [CircuitsVis](https://github.com/alan-cooney/CircuitsVis) library maintained by Alan Cooney. TransformerLens uses PyTorch hooks in its implementation of HookPoints, which return the activations from all the various layers as information flows through the network.\n",
    "\n",
    "We will use this to examine the transformer heads and MLP layers in detail as they perform inference."
   ]
  },
  {
   "cell_type": "code",
   "execution_count": 1,
   "metadata": {},
   "outputs": [],
   "source": [
    "import circuitsvis as cv"
   ]
  },
  {
   "cell_type": "code",
   "execution_count": 2,
   "metadata": {},
   "outputs": [
    {
     "name": "stderr",
     "output_type": "stream",
     "text": [
      "/tmp/ipykernel_306028/1936823657.py:4: DeprecationWarning: `magic(...)` is deprecated since IPython 0.13 (warning added in 8.1), use run_line_magic(magic_name, parameter_s).\n",
      "  ipython.magic(\"load_ext autoreload\")\n",
      "/tmp/ipykernel_306028/1936823657.py:5: DeprecationWarning: `magic(...)` is deprecated since IPython 0.13 (warning added in 8.1), use run_line_magic(magic_name, parameter_s).\n",
      "  ipython.magic(\"autoreload 2\")\n"
     ]
    }
   ],
   "source": [
    "from IPython import get_ipython\n",
    "ipython = get_ipython()\n",
    "# Code to automatically update the HookedTransformer code as it is edited without restarting the kernel\n",
    "ipython.magic(\"load_ext autoreload\")\n",
    "ipython.magic(\"autoreload 2\")"
   ]
  },
  {
   "cell_type": "code",
   "execution_count": 46,
   "metadata": {},
   "outputs": [
    {
     "name": "stdout",
     "output_type": "stream",
     "text": [
      "Random seed set as 23\n"
     ]
    }
   ],
   "source": [
    "import plotly.io as pio\n",
    "pio.renderers.default = \"notebook_connected\" # or use \"browser\" if you want plots to open with browser\n",
    "\n",
    "\n",
    "import torch\n",
    "import torch.nn as nn\n",
    "import torch.nn.functional as F\n",
    "import functools\n",
    "from dataclasses import dataclass\n",
    "from einops import rearrange\n",
    "from tqdm.notebook import tqdm_notebook\n",
    "import plotly.express as px\n",
    "from torch.utils.data import DataLoader, Dataset\n",
    "\n",
    "from torchtyping import TensorType as TT\n",
    "from typing import List, Tuple\n",
    "\n",
    "import transformer_lens as tl\n",
    "import transformer_lens.utils as utils\n",
    "from transformer_lens.hook_points import HookedRootModule, HookPoint  # Hooking utilities\n",
    "from utils import set_seed\n",
    "\n",
    "# Basic plotting functions\n",
    "\n",
    "def imshow(tensor, renderer=None, xaxis=\"\", yaxis=\"\", **kwargs):\n",
    "    px.imshow(utils.to_numpy(tensor), color_continuous_midpoint=0.0, color_continuous_scale=\"RdBu\", labels={\"x\":xaxis, \"y\":yaxis}, **kwargs).show(renderer)\n",
    "    #return px.imshow(utils.to_numpy(tensor), color_continuous_midpoint=0.0, color_continuous_scale=\"RdBu\", labels={\"x\":xaxis, \"y\":yaxis}, **kwargs)\n",
    "\n",
    "def line(tensor, renderer=None, xaxis=\"\", yaxis=\"\", **kwargs):\n",
    "    px.line(utils.to_numpy(tensor), labels={\"x\":xaxis, \"y\":yaxis}, **kwargs).show(renderer)\n",
    "    #return px.line(utils.to_numpy(tensor), labels={\"x\":xaxis, \"y\":yaxis}, **kwargs)\n",
    "\n",
    "def scatter(x, y, xaxis=\"\", yaxis=\"\", caxis=\"\", renderer=None, **kwargs):\n",
    "    x = utils.to_numpy(x)\n",
    "    y = utils.to_numpy(y)\n",
    "    px.scatter(y=y, x=x, labels={\"x\":xaxis, \"y\":yaxis, \"color\":caxis}, **kwargs).show(renderer)\n",
    "    #return px.scatter(y=y, x=x, labels={\"x\":xaxis, \"y\":yaxis, \"color\":caxis}, **kwargs)\n",
    "\n",
    "device = torch.device(\"cpu\")\n",
    "MODEL_FILENAME = \"majority_element_model.pt\"\n",
    "global_seed = 23\n",
    "set_seed(global_seed)"
   ]
  },
  {
   "cell_type": "markdown",
   "metadata": {},
   "source": [
    "# Model Training"
   ]
  },
  {
   "cell_type": "markdown",
   "metadata": {},
   "source": [
    "If you would like to jump to the interpretability section directly, this section is not necessary. You can also just view the outputs without running the model. If you decide to train variations, simple edits to the below will do--however, you will need to ensure you are loading the correct model file in the interpretability section."
   ]
  },
  {
   "cell_type": "markdown",
   "metadata": {},
   "source": [
    "## Setup"
   ]
  },
  {
   "cell_type": "markdown",
   "metadata": {},
   "source": [
    "### Model Definition"
   ]
  },
  {
   "cell_type": "markdown",
   "metadata": {},
   "source": [
    "TransformerLens provides a basic, configurable decoder-only transformer implementation with HookPoints already integrated. We will use this for our training."
   ]
  },
  {
   "cell_type": "code",
   "execution_count": 4,
   "metadata": {},
   "outputs": [
    {
     "name": "stdout",
     "output_type": "stream",
     "text": [
      "Moving model to device:  cpu\n"
     ]
    }
   ],
   "source": [
    "config = tl.EasyTransformerConfig(\n",
    "    d_model=64,\n",
    "    d_head=32,\n",
    "    n_heads=2,\n",
    "    d_mlp=48,\n",
    "    n_layers=1,\n",
    "    n_ctx=128, # context window size\n",
    "    #use_local_attn=True,\n",
    "    #attn_types=[\"local\",\"global\"],\n",
    "    #window_size=2,\n",
    "    act_fn=\"solu_ln\",\n",
    "    #attn_only=True,\n",
    "    d_vocab=10,\n",
    "    normalization_type=\"LN\",\n",
    "    seed=global_seed,\n",
    ")\n",
    "\n",
    "model = tl.EasyTransformer(config).to(device)"
   ]
  },
  {
   "cell_type": "code",
   "execution_count": 5,
   "metadata": {},
   "outputs": [
    {
     "data": {
      "text/plain": [
       "=================================================================\n",
       "Layer (type:depth-idx)                   Param #\n",
       "=================================================================\n",
       "HookedTransformer                        --\n",
       "├─Embed: 1-1                             640\n",
       "├─HookPoint: 1-2                         --\n",
       "├─PosEmbed: 1-3                          8,192\n",
       "├─HookPoint: 1-4                         --\n",
       "├─ModuleList: 1-5                        --\n",
       "│    └─TransformerBlock: 2-1             --\n",
       "│    │    └─LayerNorm: 3-1               128\n",
       "│    │    └─LayerNorm: 3-2               128\n",
       "│    │    └─Attention: 3-3               16,640\n",
       "│    │    └─MLP: 3-4                     6,352\n",
       "│    │    └─HookPoint: 3-5               --\n",
       "│    │    └─HookPoint: 3-6               --\n",
       "│    │    └─HookPoint: 3-7               --\n",
       "│    │    └─HookPoint: 3-8               --\n",
       "│    │    └─HookPoint: 3-9               --\n",
       "├─LayerNorm: 1-6                         128\n",
       "│    └─HookPoint: 2-2                    --\n",
       "│    └─HookPoint: 2-3                    --\n",
       "├─Unembed: 1-7                           650\n",
       "=================================================================\n",
       "Total params: 32,858\n",
       "Trainable params: 32,858\n",
       "Non-trainable params: 0\n",
       "================================================================="
      ]
     },
     "execution_count": 5,
     "metadata": {},
     "output_type": "execute_result"
    }
   ],
   "source": [
    "from torchinfo import summary\n",
    "\n",
    "batch_size = 256\n",
    "summary(model)"
   ]
  },
  {
   "cell_type": "markdown",
   "metadata": {},
   "source": [
    "### Create Data"
   ]
  },
  {
   "cell_type": "code",
   "execution_count": 6,
   "metadata": {},
   "outputs": [],
   "source": [
    "from typing import Tuple\n",
    "\n",
    "@dataclass\n",
    "class DataArgs():\n",
    "    max_seq_len: int\n",
    "    batch_size: int\n",
    "    num_workers: int\n",
    "    dataset_size: int\n",
    "    max_val: int"
   ]
  },
  {
   "cell_type": "code",
   "execution_count": 7,
   "metadata": {},
   "outputs": [],
   "source": [
    "class NumSequenceDataset(Dataset):\n",
    "    def __init__(self, x, y):\n",
    "        \"\"\"Initialize the dataset\n",
    "        Args:\n",
    "            x (list): list of input sequences\n",
    "            y (list): list of output sequences\n",
    "        \"\"\"\n",
    "        self.x = x\n",
    "        self.y = y\n",
    "\n",
    "    def __len__(self):\n",
    "        return len(self.x)\n",
    "    \n",
    "    def __getitem__(self, idx):\n",
    "        return self.x[idx], self.y[idx]"
   ]
  },
  {
   "cell_type": "code",
   "execution_count": 8,
   "metadata": {},
   "outputs": [],
   "source": [
    "def build_data(seq_len: int, dataset_size: int, max_val:int =9) -> Tuple[List[torch.Tensor], List[torch.Tensor]]:\n",
    "    \"\"\"Builds a dataset of sequences of numbers and their majority element for each \n",
    "        position in the sequence\n",
    "\n",
    "    Args:\n",
    "        seq_len (int): Length of individual sequences\n",
    "        dataset_size (int): Number of items in the dataset\n",
    "        max_val (int, optional): Specifies the maximum of possible integers in sequence. \n",
    "            Defaults to 9.\n",
    "\n",
    "    Returns:\n",
    "        Tuple[List[torch.Tensor], List[torch.Tensor]]: X and Y lists of sequences\n",
    "    \"\"\"    \n",
    "    x, y = [], []\n",
    "    for i in range(0, dataset_size):\n",
    "\n",
    "        seq = torch.randint(0, max_val+1, (seq_len,))\n",
    "        x.append(seq)\n",
    "\n",
    "        # Majority element is the most frequent element in the sequence up to that point\n",
    "        y_list = [torch.bincount(seq[:i]).argmax() for i in range(1, seq_len+1)]\n",
    "        y.append(torch.tensor(y_list))\n",
    "        \n",
    "    return x, y"
   ]
  },
  {
   "cell_type": "code",
   "execution_count": 9,
   "metadata": {},
   "outputs": [],
   "source": [
    "data_args = DataArgs(\n",
    "    max_seq_len = config.n_ctx,\n",
    "    batch_size = 256,\n",
    "    num_workers = 4,\n",
    "    dataset_size = 2048,\n",
    "    max_val = config.d_vocab-1,\n",
    ")\n",
    "\n",
    "x, y = build_data(data_args.max_seq_len, data_args.dataset_size, data_args.max_val)\n",
    "dataset = NumSequenceDataset(x, y)\n",
    "\n",
    "train_set, val_set = torch.utils.data.random_split(dataset, [int(len(dataset)*0.8), int(len(dataset) - int(len(dataset)*0.8))])\n",
    "\n",
    "trainloader = DataLoader(train_set, batch_size=data_args.batch_size, shuffle=True) #, num_workers=4)\n",
    "valloader = DataLoader(val_set, batch_size=data_args.batch_size, shuffle=False) #, num_workers=4)\n"
   ]
  },
  {
   "cell_type": "markdown",
   "metadata": {},
   "source": [
    "In order to provide more signal to the transformer, each item in Y represents the \n",
    "majority element up to that point in the sequence. For example, if the sequence is \n",
    "[6, 4, 2, 5, 7, 9, 4, 6, 0] then the corresponding Y sequence is\n",
    "[6, 4, 2, 2, 2, 2, 4, 4, 4]. (Note that for our definition of this problem, if two \n",
    "elements are tied for majority, the smallest one is chosen.)"
   ]
  },
  {
   "cell_type": "code",
   "execution_count": 10,
   "metadata": {},
   "outputs": [
    {
     "data": {
      "text/plain": [
       "(tensor([8, 3, 4, 7, 1, 1, 3, 6, 9, 9, 6, 0, 6, 9, 4, 7, 8, 0, 6, 9, 9, 8, 1, 2,\n",
       "         4, 4, 3, 0, 6, 1, 9, 1, 0, 4, 0, 6, 6, 2, 2, 8, 8, 5, 0, 9, 3, 5, 5, 1,\n",
       "         7, 2, 5, 9, 3, 8, 8, 2, 0, 5, 9, 6, 6, 6, 3, 4, 3, 6, 1, 1, 7, 6, 3, 9,\n",
       "         1, 2, 0, 9, 3, 2, 9, 3, 6, 6, 4, 1, 4, 9, 9, 1, 2, 6, 0, 3, 4, 9, 0, 9,\n",
       "         1, 9, 5, 7, 7, 2, 0, 2, 0, 7, 0, 5, 2, 9, 6, 9, 0, 9, 3, 8, 6, 1, 2, 6,\n",
       "         9, 4, 2, 6, 7, 9, 7, 3]),\n",
       " tensor([8, 3, 3, 3, 1, 1, 1, 1, 1, 1, 1, 1, 6, 6, 6, 6, 6, 6, 6, 6, 9, 9, 9, 9,\n",
       "         9, 9, 9, 9, 6, 6, 9, 9, 9, 9, 9, 6, 6, 6, 6, 6, 6, 6, 6, 6, 6, 6, 6, 6,\n",
       "         6, 6, 6, 9, 9, 9, 9, 9, 9, 9, 9, 9, 6, 6, 6, 6, 6, 6, 6, 6, 6, 6, 6, 6,\n",
       "         6, 6, 6, 6, 6, 6, 6, 6, 6, 6, 6, 6, 6, 6, 6, 6, 6, 6, 6, 6, 6, 6, 6, 9,\n",
       "         9, 9, 9, 9, 9, 9, 9, 9, 9, 9, 9, 9, 9, 9, 9, 9, 9, 9, 9, 9, 9, 9, 9, 9,\n",
       "         9, 9, 9, 9, 9, 9, 9, 9]))"
      ]
     },
     "execution_count": 10,
     "metadata": {},
     "output_type": "execute_result"
    }
   ],
   "source": [
    "# Examine data\n",
    "dataset.__getitem__(5)"
   ]
  },
  {
   "cell_type": "markdown",
   "metadata": {},
   "source": [
    "### Optimizer & Training Hyperparameter Setup"
   ]
  },
  {
   "cell_type": "code",
   "execution_count": 11,
   "metadata": {},
   "outputs": [],
   "source": [
    "@dataclass\n",
    "class TrainingArgs():\n",
    "    batch_size: int\n",
    "    epochs: int\n",
    "    optimizer: torch.optim.Optimizer\n",
    "    lr: float\n",
    "    betas: Tuple[float]\n",
    "    weight_decay: float\n",
    "    track: bool\n",
    "    cuda: bool"
   ]
  },
  {
   "cell_type": "code",
   "execution_count": 12,
   "metadata": {},
   "outputs": [],
   "source": [
    "args = TrainingArgs(\n",
    "    batch_size = 128,\n",
    "    epochs = 60,\n",
    "    optimizer = torch.optim.AdamW,\n",
    "    lr = 0.001,\n",
    "    betas = (0.99, 0.999),\n",
    "    weight_decay = 0.01,\n",
    "    track = False,\n",
    "    cuda = False\n",
    ")\n",
    "\n",
    "optimizer = args.optimizer(model.parameters(), lr=args.lr, weight_decay=args.weight_decay)"
   ]
  },
  {
   "cell_type": "markdown",
   "metadata": {},
   "source": [
    "### Define Training Loop"
   ]
  },
  {
   "cell_type": "code",
   "execution_count": 13,
   "metadata": {},
   "outputs": [],
   "source": [
    "from typing import Callable\n",
    "\n",
    "loss_fn = nn.CrossEntropyLoss()\n",
    "\n",
    "MODEL_FILENAME = \"./majority_element_model.pt\"\n",
    "\n",
    "\n",
    "def train_transformer(model, optimizer, trainloader, args) -> list:\n",
    "    \"\"\"Trains a transformer model\n",
    "    Args:\n",
    "        model (torch.nn.Module): Transformer model\n",
    "        optimizer (torch.optim.Optimizer): Optimizer\n",
    "        trainloader (torch.utils.data.DataLoader): Training data loader\n",
    "        args (TrainingArgs): Training arguments\n",
    "\n",
    "    Returns:\n",
    "        model: Trained model\n",
    "        list: List of losses\n",
    "\n",
    "    \"\"\"\n",
    "    epochs = args.epochs\n",
    "    \n",
    "    loss_list = []\n",
    "    val_loss_list = []\n",
    "    scheduler = torch.optim.lr_scheduler.OneCycleLR(\n",
    "        optimizer, max_lr=0.01, steps_per_epoch=len(trainloader), epochs=args.epochs)\n",
    "    \n",
    "    progress_bar = tqdm_notebook(range(epochs))\n",
    "    for epoch in progress_bar:\n",
    "        model.train()\n",
    "        for (x, y) in trainloader:\n",
    "        \n",
    "            logits = model(x.long(), return_type=\"logits\")\n",
    "            logits = rearrange(logits, 'B S V -> (B S) V')\n",
    "            y = rearrange(y, 'B S -> (B S)')\n",
    "\n",
    "            loss = F.cross_entropy(logits, y)\n",
    "            \n",
    "            loss.backward()\n",
    "            optimizer.step()\n",
    "            optimizer.zero_grad()\n",
    "            scheduler.step()\n",
    "\n",
    "            loss_list.append(loss.item())\n",
    "\n",
    "            progress_bar.set_description(f\"Epoch = {epoch}, Loss = {loss.item():.4f}\")\n",
    "\n",
    "        model.eval()\n",
    "        for (x, y) in valloader:\n",
    "        \n",
    "            logits = model(x.long(), return_type=\"logits\")\n",
    "            logits = rearrange(logits, 'B S V -> (B S) V')\n",
    "            y = rearrange(y, 'B S -> (B S)')\n",
    "\n",
    "            loss = F.cross_entropy(logits, y)\n",
    "            val_loss_list.append(loss.item())\n",
    "\n",
    "    print(f\"Saving model to: {MODEL_FILENAME}\")\n",
    "    torch.save(model, MODEL_FILENAME + \"_retrained\")\n",
    "    return model, loss_list, val_loss_list"
   ]
  },
  {
   "cell_type": "markdown",
   "metadata": {},
   "source": [
    "## Train Model"
   ]
  },
  {
   "cell_type": "code",
   "execution_count": 14,
   "metadata": {},
   "outputs": [
    {
     "data": {
      "application/vnd.jupyter.widget-view+json": {
       "model_id": "c2699a6f50f64821b638f8c0c5281fa2",
       "version_major": 2,
       "version_minor": 0
      },
      "text/plain": [
       "  0%|          | 0/60 [00:00<?, ?it/s]"
      ]
     },
     "metadata": {},
     "output_type": "display_data"
    },
    {
     "name": "stdout",
     "output_type": "stream",
     "text": [
      "Saving model to: ./majority_element_model.pt\n"
     ]
    }
   ],
   "source": [
    "model, loss_list, val_loss = train_transformer(model, optimizer, trainloader, args=args)"
   ]
  },
  {
   "cell_type": "code",
   "execution_count": 15,
   "metadata": {},
   "outputs": [
    {
     "data": {
      "text/html": [
       "        <script type=\"text/javascript\">\n",
       "        window.PlotlyConfig = {MathJaxConfig: 'local'};\n",
       "        if (window.MathJax && window.MathJax.Hub && window.MathJax.Hub.Config) {window.MathJax.Hub.Config({SVG: {font: \"STIX-Web\"}});}\n",
       "        if (typeof require !== 'undefined') {\n",
       "        require.undef(\"plotly\");\n",
       "        requirejs.config({\n",
       "            paths: {\n",
       "                'plotly': ['https://cdn.plot.ly/plotly-2.16.1.min']\n",
       "            }\n",
       "        });\n",
       "        require(['plotly'], function(Plotly) {\n",
       "            window._Plotly = Plotly;\n",
       "        });\n",
       "        }\n",
       "        </script>\n",
       "        "
      ]
     },
     "metadata": {},
     "output_type": "display_data"
    },
    {
     "data": {
      "text/html": [
       "<div>                            <div id=\"90b51d86-6857-4be5-b071-2579426df541\" class=\"plotly-graph-div\" style=\"height:525px; width:100%;\"></div>            <script type=\"text/javascript\">                require([\"plotly\"], function(Plotly) {                    window.PLOTLYENV=window.PLOTLYENV || {};                                    if (document.getElementById(\"90b51d86-6857-4be5-b071-2579426df541\")) {                    Plotly.newPlot(                        \"90b51d86-6857-4be5-b071-2579426df541\",                        [{\"hovertemplate\":\"x=%{x}<br>y=%{y}<extra></extra>\",\"legendgroup\":\"\",\"line\":{\"color\":\"#1F77B4\",\"dash\":\"solid\"},\"marker\":{\"symbol\":\"circle\"},\"mode\":\"lines\",\"name\":\"\",\"orientation\":\"v\",\"showlegend\":false,\"x\":[0,1,2,3,4,5,6,7,8,9,10,11,12,13,14,15,16,17,18,19,20,21,22,23,24,25,26,27,28,29,30,31,32,33,34,35,36,37,38,39,40,41,42,43,44,45,46,47,48,49,50,51,52,53,54,55,56,57,58,59,60,61,62,63,64,65,66,67,68,69,70,71,72,73,74,75,76,77,78,79,80,81,82,83,84,85,86,87,88,89,90,91,92,93,94,95,96,97,98,99,100,101,102,103,104,105,106,107,108,109,110,111,112,113,114,115,116,117,118,119,120,121,122,123,124,125,126,127,128,129,130,131,132,133,134,135,136,137,138,139,140,141,142,143,144,145,146,147,148,149,150,151,152,153,154,155,156,157,158,159,160,161,162,163,164,165,166,167,168,169,170,171,172,173,174,175,176,177,178,179,180,181,182,183,184,185,186,187,188,189,190,191,192,193,194,195,196,197,198,199,200,201,202,203,204,205,206,207,208,209,210,211,212,213,214,215,216,217,218,219,220,221,222,223,224,225,226,227,228,229,230,231,232,233,234,235,236,237,238,239,240,241,242,243,244,245,246,247,248,249,250,251,252,253,254,255,256,257,258,259,260,261,262,263,264,265,266,267,268,269,270,271,272,273,274,275,276,277,278,279,280,281,282,283,284,285,286,287,288,289,290,291,292,293,294,295,296,297,298,299,300,301,302,303,304,305,306,307,308,309,310,311,312,313,314,315,316,317,318,319,320,321,322,323,324,325,326,327,328,329,330,331,332,333,334,335,336,337,338,339,340,341,342,343,344,345,346,347,348,349,350,351,352,353,354,355,356,357,358,359,360,361,362,363,364,365,366,367,368,369,370,371,372,373,374,375,376,377,378,379,380,381,382,383,384,385,386,387,388,389,390,391,392,393,394,395,396,397,398,399,400,401,402,403,404,405,406,407,408,409,410,411,412,413,414,415,416,417,418,419],\"xaxis\":\"x\",\"y\":[2.411134719848633,2.400852918624878,2.354755401611328,2.3103904724121094,2.291349172592163,2.261349678039551,2.2369189262390137,2.2023935317993164,2.2203643321990967,2.1863341331481934,2.1603503227233887,2.1361114978790283,2.118812322616577,2.0974974632263184,2.0682034492492676,2.0587778091430664,2.0466465950012207,2.0340142250061035,2.0041663646698,1.9785594940185547,1.967261552810669,1.9283958673477173,1.8592138290405273,1.848706841468811,1.822495937347412,1.8074171543121338,1.7402231693267822,1.6543303728103638,1.6993744373321533,1.6427024602890015,1.5824427604675293,1.5650312900543213,1.501767873764038,1.4718279838562012,1.4500141143798828,1.3919105529785156,1.3617796897888184,1.3058125972747803,1.2562739849090576,1.2554795742034912,1.1524081230163574,1.214482069015503,1.14229154586792,1.0144195556640625,1.0695453882217407,1.0044877529144287,0.9727793335914612,0.9616788625717163,0.8909206986427307,0.8710980415344238,0.8497714400291443,0.8282339572906494,0.8503924012184143,0.8007164001464844,0.8057907819747925,0.687436044216156,0.7411206364631653,0.6949799060821533,0.67719966173172,0.682792067527771,0.586665153503418,0.6742163300514221,0.6252719163894653,0.5723034143447876,0.6667613983154297,0.6705314517021179,0.5296536087989807,0.6392348408699036,0.519931435585022,0.6142217516899109,0.6313647627830505,0.4855724573135376,0.5625067949295044,0.666596531867981,0.5041519999504089,0.5715522170066833,0.6145947575569153,0.371232271194458,0.5202652215957642,0.4843921959400177,0.5593100786209106,0.5823290348052979,0.5233257412910461,0.459004670381546,0.47938305139541626,0.4262884259223938,0.339456170797348,0.34475600719451904,0.43345320224761963,0.28192898631095886,0.3487563133239746,0.3031878173351288,0.31667983531951904,0.3733448386192322,0.3693455457687378,0.39112693071365356,0.5069310665130615,0.5211318731307983,0.5609253644943237,0.42690223455429077,0.46298515796661377,0.4742235243320465,0.5348321795463562,0.47835609316825867,0.5158016681671143,0.5676679611206055,0.5359201431274414,0.376814603805542,0.5104037523269653,0.42719241976737976,0.3399103879928589,0.3426055610179901,0.35574355721473694,0.26674744486808777,0.3649890422821045,0.32039010524749756,0.31505775451660156,0.27028989791870117,0.2649473547935486,0.2868875563144684,0.2797197699546814,0.29720503091812134,0.3825485110282898,0.3356316387653351,0.3845197260379791,0.2588402330875397,0.34800466895103455,0.26481321454048157,0.31822508573532104,0.30541300773620605,0.23741762340068817,0.20380909740924835,0.2646470367908478,0.17603830993175507,0.25479933619499207,0.1920042186975479,0.26427027583122253,0.15277916193008423,0.1664310097694397,0.16082225739955902,0.15417473018169403,0.1652471274137497,0.1567874699831009,0.1439543217420578,0.15892815589904785,0.1283474713563919,0.19525834918022156,0.16257914900779724,0.21461795270442963,0.2310204654932022,0.19163168966770172,0.24900305271148682,0.26288580894470215,0.325934499502182,0.4610963463783264,0.46879613399505615,0.35611692070961,0.30725446343421936,0.4174240529537201,0.310306578874588,0.3965243101119995,0.6345887184143066,0.4499515891075134,0.4259350895881653,0.36951693892478943,0.31877273321151733,0.38505861163139343,0.2520095407962799,0.3019694685935974,0.3219197988510132,0.28860029578208923,0.24234053492546082,0.30373018980026245,0.16316449642181396,0.18482337892055511,0.20247596502304077,0.14983536303043365,0.17178884148597717,0.1578923463821411,0.1433529555797577,0.14741182327270508,0.12561184167861938,0.1027301549911499,0.13485342264175415,0.09917271137237549,0.11477331817150116,0.09459199011325836,0.0988878458738327,0.08226680755615234,0.09511290490627289,0.09097081422805786,0.07858467102050781,0.10000623017549515,0.10601621866226196,0.0753486156463623,0.08860418945550919,0.09480588883161545,0.061498161405324936,0.09892489016056061,0.14025592803955078,0.07723291963338852,0.08389226347208023,0.11879909783601761,0.059538334608078,0.10488074272871017,0.19848182797431946,0.13513101637363434,0.14790089428424835,0.17204226553440094,0.13871189951896667,0.330609530210495,0.12573395669460297,0.1974879801273346,0.14598888158798218,0.1409474015235901,0.10959722101688385,0.1038900837302208,0.07232591509819031,0.1269809454679489,0.07965162396430969,0.08588514477014542,0.08896685391664505,0.0789993554353714,0.06871023029088974,0.06715071946382523,0.0667312815785408,0.064658984541893,0.05821552500128746,0.06521295011043549,0.057439301162958145,0.053943194448947906,0.05411149188876152,0.04410352185368538,0.05216751620173454,0.04641824588179588,0.057376615703105927,0.04796857014298439,0.04104245454072952,0.03926205262541771,0.035813525319099426,0.037833333015441895,0.039330027997493744,0.042596958577632904,0.03494827821850777,0.03791255131363869,0.03399759903550148,0.03463099151849747,0.031384460628032684,0.035849422216415405,0.030540553852915764,0.03290587291121483,0.031806621700525284,0.02852393127977848,0.02815104089677334,0.027980346232652664,0.02772502973675728,0.02603389136493206,0.028297076001763344,0.028382277116179466,0.025857629254460335,0.02333594299852848,0.02260970138013363,0.02494415082037449,0.024282250553369522,0.024162016808986664,0.02600054442882538,0.022810399532318115,0.02246846817433834,0.022562487050890923,0.022763580083847046,0.021614694967865944,0.020802563056349754,0.019653623923659325,0.017980750650167465,0.02085958793759346,0.019323982298374176,0.022386737167835236,0.020900432020425797,0.02249029651284218,0.01895887404680252,0.01942700333893299,0.018296612426638603,0.018834609538316727,0.018681971356272697,0.017522744834423065,0.01871476322412491,0.02412157878279686,0.018402917310595512,0.02089860662817955,0.018140271306037903,0.01806294359266758,0.018454570323228836,0.01959405466914177,0.01605341210961342,0.017598826438188553,0.017390428110957146,0.01730513945221901,0.016552980989217758,0.016790635883808136,0.018451867625117302,0.01538066752254963,0.015420223586261272,0.016717862337827682,0.016136769205331802,0.015783414244651794,0.016119595617055893,0.016750376671552658,0.01759980618953705,0.01506529375910759,0.015630563721060753,0.014588521793484688,0.015026352368295193,0.014847029000520706,0.014960228465497494,0.016109472140669823,0.0155833400785923,0.015041690319776535,0.0136517733335495,0.013391849584877491,0.014108415693044662,0.014892756007611752,0.015333805233240128,0.01516576949506998,0.01394292339682579,0.012160343118011951,0.014056479558348656,0.012883167713880539,0.01512258592993021,0.013747734017670155,0.014242906123399734,0.014151683077216148,0.012880847789347172,0.013719148002564907,0.0120107876136899,0.013571955263614655,0.01345354039222002,0.013182973489165306,0.01290513388812542,0.012405547313392162,0.014512863010168076,0.012979540042579174,0.012394214980304241,0.012950359843671322,0.012147760950028896,0.012208041734993458,0.014107837341725826,0.012418830767273903,0.013044564053416252,0.012358522973954678,0.013476219959557056,0.0126382140442729,0.012222533114254475,0.012789578177034855,0.012564564123749733,0.011971925385296345,0.012342115864157677,0.01305880956351757,0.011890353634953499,0.013122549280524254,0.013180944137275219,0.01275514718145132,0.012174297124147415,0.011062676087021828,0.011410177685320377,0.011933568865060806,0.01317332312464714,0.011161163449287415,0.012789502739906311,0.011285562068223953,0.011824939399957657,0.014038917608559132,0.012278337962925434,0.012083983980119228,0.011549037881195545,0.010845748707652092,0.012633917853236198,0.01314068865031004,0.011537029407918453,0.012044616043567657,0.01244413387030363,0.012649423442780972,0.011742433533072472,0.011636131443083286,0.011627436615526676,0.011164799332618713,0.011488556861877441,0.012377007864415646,0.011301273480057716,0.011312680318951607,0.012587920762598515,0.012289733625948429,0.012168431654572487,0.011898871511220932,0.011171454563736916,0.012698307633399963,0.011399990878999233,0.011994786560535431,0.012141034938395023,0.011722167022526264,0.012663478963077068,0.012468759901821613,0.011662104167044163,0.011492394842207432,0.010853597894310951,0.012042337097227573,0.011635307222604752,0.011980799958109856,0.011931714601814747,0.011270085349678993,0.012787163257598877,0.011449217796325684,0.011914059519767761,0.011051509529352188,0.011811211705207825,0.012082933448255062,0.011468199081718922,0.011524172499775887,0.011867607943713665,0.012161130085587502,0.012035795487463474],\"yaxis\":\"y\",\"type\":\"scatter\"}],                        {\"template\":{\"data\":{\"barpolar\":[{\"marker\":{\"line\":{\"color\":\"white\",\"width\":0.5},\"pattern\":{\"fillmode\":\"overlay\",\"size\":10,\"solidity\":0.2}},\"type\":\"barpolar\"}],\"bar\":[{\"error_x\":{\"color\":\"rgb(36,36,36)\"},\"error_y\":{\"color\":\"rgb(36,36,36)\"},\"marker\":{\"line\":{\"color\":\"white\",\"width\":0.5},\"pattern\":{\"fillmode\":\"overlay\",\"size\":10,\"solidity\":0.2}},\"type\":\"bar\"}],\"carpet\":[{\"aaxis\":{\"endlinecolor\":\"rgb(36,36,36)\",\"gridcolor\":\"white\",\"linecolor\":\"white\",\"minorgridcolor\":\"white\",\"startlinecolor\":\"rgb(36,36,36)\"},\"baxis\":{\"endlinecolor\":\"rgb(36,36,36)\",\"gridcolor\":\"white\",\"linecolor\":\"white\",\"minorgridcolor\":\"white\",\"startlinecolor\":\"rgb(36,36,36)\"},\"type\":\"carpet\"}],\"choropleth\":[{\"colorbar\":{\"outlinewidth\":1,\"tickcolor\":\"rgb(36,36,36)\",\"ticks\":\"outside\"},\"type\":\"choropleth\"}],\"contourcarpet\":[{\"colorbar\":{\"outlinewidth\":1,\"tickcolor\":\"rgb(36,36,36)\",\"ticks\":\"outside\"},\"type\":\"contourcarpet\"}],\"contour\":[{\"colorbar\":{\"outlinewidth\":1,\"tickcolor\":\"rgb(36,36,36)\",\"ticks\":\"outside\"},\"colorscale\":[[0.0,\"#440154\"],[0.1111111111111111,\"#482878\"],[0.2222222222222222,\"#3e4989\"],[0.3333333333333333,\"#31688e\"],[0.4444444444444444,\"#26828e\"],[0.5555555555555556,\"#1f9e89\"],[0.6666666666666666,\"#35b779\"],[0.7777777777777778,\"#6ece58\"],[0.8888888888888888,\"#b5de2b\"],[1.0,\"#fde725\"]],\"type\":\"contour\"}],\"heatmapgl\":[{\"colorbar\":{\"outlinewidth\":1,\"tickcolor\":\"rgb(36,36,36)\",\"ticks\":\"outside\"},\"colorscale\":[[0.0,\"#440154\"],[0.1111111111111111,\"#482878\"],[0.2222222222222222,\"#3e4989\"],[0.3333333333333333,\"#31688e\"],[0.4444444444444444,\"#26828e\"],[0.5555555555555556,\"#1f9e89\"],[0.6666666666666666,\"#35b779\"],[0.7777777777777778,\"#6ece58\"],[0.8888888888888888,\"#b5de2b\"],[1.0,\"#fde725\"]],\"type\":\"heatmapgl\"}],\"heatmap\":[{\"colorbar\":{\"outlinewidth\":1,\"tickcolor\":\"rgb(36,36,36)\",\"ticks\":\"outside\"},\"colorscale\":[[0.0,\"#440154\"],[0.1111111111111111,\"#482878\"],[0.2222222222222222,\"#3e4989\"],[0.3333333333333333,\"#31688e\"],[0.4444444444444444,\"#26828e\"],[0.5555555555555556,\"#1f9e89\"],[0.6666666666666666,\"#35b779\"],[0.7777777777777778,\"#6ece58\"],[0.8888888888888888,\"#b5de2b\"],[1.0,\"#fde725\"]],\"type\":\"heatmap\"}],\"histogram2dcontour\":[{\"colorbar\":{\"outlinewidth\":1,\"tickcolor\":\"rgb(36,36,36)\",\"ticks\":\"outside\"},\"colorscale\":[[0.0,\"#440154\"],[0.1111111111111111,\"#482878\"],[0.2222222222222222,\"#3e4989\"],[0.3333333333333333,\"#31688e\"],[0.4444444444444444,\"#26828e\"],[0.5555555555555556,\"#1f9e89\"],[0.6666666666666666,\"#35b779\"],[0.7777777777777778,\"#6ece58\"],[0.8888888888888888,\"#b5de2b\"],[1.0,\"#fde725\"]],\"type\":\"histogram2dcontour\"}],\"histogram2d\":[{\"colorbar\":{\"outlinewidth\":1,\"tickcolor\":\"rgb(36,36,36)\",\"ticks\":\"outside\"},\"colorscale\":[[0.0,\"#440154\"],[0.1111111111111111,\"#482878\"],[0.2222222222222222,\"#3e4989\"],[0.3333333333333333,\"#31688e\"],[0.4444444444444444,\"#26828e\"],[0.5555555555555556,\"#1f9e89\"],[0.6666666666666666,\"#35b779\"],[0.7777777777777778,\"#6ece58\"],[0.8888888888888888,\"#b5de2b\"],[1.0,\"#fde725\"]],\"type\":\"histogram2d\"}],\"histogram\":[{\"marker\":{\"line\":{\"color\":\"white\",\"width\":0.6}},\"type\":\"histogram\"}],\"mesh3d\":[{\"colorbar\":{\"outlinewidth\":1,\"tickcolor\":\"rgb(36,36,36)\",\"ticks\":\"outside\"},\"type\":\"mesh3d\"}],\"parcoords\":[{\"line\":{\"colorbar\":{\"outlinewidth\":1,\"tickcolor\":\"rgb(36,36,36)\",\"ticks\":\"outside\"}},\"type\":\"parcoords\"}],\"pie\":[{\"automargin\":true,\"type\":\"pie\"}],\"scatter3d\":[{\"line\":{\"colorbar\":{\"outlinewidth\":1,\"tickcolor\":\"rgb(36,36,36)\",\"ticks\":\"outside\"}},\"marker\":{\"colorbar\":{\"outlinewidth\":1,\"tickcolor\":\"rgb(36,36,36)\",\"ticks\":\"outside\"}},\"type\":\"scatter3d\"}],\"scattercarpet\":[{\"marker\":{\"colorbar\":{\"outlinewidth\":1,\"tickcolor\":\"rgb(36,36,36)\",\"ticks\":\"outside\"}},\"type\":\"scattercarpet\"}],\"scattergeo\":[{\"marker\":{\"colorbar\":{\"outlinewidth\":1,\"tickcolor\":\"rgb(36,36,36)\",\"ticks\":\"outside\"}},\"type\":\"scattergeo\"}],\"scattergl\":[{\"marker\":{\"colorbar\":{\"outlinewidth\":1,\"tickcolor\":\"rgb(36,36,36)\",\"ticks\":\"outside\"}},\"type\":\"scattergl\"}],\"scattermapbox\":[{\"marker\":{\"colorbar\":{\"outlinewidth\":1,\"tickcolor\":\"rgb(36,36,36)\",\"ticks\":\"outside\"}},\"type\":\"scattermapbox\"}],\"scatterpolargl\":[{\"marker\":{\"colorbar\":{\"outlinewidth\":1,\"tickcolor\":\"rgb(36,36,36)\",\"ticks\":\"outside\"}},\"type\":\"scatterpolargl\"}],\"scatterpolar\":[{\"marker\":{\"colorbar\":{\"outlinewidth\":1,\"tickcolor\":\"rgb(36,36,36)\",\"ticks\":\"outside\"}},\"type\":\"scatterpolar\"}],\"scatter\":[{\"fillpattern\":{\"fillmode\":\"overlay\",\"size\":10,\"solidity\":0.2},\"type\":\"scatter\"}],\"scatterternary\":[{\"marker\":{\"colorbar\":{\"outlinewidth\":1,\"tickcolor\":\"rgb(36,36,36)\",\"ticks\":\"outside\"}},\"type\":\"scatterternary\"}],\"surface\":[{\"colorbar\":{\"outlinewidth\":1,\"tickcolor\":\"rgb(36,36,36)\",\"ticks\":\"outside\"},\"colorscale\":[[0.0,\"#440154\"],[0.1111111111111111,\"#482878\"],[0.2222222222222222,\"#3e4989\"],[0.3333333333333333,\"#31688e\"],[0.4444444444444444,\"#26828e\"],[0.5555555555555556,\"#1f9e89\"],[0.6666666666666666,\"#35b779\"],[0.7777777777777778,\"#6ece58\"],[0.8888888888888888,\"#b5de2b\"],[1.0,\"#fde725\"]],\"type\":\"surface\"}],\"table\":[{\"cells\":{\"fill\":{\"color\":\"rgb(237,237,237)\"},\"line\":{\"color\":\"white\"}},\"header\":{\"fill\":{\"color\":\"rgb(217,217,217)\"},\"line\":{\"color\":\"white\"}},\"type\":\"table\"}]},\"layout\":{\"annotationdefaults\":{\"arrowhead\":0,\"arrowwidth\":1},\"autotypenumbers\":\"strict\",\"coloraxis\":{\"colorbar\":{\"outlinewidth\":1,\"tickcolor\":\"rgb(36,36,36)\",\"ticks\":\"outside\"}},\"colorscale\":{\"diverging\":[[0.0,\"rgb(103,0,31)\"],[0.1,\"rgb(178,24,43)\"],[0.2,\"rgb(214,96,77)\"],[0.3,\"rgb(244,165,130)\"],[0.4,\"rgb(253,219,199)\"],[0.5,\"rgb(247,247,247)\"],[0.6,\"rgb(209,229,240)\"],[0.7,\"rgb(146,197,222)\"],[0.8,\"rgb(67,147,195)\"],[0.9,\"rgb(33,102,172)\"],[1.0,\"rgb(5,48,97)\"]],\"sequential\":[[0.0,\"#440154\"],[0.1111111111111111,\"#482878\"],[0.2222222222222222,\"#3e4989\"],[0.3333333333333333,\"#31688e\"],[0.4444444444444444,\"#26828e\"],[0.5555555555555556,\"#1f9e89\"],[0.6666666666666666,\"#35b779\"],[0.7777777777777778,\"#6ece58\"],[0.8888888888888888,\"#b5de2b\"],[1.0,\"#fde725\"]],\"sequentialminus\":[[0.0,\"#440154\"],[0.1111111111111111,\"#482878\"],[0.2222222222222222,\"#3e4989\"],[0.3333333333333333,\"#31688e\"],[0.4444444444444444,\"#26828e\"],[0.5555555555555556,\"#1f9e89\"],[0.6666666666666666,\"#35b779\"],[0.7777777777777778,\"#6ece58\"],[0.8888888888888888,\"#b5de2b\"],[1.0,\"#fde725\"]]},\"colorway\":[\"#1F77B4\",\"#FF7F0E\",\"#2CA02C\",\"#D62728\",\"#9467BD\",\"#8C564B\",\"#E377C2\",\"#7F7F7F\",\"#BCBD22\",\"#17BECF\"],\"font\":{\"color\":\"rgb(36,36,36)\"},\"geo\":{\"bgcolor\":\"white\",\"lakecolor\":\"white\",\"landcolor\":\"white\",\"showlakes\":true,\"showland\":true,\"subunitcolor\":\"white\"},\"hoverlabel\":{\"align\":\"left\"},\"hovermode\":\"closest\",\"mapbox\":{\"style\":\"light\"},\"paper_bgcolor\":\"white\",\"plot_bgcolor\":\"white\",\"polar\":{\"angularaxis\":{\"gridcolor\":\"rgb(232,232,232)\",\"linecolor\":\"rgb(36,36,36)\",\"showgrid\":false,\"showline\":true,\"ticks\":\"outside\"},\"bgcolor\":\"white\",\"radialaxis\":{\"gridcolor\":\"rgb(232,232,232)\",\"linecolor\":\"rgb(36,36,36)\",\"showgrid\":false,\"showline\":true,\"ticks\":\"outside\"}},\"scene\":{\"xaxis\":{\"backgroundcolor\":\"white\",\"gridcolor\":\"rgb(232,232,232)\",\"gridwidth\":2,\"linecolor\":\"rgb(36,36,36)\",\"showbackground\":true,\"showgrid\":false,\"showline\":true,\"ticks\":\"outside\",\"zeroline\":false,\"zerolinecolor\":\"rgb(36,36,36)\"},\"yaxis\":{\"backgroundcolor\":\"white\",\"gridcolor\":\"rgb(232,232,232)\",\"gridwidth\":2,\"linecolor\":\"rgb(36,36,36)\",\"showbackground\":true,\"showgrid\":false,\"showline\":true,\"ticks\":\"outside\",\"zeroline\":false,\"zerolinecolor\":\"rgb(36,36,36)\"},\"zaxis\":{\"backgroundcolor\":\"white\",\"gridcolor\":\"rgb(232,232,232)\",\"gridwidth\":2,\"linecolor\":\"rgb(36,36,36)\",\"showbackground\":true,\"showgrid\":false,\"showline\":true,\"ticks\":\"outside\",\"zeroline\":false,\"zerolinecolor\":\"rgb(36,36,36)\"}},\"shapedefaults\":{\"fillcolor\":\"black\",\"line\":{\"width\":0},\"opacity\":0.3},\"ternary\":{\"aaxis\":{\"gridcolor\":\"rgb(232,232,232)\",\"linecolor\":\"rgb(36,36,36)\",\"showgrid\":false,\"showline\":true,\"ticks\":\"outside\"},\"baxis\":{\"gridcolor\":\"rgb(232,232,232)\",\"linecolor\":\"rgb(36,36,36)\",\"showgrid\":false,\"showline\":true,\"ticks\":\"outside\"},\"bgcolor\":\"white\",\"caxis\":{\"gridcolor\":\"rgb(232,232,232)\",\"linecolor\":\"rgb(36,36,36)\",\"showgrid\":false,\"showline\":true,\"ticks\":\"outside\"}},\"title\":{\"x\":0.05},\"xaxis\":{\"automargin\":true,\"gridcolor\":\"rgb(232,232,232)\",\"linecolor\":\"rgb(36,36,36)\",\"showgrid\":false,\"showline\":true,\"ticks\":\"outside\",\"title\":{\"standoff\":15},\"zeroline\":false,\"zerolinecolor\":\"rgb(36,36,36)\"},\"yaxis\":{\"automargin\":true,\"gridcolor\":\"rgb(232,232,232)\",\"linecolor\":\"rgb(36,36,36)\",\"showgrid\":false,\"showline\":true,\"ticks\":\"outside\",\"title\":{\"standoff\":15},\"zeroline\":false,\"zerolinecolor\":\"rgb(36,36,36)\"}}},\"xaxis\":{\"anchor\":\"y\",\"domain\":[0.0,1.0],\"title\":{\"text\":\"x\"}},\"yaxis\":{\"anchor\":\"x\",\"domain\":[0.0,1.0],\"title\":{\"text\":\"y\"},\"range\":[0,2.411134719848633]},\"legend\":{\"tracegroupgap\":0},\"margin\":{\"t\":60},\"title\":{\"text\":\"Cross entropy loss on Majority Element\"},\"hovermode\":\"x unified\"},                        {\"responsive\": true}                    ).then(function(){\n",
       "                            \n",
       "var gd = document.getElementById('90b51d86-6857-4be5-b071-2579426df541');\n",
       "var x = new MutationObserver(function (mutations, observer) {{\n",
       "        var display = window.getComputedStyle(gd).display;\n",
       "        if (!display || display === 'none') {{\n",
       "            console.log([gd, 'removed!']);\n",
       "            Plotly.purge(gd);\n",
       "            observer.disconnect();\n",
       "        }}\n",
       "}});\n",
       "\n",
       "// Listen for the removal of the full notebook cells\n",
       "var notebookContainer = gd.closest('#notebook-container');\n",
       "if (notebookContainer) {{\n",
       "    x.observe(notebookContainer, {childList: true});\n",
       "}}\n",
       "\n",
       "// Listen for the clearing of the current output cell\n",
       "var outputEl = gd.closest('.output');\n",
       "if (outputEl) {{\n",
       "    x.observe(outputEl, {childList: true});\n",
       "}}\n",
       "\n",
       "                        })                };                });            </script>        </div>"
      ]
     },
     "metadata": {},
     "output_type": "display_data"
    }
   ],
   "source": [
    "fig = px.line(y=loss_list, template=\"simple_white\")\n",
    "fig.update_layout(title=\"Cross entropy loss on Majority Element\", yaxis_range=[0, max(loss_list)], hovermode=\"x unified\")\n",
    "fig.show()"
   ]
  },
  {
   "cell_type": "code",
   "execution_count": 16,
   "metadata": {},
   "outputs": [
    {
     "data": {
      "text/html": [
       "<div>                            <div id=\"8250b86f-0232-441c-9e22-ae8aa6658f50\" class=\"plotly-graph-div\" style=\"height:525px; width:100%;\"></div>            <script type=\"text/javascript\">                require([\"plotly\"], function(Plotly) {                    window.PLOTLYENV=window.PLOTLYENV || {};                                    if (document.getElementById(\"8250b86f-0232-441c-9e22-ae8aa6658f50\")) {                    Plotly.newPlot(                        \"8250b86f-0232-441c-9e22-ae8aa6658f50\",                        [{\"hovertemplate\":\"x=%{x}<br>y=%{y}<extra></extra>\",\"legendgroup\":\"\",\"line\":{\"color\":\"#1F77B4\",\"dash\":\"solid\"},\"marker\":{\"symbol\":\"circle\"},\"mode\":\"lines\",\"name\":\"\",\"orientation\":\"v\",\"showlegend\":false,\"x\":[0,1,2,3,4,5,6,7,8,9,10,11,12,13,14,15,16,17,18,19,20,21,22,23,24,25,26,27,28,29,30,31,32,33,34,35,36,37,38,39,40,41,42,43,44,45,46,47,48,49,50,51,52,53,54,55,56,57,58,59,60,61,62,63,64,65,66,67,68,69,70,71,72,73,74,75,76,77,78,79,80,81,82,83,84,85,86,87,88,89,90,91,92,93,94,95,96,97,98,99,100,101,102,103,104,105,106,107,108,109,110,111,112,113,114,115,116,117,118,119],\"xaxis\":\"x\",\"y\":[2.251885414123535,2.2318809032440186,2.1076016426086426,2.0850653648376465,1.931577444076538,1.8983280658721924,1.7247041463851929,1.6683834791183472,1.4157136678695679,1.36622953414917,1.1807196140289307,1.1334742307662964,0.9229534864425659,0.8955408930778503,0.7857841849327087,0.7458600401878357,0.6232554316520691,0.6063975095748901,0.6635472774505615,0.638353168964386,0.4107303321361542,0.3780877888202667,0.457883358001709,0.4445631206035614,0.32659003138542175,0.307878315448761,0.5296890139579773,0.5141996145248413,0.6086962819099426,0.5710244178771973,0.40430766344070435,0.3785087764263153,0.3309916853904724,0.3228669762611389,0.41491377353668213,0.3892788290977478,0.21431152522563934,0.2089744359254837,0.18586523830890656,0.16234299540519714,0.20304572582244873,0.18966005742549896,0.44492143392562866,0.4173676669597626,0.7006404399871826,0.6640186309814453,0.33890819549560547,0.33687782287597656,0.23493839800357819,0.21723003685474396,0.13506002724170685,0.12830892205238342,0.11519411206245422,0.11736765503883362,0.1289387196302414,0.11143334209918976,0.08823133260011673,0.08441828936338425,0.32795432209968567,0.3313457667827606,0.10965386033058167,0.09999941289424896,0.0857640728354454,0.07379459589719772,0.07585349678993225,0.07046499103307724,0.06071367859840393,0.05462896078824997,0.05433579161763191,0.05206924304366112,0.04372971132397652,0.040000464767217636,0.03915729746222496,0.03694161772727966,0.03934106603264809,0.03687615320086479,0.03482608497142792,0.032762311398983,0.0336492620408535,0.031147250905632973,0.031635742634534836,0.03055308386683464,0.03163434937596321,0.029851917177438736,0.029889922589063644,0.026896793395280838,0.02915860526263714,0.026862850412726402,0.028381410986185074,0.02636132575571537,0.028035275638103485,0.025700444355607033,0.0269005224108696,0.024976588785648346,0.026660241186618805,0.024373771622776985,0.025970449671149254,0.024075288325548172,0.02564985491335392,0.023622537031769753,0.025258636102080345,0.02318830043077469,0.02509734220802784,0.023087838664650917,0.024962659925222397,0.022975541651248932,0.024843864142894745,0.022851038724184036,0.02463063970208168,0.022656027227640152,0.02458091452717781,0.02262713946402073,0.024660225957632065,0.022674687206745148,0.02468857727944851,0.02269156649708748,0.024697747081518173,0.022701136767864227,0.024698447436094284,0.02270178124308586],\"yaxis\":\"y\",\"type\":\"scatter\"}],                        {\"template\":{\"data\":{\"barpolar\":[{\"marker\":{\"line\":{\"color\":\"white\",\"width\":0.5},\"pattern\":{\"fillmode\":\"overlay\",\"size\":10,\"solidity\":0.2}},\"type\":\"barpolar\"}],\"bar\":[{\"error_x\":{\"color\":\"rgb(36,36,36)\"},\"error_y\":{\"color\":\"rgb(36,36,36)\"},\"marker\":{\"line\":{\"color\":\"white\",\"width\":0.5},\"pattern\":{\"fillmode\":\"overlay\",\"size\":10,\"solidity\":0.2}},\"type\":\"bar\"}],\"carpet\":[{\"aaxis\":{\"endlinecolor\":\"rgb(36,36,36)\",\"gridcolor\":\"white\",\"linecolor\":\"white\",\"minorgridcolor\":\"white\",\"startlinecolor\":\"rgb(36,36,36)\"},\"baxis\":{\"endlinecolor\":\"rgb(36,36,36)\",\"gridcolor\":\"white\",\"linecolor\":\"white\",\"minorgridcolor\":\"white\",\"startlinecolor\":\"rgb(36,36,36)\"},\"type\":\"carpet\"}],\"choropleth\":[{\"colorbar\":{\"outlinewidth\":1,\"tickcolor\":\"rgb(36,36,36)\",\"ticks\":\"outside\"},\"type\":\"choropleth\"}],\"contourcarpet\":[{\"colorbar\":{\"outlinewidth\":1,\"tickcolor\":\"rgb(36,36,36)\",\"ticks\":\"outside\"},\"type\":\"contourcarpet\"}],\"contour\":[{\"colorbar\":{\"outlinewidth\":1,\"tickcolor\":\"rgb(36,36,36)\",\"ticks\":\"outside\"},\"colorscale\":[[0.0,\"#440154\"],[0.1111111111111111,\"#482878\"],[0.2222222222222222,\"#3e4989\"],[0.3333333333333333,\"#31688e\"],[0.4444444444444444,\"#26828e\"],[0.5555555555555556,\"#1f9e89\"],[0.6666666666666666,\"#35b779\"],[0.7777777777777778,\"#6ece58\"],[0.8888888888888888,\"#b5de2b\"],[1.0,\"#fde725\"]],\"type\":\"contour\"}],\"heatmapgl\":[{\"colorbar\":{\"outlinewidth\":1,\"tickcolor\":\"rgb(36,36,36)\",\"ticks\":\"outside\"},\"colorscale\":[[0.0,\"#440154\"],[0.1111111111111111,\"#482878\"],[0.2222222222222222,\"#3e4989\"],[0.3333333333333333,\"#31688e\"],[0.4444444444444444,\"#26828e\"],[0.5555555555555556,\"#1f9e89\"],[0.6666666666666666,\"#35b779\"],[0.7777777777777778,\"#6ece58\"],[0.8888888888888888,\"#b5de2b\"],[1.0,\"#fde725\"]],\"type\":\"heatmapgl\"}],\"heatmap\":[{\"colorbar\":{\"outlinewidth\":1,\"tickcolor\":\"rgb(36,36,36)\",\"ticks\":\"outside\"},\"colorscale\":[[0.0,\"#440154\"],[0.1111111111111111,\"#482878\"],[0.2222222222222222,\"#3e4989\"],[0.3333333333333333,\"#31688e\"],[0.4444444444444444,\"#26828e\"],[0.5555555555555556,\"#1f9e89\"],[0.6666666666666666,\"#35b779\"],[0.7777777777777778,\"#6ece58\"],[0.8888888888888888,\"#b5de2b\"],[1.0,\"#fde725\"]],\"type\":\"heatmap\"}],\"histogram2dcontour\":[{\"colorbar\":{\"outlinewidth\":1,\"tickcolor\":\"rgb(36,36,36)\",\"ticks\":\"outside\"},\"colorscale\":[[0.0,\"#440154\"],[0.1111111111111111,\"#482878\"],[0.2222222222222222,\"#3e4989\"],[0.3333333333333333,\"#31688e\"],[0.4444444444444444,\"#26828e\"],[0.5555555555555556,\"#1f9e89\"],[0.6666666666666666,\"#35b779\"],[0.7777777777777778,\"#6ece58\"],[0.8888888888888888,\"#b5de2b\"],[1.0,\"#fde725\"]],\"type\":\"histogram2dcontour\"}],\"histogram2d\":[{\"colorbar\":{\"outlinewidth\":1,\"tickcolor\":\"rgb(36,36,36)\",\"ticks\":\"outside\"},\"colorscale\":[[0.0,\"#440154\"],[0.1111111111111111,\"#482878\"],[0.2222222222222222,\"#3e4989\"],[0.3333333333333333,\"#31688e\"],[0.4444444444444444,\"#26828e\"],[0.5555555555555556,\"#1f9e89\"],[0.6666666666666666,\"#35b779\"],[0.7777777777777778,\"#6ece58\"],[0.8888888888888888,\"#b5de2b\"],[1.0,\"#fde725\"]],\"type\":\"histogram2d\"}],\"histogram\":[{\"marker\":{\"line\":{\"color\":\"white\",\"width\":0.6}},\"type\":\"histogram\"}],\"mesh3d\":[{\"colorbar\":{\"outlinewidth\":1,\"tickcolor\":\"rgb(36,36,36)\",\"ticks\":\"outside\"},\"type\":\"mesh3d\"}],\"parcoords\":[{\"line\":{\"colorbar\":{\"outlinewidth\":1,\"tickcolor\":\"rgb(36,36,36)\",\"ticks\":\"outside\"}},\"type\":\"parcoords\"}],\"pie\":[{\"automargin\":true,\"type\":\"pie\"}],\"scatter3d\":[{\"line\":{\"colorbar\":{\"outlinewidth\":1,\"tickcolor\":\"rgb(36,36,36)\",\"ticks\":\"outside\"}},\"marker\":{\"colorbar\":{\"outlinewidth\":1,\"tickcolor\":\"rgb(36,36,36)\",\"ticks\":\"outside\"}},\"type\":\"scatter3d\"}],\"scattercarpet\":[{\"marker\":{\"colorbar\":{\"outlinewidth\":1,\"tickcolor\":\"rgb(36,36,36)\",\"ticks\":\"outside\"}},\"type\":\"scattercarpet\"}],\"scattergeo\":[{\"marker\":{\"colorbar\":{\"outlinewidth\":1,\"tickcolor\":\"rgb(36,36,36)\",\"ticks\":\"outside\"}},\"type\":\"scattergeo\"}],\"scattergl\":[{\"marker\":{\"colorbar\":{\"outlinewidth\":1,\"tickcolor\":\"rgb(36,36,36)\",\"ticks\":\"outside\"}},\"type\":\"scattergl\"}],\"scattermapbox\":[{\"marker\":{\"colorbar\":{\"outlinewidth\":1,\"tickcolor\":\"rgb(36,36,36)\",\"ticks\":\"outside\"}},\"type\":\"scattermapbox\"}],\"scatterpolargl\":[{\"marker\":{\"colorbar\":{\"outlinewidth\":1,\"tickcolor\":\"rgb(36,36,36)\",\"ticks\":\"outside\"}},\"type\":\"scatterpolargl\"}],\"scatterpolar\":[{\"marker\":{\"colorbar\":{\"outlinewidth\":1,\"tickcolor\":\"rgb(36,36,36)\",\"ticks\":\"outside\"}},\"type\":\"scatterpolar\"}],\"scatter\":[{\"fillpattern\":{\"fillmode\":\"overlay\",\"size\":10,\"solidity\":0.2},\"type\":\"scatter\"}],\"scatterternary\":[{\"marker\":{\"colorbar\":{\"outlinewidth\":1,\"tickcolor\":\"rgb(36,36,36)\",\"ticks\":\"outside\"}},\"type\":\"scatterternary\"}],\"surface\":[{\"colorbar\":{\"outlinewidth\":1,\"tickcolor\":\"rgb(36,36,36)\",\"ticks\":\"outside\"},\"colorscale\":[[0.0,\"#440154\"],[0.1111111111111111,\"#482878\"],[0.2222222222222222,\"#3e4989\"],[0.3333333333333333,\"#31688e\"],[0.4444444444444444,\"#26828e\"],[0.5555555555555556,\"#1f9e89\"],[0.6666666666666666,\"#35b779\"],[0.7777777777777778,\"#6ece58\"],[0.8888888888888888,\"#b5de2b\"],[1.0,\"#fde725\"]],\"type\":\"surface\"}],\"table\":[{\"cells\":{\"fill\":{\"color\":\"rgb(237,237,237)\"},\"line\":{\"color\":\"white\"}},\"header\":{\"fill\":{\"color\":\"rgb(217,217,217)\"},\"line\":{\"color\":\"white\"}},\"type\":\"table\"}]},\"layout\":{\"annotationdefaults\":{\"arrowhead\":0,\"arrowwidth\":1},\"autotypenumbers\":\"strict\",\"coloraxis\":{\"colorbar\":{\"outlinewidth\":1,\"tickcolor\":\"rgb(36,36,36)\",\"ticks\":\"outside\"}},\"colorscale\":{\"diverging\":[[0.0,\"rgb(103,0,31)\"],[0.1,\"rgb(178,24,43)\"],[0.2,\"rgb(214,96,77)\"],[0.3,\"rgb(244,165,130)\"],[0.4,\"rgb(253,219,199)\"],[0.5,\"rgb(247,247,247)\"],[0.6,\"rgb(209,229,240)\"],[0.7,\"rgb(146,197,222)\"],[0.8,\"rgb(67,147,195)\"],[0.9,\"rgb(33,102,172)\"],[1.0,\"rgb(5,48,97)\"]],\"sequential\":[[0.0,\"#440154\"],[0.1111111111111111,\"#482878\"],[0.2222222222222222,\"#3e4989\"],[0.3333333333333333,\"#31688e\"],[0.4444444444444444,\"#26828e\"],[0.5555555555555556,\"#1f9e89\"],[0.6666666666666666,\"#35b779\"],[0.7777777777777778,\"#6ece58\"],[0.8888888888888888,\"#b5de2b\"],[1.0,\"#fde725\"]],\"sequentialminus\":[[0.0,\"#440154\"],[0.1111111111111111,\"#482878\"],[0.2222222222222222,\"#3e4989\"],[0.3333333333333333,\"#31688e\"],[0.4444444444444444,\"#26828e\"],[0.5555555555555556,\"#1f9e89\"],[0.6666666666666666,\"#35b779\"],[0.7777777777777778,\"#6ece58\"],[0.8888888888888888,\"#b5de2b\"],[1.0,\"#fde725\"]]},\"colorway\":[\"#1F77B4\",\"#FF7F0E\",\"#2CA02C\",\"#D62728\",\"#9467BD\",\"#8C564B\",\"#E377C2\",\"#7F7F7F\",\"#BCBD22\",\"#17BECF\"],\"font\":{\"color\":\"rgb(36,36,36)\"},\"geo\":{\"bgcolor\":\"white\",\"lakecolor\":\"white\",\"landcolor\":\"white\",\"showlakes\":true,\"showland\":true,\"subunitcolor\":\"white\"},\"hoverlabel\":{\"align\":\"left\"},\"hovermode\":\"closest\",\"mapbox\":{\"style\":\"light\"},\"paper_bgcolor\":\"white\",\"plot_bgcolor\":\"white\",\"polar\":{\"angularaxis\":{\"gridcolor\":\"rgb(232,232,232)\",\"linecolor\":\"rgb(36,36,36)\",\"showgrid\":false,\"showline\":true,\"ticks\":\"outside\"},\"bgcolor\":\"white\",\"radialaxis\":{\"gridcolor\":\"rgb(232,232,232)\",\"linecolor\":\"rgb(36,36,36)\",\"showgrid\":false,\"showline\":true,\"ticks\":\"outside\"}},\"scene\":{\"xaxis\":{\"backgroundcolor\":\"white\",\"gridcolor\":\"rgb(232,232,232)\",\"gridwidth\":2,\"linecolor\":\"rgb(36,36,36)\",\"showbackground\":true,\"showgrid\":false,\"showline\":true,\"ticks\":\"outside\",\"zeroline\":false,\"zerolinecolor\":\"rgb(36,36,36)\"},\"yaxis\":{\"backgroundcolor\":\"white\",\"gridcolor\":\"rgb(232,232,232)\",\"gridwidth\":2,\"linecolor\":\"rgb(36,36,36)\",\"showbackground\":true,\"showgrid\":false,\"showline\":true,\"ticks\":\"outside\",\"zeroline\":false,\"zerolinecolor\":\"rgb(36,36,36)\"},\"zaxis\":{\"backgroundcolor\":\"white\",\"gridcolor\":\"rgb(232,232,232)\",\"gridwidth\":2,\"linecolor\":\"rgb(36,36,36)\",\"showbackground\":true,\"showgrid\":false,\"showline\":true,\"ticks\":\"outside\",\"zeroline\":false,\"zerolinecolor\":\"rgb(36,36,36)\"}},\"shapedefaults\":{\"fillcolor\":\"black\",\"line\":{\"width\":0},\"opacity\":0.3},\"ternary\":{\"aaxis\":{\"gridcolor\":\"rgb(232,232,232)\",\"linecolor\":\"rgb(36,36,36)\",\"showgrid\":false,\"showline\":true,\"ticks\":\"outside\"},\"baxis\":{\"gridcolor\":\"rgb(232,232,232)\",\"linecolor\":\"rgb(36,36,36)\",\"showgrid\":false,\"showline\":true,\"ticks\":\"outside\"},\"bgcolor\":\"white\",\"caxis\":{\"gridcolor\":\"rgb(232,232,232)\",\"linecolor\":\"rgb(36,36,36)\",\"showgrid\":false,\"showline\":true,\"ticks\":\"outside\"}},\"title\":{\"x\":0.05},\"xaxis\":{\"automargin\":true,\"gridcolor\":\"rgb(232,232,232)\",\"linecolor\":\"rgb(36,36,36)\",\"showgrid\":false,\"showline\":true,\"ticks\":\"outside\",\"title\":{\"standoff\":15},\"zeroline\":false,\"zerolinecolor\":\"rgb(36,36,36)\"},\"yaxis\":{\"automargin\":true,\"gridcolor\":\"rgb(232,232,232)\",\"linecolor\":\"rgb(36,36,36)\",\"showgrid\":false,\"showline\":true,\"ticks\":\"outside\",\"title\":{\"standoff\":15},\"zeroline\":false,\"zerolinecolor\":\"rgb(36,36,36)\"}}},\"xaxis\":{\"anchor\":\"y\",\"domain\":[0.0,1.0],\"title\":{\"text\":\"x\"}},\"yaxis\":{\"anchor\":\"x\",\"domain\":[0.0,1.0],\"title\":{\"text\":\"y\"},\"range\":[0,2.251885414123535]},\"legend\":{\"tracegroupgap\":0},\"margin\":{\"t\":60},\"title\":{\"text\":\"Validation loss on Majority Element\"},\"hovermode\":\"x unified\"},                        {\"responsive\": true}                    ).then(function(){\n",
       "                            \n",
       "var gd = document.getElementById('8250b86f-0232-441c-9e22-ae8aa6658f50');\n",
       "var x = new MutationObserver(function (mutations, observer) {{\n",
       "        var display = window.getComputedStyle(gd).display;\n",
       "        if (!display || display === 'none') {{\n",
       "            console.log([gd, 'removed!']);\n",
       "            Plotly.purge(gd);\n",
       "            observer.disconnect();\n",
       "        }}\n",
       "}});\n",
       "\n",
       "// Listen for the removal of the full notebook cells\n",
       "var notebookContainer = gd.closest('#notebook-container');\n",
       "if (notebookContainer) {{\n",
       "    x.observe(notebookContainer, {childList: true});\n",
       "}}\n",
       "\n",
       "// Listen for the clearing of the current output cell\n",
       "var outputEl = gd.closest('.output');\n",
       "if (outputEl) {{\n",
       "    x.observe(outputEl, {childList: true});\n",
       "}}\n",
       "\n",
       "                        })                };                });            </script>        </div>"
      ]
     },
     "metadata": {},
     "output_type": "display_data"
    }
   ],
   "source": [
    "fig = px.line(y=val_loss, template=\"simple_white\")\n",
    "fig.update_layout(title=\"Validation loss on Majority Element\", yaxis_range=[0, max(val_loss)], hovermode=\"x unified\")\n",
    "fig.show()"
   ]
  },
  {
   "cell_type": "markdown",
   "metadata": {},
   "source": [
    "## Test Inference"
   ]
  },
  {
   "cell_type": "markdown",
   "metadata": {},
   "source": [
    "Inference can be tested below. The model is not perfectly accurate, but is still quite accurate most of the time."
   ]
  },
  {
   "cell_type": "code",
   "execution_count": 17,
   "metadata": {},
   "outputs": [
    {
     "name": "stdout",
     "output_type": "stream",
     "text": [
      "tensor([6, 2, 5, 9, 4, 2, 4, 9, 9, 4, 1, 7, 2, 0, 9, 0, 1, 4, 0, 7, 3, 9, 1, 5,\n",
      "        9, 9, 1, 9, 4, 4, 6, 8, 9, 5, 8, 5, 7, 9, 1, 0, 0, 0, 9, 4, 9, 8, 7, 4,\n",
      "        7, 7, 2, 8, 2, 4, 4, 8, 5, 6, 2, 5, 6, 0, 1, 6, 2, 4, 1, 4, 2, 6, 6, 7,\n",
      "        3, 2, 8, 2, 4, 9, 0, 6, 3, 8, 4, 2, 4, 8, 6, 1, 0, 5, 0, 4, 6, 3, 7, 6,\n",
      "        1, 2, 0, 3, 7, 2, 0, 3, 9, 6, 0, 2, 8, 3, 7, 0, 7, 0, 3, 6, 7, 1, 6, 1,\n",
      "        3, 1, 3, 1, 9, 8, 1, 5])\n",
      "True majority element: 4\n",
      "Model prediction for majority element: 4\n"
     ]
    }
   ],
   "source": [
    "example_data = torch.randint(0, data_args.max_val+1, (data_args.max_seq_len,))\n",
    "with torch.inference_mode():\n",
    "    all_logits = model(example_data.long())\n",
    "    logits = all_logits[0, -1]\n",
    "    print(example_data)\n",
    "    print(f\"True majority element: {torch.bincount(example_data).argmax().item()}\")\n",
    "    print(f\"Model prediction for majority element: {int(logits.argmax(dim=-1).squeeze())}\")"
   ]
  },
  {
   "cell_type": "markdown",
   "metadata": {},
   "source": [
    "# Model Interpretability\n",
    "In order to interpret our model, we'll examine the two main parts of the transformer decoder block: 1. The attention heads, and 2. The MLP layers. This is an exploratory analysis, and as such not all layers we examine here have interesting or easily-interpretable information. Nevertheless, it can be beneficial to visualize them and observe their behavior for future analyses."
   ]
  },
  {
   "cell_type": "markdown",
   "metadata": {},
   "source": [
    "Below, we'll create an analysis version of the model, load in the state dictionary from the saved model, and load this into the analysis model."
   ]
  },
  {
   "cell_type": "code",
   "execution_count": 19,
   "metadata": {},
   "outputs": [],
   "source": [
    "trained_model = torch.load(MODEL_FILENAME, map_location=torch.device('cpu'))\n",
    "\n",
    "analysis_cfg = tl.EasyTransformerConfig(\n",
    "    d_model=64,\n",
    "    d_head=32,\n",
    "    n_heads=2,\n",
    "    d_mlp=48,\n",
    "    n_layers=1,\n",
    "    n_ctx=128,\n",
    "    act_fn=\"solu_ln\",\n",
    "    d_vocab=10,\n",
    "    normalization_type=\"LNPre\",\n",
    "    seed=global_seed,\n",
    ")\n",
    "analysis_model = tl.EasyTransformer(analysis_cfg)\n",
    "state_dict = trained_model.state_dict()\n",
    "analysis_model.load_and_process_state_dict(state_dict, fold_ln=True, center_writing_weights=True, center_unembed=True)"
   ]
  },
  {
   "cell_type": "markdown",
   "metadata": {},
   "source": [
    "Next, we'll set up a batch for the interpretability section below, and test inference on it:"
   ]
  },
  {
   "cell_type": "code",
   "execution_count": 36,
   "metadata": {},
   "outputs": [
    {
     "name": "stdout",
     "output_type": "stream",
     "text": [
      "tensor([1, 5, 3, 6, 0, 9, 6, 4, 2, 3, 7, 5, 2, 0, 6, 8, 8, 1, 1, 4, 0, 6, 1, 3,\n",
      "        9, 3, 2, 6, 2, 2, 5, 3, 7, 3, 2, 5, 0, 8, 2, 6, 8, 1, 0, 6, 3, 7, 4, 6,\n",
      "        2, 2, 0, 5, 7, 6, 8, 2, 2, 3, 8, 9, 4, 0, 4, 6, 7, 5, 5, 5, 2, 3, 9, 2,\n",
      "        4, 9, 4, 6, 5, 8, 9, 1, 0, 7, 6, 4, 0, 1, 0, 9, 3, 6, 2, 0, 6, 1, 8, 2,\n",
      "        9, 2, 7, 1, 9, 0, 0, 3, 7, 3, 3, 3, 9, 7, 1, 2, 4, 7, 1, 9, 8, 2, 6, 7,\n",
      "        8, 7, 1, 8, 8, 4, 0, 4])\n",
      "tensor([1, 1, 1, 1, 0, 0, 6, 6, 6, 3, 3, 3, 2, 0, 6, 6, 6, 6, 1, 1, 0, 6, 1, 1,\n",
      "        1, 1, 1, 6, 6, 2, 2, 2, 2, 3, 2, 2, 2, 2, 2, 2, 2, 2, 2, 2, 2, 2, 2, 6,\n",
      "        2, 2, 2, 2, 2, 2, 2, 2, 2, 2, 2, 2, 2, 2, 2, 2, 2, 2, 2, 2, 2, 2, 2, 2,\n",
      "        2, 2, 2, 2, 2, 2, 2, 2, 2, 2, 2, 2, 2, 2, 2, 2, 2, 2, 2, 2, 2, 2, 2, 2,\n",
      "        2, 2, 2, 2, 2, 2, 2, 2, 2, 2, 2, 2, 2, 2, 2, 2, 2, 2, 2, 2, 2, 2, 2, 2,\n",
      "        2, 2, 2, 2, 2, 2, 2, 2])\n",
      "True majority element: 2\n",
      "Model prediction for majority element: 2\n"
     ]
    }
   ],
   "source": [
    "test_x = torch.tensor(\n",
    "    [1, 5, 3, 6, 0, 9, 6, 4, 2, 3, 7, 5, 2, 0, 6, 8, 8, 1, 1, 4, 0, 6, 1, 3,\n",
    "        9, 3, 2, 6, 2, 2, 5, 3, 7, 3, 2, 5, 0, 8, 2, 6, 8, 1, 0, 6, 3, 7, 4, 6,\n",
    "        2, 2, 0, 5, 7, 6, 8, 2, 2, 3, 8, 9, 4, 0, 4, 6, 7, 5, 5, 5, 2, 3, 9, 2,\n",
    "        4, 9, 4, 6, 5, 8, 9, 1, 0, 7, 6, 4, 0, 1, 0, 9, 3, 6, 2, 0, 6, 1, 8, 2,\n",
    "        9, 2, 7, 1, 9, 0, 0, 3, 7, 3, 3, 3, 9, 7, 1, 2, 4, 7, 1, 9, 8, 2, 6, 7,\n",
    "        8, 7, 1, 8, 8, 4, 0, 4]\n",
    ")\n",
    "\n",
    "test_y = torch.tensor(\n",
    "    [1, 1, 1, 1, 0, 0, 6, 6, 6, 3, 3, 3, 2, 0, 6, 6, 6, 6, 1, 1, 0, 6, 1, 1,\n",
    "        1, 1, 1, 6, 6, 2, 2, 2, 2, 3, 2, 2, 2, 2, 2, 2, 2, 2, 2, 2, 2, 2, 2, 6,\n",
    "        2, 2, 2, 2, 2, 2, 2, 2, 2, 2, 2, 2, 2, 2, 2, 2, 2, 2, 2, 2, 2, 2, 2, 2,\n",
    "        2, 2, 2, 2, 2, 2, 2, 2, 2, 2, 2, 2, 2, 2, 2, 2, 2, 2, 2, 2, 2, 2, 2, 2,\n",
    "        2, 2, 2, 2, 2, 2, 2, 2, 2, 2, 2, 2, 2, 2, 2, 2, 2, 2, 2, 2, 2, 2, 2, 2,\n",
    "        2, 2, 2, 2, 2, 2, 2, 2]\n",
    ")\n",
    "\n",
    "with torch.inference_mode():\n",
    "    all_logits = analysis_model(test_x.long())\n",
    "    logits = all_logits[0, -1]\n",
    "    print(test_x)\n",
    "    print(test_y)\n",
    "    print(f\"True majority element: {torch.bincount(test_x).argmax().item()}\")\n",
    "    print(f\"Model prediction for majority element: {int(logits.argmax(dim=-1).squeeze())}\")"
   ]
  },
  {
   "cell_type": "markdown",
   "metadata": {},
   "source": [
    "Next, we'll use the TransformerLens `run_with_cache` method to collect the activations as we pass input through the model. The cache can be accessed with the numbers and names of the individual layers."
   ]
  },
  {
   "cell_type": "code",
   "execution_count": 37,
   "metadata": {},
   "outputs": [],
   "source": [
    "logits, cache = analysis_model.run_with_cache(test_x.long(), return_type=\"logits\")"
   ]
  },
  {
   "cell_type": "markdown",
   "metadata": {},
   "source": [
    "## Logit Contribution for Assorted Layers"
   ]
  },
  {
   "cell_type": "markdown",
   "metadata": {},
   "source": [
    "Our next step is to examine the contribution of the various layers to the residual stream and the subsequent logits.\n",
    "\n",
    "The logits output by the transformer result from an unembedding of the content of the residual stream, which itself consists of a series of addition operations performed on the initial embedding--each layer adds its own values to the stream--as well as LayerNorm operations. We can examine the contribution of each layer to the residual stream directly, as follows."
   ]
  },
  {
   "cell_type": "code",
   "execution_count": 38,
   "metadata": {},
   "outputs": [
    {
     "name": "stdout",
     "output_type": "stream",
     "text": [
      "torch.Size([3, 1, 128, 64])\n"
     ]
    }
   ],
   "source": [
    "resid_components = [cache[\"embed\"], cache[\"attn_out\", 0], cache[\"mlp_out\", 0]]\n",
    "labels = [\"embed\", \"A0\", \"M0\"]\n",
    "resid_stack = torch.stack(resid_components, 0)\n",
    "resid_stack = resid_stack - resid_stack.mean(-1, keepdim=True)\n",
    "print(resid_stack.shape)"
   ]
  },
  {
   "cell_type": "code",
   "execution_count": 39,
   "metadata": {},
   "outputs": [
    {
     "name": "stdout",
     "output_type": "stream",
     "text": [
      "torch.Size([3, 128, 10])\n"
     ]
    }
   ],
   "source": [
    "logit_components = resid_stack[:, 0] @ analysis_model.unembed.W_U/cache[\"scale\", None, \"ln_final\"][0]\n",
    "print(logit_components.shape)"
   ]
  },
  {
   "cell_type": "code",
   "execution_count": 40,
   "metadata": {},
   "outputs": [
    {
     "data": {
      "text/html": [
       "<div>                            <div id=\"9dfaa3f9-a43a-4d1a-8bb9-4003fdbed5fc\" class=\"plotly-graph-div\" style=\"height:525px; width:100%;\"></div>            <script type=\"text/javascript\">                require([\"plotly\"], function(Plotly) {                    window.PLOTLYENV=window.PLOTLYENV || {};                                    if (document.getElementById(\"9dfaa3f9-a43a-4d1a-8bb9-4003fdbed5fc\")) {                    Plotly.newPlot(                        \"9dfaa3f9-a43a-4d1a-8bb9-4003fdbed5fc\",                        [{\"hovertemplate\":\"variable=0<br>index=%{x}<br>value=%{y}<extra></extra>\",\"legendgroup\":\"0\",\"line\":{\"color\":\"#636efa\",\"dash\":\"solid\"},\"marker\":{\"symbol\":\"circle\"},\"mode\":\"lines\",\"name\":\"0\",\"orientation\":\"v\",\"showlegend\":true,\"x\":[0,1,2,3,4,5,6,7,8,9,10,11,12,13,14,15,16,17,18,19,20,21,22,23,24,25,26,27,28,29,30,31,32,33,34,35,36,37,38,39,40,41,42,43,44,45,46,47,48,49,50,51,52,53,54,55,56,57,58,59,60,61,62,63,64,65,66,67,68,69,70,71,72,73,74,75,76,77,78,79,80,81,82,83,84,85,86,87,88,89,90,91,92,93,94,95,96,97,98,99,100,101,102,103,104,105,106,107,108,109,110,111,112,113,114,115,116,117,118,119,120,121,122,123,124,125,126],\"xaxis\":\"x\",\"y\":[-0.0013787795,-0.0127944015,0.042406052,-0.12788633,-0.18037364,-0.009072861,-0.015969029,0.018134529,-0.16175857,0.098541275,0.31131434,-0.09577016,0.11412232,-0.024636298,0.09845913,-0.17627871,-0.074666545,-0.2956971,-0.19296685,0.054740086,-0.027890192,0.19111764,0.11081943,0.13931544,-0.32301423,-0.18543757,0.058798105,-0.09624773,-0.2088582,-0.13857418,-0.022601513,0.106152415,0.12987264,-0.17839855,-0.13875283,0.23515849,0.22884788,0.18281914,0.052466065,0.09085904,-0.065485954,-0.02375608,-0.026419455,-0.20631763,0.10716697,-0.031331006,0.3233323,-0.092451386,-0.20404829,0.12203803,-0.15251736,0.010193089,-0.059047285,0.095347986,0.18412592,-0.19945085,-0.17259927,-0.19833376,0.3522091,0.38458478,0.05442575,-0.12611587,0.29422867,-0.19954252,0.31425855,0.1363392,0.13971625,-0.097065665,-0.1786289,0.1480736,0.08809968,0.22817124,-0.011579595,0.39026377,0.2996339,0.16280171,-0.06423727,0.36917397,0.04562699,-0.025797408,-0.33662936,-0.059856124,-0.0179001,0.058637854,-0.13172193,-0.025221044,-0.24012819,-0.32916376,0.063783295,-0.09534285,0.12816775,-0.026157655,0.20012312,0.22823265,0.19334164,-0.104170986,0.089724936,-0.19350432,-0.038356125,-0.0052073114,-0.23175584,0.13506344,0.4431946,0.10462562,0.13636237,0.2588432,0.25843722,0.15276739,0.29092038,-0.039662153,0.20187607,0.23875444,0.016933074,-0.0388809,-0.005168441,0.16813825,0.19124898,0.055695713,-0.2020008,-0.27753365,0.0151010305,-0.038886823,0.22320887,-0.17111376,-0.078720786,0.05718507,-0.13512814],\"yaxis\":\"y\",\"type\":\"scatter\"},{\"hovertemplate\":\"variable=1<br>index=%{x}<br>value=%{y}<extra></extra>\",\"legendgroup\":\"1\",\"line\":{\"color\":\"#EF553B\",\"dash\":\"solid\"},\"marker\":{\"symbol\":\"circle\"},\"mode\":\"lines\",\"name\":\"1\",\"orientation\":\"v\",\"showlegend\":true,\"x\":[0,1,2,3,4,5,6,7,8,9,10,11,12,13,14,15,16,17,18,19,20,21,22,23,24,25,26,27,28,29,30,31,32,33,34,35,36,37,38,39,40,41,42,43,44,45,46,47,48,49,50,51,52,53,54,55,56,57,58,59,60,61,62,63,64,65,66,67,68,69,70,71,72,73,74,75,76,77,78,79,80,81,82,83,84,85,86,87,88,89,90,91,92,93,94,95,96,97,98,99,100,101,102,103,104,105,106,107,108,109,110,111,112,113,114,115,116,117,118,119,120,121,122,123,124,125,126],\"xaxis\":\"x\",\"y\":[2.996697,1.6398746,1.8311911,-0.30173331,2.1791248,0.15577252,1.214593,-0.0598121,0.87623554,1.581982,-0.48571306,0.7351092,1.2596002,1.815872,0.5338989,-0.5524073,-0.60940844,1.2098511,1.0485487,-0.25729206,1.1428808,0.38057128,1.1424383,0.3320001,-0.47999054,1.068092,0.8761718,0.3838446,1.6550007,1.5469099,-0.16175471,1.2333214,-0.43981457,1.5791985,1.395812,0.23387855,0.966616,-1.1175202,1.5569793,-0.10642969,-0.8096165,0.4067452,1.1002682,0.10818952,0.94627124,-0.24202596,-0.9725999,0.23890164,1.6760817,1.637829,1.0008289,0.0705906,-0.03224952,0.31395853,-1.0533736,1.6540532,1.7001165,0.71874017,-0.86848974,-0.64284444,-0.93469197,0.73842597,-0.6855156,0.28871784,0.041050266,0.22917348,0.32414675,0.439162,1.3855332,0.5115234,-0.5850688,1.3248818,-0.68652904,-0.41209984,-0.4418034,0.29116327,0.28097558,-0.48461834,-0.2817603,-0.4899738,0.42904726,-0.22005972,0.3662771,-0.35313302,0.43346983,-0.37130657,0.65116364,-0.27881792,0.31811473,0.255117,1.0190284,0.69133234,0.39751533,-0.22575857,-0.6306813,1.1404537,-0.18275225,1.1846563,-0.2659477,-0.027640926,-0.070057236,0.7911746,0.8058573,0.20894417,-0.24255368,0.39819455,0.51664335,0.49014345,-0.16889612,-0.102641895,-0.14448321,0.8778144,-0.65439904,-0.0039935606,0.033143036,-0.18542634,-0.78325105,0.9235479,0.07977526,0.13585821,-0.7306835,0.2096875,0.083397925,-0.5931218,-0.5476023,-0.5507015,0.33740485],\"yaxis\":\"y\",\"type\":\"scatter\"},{\"hovertemplate\":\"variable=2<br>index=%{x}<br>value=%{y}<extra></extra>\",\"legendgroup\":\"2\",\"line\":{\"color\":\"#00cc96\",\"dash\":\"solid\"},\"marker\":{\"symbol\":\"circle\"},\"mode\":\"lines\",\"name\":\"2\",\"orientation\":\"v\",\"showlegend\":true,\"x\":[0,1,2,3,4,5,6,7,8,9,10,11,12,13,14,15,16,17,18,19,20,21,22,23,24,25,26,27,28,29,30,31,32,33,34,35,36,37,38,39,40,41,42,43,44,45,46,47,48,49,50,51,52,53,54,55,56,57,58,59,60,61,62,63,64,65,66,67,68,69,70,71,72,73,74,75,76,77,78,79,80,81,82,83,84,85,86,87,88,89,90,91,92,93,94,95,96,97,98,99,100,101,102,103,104,105,106,107,108,109,110,111,112,113,114,115,116,117,118,119,120,121,122,123,124,125,126],\"xaxis\":\"x\",\"y\":[4.8675675,-0.114064574,0.29876807,-0.12626866,7.811596,-2.0175452,8.592687,-0.009904089,0.1341952,9.218856,-2.9040265,-1.1377068,1.4826716,1.0799326,9.84214,-2.8918812,-2.8828993,10.234032,10.406571,-2.2112672,1.1778775,2.0195558,9.246079,-2.5783517,-1.5142393,3.7180185,-1.1674216,9.087356,8.740195,9.09497,-3.1047735,3.092463,-2.0753107,3.6875632,8.613907,-3.2105958,-0.42044204,-0.69811004,10.159104,-0.089120574,-1.1381488,0.7908825,-0.86638445,3.2564569,3.881979,-2.84579,-1.3159626,3.96488,10.147296,9.965288,-0.23664866,-2.2086139,-2.6531718,4.6689963,-1.0126132,10.0054865,10.070912,-2.664096,-0.6081551,-0.403147,-2.4238863,-0.2686992,-2.3369415,1.305185,-2.0110772,-1.9832025,-1.7661409,-2.065743,10.433471,-2.833113,-0.29441655,10.203843,-2.448291,-0.29303992,-2.3951347,-0.09209161,-1.9212909,-0.68223906,-0.42016432,0.56307006,-0.41476747,-2.250624,1.5295017,-2.3486578,-0.5444026,0.18260899,-0.14534302,-0.86882204,-2.0927143,1.7262905,9.933585,-0.7356385,5.9263024,-0.366263,-1.1742088,10.240589,-0.5639752,10.556962,-1.9290423,0.53186166,-0.52012485,0.486086,0.32618612,-3.3397784,-2.1849847,-2.794794,-1.7654982,-1.6262555,-0.63575596,-2.176538,0.5109577,10.626902,-2.7231667,-1.9231735,0.58736366,-0.29625604,-0.48660865,10.940306,-0.3705334,-1.8360872,-0.6675559,-1.8436942,0.61017287,-0.5051755,-0.5424918,-2.666083,-0.079750754],\"yaxis\":\"y\",\"type\":\"scatter\"}],                        {\"template\":{\"data\":{\"histogram2dcontour\":[{\"type\":\"histogram2dcontour\",\"colorbar\":{\"outlinewidth\":0,\"ticks\":\"\"},\"colorscale\":[[0.0,\"#0d0887\"],[0.1111111111111111,\"#46039f\"],[0.2222222222222222,\"#7201a8\"],[0.3333333333333333,\"#9c179e\"],[0.4444444444444444,\"#bd3786\"],[0.5555555555555556,\"#d8576b\"],[0.6666666666666666,\"#ed7953\"],[0.7777777777777778,\"#fb9f3a\"],[0.8888888888888888,\"#fdca26\"],[1.0,\"#f0f921\"]]}],\"choropleth\":[{\"type\":\"choropleth\",\"colorbar\":{\"outlinewidth\":0,\"ticks\":\"\"}}],\"histogram2d\":[{\"type\":\"histogram2d\",\"colorbar\":{\"outlinewidth\":0,\"ticks\":\"\"},\"colorscale\":[[0.0,\"#0d0887\"],[0.1111111111111111,\"#46039f\"],[0.2222222222222222,\"#7201a8\"],[0.3333333333333333,\"#9c179e\"],[0.4444444444444444,\"#bd3786\"],[0.5555555555555556,\"#d8576b\"],[0.6666666666666666,\"#ed7953\"],[0.7777777777777778,\"#fb9f3a\"],[0.8888888888888888,\"#fdca26\"],[1.0,\"#f0f921\"]]}],\"heatmap\":[{\"type\":\"heatmap\",\"colorbar\":{\"outlinewidth\":0,\"ticks\":\"\"},\"colorscale\":[[0.0,\"#0d0887\"],[0.1111111111111111,\"#46039f\"],[0.2222222222222222,\"#7201a8\"],[0.3333333333333333,\"#9c179e\"],[0.4444444444444444,\"#bd3786\"],[0.5555555555555556,\"#d8576b\"],[0.6666666666666666,\"#ed7953\"],[0.7777777777777778,\"#fb9f3a\"],[0.8888888888888888,\"#fdca26\"],[1.0,\"#f0f921\"]]}],\"heatmapgl\":[{\"type\":\"heatmapgl\",\"colorbar\":{\"outlinewidth\":0,\"ticks\":\"\"},\"colorscale\":[[0.0,\"#0d0887\"],[0.1111111111111111,\"#46039f\"],[0.2222222222222222,\"#7201a8\"],[0.3333333333333333,\"#9c179e\"],[0.4444444444444444,\"#bd3786\"],[0.5555555555555556,\"#d8576b\"],[0.6666666666666666,\"#ed7953\"],[0.7777777777777778,\"#fb9f3a\"],[0.8888888888888888,\"#fdca26\"],[1.0,\"#f0f921\"]]}],\"contourcarpet\":[{\"type\":\"contourcarpet\",\"colorbar\":{\"outlinewidth\":0,\"ticks\":\"\"}}],\"contour\":[{\"type\":\"contour\",\"colorbar\":{\"outlinewidth\":0,\"ticks\":\"\"},\"colorscale\":[[0.0,\"#0d0887\"],[0.1111111111111111,\"#46039f\"],[0.2222222222222222,\"#7201a8\"],[0.3333333333333333,\"#9c179e\"],[0.4444444444444444,\"#bd3786\"],[0.5555555555555556,\"#d8576b\"],[0.6666666666666666,\"#ed7953\"],[0.7777777777777778,\"#fb9f3a\"],[0.8888888888888888,\"#fdca26\"],[1.0,\"#f0f921\"]]}],\"surface\":[{\"type\":\"surface\",\"colorbar\":{\"outlinewidth\":0,\"ticks\":\"\"},\"colorscale\":[[0.0,\"#0d0887\"],[0.1111111111111111,\"#46039f\"],[0.2222222222222222,\"#7201a8\"],[0.3333333333333333,\"#9c179e\"],[0.4444444444444444,\"#bd3786\"],[0.5555555555555556,\"#d8576b\"],[0.6666666666666666,\"#ed7953\"],[0.7777777777777778,\"#fb9f3a\"],[0.8888888888888888,\"#fdca26\"],[1.0,\"#f0f921\"]]}],\"mesh3d\":[{\"type\":\"mesh3d\",\"colorbar\":{\"outlinewidth\":0,\"ticks\":\"\"}}],\"scatter\":[{\"fillpattern\":{\"fillmode\":\"overlay\",\"size\":10,\"solidity\":0.2},\"type\":\"scatter\"}],\"parcoords\":[{\"type\":\"parcoords\",\"line\":{\"colorbar\":{\"outlinewidth\":0,\"ticks\":\"\"}}}],\"scatterpolargl\":[{\"type\":\"scatterpolargl\",\"marker\":{\"colorbar\":{\"outlinewidth\":0,\"ticks\":\"\"}}}],\"bar\":[{\"error_x\":{\"color\":\"#2a3f5f\"},\"error_y\":{\"color\":\"#2a3f5f\"},\"marker\":{\"line\":{\"color\":\"#E5ECF6\",\"width\":0.5},\"pattern\":{\"fillmode\":\"overlay\",\"size\":10,\"solidity\":0.2}},\"type\":\"bar\"}],\"scattergeo\":[{\"type\":\"scattergeo\",\"marker\":{\"colorbar\":{\"outlinewidth\":0,\"ticks\":\"\"}}}],\"scatterpolar\":[{\"type\":\"scatterpolar\",\"marker\":{\"colorbar\":{\"outlinewidth\":0,\"ticks\":\"\"}}}],\"histogram\":[{\"marker\":{\"pattern\":{\"fillmode\":\"overlay\",\"size\":10,\"solidity\":0.2}},\"type\":\"histogram\"}],\"scattergl\":[{\"type\":\"scattergl\",\"marker\":{\"colorbar\":{\"outlinewidth\":0,\"ticks\":\"\"}}}],\"scatter3d\":[{\"type\":\"scatter3d\",\"line\":{\"colorbar\":{\"outlinewidth\":0,\"ticks\":\"\"}},\"marker\":{\"colorbar\":{\"outlinewidth\":0,\"ticks\":\"\"}}}],\"scattermapbox\":[{\"type\":\"scattermapbox\",\"marker\":{\"colorbar\":{\"outlinewidth\":0,\"ticks\":\"\"}}}],\"scatterternary\":[{\"type\":\"scatterternary\",\"marker\":{\"colorbar\":{\"outlinewidth\":0,\"ticks\":\"\"}}}],\"scattercarpet\":[{\"type\":\"scattercarpet\",\"marker\":{\"colorbar\":{\"outlinewidth\":0,\"ticks\":\"\"}}}],\"carpet\":[{\"aaxis\":{\"endlinecolor\":\"#2a3f5f\",\"gridcolor\":\"white\",\"linecolor\":\"white\",\"minorgridcolor\":\"white\",\"startlinecolor\":\"#2a3f5f\"},\"baxis\":{\"endlinecolor\":\"#2a3f5f\",\"gridcolor\":\"white\",\"linecolor\":\"white\",\"minorgridcolor\":\"white\",\"startlinecolor\":\"#2a3f5f\"},\"type\":\"carpet\"}],\"table\":[{\"cells\":{\"fill\":{\"color\":\"#EBF0F8\"},\"line\":{\"color\":\"white\"}},\"header\":{\"fill\":{\"color\":\"#C8D4E3\"},\"line\":{\"color\":\"white\"}},\"type\":\"table\"}],\"barpolar\":[{\"marker\":{\"line\":{\"color\":\"#E5ECF6\",\"width\":0.5},\"pattern\":{\"fillmode\":\"overlay\",\"size\":10,\"solidity\":0.2}},\"type\":\"barpolar\"}],\"pie\":[{\"automargin\":true,\"type\":\"pie\"}]},\"layout\":{\"autotypenumbers\":\"strict\",\"colorway\":[\"#636efa\",\"#EF553B\",\"#00cc96\",\"#ab63fa\",\"#FFA15A\",\"#19d3f3\",\"#FF6692\",\"#B6E880\",\"#FF97FF\",\"#FECB52\"],\"font\":{\"color\":\"#2a3f5f\"},\"hovermode\":\"closest\",\"hoverlabel\":{\"align\":\"left\"},\"paper_bgcolor\":\"white\",\"plot_bgcolor\":\"#E5ECF6\",\"polar\":{\"bgcolor\":\"#E5ECF6\",\"angularaxis\":{\"gridcolor\":\"white\",\"linecolor\":\"white\",\"ticks\":\"\"},\"radialaxis\":{\"gridcolor\":\"white\",\"linecolor\":\"white\",\"ticks\":\"\"}},\"ternary\":{\"bgcolor\":\"#E5ECF6\",\"aaxis\":{\"gridcolor\":\"white\",\"linecolor\":\"white\",\"ticks\":\"\"},\"baxis\":{\"gridcolor\":\"white\",\"linecolor\":\"white\",\"ticks\":\"\"},\"caxis\":{\"gridcolor\":\"white\",\"linecolor\":\"white\",\"ticks\":\"\"}},\"coloraxis\":{\"colorbar\":{\"outlinewidth\":0,\"ticks\":\"\"}},\"colorscale\":{\"sequential\":[[0.0,\"#0d0887\"],[0.1111111111111111,\"#46039f\"],[0.2222222222222222,\"#7201a8\"],[0.3333333333333333,\"#9c179e\"],[0.4444444444444444,\"#bd3786\"],[0.5555555555555556,\"#d8576b\"],[0.6666666666666666,\"#ed7953\"],[0.7777777777777778,\"#fb9f3a\"],[0.8888888888888888,\"#fdca26\"],[1.0,\"#f0f921\"]],\"sequentialminus\":[[0.0,\"#0d0887\"],[0.1111111111111111,\"#46039f\"],[0.2222222222222222,\"#7201a8\"],[0.3333333333333333,\"#9c179e\"],[0.4444444444444444,\"#bd3786\"],[0.5555555555555556,\"#d8576b\"],[0.6666666666666666,\"#ed7953\"],[0.7777777777777778,\"#fb9f3a\"],[0.8888888888888888,\"#fdca26\"],[1.0,\"#f0f921\"]],\"diverging\":[[0,\"#8e0152\"],[0.1,\"#c51b7d\"],[0.2,\"#de77ae\"],[0.3,\"#f1b6da\"],[0.4,\"#fde0ef\"],[0.5,\"#f7f7f7\"],[0.6,\"#e6f5d0\"],[0.7,\"#b8e186\"],[0.8,\"#7fbc41\"],[0.9,\"#4d9221\"],[1,\"#276419\"]]},\"xaxis\":{\"gridcolor\":\"white\",\"linecolor\":\"white\",\"ticks\":\"\",\"title\":{\"standoff\":15},\"zerolinecolor\":\"white\",\"automargin\":true,\"zerolinewidth\":2},\"yaxis\":{\"gridcolor\":\"white\",\"linecolor\":\"white\",\"ticks\":\"\",\"title\":{\"standoff\":15},\"zerolinecolor\":\"white\",\"automargin\":true,\"zerolinewidth\":2},\"scene\":{\"xaxis\":{\"backgroundcolor\":\"#E5ECF6\",\"gridcolor\":\"white\",\"linecolor\":\"white\",\"showbackground\":true,\"ticks\":\"\",\"zerolinecolor\":\"white\",\"gridwidth\":2},\"yaxis\":{\"backgroundcolor\":\"#E5ECF6\",\"gridcolor\":\"white\",\"linecolor\":\"white\",\"showbackground\":true,\"ticks\":\"\",\"zerolinecolor\":\"white\",\"gridwidth\":2},\"zaxis\":{\"backgroundcolor\":\"#E5ECF6\",\"gridcolor\":\"white\",\"linecolor\":\"white\",\"showbackground\":true,\"ticks\":\"\",\"zerolinecolor\":\"white\",\"gridwidth\":2}},\"shapedefaults\":{\"line\":{\"color\":\"#2a3f5f\"}},\"annotationdefaults\":{\"arrowcolor\":\"#2a3f5f\",\"arrowhead\":0,\"arrowwidth\":1},\"geo\":{\"bgcolor\":\"white\",\"landcolor\":\"#E5ECF6\",\"subunitcolor\":\"white\",\"showland\":true,\"showlakes\":true,\"lakecolor\":\"white\"},\"title\":{\"x\":0.05},\"mapbox\":{\"style\":\"light\"}}},\"xaxis\":{\"anchor\":\"y\",\"domain\":[0.0,1.0],\"title\":{\"text\":\"index\"}},\"yaxis\":{\"anchor\":\"x\",\"domain\":[0.0,1.0],\"title\":{\"text\":\"value\"}},\"legend\":{\"title\":{\"text\":\"variable\"},\"tracegroupgap\":0},\"margin\":{\"t\":60}},                        {\"responsive\": true}                    ).then(function(){\n",
       "                            \n",
       "var gd = document.getElementById('9dfaa3f9-a43a-4d1a-8bb9-4003fdbed5fc');\n",
       "var x = new MutationObserver(function (mutations, observer) {{\n",
       "        var display = window.getComputedStyle(gd).display;\n",
       "        if (!display || display === 'none') {{\n",
       "            console.log([gd, 'removed!']);\n",
       "            Plotly.purge(gd);\n",
       "            observer.disconnect();\n",
       "        }}\n",
       "}});\n",
       "\n",
       "// Listen for the removal of the full notebook cells\n",
       "var notebookContainer = gd.closest('#notebook-container');\n",
       "if (notebookContainer) {{\n",
       "    x.observe(notebookContainer, {childList: true});\n",
       "}}\n",
       "\n",
       "// Listen for the clearing of the current output cell\n",
       "var outputEl = gd.closest('.output');\n",
       "if (outputEl) {{\n",
       "    x.observe(outputEl, {childList: true});\n",
       "}}\n",
       "\n",
       "                        })                };                });            </script>        </div>"
      ]
     },
     "metadata": {},
     "output_type": "display_data"
    }
   ],
   "source": [
    "example_input = test_x.long()\n",
    "logit_components = logit_components - logit_components.mean(-1, keepdim=True)\n",
    "line(logit_components[:, torch.arange(1, analysis_model.cfg.n_ctx), example_input[:-1]].T)"
   ]
  },
  {
   "cell_type": "markdown",
   "metadata": {},
   "source": [
    "Above, we can see the embedding contributions to the residual stream in blue, and the attention block's contributions in red. The MLP's contributions are in green, and are responsible for the greatest-magnitude contribution to the logits. Most of these seem to be negative, but there are several spikes at various sequence positions."
   ]
  },
  {
   "cell_type": "markdown",
   "metadata": {},
   "source": [
    "Looking at the sequence at these specific positions doesn't show much right away. Let's examine the MLP in more detail to see what we can learn."
   ]
  },
  {
   "cell_type": "markdown",
   "metadata": {},
   "source": [
    "## Attention Analysis"
   ]
  },
  {
   "cell_type": "markdown",
   "metadata": {},
   "source": [
    "Below, I investigate the attention layer in order to see if there are any clearly interpretable patterns. "
   ]
  },
  {
   "cell_type": "markdown",
   "metadata": {},
   "source": [
    "### Attention Patterns by Position"
   ]
  },
  {
   "cell_type": "markdown",
   "metadata": {},
   "source": [
    "Here we can see the attention pattern of each of the two heads in our attention layer. They appear extremely uniform--at each position, the heads seem to pay roughly equal attention to all previous positions. This suggests that the resultant information copied to each sequence point is an evenly-distributed combination of the information at each previous sequence point. We'll examine this more closely later to see what the heads might actually be doing."
   ]
  },
  {
   "cell_type": "code",
   "execution_count": 25,
   "metadata": {},
   "outputs": [
    {
     "name": "stdout",
     "output_type": "stream",
     "text": [
      "<class 'transformer_lens.ActivationCache.ActivationCache'>\n",
      "torch.Size([2, 128, 128])\n",
      "Layer 0 Head Attention Patterns:\n"
     ]
    },
    {
     "data": {
      "text/html": [
       "<div id=\"circuits-vis-5dea9051-9600\" style=\"margin: 15px 0;\"/>\n",
       "    <script crossorigin type=\"module\">\n",
       "    import { render, AttentionHeads } from \"https://unpkg.com/circuitsvis@1.34.0/dist/cdn/esm.js\";\n",
       "    render(\n",
       "      \"circuits-vis-5dea9051-9600\",\n",
       "      AttentionHeads,\n",
       "      {\"attention\": [[[1.0, 0.0, 0.0, 0.0, 0.0, 0.0, 0.0, 0.0, 0.0, 0.0, 0.0, 0.0, 0.0, 0.0, 0.0, 0.0, 0.0, 0.0, 0.0, 0.0], [0.4734157919883728, 0.5265842080116272, 0.0, 0.0, 0.0, 0.0, 0.0, 0.0, 0.0, 0.0, 0.0, 0.0, 0.0, 0.0, 0.0, 0.0, 0.0, 0.0, 0.0, 0.0], [0.34609952569007874, 0.3363446593284607, 0.31755584478378296, 0.0, 0.0, 0.0, 0.0, 0.0, 0.0, 0.0, 0.0, 0.0, 0.0, 0.0, 0.0, 0.0, 0.0, 0.0, 0.0, 0.0], [0.24589428305625916, 0.2590215802192688, 0.24921470880508423, 0.24586939811706543, 0.0, 0.0, 0.0, 0.0, 0.0, 0.0, 0.0, 0.0, 0.0, 0.0, 0.0, 0.0, 0.0, 0.0, 0.0, 0.0], [0.19861918687820435, 0.2019408643245697, 0.1950215846300125, 0.2041553556919098, 0.20026303827762604, 0.0, 0.0, 0.0, 0.0, 0.0, 0.0, 0.0, 0.0, 0.0, 0.0, 0.0, 0.0, 0.0, 0.0, 0.0], [0.17021094262599945, 0.1711147129535675, 0.1633274108171463, 0.15782152116298676, 0.16925887763500214, 0.16826653480529785, 0.0, 0.0, 0.0, 0.0, 0.0, 0.0, 0.0, 0.0, 0.0, 0.0, 0.0, 0.0, 0.0, 0.0], [0.14494109153747559, 0.1543666124343872, 0.15193314850330353, 0.1323467493057251, 0.14150089025497437, 0.14527057111263275, 0.12964093685150146, 0.0, 0.0, 0.0, 0.0, 0.0, 0.0, 0.0, 0.0, 0.0, 0.0, 0.0, 0.0, 0.0], [0.12641608715057373, 0.1273077428340912, 0.12872228026390076, 0.12880665063858032, 0.1275852918624878, 0.11803565919399261, 0.12113184481859207, 0.1219944953918457, 0.0, 0.0, 0.0, 0.0, 0.0, 0.0, 0.0, 0.0, 0.0, 0.0, 0.0, 0.0], [0.10803890228271484, 0.11501432210206985, 0.11273527890443802, 0.1174943819642067, 0.09838109463453293, 0.11753807961940765, 0.110854871571064, 0.10633448511362076, 0.11360850185155869, 0.0, 0.0, 0.0, 0.0, 0.0, 0.0, 0.0, 0.0, 0.0, 0.0, 0.0], [0.10921310633420944, 0.09529275447130203, 0.09720189869403839, 0.1005726084113121, 0.0968736857175827, 0.10084336996078491, 0.10682889074087143, 0.09885811060667038, 0.100279301404953, 0.09403634071350098, 0.0, 0.0, 0.0, 0.0, 0.0, 0.0, 0.0, 0.0, 0.0, 0.0], [0.09383974224328995, 0.08731423318386078, 0.09075615555047989, 0.08899102360010147, 0.09008248895406723, 0.0911068320274353, 0.09031806141138077, 0.09322743117809296, 0.09093917906284332, 0.0914970189332962, 0.09192780405282974, 0.0, 0.0, 0.0, 0.0, 0.0, 0.0, 0.0, 0.0, 0.0], [0.07682109624147415, 0.0924779623746872, 0.08760529011487961, 0.07804416865110397, 0.08097612857818604, 0.07783646136522293, 0.0780031755566597, 0.08811867982149124, 0.08240009099245071, 0.08760491758584976, 0.07817960530519485, 0.09193244576454163, 0.0, 0.0, 0.0, 0.0, 0.0, 0.0, 0.0, 0.0], [0.07500866800546646, 0.07335668802261353, 0.07775526493787766, 0.07747884839773178, 0.07442332059144974, 0.07960925251245499, 0.08084465563297272, 0.06886544078588486, 0.0817359909415245, 0.07730225473642349, 0.07721208781003952, 0.0778152197599411, 0.07859227061271667, 0.0, 0.0, 0.0, 0.0, 0.0, 0.0, 0.0], [0.07496576756238937, 0.07500871270895004, 0.07061556726694107, 0.06886322051286697, 0.07183464616537094, 0.0716983824968338, 0.07302060723304749, 0.0716421976685524, 0.06888457387685776, 0.0679660513997078, 0.07214708626270294, 0.07043575495481491, 0.07266421616077423, 0.07025323063135147, 0.0, 0.0, 0.0, 0.0, 0.0, 0.0], [0.06872109323740005, 0.06586360186338425, 0.062175434082746506, 0.06695125252008438, 0.06877052783966064, 0.06771362572908401, 0.06940369307994843, 0.06535346806049347, 0.06615348905324936, 0.06270188093185425, 0.06822545826435089, 0.06455685198307037, 0.06695949286222458, 0.06975800544023514, 0.06669208407402039, 0.0, 0.0, 0.0, 0.0, 0.0], [0.0607142299413681, 0.06396185606718063, 0.06278696656227112, 0.06418772041797638, 0.059643667191267014, 0.0631958469748497, 0.06183209642767906, 0.06131582707166672, 0.06365936249494553, 0.06475947052240372, 0.06472717225551605, 0.06196341663599014, 0.06516709923744202, 0.06156880035996437, 0.05956609547138214, 0.06095045432448387, 0.0, 0.0, 0.0, 0.0], [0.05915360525250435, 0.06300139427185059, 0.06111019849777222, 0.061162739992141724, 0.05873781815171242, 0.057887859642505646, 0.05483708903193474, 0.05859679356217384, 0.05730944871902466, 0.057810720056295395, 0.05846265330910683, 0.05679776147007942, 0.06000545993447304, 0.05864150822162628, 0.058150261640548706, 0.05888206884264946, 0.059452712535858154, 0.0, 0.0, 0.0], [0.055937670171260834, 0.0536644384264946, 0.053380731493234634, 0.05286845564842224, 0.057143788784742355, 0.05525339022278786, 0.05350680649280548, 0.056286152452230453, 0.057259153574705124, 0.053702693432569504, 0.057134732604026794, 0.05442352965474129, 0.05758756026625633, 0.05730615556240082, 0.05444282293319702, 0.05902998894453049, 0.05833101645112038, 0.0527409166097641, 0.0, 0.0], [0.05276121571660042, 0.05180197209119797, 0.04892299324274063, 0.05283616483211517, 0.05357269570231438, 0.05141141265630722, 0.05359070003032684, 0.05358601734042168, 0.0506758838891983, 0.048324696719646454, 0.05289541929960251, 0.053186047822237015, 0.05641256645321846, 0.051621776074171066, 0.05304151400923729, 0.05492961034178734, 0.05376579612493515, 0.05210753157734871, 0.054555971175432205, 0.0], [0.04944267496466637, 0.05230315774679184, 0.05455290526151657, 0.04972715303301811, 0.05006621778011322, 0.0490228645503521, 0.04695390909910202, 0.05321035906672478, 0.048262301832437515, 0.053337644785642624, 0.04679068922996521, 0.04854214936494827, 0.047131165862083435, 0.04939055070281029, 0.05062174052000046, 0.04744640365242958, 0.04997294768691063, 0.05118649825453758, 0.05009366571903229, 0.05194505304098129]], [[1.0, 0.0, 0.0, 0.0, 0.0, 0.0, 0.0, 0.0, 0.0, 0.0, 0.0, 0.0, 0.0, 0.0, 0.0, 0.0, 0.0, 0.0, 0.0, 0.0], [0.4912189543247223, 0.5087810754776001, 0.0, 0.0, 0.0, 0.0, 0.0, 0.0, 0.0, 0.0, 0.0, 0.0, 0.0, 0.0, 0.0, 0.0, 0.0, 0.0, 0.0, 0.0], [0.3434757888317108, 0.314426988363266, 0.3420972526073456, 0.0, 0.0, 0.0, 0.0, 0.0, 0.0, 0.0, 0.0, 0.0, 0.0, 0.0, 0.0, 0.0, 0.0, 0.0, 0.0, 0.0], [0.2624723017215729, 0.25398409366607666, 0.24084042012691498, 0.24270322918891907, 0.0, 0.0, 0.0, 0.0, 0.0, 0.0, 0.0, 0.0, 0.0, 0.0, 0.0, 0.0, 0.0, 0.0, 0.0, 0.0], [0.20716653764247894, 0.2107083946466446, 0.19262844324111938, 0.19597169756889343, 0.19352495670318604, 0.0, 0.0, 0.0, 0.0, 0.0, 0.0, 0.0, 0.0, 0.0, 0.0, 0.0, 0.0, 0.0, 0.0, 0.0], [0.16921964287757874, 0.15185654163360596, 0.16616839170455933, 0.1713465303182602, 0.16907870769500732, 0.17233021557331085, 0.0, 0.0, 0.0, 0.0, 0.0, 0.0, 0.0, 0.0, 0.0, 0.0, 0.0, 0.0, 0.0, 0.0], [0.13888972997665405, 0.14160458743572235, 0.13572551310062408, 0.1443805694580078, 0.1404232382774353, 0.15170294046401978, 0.147273451089859, 0.0, 0.0, 0.0, 0.0, 0.0, 0.0, 0.0, 0.0, 0.0, 0.0, 0.0, 0.0, 0.0], [0.12950754165649414, 0.13425849378108978, 0.12332183122634888, 0.12010501325130463, 0.11714152246713638, 0.12267227470874786, 0.1273406744003296, 0.12565270066261292, 0.0, 0.0, 0.0, 0.0, 0.0, 0.0, 0.0, 0.0, 0.0, 0.0, 0.0, 0.0], [0.1015612855553627, 0.10291329026222229, 0.1229112446308136, 0.10839727520942688, 0.11344175785779953, 0.10697297006845474, 0.11102528870105743, 0.12167771905660629, 0.11109921336174011, 0.0, 0.0, 0.0, 0.0, 0.0, 0.0, 0.0, 0.0, 0.0, 0.0, 0.0], [0.1039266511797905, 0.10026097297668457, 0.09679342061281204, 0.09997741878032684, 0.10497376322746277, 0.10316764563322067, 0.09664775431156158, 0.09576783329248428, 0.09885106235742569, 0.09963338822126389, 0.0, 0.0, 0.0, 0.0, 0.0, 0.0, 0.0, 0.0, 0.0, 0.0], [0.0913749560713768, 0.09240145236253738, 0.08817894756793976, 0.09392227232456207, 0.09438936412334442, 0.09162828326225281, 0.09646856039762497, 0.09059356153011322, 0.08475909382104874, 0.08778391778469086, 0.08849960565567017, 0.0, 0.0, 0.0, 0.0, 0.0, 0.0, 0.0, 0.0, 0.0], [0.08595194667577744, 0.08350034058094025, 0.0835278332233429, 0.07975775003433228, 0.07982546836137772, 0.08653321117162704, 0.07928405702114105, 0.08665835857391357, 0.086469866335392, 0.07922403514385223, 0.08980060368776321, 0.07946649193763733, 0.0, 0.0, 0.0, 0.0, 0.0, 0.0, 0.0, 0.0], [0.07284122705459595, 0.07795608788728714, 0.07897375524044037, 0.08100774139165878, 0.0691838413476944, 0.07661036401987076, 0.07751476764678955, 0.0765807256102562, 0.07622802257537842, 0.07823490351438522, 0.08107602596282959, 0.0707213506102562, 0.08307117223739624, 0.0, 0.0, 0.0, 0.0, 0.0, 0.0, 0.0], [0.07114952057600021, 0.07663768529891968, 0.07004056870937347, 0.07782105356454849, 0.06471358984708786, 0.06911839544773102, 0.0714617669582367, 0.07282857596874237, 0.07436172664165497, 0.0713927149772644, 0.06719817221164703, 0.07755804806947708, 0.06987550109624863, 0.06584271788597107, 0.0, 0.0, 0.0, 0.0, 0.0, 0.0], [0.06754187494516373, 0.06475730240345001, 0.06422163546085358, 0.06930229812860489, 0.07092299312353134, 0.07047870755195618, 0.06585407257080078, 0.06421579420566559, 0.06363833695650101, 0.06696274876594543, 0.06668982654809952, 0.06784746795892715, 0.06310614198446274, 0.06770127266645432, 0.06675945967435837, 0.0, 0.0, 0.0, 0.0, 0.0], [0.05832403898239136, 0.05937052145600319, 0.06839670985937119, 0.0567217580974102, 0.0694284662604332, 0.05962218716740608, 0.06108443811535835, 0.06452183425426483, 0.061620891094207764, 0.06794258952140808, 0.06388603895902634, 0.05736374482512474, 0.0632534995675087, 0.06596818566322327, 0.061125483363866806, 0.061369653791189194, 0.0, 0.0, 0.0, 0.0], [0.05582566186785698, 0.04999068006873131, 0.06145545840263367, 0.05736660957336426, 0.06345708668231964, 0.05677167326211929, 0.06203635409474373, 0.06283850967884064, 0.05954890325665474, 0.06527788192033768, 0.05830397084355354, 0.05338164418935776, 0.05777595564723015, 0.062493421137332916, 0.05877486243844032, 0.057173386216163635, 0.057527922093868256, 0.0, 0.0, 0.0], [0.05456344410777092, 0.05504077672958374, 0.05600058659911156, 0.05683618783950806, 0.05691789835691452, 0.05800488218665123, 0.05733152851462364, 0.05335431918501854, 0.05361828953027725, 0.05667030066251755, 0.05308762937784195, 0.05220311880111694, 0.05303359776735306, 0.057441797107458115, 0.055167172104120255, 0.054753925651311874, 0.05752258375287056, 0.058451998978853226, 0.0, 0.0], [0.056655190885066986, 0.05518443509936333, 0.05277923122048378, 0.04732074216008186, 0.05084489285945892, 0.051728297024965286, 0.04972150921821594, 0.050465695559978485, 0.05533207952976227, 0.053319647908210754, 0.052278969436883926, 0.05098842829465866, 0.050893861800432205, 0.05337635800242424, 0.05071854591369629, 0.05487300455570221, 0.05820543318986893, 0.05610901862382889, 0.04920477047562599, 0.0], [0.056227706372737885, 0.0529790036380291, 0.04635211452841759, 0.04583387449383736, 0.0511845126748085, 0.05083335191011429, 0.051437169313430786, 0.04745757207274437, 0.04456810653209686, 0.047157127410173416, 0.048524755984544754, 0.05567830428481102, 0.04707150533795357, 0.0510721430182457, 0.04840477928519249, 0.048890262842178345, 0.04647188261151314, 0.05429626256227493, 0.05403164029121399, 0.05152789130806923]]], \"tokens\": [\"0\", \"3\", \"9\", \"9\", \"5\", \"3\", \"0\", \"9\", \"2\", \"9\", \"2\", \"8\", \"6\", \"3\", \"8\", \"8\", \"7\", \"5\", \"0\", \"1\"]}\n",
       "    )\n",
       "    </script>"
      ],
      "text/plain": [
       "<circuitsvis.utils.render.RenderedHTML at 0x7fe5c699bf10>"
      ]
     },
     "execution_count": 25,
     "metadata": {},
     "output_type": "execute_result"
    }
   ],
   "source": [
    "print(type(cache))\n",
    "attention_pattern = cache[\"pattern\", 0, \"attn\"]\n",
    "attention_pattern = attention_pattern.squeeze(0)\n",
    "print(attention_pattern.shape)\n",
    "\n",
    "token_labels = [str(int(t)) for t in test_x]\n",
    "\n",
    "print(\"Layer 0 Head Attention Patterns:\")\n",
    "cv.attention.attention_heads(tokens=token_labels[:20], attention=attention_pattern[:,:20, :20])"
   ]
  },
  {
   "cell_type": "markdown",
   "metadata": {},
   "source": [
    "### Attention Circuit Examination\n",
    "Following the [Transformer Circuits](https://transformer-circuits.pub/2021/framework/index.html) paper, let's break down the attention head into QK (attention pattern) and OV (output value) circuits. The QK circuit consists of the embedding, query, key, and embedding-transpose matrices, and the OV circuit consists of the embedding, value, output, and unembedding matrices. However, we'll modify the latter to include the MLP input matrix instead of the unembedding, so that we can see the impact of the attention head on the MLP."
   ]
  },
  {
   "cell_type": "markdown",
   "metadata": {},
   "source": [
    "#### QK Circuit"
   ]
  },
  {
   "cell_type": "markdown",
   "metadata": {},
   "source": [
    "This pattern is a bit difficult to interpret. For now, we'll move on and see if other parts of the network offer more insight."
   ]
  },
  {
   "cell_type": "code",
   "execution_count": 55,
   "metadata": {},
   "outputs": [
    {
     "data": {
      "text/html": [
       "<div>                            <div id=\"9895c6a6-6d66-4e0b-8f81-087134eb9df0\" class=\"plotly-graph-div\" style=\"height:525px; width:100%;\"></div>            <script type=\"text/javascript\">                require([\"plotly\"], function(Plotly) {                    window.PLOTLYENV=window.PLOTLYENV || {};                                    if (document.getElementById(\"9895c6a6-6d66-4e0b-8f81-087134eb9df0\")) {                    Plotly.newPlot(                        \"9895c6a6-6d66-4e0b-8f81-087134eb9df0\",                        [{\"coloraxis\":\"coloraxis\",\"name\":\"0\",\"z\":[[-0.0001540249,-0.00034965188,-0.0027182517,-0.0018454093,-0.0009673905,-0.0008060388,0.0010748,0.00087084726,0.0012520496,-0.00068470684],[0.0010324585,0.002505093,-0.0023730856,-0.00256325,-0.0019053514,-0.002086715,0.00003427131,-0.0005543917,0.0025406745,-0.0005456193],[-0.00042015023,-0.004031093,-0.0012932015,0.0034955184,-0.002744508,0.00055166613,-0.0014764571,0.001561062,-0.0011598625,-0.000030566738],[-0.0022713337,0.0027654266,0.0005879919,-0.0026290503,-0.0002488006,-0.0020259598,0.00062229397,-0.0024138868,0.0000605383,-0.0009936083],[0.002206481,0.0017029776,-0.0034352557,0.005225051,0.004462111,0.0010666015,-0.0042637107,-0.0015527125,-0.0025008046,-0.0013788389],[0.0034415193,0.00022647581,0.0032433227,0.005675074,0.006184588,0.0023716053,-0.0021903708,-0.003094236,-0.0019126966,-0.002191613],[0.00082085916,0.0009190727,0.0005438972,-0.00088537054,0.0006818024,0.0014441896,-0.00022401224,-0.00035099874,-0.0017050402,-0.0006681978],[0.0027680597,0.0040727262,0.0029362317,0.00013861158,0.0056611286,0.00055642694,0.00022915188,-0.002127546,0.00010280917,-0.003233598],[0.00028865697,0.00063102914,0.00085765665,0.0031905114,-0.00037567646,-0.00042174582,0.0008516667,-0.0004704641,-0.000116828865,-0.0033949055],[0.001793685,0.0016252622,-0.0001307965,-0.0035246059,-0.0019938776,-0.0014719439,-0.0006220688,0.00081664324,-1.5015384e-7,-0.0017929344]],\"type\":\"heatmap\",\"xaxis\":\"x\",\"yaxis\":\"y\",\"hovertemplate\":\"Key: %{x}<br>Query: %{y}<br>color: %{z}<extra></extra>\"}],                        {\"template\":{\"data\":{\"histogram2dcontour\":[{\"type\":\"histogram2dcontour\",\"colorbar\":{\"outlinewidth\":0,\"ticks\":\"\"},\"colorscale\":[[0.0,\"#0d0887\"],[0.1111111111111111,\"#46039f\"],[0.2222222222222222,\"#7201a8\"],[0.3333333333333333,\"#9c179e\"],[0.4444444444444444,\"#bd3786\"],[0.5555555555555556,\"#d8576b\"],[0.6666666666666666,\"#ed7953\"],[0.7777777777777778,\"#fb9f3a\"],[0.8888888888888888,\"#fdca26\"],[1.0,\"#f0f921\"]]}],\"choropleth\":[{\"type\":\"choropleth\",\"colorbar\":{\"outlinewidth\":0,\"ticks\":\"\"}}],\"histogram2d\":[{\"type\":\"histogram2d\",\"colorbar\":{\"outlinewidth\":0,\"ticks\":\"\"},\"colorscale\":[[0.0,\"#0d0887\"],[0.1111111111111111,\"#46039f\"],[0.2222222222222222,\"#7201a8\"],[0.3333333333333333,\"#9c179e\"],[0.4444444444444444,\"#bd3786\"],[0.5555555555555556,\"#d8576b\"],[0.6666666666666666,\"#ed7953\"],[0.7777777777777778,\"#fb9f3a\"],[0.8888888888888888,\"#fdca26\"],[1.0,\"#f0f921\"]]}],\"heatmap\":[{\"type\":\"heatmap\",\"colorbar\":{\"outlinewidth\":0,\"ticks\":\"\"},\"colorscale\":[[0.0,\"#0d0887\"],[0.1111111111111111,\"#46039f\"],[0.2222222222222222,\"#7201a8\"],[0.3333333333333333,\"#9c179e\"],[0.4444444444444444,\"#bd3786\"],[0.5555555555555556,\"#d8576b\"],[0.6666666666666666,\"#ed7953\"],[0.7777777777777778,\"#fb9f3a\"],[0.8888888888888888,\"#fdca26\"],[1.0,\"#f0f921\"]]}],\"heatmapgl\":[{\"type\":\"heatmapgl\",\"colorbar\":{\"outlinewidth\":0,\"ticks\":\"\"},\"colorscale\":[[0.0,\"#0d0887\"],[0.1111111111111111,\"#46039f\"],[0.2222222222222222,\"#7201a8\"],[0.3333333333333333,\"#9c179e\"],[0.4444444444444444,\"#bd3786\"],[0.5555555555555556,\"#d8576b\"],[0.6666666666666666,\"#ed7953\"],[0.7777777777777778,\"#fb9f3a\"],[0.8888888888888888,\"#fdca26\"],[1.0,\"#f0f921\"]]}],\"contourcarpet\":[{\"type\":\"contourcarpet\",\"colorbar\":{\"outlinewidth\":0,\"ticks\":\"\"}}],\"contour\":[{\"type\":\"contour\",\"colorbar\":{\"outlinewidth\":0,\"ticks\":\"\"},\"colorscale\":[[0.0,\"#0d0887\"],[0.1111111111111111,\"#46039f\"],[0.2222222222222222,\"#7201a8\"],[0.3333333333333333,\"#9c179e\"],[0.4444444444444444,\"#bd3786\"],[0.5555555555555556,\"#d8576b\"],[0.6666666666666666,\"#ed7953\"],[0.7777777777777778,\"#fb9f3a\"],[0.8888888888888888,\"#fdca26\"],[1.0,\"#f0f921\"]]}],\"surface\":[{\"type\":\"surface\",\"colorbar\":{\"outlinewidth\":0,\"ticks\":\"\"},\"colorscale\":[[0.0,\"#0d0887\"],[0.1111111111111111,\"#46039f\"],[0.2222222222222222,\"#7201a8\"],[0.3333333333333333,\"#9c179e\"],[0.4444444444444444,\"#bd3786\"],[0.5555555555555556,\"#d8576b\"],[0.6666666666666666,\"#ed7953\"],[0.7777777777777778,\"#fb9f3a\"],[0.8888888888888888,\"#fdca26\"],[1.0,\"#f0f921\"]]}],\"mesh3d\":[{\"type\":\"mesh3d\",\"colorbar\":{\"outlinewidth\":0,\"ticks\":\"\"}}],\"scatter\":[{\"fillpattern\":{\"fillmode\":\"overlay\",\"size\":10,\"solidity\":0.2},\"type\":\"scatter\"}],\"parcoords\":[{\"type\":\"parcoords\",\"line\":{\"colorbar\":{\"outlinewidth\":0,\"ticks\":\"\"}}}],\"scatterpolargl\":[{\"type\":\"scatterpolargl\",\"marker\":{\"colorbar\":{\"outlinewidth\":0,\"ticks\":\"\"}}}],\"bar\":[{\"error_x\":{\"color\":\"#2a3f5f\"},\"error_y\":{\"color\":\"#2a3f5f\"},\"marker\":{\"line\":{\"color\":\"#E5ECF6\",\"width\":0.5},\"pattern\":{\"fillmode\":\"overlay\",\"size\":10,\"solidity\":0.2}},\"type\":\"bar\"}],\"scattergeo\":[{\"type\":\"scattergeo\",\"marker\":{\"colorbar\":{\"outlinewidth\":0,\"ticks\":\"\"}}}],\"scatterpolar\":[{\"type\":\"scatterpolar\",\"marker\":{\"colorbar\":{\"outlinewidth\":0,\"ticks\":\"\"}}}],\"histogram\":[{\"marker\":{\"pattern\":{\"fillmode\":\"overlay\",\"size\":10,\"solidity\":0.2}},\"type\":\"histogram\"}],\"scattergl\":[{\"type\":\"scattergl\",\"marker\":{\"colorbar\":{\"outlinewidth\":0,\"ticks\":\"\"}}}],\"scatter3d\":[{\"type\":\"scatter3d\",\"line\":{\"colorbar\":{\"outlinewidth\":0,\"ticks\":\"\"}},\"marker\":{\"colorbar\":{\"outlinewidth\":0,\"ticks\":\"\"}}}],\"scattermapbox\":[{\"type\":\"scattermapbox\",\"marker\":{\"colorbar\":{\"outlinewidth\":0,\"ticks\":\"\"}}}],\"scatterternary\":[{\"type\":\"scatterternary\",\"marker\":{\"colorbar\":{\"outlinewidth\":0,\"ticks\":\"\"}}}],\"scattercarpet\":[{\"type\":\"scattercarpet\",\"marker\":{\"colorbar\":{\"outlinewidth\":0,\"ticks\":\"\"}}}],\"carpet\":[{\"aaxis\":{\"endlinecolor\":\"#2a3f5f\",\"gridcolor\":\"white\",\"linecolor\":\"white\",\"minorgridcolor\":\"white\",\"startlinecolor\":\"#2a3f5f\"},\"baxis\":{\"endlinecolor\":\"#2a3f5f\",\"gridcolor\":\"white\",\"linecolor\":\"white\",\"minorgridcolor\":\"white\",\"startlinecolor\":\"#2a3f5f\"},\"type\":\"carpet\"}],\"table\":[{\"cells\":{\"fill\":{\"color\":\"#EBF0F8\"},\"line\":{\"color\":\"white\"}},\"header\":{\"fill\":{\"color\":\"#C8D4E3\"},\"line\":{\"color\":\"white\"}},\"type\":\"table\"}],\"barpolar\":[{\"marker\":{\"line\":{\"color\":\"#E5ECF6\",\"width\":0.5},\"pattern\":{\"fillmode\":\"overlay\",\"size\":10,\"solidity\":0.2}},\"type\":\"barpolar\"}],\"pie\":[{\"automargin\":true,\"type\":\"pie\"}]},\"layout\":{\"autotypenumbers\":\"strict\",\"colorway\":[\"#636efa\",\"#EF553B\",\"#00cc96\",\"#ab63fa\",\"#FFA15A\",\"#19d3f3\",\"#FF6692\",\"#B6E880\",\"#FF97FF\",\"#FECB52\"],\"font\":{\"color\":\"#2a3f5f\"},\"hovermode\":\"closest\",\"hoverlabel\":{\"align\":\"left\"},\"paper_bgcolor\":\"white\",\"plot_bgcolor\":\"#E5ECF6\",\"polar\":{\"bgcolor\":\"#E5ECF6\",\"angularaxis\":{\"gridcolor\":\"white\",\"linecolor\":\"white\",\"ticks\":\"\"},\"radialaxis\":{\"gridcolor\":\"white\",\"linecolor\":\"white\",\"ticks\":\"\"}},\"ternary\":{\"bgcolor\":\"#E5ECF6\",\"aaxis\":{\"gridcolor\":\"white\",\"linecolor\":\"white\",\"ticks\":\"\"},\"baxis\":{\"gridcolor\":\"white\",\"linecolor\":\"white\",\"ticks\":\"\"},\"caxis\":{\"gridcolor\":\"white\",\"linecolor\":\"white\",\"ticks\":\"\"}},\"coloraxis\":{\"colorbar\":{\"outlinewidth\":0,\"ticks\":\"\"}},\"colorscale\":{\"sequential\":[[0.0,\"#0d0887\"],[0.1111111111111111,\"#46039f\"],[0.2222222222222222,\"#7201a8\"],[0.3333333333333333,\"#9c179e\"],[0.4444444444444444,\"#bd3786\"],[0.5555555555555556,\"#d8576b\"],[0.6666666666666666,\"#ed7953\"],[0.7777777777777778,\"#fb9f3a\"],[0.8888888888888888,\"#fdca26\"],[1.0,\"#f0f921\"]],\"sequentialminus\":[[0.0,\"#0d0887\"],[0.1111111111111111,\"#46039f\"],[0.2222222222222222,\"#7201a8\"],[0.3333333333333333,\"#9c179e\"],[0.4444444444444444,\"#bd3786\"],[0.5555555555555556,\"#d8576b\"],[0.6666666666666666,\"#ed7953\"],[0.7777777777777778,\"#fb9f3a\"],[0.8888888888888888,\"#fdca26\"],[1.0,\"#f0f921\"]],\"diverging\":[[0,\"#8e0152\"],[0.1,\"#c51b7d\"],[0.2,\"#de77ae\"],[0.3,\"#f1b6da\"],[0.4,\"#fde0ef\"],[0.5,\"#f7f7f7\"],[0.6,\"#e6f5d0\"],[0.7,\"#b8e186\"],[0.8,\"#7fbc41\"],[0.9,\"#4d9221\"],[1,\"#276419\"]]},\"xaxis\":{\"gridcolor\":\"white\",\"linecolor\":\"white\",\"ticks\":\"\",\"title\":{\"standoff\":15},\"zerolinecolor\":\"white\",\"automargin\":true,\"zerolinewidth\":2},\"yaxis\":{\"gridcolor\":\"white\",\"linecolor\":\"white\",\"ticks\":\"\",\"title\":{\"standoff\":15},\"zerolinecolor\":\"white\",\"automargin\":true,\"zerolinewidth\":2},\"scene\":{\"xaxis\":{\"backgroundcolor\":\"#E5ECF6\",\"gridcolor\":\"white\",\"linecolor\":\"white\",\"showbackground\":true,\"ticks\":\"\",\"zerolinecolor\":\"white\",\"gridwidth\":2},\"yaxis\":{\"backgroundcolor\":\"#E5ECF6\",\"gridcolor\":\"white\",\"linecolor\":\"white\",\"showbackground\":true,\"ticks\":\"\",\"zerolinecolor\":\"white\",\"gridwidth\":2},\"zaxis\":{\"backgroundcolor\":\"#E5ECF6\",\"gridcolor\":\"white\",\"linecolor\":\"white\",\"showbackground\":true,\"ticks\":\"\",\"zerolinecolor\":\"white\",\"gridwidth\":2}},\"shapedefaults\":{\"line\":{\"color\":\"#2a3f5f\"}},\"annotationdefaults\":{\"arrowcolor\":\"#2a3f5f\",\"arrowhead\":0,\"arrowwidth\":1},\"geo\":{\"bgcolor\":\"white\",\"landcolor\":\"#E5ECF6\",\"subunitcolor\":\"white\",\"showland\":true,\"showlakes\":true,\"lakecolor\":\"white\"},\"title\":{\"x\":0.05},\"mapbox\":{\"style\":\"light\"}}},\"xaxis\":{\"anchor\":\"y\",\"domain\":[0.0,1.0],\"scaleanchor\":\"y\",\"constrain\":\"domain\",\"title\":{\"text\":\"Key\"}},\"yaxis\":{\"anchor\":\"x\",\"domain\":[0.0,1.0],\"autorange\":\"reversed\",\"constrain\":\"domain\",\"title\":{\"text\":\"Query\"}},\"coloraxis\":{\"colorscale\":[[0.0,\"rgb(103,0,31)\"],[0.1,\"rgb(178,24,43)\"],[0.2,\"rgb(214,96,77)\"],[0.3,\"rgb(244,165,130)\"],[0.4,\"rgb(253,219,199)\"],[0.5,\"rgb(247,247,247)\"],[0.6,\"rgb(209,229,240)\"],[0.7,\"rgb(146,197,222)\"],[0.8,\"rgb(67,147,195)\"],[0.9,\"rgb(33,102,172)\"],[1.0,\"rgb(5,48,97)\"]],\"cmid\":0.0},\"title\":{\"text\":\"Full QK Circuit for Attn Layer 0\"}},                        {\"responsive\": true}                    ).then(function(){\n",
       "                            \n",
       "var gd = document.getElementById('9895c6a6-6d66-4e0b-8f81-087134eb9df0');\n",
       "var x = new MutationObserver(function (mutations, observer) {{\n",
       "        var display = window.getComputedStyle(gd).display;\n",
       "        if (!display || display === 'none') {{\n",
       "            console.log([gd, 'removed!']);\n",
       "            Plotly.purge(gd);\n",
       "            observer.disconnect();\n",
       "        }}\n",
       "}});\n",
       "\n",
       "// Listen for the removal of the full notebook cells\n",
       "var notebookContainer = gd.closest('#notebook-container');\n",
       "if (notebookContainer) {{\n",
       "    x.observe(notebookContainer, {childList: true});\n",
       "}}\n",
       "\n",
       "// Listen for the clearing of the current output cell\n",
       "var outputEl = gd.closest('.output');\n",
       "if (outputEl) {{\n",
       "    x.observe(outputEl, {childList: true});\n",
       "}}\n",
       "\n",
       "                        })                };                });            </script>        </div>"
      ]
     },
     "metadata": {},
     "output_type": "display_data"
    }
   ],
   "source": [
    "QK = analysis_model.W_E @ analysis_model.W_Q[0, 0] @ analysis_model.W_K[0, 0].T @ analysis_model.W_E.T\n",
    "imshow(QK, yaxis=\"Query\", xaxis=\"Key\", title=\"Full QK Circuit for Attn Layer 0\")"
   ]
  },
  {
   "cell_type": "markdown",
   "metadata": {},
   "source": [
    "#### OV Circuit"
   ]
  },
  {
   "cell_type": "markdown",
   "metadata": {},
   "source": [
    "Below, we'll visualize the impact of the attention head 0 on the MLP layer. Interestingly, there seems to be a distinct pattern: Each neuron seems to be strongly activated by only one of the vocabulary items. In addition, each vocabulary item seems to result in a particularly strong activation for only one or two neurons.\n",
    "\n",
    "Since we know that the MLP layer tends to contribute more to the residual stream (and that that contribution is either inhibitory or a strong positive contribution), it seems that the MLP is probably amplifying particular values received by the attention layer."
   ]
  },
  {
   "cell_type": "code",
   "execution_count": 78,
   "metadata": {},
   "outputs": [
    {
     "data": {
      "text/html": [
       "<div>                            <div id=\"18f3f849-ebee-4ca1-aff4-6deaa0bc4945\" class=\"plotly-graph-div\" style=\"height:525px; width:100%;\"></div>            <script type=\"text/javascript\">                require([\"plotly\"], function(Plotly) {                    window.PLOTLYENV=window.PLOTLYENV || {};                                    if (document.getElementById(\"18f3f849-ebee-4ca1-aff4-6deaa0bc4945\")) {                    Plotly.newPlot(                        \"18f3f849-ebee-4ca1-aff4-6deaa0bc4945\",                        [{\"coloraxis\":\"coloraxis\",\"name\":\"0\",\"z\":[[-0.20883504,-0.35022542,-0.015877241,-0.16725297,0.56025,-0.0127256755,-0.2025763,-0.2639685,-0.2822275,-0.046378452,-0.19517013,-0.23650442,-0.17358895,-0.05852094,-0.22185715,-0.087758586,-0.59156626,-0.28929874,0.013012941,-0.16309407,-0.19907606,-0.1917147,0.6426795,-0.10792574,-0.037994176,0.04748745,-0.17588305,-0.10487823,-0.15653482,-0.09943137,-0.115797,-0.14705433,0.52817637,0.015750088,1.096624,0.752186,0.83294827,-0.1187393,0.9415345,-0.06091482,-0.046584,-0.17056511,-0.18142387,-0.31698075,-0.16266847,-0.21303248,-0.0096077155,-0.21186328],[-0.10909389,-0.0023781403,-0.15959655,1.0196441,-0.30753428,-0.21137068,-0.21552601,-0.25324017,1.3024573,-0.1986711,0.90246207,0.46474805,-0.026699925,-0.106751755,-0.14860748,-0.17608395,-0.09616859,-0.18013509,-0.12666829,-0.037545174,-0.19560876,-0.2571686,-0.19590694,-0.22576614,-0.11798597,0.25004828,-0.039954934,-0.21517819,-0.10082665,-0.23463234,-0.18297656,-0.24070202,-0.21695961,-0.2017697,-0.18493493,-0.06934398,-0.10119239,-0.19715597,-0.17901841,-0.1339929,-0.17830847,-0.13032492,0.070819765,-0.17951563,-0.19848035,-0.08436099,-0.16614744,-0.037358016],[-0.268023,-0.19368194,-0.18522087,-0.116154775,-0.1959231,-0.14974655,-0.08397269,-0.014125787,-0.06595861,-0.17925182,-0.13813995,-0.18322504,-0.18624803,0.47506893,-0.14953832,-0.08816191,0.37971285,-0.15581559,0.38643488,0.82179314,-0.04657236,-0.093412645,-0.16855352,0.07379495,0.039748687,0.18981537,-0.07707965,-0.25859505,-0.05578285,-0.31170538,-0.13877396,-0.26231012,0.02517614,-0.041768868,-0.03235244,-0.23182142,-0.093636975,-0.17438702,-0.08229373,-0.0039790454,-0.18678212,-0.09247652,0.05047927,-0.21419092,1.4524205,-0.13178606,-0.09278078,-0.16730016],[0.12409991,0.11005182,-0.012834049,-0.01495233,-0.03586032,0.45676047,-0.12924735,-0.02196283,-0.17177694,0.9237371,-0.16080865,-0.13041423,0.0151563855,-0.12130405,0.093432985,-0.022564434,-0.14904082,-0.031778626,-0.100994915,-0.058932904,0.02336493,0.0703491,0.08333195,0.45780998,-0.10922161,0.05621851,0.073811196,-0.17636304,-0.07241032,1.3721352,0.8554516,0.01616582,-0.05218232,0.16415094,-0.045564007,0.008475542,0.061190803,-0.14574811,0.06345399,-0.12217848,-0.023199778,0.020943308,-0.07083888,-0.06597817,-0.24469556,-0.011062124,0.38509303,-0.091214165],[-0.20128083,-0.13740893,0.0059980433,-0.15356596,-0.07360887,-0.18323019,-0.20234334,-0.09564247,-0.16120952,-0.19589418,-0.13549155,-0.0073813037,-0.10745233,0.27031198,0.06360358,-0.09368843,0.16195309,-0.09158019,-0.018023256,-0.09783982,0.22400978,0.39948985,0.00053669413,-0.11566582,-0.11754881,-0.20019235,0.032519244,1.2810503,-0.20402737,-0.24200581,-0.18748198,-0.06011839,0.028788557,0.18098487,-0.08244234,-8.441691e-8,-0.048568532,1.2533537,-0.045290258,-0.14847107,1.1116958,0.13096859,-0.17209584,-0.1560084,-0.21413007,-0.12395963,-0.07432201,0.6941642],[-0.16590302,-0.056543548,-0.024190951,-0.14116181,-0.1039278,-0.068792455,1.1258109,1.0128888,-0.15043965,-0.07355936,-0.07229861,-0.025104672,-0.093209326,-0.08946974,-0.11066899,0.5535579,0.09742371,-0.07094313,-0.10934987,0.0023743913,0.10565535,-0.028559132,-0.032164387,0.012478387,-0.16855182,-0.092944205,-0.05175686,-0.079412155,-0.11535736,-0.07257691,0.040126614,-0.035502046,-0.12188777,-0.051296636,-0.12982169,-0.07240965,-0.083826326,-0.060229056,-0.049799617,-0.134667,-0.053154737,0.00557606,-0.14175066,-0.24009612,-0.012364674,-0.045298807,0.0073491363,-0.040479496],[-0.08785487,-0.03811517,-0.06662313,-0.12752463,0.15769622,0.04762844,-0.16172929,-0.25347918,-0.12321021,-0.04625767,-0.1510172,0.012632643,0.036103316,-0.070378296,-0.038144678,-0.16279168,0.13339508,0.7315824,0.16268562,-0.15727246,0.08828352,0.22680932,-0.13541402,-0.079416804,-0.062463365,-0.16772336,0.033140425,0.023467582,-0.19655746,-0.011311934,-0.08099619,-0.060090013,-0.20677741,0.039792884,-0.13111731,-0.14062622,-0.07416692,-0.048717346,-0.17469434,-0.026131295,-0.20068033,0.17610542,0.33313045,1.4024018,-0.1421579,-0.009539857,0.10091288,-0.041142534],[1.182966,0.8544961,-0.19029105,-0.093932144,-0.0052164234,-0.16828142,-0.18473272,-0.2532706,-0.092000194,0.042605836,0.04062705,-0.024233527,0.7780709,-0.054440927,0.8783377,0.008150008,0.09365038,-0.06543198,-0.08442311,-0.14032668,-0.047650743,0.0037502996,-0.01908591,-0.13890114,-0.20727636,0.006174387,-0.1914234,-0.10861821,-0.30485794,-0.024175815,0.07411526,-0.1446124,-0.0041106874,-0.0037287916,-0.17915641,-0.022275416,-0.17446083,-0.22205158,-0.18434903,-0.31690904,-0.087970786,-0.020128146,-0.10806608,-0.15127195,-0.22400662,0.8947926,-0.13579582,-0.020870063],[-0.22133607,-0.1155097,-0.17068799,-0.022649117,0.06170716,0.41413578,-0.24208947,-0.10718125,-0.057777543,-0.098241754,-0.0040911348,0.22408275,-0.30125663,-0.0969407,-0.1925705,-0.12077609,-0.15195456,-0.13201906,-0.09029532,-0.03317238,-0.010006772,0.02824224,-0.0014457239,0.28262845,0.79728097,-0.014121755,-0.10940219,-0.14454602,1.2468592,-0.138786,-0.08724739,-0.17606777,0.095437504,-0.052567378,-0.024879577,-0.05650479,-0.08346088,-0.09793947,-0.05278057,0.92149097,-0.095773555,0.0439105,0.15204087,-0.15258878,-0.05408751,-0.26721364,-0.037327487,-0.019522669],[-0.04625125,-0.10511077,0.9546429,-0.10416056,-0.09621632,-0.086620346,-0.058718603,-0.07013854,-0.17867516,0.075540625,-0.041139748,-0.13463734,0.08042532,-0.08608243,-0.189431,-0.03816303,-0.052861854,0.1854753,0.009802014,-0.10757662,0.028462837,-0.13211495,-0.02303512,-0.114640996,-0.1458139,0.027633315,0.57448435,-0.120266885,-0.21599063,0.009595276,-0.08071828,1.2726722,0.06388124,-0.007792063,-0.06997425,-0.014315512,-0.05799278,-0.048778027,-0.023616254,-0.12807198,-0.11635815,-0.014002999,-0.028333856,-0.098940104,-0.20534305,-0.013791361,0.06574772,-0.015948988]],\"type\":\"heatmap\",\"xaxis\":\"x\",\"yaxis\":\"y\",\"hovertemplate\":\"Neuron: %{x}<br>Input Vocab: %{y}<br>color: %{z}<extra></extra>\"}],                        {\"template\":{\"data\":{\"histogram2dcontour\":[{\"type\":\"histogram2dcontour\",\"colorbar\":{\"outlinewidth\":0,\"ticks\":\"\"},\"colorscale\":[[0.0,\"#0d0887\"],[0.1111111111111111,\"#46039f\"],[0.2222222222222222,\"#7201a8\"],[0.3333333333333333,\"#9c179e\"],[0.4444444444444444,\"#bd3786\"],[0.5555555555555556,\"#d8576b\"],[0.6666666666666666,\"#ed7953\"],[0.7777777777777778,\"#fb9f3a\"],[0.8888888888888888,\"#fdca26\"],[1.0,\"#f0f921\"]]}],\"choropleth\":[{\"type\":\"choropleth\",\"colorbar\":{\"outlinewidth\":0,\"ticks\":\"\"}}],\"histogram2d\":[{\"type\":\"histogram2d\",\"colorbar\":{\"outlinewidth\":0,\"ticks\":\"\"},\"colorscale\":[[0.0,\"#0d0887\"],[0.1111111111111111,\"#46039f\"],[0.2222222222222222,\"#7201a8\"],[0.3333333333333333,\"#9c179e\"],[0.4444444444444444,\"#bd3786\"],[0.5555555555555556,\"#d8576b\"],[0.6666666666666666,\"#ed7953\"],[0.7777777777777778,\"#fb9f3a\"],[0.8888888888888888,\"#fdca26\"],[1.0,\"#f0f921\"]]}],\"heatmap\":[{\"type\":\"heatmap\",\"colorbar\":{\"outlinewidth\":0,\"ticks\":\"\"},\"colorscale\":[[0.0,\"#0d0887\"],[0.1111111111111111,\"#46039f\"],[0.2222222222222222,\"#7201a8\"],[0.3333333333333333,\"#9c179e\"],[0.4444444444444444,\"#bd3786\"],[0.5555555555555556,\"#d8576b\"],[0.6666666666666666,\"#ed7953\"],[0.7777777777777778,\"#fb9f3a\"],[0.8888888888888888,\"#fdca26\"],[1.0,\"#f0f921\"]]}],\"heatmapgl\":[{\"type\":\"heatmapgl\",\"colorbar\":{\"outlinewidth\":0,\"ticks\":\"\"},\"colorscale\":[[0.0,\"#0d0887\"],[0.1111111111111111,\"#46039f\"],[0.2222222222222222,\"#7201a8\"],[0.3333333333333333,\"#9c179e\"],[0.4444444444444444,\"#bd3786\"],[0.5555555555555556,\"#d8576b\"],[0.6666666666666666,\"#ed7953\"],[0.7777777777777778,\"#fb9f3a\"],[0.8888888888888888,\"#fdca26\"],[1.0,\"#f0f921\"]]}],\"contourcarpet\":[{\"type\":\"contourcarpet\",\"colorbar\":{\"outlinewidth\":0,\"ticks\":\"\"}}],\"contour\":[{\"type\":\"contour\",\"colorbar\":{\"outlinewidth\":0,\"ticks\":\"\"},\"colorscale\":[[0.0,\"#0d0887\"],[0.1111111111111111,\"#46039f\"],[0.2222222222222222,\"#7201a8\"],[0.3333333333333333,\"#9c179e\"],[0.4444444444444444,\"#bd3786\"],[0.5555555555555556,\"#d8576b\"],[0.6666666666666666,\"#ed7953\"],[0.7777777777777778,\"#fb9f3a\"],[0.8888888888888888,\"#fdca26\"],[1.0,\"#f0f921\"]]}],\"surface\":[{\"type\":\"surface\",\"colorbar\":{\"outlinewidth\":0,\"ticks\":\"\"},\"colorscale\":[[0.0,\"#0d0887\"],[0.1111111111111111,\"#46039f\"],[0.2222222222222222,\"#7201a8\"],[0.3333333333333333,\"#9c179e\"],[0.4444444444444444,\"#bd3786\"],[0.5555555555555556,\"#d8576b\"],[0.6666666666666666,\"#ed7953\"],[0.7777777777777778,\"#fb9f3a\"],[0.8888888888888888,\"#fdca26\"],[1.0,\"#f0f921\"]]}],\"mesh3d\":[{\"type\":\"mesh3d\",\"colorbar\":{\"outlinewidth\":0,\"ticks\":\"\"}}],\"scatter\":[{\"fillpattern\":{\"fillmode\":\"overlay\",\"size\":10,\"solidity\":0.2},\"type\":\"scatter\"}],\"parcoords\":[{\"type\":\"parcoords\",\"line\":{\"colorbar\":{\"outlinewidth\":0,\"ticks\":\"\"}}}],\"scatterpolargl\":[{\"type\":\"scatterpolargl\",\"marker\":{\"colorbar\":{\"outlinewidth\":0,\"ticks\":\"\"}}}],\"bar\":[{\"error_x\":{\"color\":\"#2a3f5f\"},\"error_y\":{\"color\":\"#2a3f5f\"},\"marker\":{\"line\":{\"color\":\"#E5ECF6\",\"width\":0.5},\"pattern\":{\"fillmode\":\"overlay\",\"size\":10,\"solidity\":0.2}},\"type\":\"bar\"}],\"scattergeo\":[{\"type\":\"scattergeo\",\"marker\":{\"colorbar\":{\"outlinewidth\":0,\"ticks\":\"\"}}}],\"scatterpolar\":[{\"type\":\"scatterpolar\",\"marker\":{\"colorbar\":{\"outlinewidth\":0,\"ticks\":\"\"}}}],\"histogram\":[{\"marker\":{\"pattern\":{\"fillmode\":\"overlay\",\"size\":10,\"solidity\":0.2}},\"type\":\"histogram\"}],\"scattergl\":[{\"type\":\"scattergl\",\"marker\":{\"colorbar\":{\"outlinewidth\":0,\"ticks\":\"\"}}}],\"scatter3d\":[{\"type\":\"scatter3d\",\"line\":{\"colorbar\":{\"outlinewidth\":0,\"ticks\":\"\"}},\"marker\":{\"colorbar\":{\"outlinewidth\":0,\"ticks\":\"\"}}}],\"scattermapbox\":[{\"type\":\"scattermapbox\",\"marker\":{\"colorbar\":{\"outlinewidth\":0,\"ticks\":\"\"}}}],\"scatterternary\":[{\"type\":\"scatterternary\",\"marker\":{\"colorbar\":{\"outlinewidth\":0,\"ticks\":\"\"}}}],\"scattercarpet\":[{\"type\":\"scattercarpet\",\"marker\":{\"colorbar\":{\"outlinewidth\":0,\"ticks\":\"\"}}}],\"carpet\":[{\"aaxis\":{\"endlinecolor\":\"#2a3f5f\",\"gridcolor\":\"white\",\"linecolor\":\"white\",\"minorgridcolor\":\"white\",\"startlinecolor\":\"#2a3f5f\"},\"baxis\":{\"endlinecolor\":\"#2a3f5f\",\"gridcolor\":\"white\",\"linecolor\":\"white\",\"minorgridcolor\":\"white\",\"startlinecolor\":\"#2a3f5f\"},\"type\":\"carpet\"}],\"table\":[{\"cells\":{\"fill\":{\"color\":\"#EBF0F8\"},\"line\":{\"color\":\"white\"}},\"header\":{\"fill\":{\"color\":\"#C8D4E3\"},\"line\":{\"color\":\"white\"}},\"type\":\"table\"}],\"barpolar\":[{\"marker\":{\"line\":{\"color\":\"#E5ECF6\",\"width\":0.5},\"pattern\":{\"fillmode\":\"overlay\",\"size\":10,\"solidity\":0.2}},\"type\":\"barpolar\"}],\"pie\":[{\"automargin\":true,\"type\":\"pie\"}]},\"layout\":{\"autotypenumbers\":\"strict\",\"colorway\":[\"#636efa\",\"#EF553B\",\"#00cc96\",\"#ab63fa\",\"#FFA15A\",\"#19d3f3\",\"#FF6692\",\"#B6E880\",\"#FF97FF\",\"#FECB52\"],\"font\":{\"color\":\"#2a3f5f\"},\"hovermode\":\"closest\",\"hoverlabel\":{\"align\":\"left\"},\"paper_bgcolor\":\"white\",\"plot_bgcolor\":\"#E5ECF6\",\"polar\":{\"bgcolor\":\"#E5ECF6\",\"angularaxis\":{\"gridcolor\":\"white\",\"linecolor\":\"white\",\"ticks\":\"\"},\"radialaxis\":{\"gridcolor\":\"white\",\"linecolor\":\"white\",\"ticks\":\"\"}},\"ternary\":{\"bgcolor\":\"#E5ECF6\",\"aaxis\":{\"gridcolor\":\"white\",\"linecolor\":\"white\",\"ticks\":\"\"},\"baxis\":{\"gridcolor\":\"white\",\"linecolor\":\"white\",\"ticks\":\"\"},\"caxis\":{\"gridcolor\":\"white\",\"linecolor\":\"white\",\"ticks\":\"\"}},\"coloraxis\":{\"colorbar\":{\"outlinewidth\":0,\"ticks\":\"\"}},\"colorscale\":{\"sequential\":[[0.0,\"#0d0887\"],[0.1111111111111111,\"#46039f\"],[0.2222222222222222,\"#7201a8\"],[0.3333333333333333,\"#9c179e\"],[0.4444444444444444,\"#bd3786\"],[0.5555555555555556,\"#d8576b\"],[0.6666666666666666,\"#ed7953\"],[0.7777777777777778,\"#fb9f3a\"],[0.8888888888888888,\"#fdca26\"],[1.0,\"#f0f921\"]],\"sequentialminus\":[[0.0,\"#0d0887\"],[0.1111111111111111,\"#46039f\"],[0.2222222222222222,\"#7201a8\"],[0.3333333333333333,\"#9c179e\"],[0.4444444444444444,\"#bd3786\"],[0.5555555555555556,\"#d8576b\"],[0.6666666666666666,\"#ed7953\"],[0.7777777777777778,\"#fb9f3a\"],[0.8888888888888888,\"#fdca26\"],[1.0,\"#f0f921\"]],\"diverging\":[[0,\"#8e0152\"],[0.1,\"#c51b7d\"],[0.2,\"#de77ae\"],[0.3,\"#f1b6da\"],[0.4,\"#fde0ef\"],[0.5,\"#f7f7f7\"],[0.6,\"#e6f5d0\"],[0.7,\"#b8e186\"],[0.8,\"#7fbc41\"],[0.9,\"#4d9221\"],[1,\"#276419\"]]},\"xaxis\":{\"gridcolor\":\"white\",\"linecolor\":\"white\",\"ticks\":\"\",\"title\":{\"standoff\":15},\"zerolinecolor\":\"white\",\"automargin\":true,\"zerolinewidth\":2},\"yaxis\":{\"gridcolor\":\"white\",\"linecolor\":\"white\",\"ticks\":\"\",\"title\":{\"standoff\":15},\"zerolinecolor\":\"white\",\"automargin\":true,\"zerolinewidth\":2},\"scene\":{\"xaxis\":{\"backgroundcolor\":\"#E5ECF6\",\"gridcolor\":\"white\",\"linecolor\":\"white\",\"showbackground\":true,\"ticks\":\"\",\"zerolinecolor\":\"white\",\"gridwidth\":2},\"yaxis\":{\"backgroundcolor\":\"#E5ECF6\",\"gridcolor\":\"white\",\"linecolor\":\"white\",\"showbackground\":true,\"ticks\":\"\",\"zerolinecolor\":\"white\",\"gridwidth\":2},\"zaxis\":{\"backgroundcolor\":\"#E5ECF6\",\"gridcolor\":\"white\",\"linecolor\":\"white\",\"showbackground\":true,\"ticks\":\"\",\"zerolinecolor\":\"white\",\"gridwidth\":2}},\"shapedefaults\":{\"line\":{\"color\":\"#2a3f5f\"}},\"annotationdefaults\":{\"arrowcolor\":\"#2a3f5f\",\"arrowhead\":0,\"arrowwidth\":1},\"geo\":{\"bgcolor\":\"white\",\"landcolor\":\"#E5ECF6\",\"subunitcolor\":\"white\",\"showland\":true,\"showlakes\":true,\"lakecolor\":\"white\"},\"title\":{\"x\":0.05},\"mapbox\":{\"style\":\"light\"}}},\"xaxis\":{\"anchor\":\"y\",\"domain\":[0.0,1.0],\"title\":{\"text\":\"Neuron\"}},\"yaxis\":{\"anchor\":\"x\",\"domain\":[0.0,1.0],\"autorange\":\"reversed\",\"title\":{\"text\":\"Input Vocab\"}},\"coloraxis\":{\"colorscale\":[[0.0,\"rgb(103,0,31)\"],[0.1,\"rgb(178,24,43)\"],[0.2,\"rgb(214,96,77)\"],[0.3,\"rgb(244,165,130)\"],[0.4,\"rgb(253,219,199)\"],[0.5,\"rgb(247,247,247)\"],[0.6,\"rgb(209,229,240)\"],[0.7,\"rgb(146,197,222)\"],[0.8,\"rgb(67,147,195)\"],[0.9,\"rgb(33,102,172)\"],[1.0,\"rgb(5,48,97)\"]],\"cmid\":0.0},\"title\":{\"text\":\"Full OV Circuit for Attn Layer 0\"}},                        {\"responsive\": true}                    ).then(function(){\n",
       "                            \n",
       "var gd = document.getElementById('18f3f849-ebee-4ca1-aff4-6deaa0bc4945');\n",
       "var x = new MutationObserver(function (mutations, observer) {{\n",
       "        var display = window.getComputedStyle(gd).display;\n",
       "        if (!display || display === 'none') {{\n",
       "            console.log([gd, 'removed!']);\n",
       "            Plotly.purge(gd);\n",
       "            observer.disconnect();\n",
       "        }}\n",
       "}});\n",
       "\n",
       "// Listen for the removal of the full notebook cells\n",
       "var notebookContainer = gd.closest('#notebook-container');\n",
       "if (notebookContainer) {{\n",
       "    x.observe(notebookContainer, {childList: true});\n",
       "}}\n",
       "\n",
       "// Listen for the clearing of the current output cell\n",
       "var outputEl = gd.closest('.output');\n",
       "if (outputEl) {{\n",
       "    x.observe(outputEl, {childList: true});\n",
       "}}\n",
       "\n",
       "                        })                };                });            </script>        </div>"
      ]
     },
     "metadata": {},
     "output_type": "display_data"
    }
   ],
   "source": [
    "OV = analysis_model.W_E @ analysis_model.W_V[0, 0] @ analysis_model.W_O[0, 0] @ analysis_model.W_in[0]\n",
    "imshow(OV, yaxis=\"Input Vocab\", xaxis=\"Neuron\", title=\"OV Circuit Impact on MLP\",aspect=\"auto\")"
   ]
  },
  {
   "cell_type": "markdown",
   "metadata": {},
   "source": [
    "The above visualizations are somewhat difficult to interpret, but we can see that most neurons don't seem to activate very strongly for most inputs. Neurons with strong activations seem scattered through the vocabulary, suggesting that perhaps activations resulting from specific vocabulary terms mostly come from a few specific neurons."
   ]
  },
  {
   "cell_type": "code",
   "execution_count": 34,
   "metadata": {},
   "outputs": [
    {
     "data": {
      "text/plain": [
       "(tensor([1, 5, 3, 6, 0, 9, 6, 4, 2, 3, 7, 5, 2, 0, 6, 8, 8, 1, 1, 4, 0, 6, 1, 3,\n",
       "         9, 3, 2, 6, 2, 2, 5, 3, 7, 3, 2, 5, 0, 8, 2, 6, 8, 1, 0, 6, 3, 7, 4, 6,\n",
       "         2, 2, 0, 5, 7, 6, 8, 2, 2, 3, 8, 9, 4, 0, 4, 6, 7, 5, 5, 5, 2, 3, 9, 2,\n",
       "         4, 9, 4, 6, 5, 8, 9, 1, 0, 7, 6, 4, 0, 1, 0, 9, 3, 6, 2, 0, 6, 1, 8, 2,\n",
       "         9, 2, 7, 1, 9, 0, 0, 3, 7, 3, 3, 3, 9, 7, 1, 2, 4, 7, 1, 9, 8, 2, 6, 7,\n",
       "         8, 7, 1, 8, 8, 4, 0, 4]),\n",
       " tensor([1, 1, 1, 1, 0, 0, 6, 6, 6, 3, 3, 3, 2, 0, 6, 6, 6, 6, 1, 1, 0, 6, 1, 1,\n",
       "         1, 1, 1, 6, 6, 2, 2, 2, 2, 3, 2, 2, 2, 2, 2, 2, 2, 2, 2, 2, 2, 2, 2, 6,\n",
       "         2, 2, 2, 2, 2, 2, 2, 2, 2, 2, 2, 2, 2, 2, 2, 2, 2, 2, 2, 2, 2, 2, 2, 2,\n",
       "         2, 2, 2, 2, 2, 2, 2, 2, 2, 2, 2, 2, 2, 2, 2, 2, 2, 2, 2, 2, 2, 2, 2, 2,\n",
       "         2, 2, 2, 2, 2, 2, 2, 2, 2, 2, 2, 2, 2, 2, 2, 2, 2, 2, 2, 2, 2, 2, 2, 2,\n",
       "         2, 2, 2, 2, 2, 2, 2, 2]))"
      ]
     },
     "execution_count": 34,
     "metadata": {},
     "output_type": "execute_result"
    }
   ],
   "source": [
    "# Let's print this for reference when we examine the MLP neurons\n",
    "test_x, test_y"
   ]
  },
  {
   "cell_type": "markdown",
   "metadata": {},
   "source": [
    "### MLP Analysis"
   ]
  },
  {
   "cell_type": "markdown",
   "metadata": {},
   "source": [
    "Let's visualize the MLP activations for our `test_x` by sequence."
   ]
  },
  {
   "cell_type": "code",
   "execution_count": 79,
   "metadata": {},
   "outputs": [
    {
     "data": {
      "text/html": [
       "<div>                            <div id=\"395bacce-184f-449b-bd24-540ce73800bb\" class=\"plotly-graph-div\" style=\"height:525px; width:100%;\"></div>            <script type=\"text/javascript\">                require([\"plotly\"], function(Plotly) {                    window.PLOTLYENV=window.PLOTLYENV || {};                                    if (document.getElementById(\"395bacce-184f-449b-bd24-540ce73800bb\")) {                    Plotly.newPlot(                        \"395bacce-184f-449b-bd24-540ce73800bb\",                        [{\"coloraxis\":\"coloraxis\",\"name\":\"0\",\"z\":[[-0.19830464,-0.19830011,-0.19826686,1.717531,-0.19796275,-0.19834787,-0.19833322,-0.19818577,6.5572314,-0.19802232,0.5597083,-0.14304449,-0.19833183,-0.19733396,-0.1983483,-0.19820616,-0.19828822,-0.19832762,-0.19815016,-0.19662623,-0.19834566,-0.19833443,-0.19671862,-0.19815488,-0.19821537,-0.18483964,-0.19834794,-0.19835009,-0.1983346,-0.19811271,-0.19794637,-0.19829974,-0.1981394,-0.19767834,-0.19513287,-0.19670299,-0.19707136,-0.19828,-0.19540097,-0.19834244,-0.19817398,-0.19817042,-0.19515827,-0.19834971,-0.19781941,-0.19820313,-0.19739926,-0.19806768],[-0.2788495,-0.28056774,-0.28033406,1.9232197,-0.2760176,-0.28046057,1.8253767,0.9584632,5.995907,-0.28046545,0.9427157,-0.12934406,-0.28051835,-0.2785395,-0.28046098,-0.11559022,-0.27759084,-0.28055137,-0.28044316,-0.27709335,-0.28050584,-0.28044018,-0.2745045,-0.27982995,-0.28055134,-0.26675308,-0.28048524,-0.28038108,-0.27941275,-0.280559,-0.27830386,-0.2782272,-0.2792955,-0.2765105,-0.26809096,-0.27260008,-0.27259606,-0.28052855,-0.26729736,-0.28030908,-0.28056368,-0.27980033,-0.27616468,-0.2798938,-0.27971417,-0.28026548,-0.2747797,-0.28049105],[-0.31961763,-0.32363313,-0.32212678,2.334239,-0.32201362,-0.31062117,0.6411239,0.47315884,5.745134,0.12445309,0.7662754,-0.21579559,-0.3228092,-0.32011867,-0.3232643,-0.18893121,-0.32215852,-0.3233076,-0.323144,-0.31630418,-0.32356966,-0.3235381,-0.31259856,-0.2727137,-0.32365084,-0.28882435,-0.32347235,-0.3234822,-0.31951967,2.111683,0.0885261,-0.31752947,-0.32328692,-0.30109605,-0.29750538,-0.31357288,-0.30246025,-0.32362065,-0.29237488,-0.3213314,-0.32295457,-0.3229199,-0.31611905,-0.32130817,-0.31992754,-0.32364008,-0.17630808,-0.32342273],[-0.31593195,-0.32412055,-0.31886286,2.1265814,-0.3205978,-0.30435523,0.38890374,0.303149,5.9915657,0.08941824,0.7564228,-0.19518596,-0.3220381,-0.32433793,-0.32259163,-0.18161881,-0.32018685,-0.27751812,-0.3173019,-0.32229298,-0.3227966,-0.32366866,-0.31821623,-0.30125898,-0.3229595,-0.31738758,-0.32432202,-0.3225188,-0.31494433,1.7108164,0.06412053,-0.31311652,-0.32434008,-0.29854202,-0.3089202,-0.31444097,-0.30782068,-0.32242936,-0.3042046,-0.3193475,-0.3237239,-0.32032296,-0.21178168,0.3856585,-0.3240402,-0.32334086,-0.1415579,-0.32369378],[-0.46749967,-0.4844019,-0.48260456,1.446752,-0.049591426,-0.4484538,0.089783944,-0.13058615,2.653364,-0.18742195,0.31165975,-0.4114619,-0.480267,-0.48976654,-0.48097295,-0.33237988,-0.4853579,-0.4706163,-0.46616703,-0.48966125,-0.4899617,-0.49010623,0.20785783,-0.4744034,-0.4810505,-0.4598474,-0.48844057,-0.48197684,-0.46625984,0.7697765,-0.12645556,-0.46581018,-0.34848866,-0.45602453,3.9412067,0.8291184,1.7917889,-0.48516697,3.384214,-0.47627887,-0.48831525,-0.4838157,-0.41935155,0.20165652,-0.4898459,-0.48489946,-0.22622542,-0.48724464],[-0.47119305,-0.48965183,-0.38983032,1.8129829,-0.0882204,-0.47078186,-0.04532511,-0.09423394,2.0250201,-0.064752184,0.65231365,-0.46650964,-0.48900804,-0.5047746,-0.4812715,-0.38927054,-0.49662027,-0.4227844,-0.47560132,-0.5052896,-0.504127,-0.504724,0.36147663,-0.49874246,-0.49267012,-0.43663004,-0.4763136,-0.4888582,-0.47348848,0.74526936,-0.15495338,-0.42597848,-0.29403707,-0.4629539,4.279583,0.6968568,1.8945515,-0.4911435,3.1330512,-0.48717016,-0.50000715,-0.4911841,-0.4559266,0.021968748,-0.50012344,-0.4916719,-0.14624818,-0.5010034],[-0.23302476,-0.24074824,-0.22934113,0.1407929,-0.06951211,-0.22881205,-0.15917191,-0.1691782,0.24666795,-0.1672943,-0.02074552,-0.22595613,-0.23998839,-0.24240148,-0.23695348,-0.21588665,-0.24299239,0.018191319,-0.22100201,-0.2440008,-0.24401271,-0.24253075,-0.12534963,-0.24395682,-0.23962677,-0.24072173,-0.23577276,-0.23691116,-0.23372768,-0.066463515,-0.19258651,-0.23671179,-0.18825658,-0.23827909,0.46992844,0.11718164,0.17499559,-0.23847416,0.3868829,-0.23853241,-0.24063534,-0.23231353,-0.11531789,6.755673,-0.24198836,-0.2404203,-0.16914682,-0.24156862],[-0.23892276,-0.24545723,-0.23583466,0.036007274,0.03237652,-0.24982764,-0.20571274,-0.22494404,0.30390382,-0.19322184,-0.18835509,-0.24393193,-0.2460942,-0.25325027,-0.24479769,-0.23101123,-0.2527828,-0.013267673,-0.24812216,-0.25227916,-0.25127405,-0.22302558,-0.11851132,-0.253149,-0.24506603,-0.2509562,-0.23734003,-0.19733521,-0.23812455,-0.057417322,-0.1910822,-0.2505054,-0.21436653,-0.21232717,0.43956438,0.041493364,0.49910715,-0.17912284,0.56047696,-0.24378523,-0.18307275,-0.23347998,-0.18487643,6.7200966,-0.24939694,-0.24742153,-0.16269904,-0.24087588],[-0.22753802,-0.2371444,-0.24545762,0.112364225,-0.14379127,-0.25181225,-0.20179148,-0.22228584,0.37516284,-0.21151088,-0.15785708,-0.24347946,-0.24001178,-0.21984728,-0.23636593,-0.24219911,-0.2459098,-0.03700717,-0.06898277,-0.22459361,-0.24162073,-0.23229699,-0.16859628,-0.24882983,-0.24074352,-0.23990175,-0.2407824,-0.22355728,-0.22877607,-0.10672635,-0.23121269,-0.2520431,-0.21774629,-0.2130805,0.3421223,-0.053255733,0.2805335,-0.20244323,0.42602137,-0.23723087,-0.20605409,-0.23991913,-0.12342821,6.7533245,0.008702175,-0.2370122,-0.018696625,-0.23669024],[-0.2895821,-0.2991856,-0.3000005,-0.13690506,-0.24862568,-0.28121144,-0.27777064,-0.27854547,-0.03176918,0.96348053,-0.26261517,-0.3016499,-0.29765013,-0.28460845,-0.29666674,-0.29871732,-0.29979074,-0.13401979,-0.20301263,-0.27615604,-0.3000752,-0.27034807,-0.27763146,-0.29218653,-0.2981419,-0.27769348,-0.28936866,-0.28469828,-0.28804538,6.172986,0.378777,-0.30668586,-0.29585856,-0.2774906,0.08231878,-0.17758606,0.11260574,-0.25274083,0.13540113,-0.2920666,-0.2623629,-0.29100516,-0.21692584,2.4109173,-0.1502842,-0.2991159,0.23588414,-0.2935752],[-0.27689213,-0.27030796,-0.27711457,-0.11676918,-0.23758817,-0.26831692,-0.27352402,-0.26927775,-0.10386118,0.78616405,-0.25818127,-0.27711225,-0.27703118,-0.27107397,-0.27579284,-0.26701638,-0.26407096,-0.1888119,-0.2152359,-0.24344334,-0.27536824,-0.23338948,-0.22978525,-0.26366124,-0.2648788,-0.2607449,-0.2736174,-0.27542332,-0.2592706,6.309257,0.6034969,-0.27492395,-0.269364,-0.22338973,-0.026472818,-0.2258647,0.011132614,-0.2608947,0.026973153,-0.26324826,-0.26154158,-0.26194513,-0.20911378,2.1543443,-0.18417238,-0.2770294,0.08810666,-0.27395263],[-0.34798682,-0.34377638,-0.34954512,-0.23203944,-0.30720115,-0.348773,1.2894167,1.2926484,-0.093599156,0.94875795,-0.31298763,-0.34925273,-0.34874243,-0.31207982,-0.34879547,-0.05545962,-0.3184128,-0.14854719,-0.3069322,-0.32668096,-0.3249086,-0.33310238,-0.30519262,-0.33560508,-0.32762295,-0.34844768,-0.34872034,-0.34909034,-0.31807646,6.0011225,0.6232654,-0.34624127,-0.34160557,-0.30171284,-0.13211714,-0.29921106,-0.1701781,-0.33876842,-0.13832794,-0.32422367,-0.34607753,-0.34305605,-0.25975633,1.855682,-0.2819768,-0.34740353,0.14940946,-0.34806785],[-0.33649373,-0.3442611,-0.34454328,-0.2985628,-0.34324333,-0.345325,0.68149346,0.35932,-0.21857618,0.6678186,-0.331487,-0.34543076,-0.3452951,-0.1993022,-0.34545982,-0.21277961,-0.23605105,-0.30310592,-0.10035439,0.12869443,-0.27499568,-0.32579422,-0.32584044,-0.31463492,-0.32108966,-0.32849097,-0.3390178,-0.34346145,-0.30932012,3.0912497,0.09823983,-0.33582568,-0.34100875,-0.19768573,-0.24155597,-0.31134218,-0.18309355,-0.3388406,-0.23475815,-0.31739035,-0.3386541,-0.34209722,-0.25932103,0.62450534,5.7666125,-0.34544232,0.24449594,-0.3424966],[-0.490539,-0.5003616,-0.50140846,-0.48250827,-0.010851817,-0.49042502,0.42575783,-0.2575241,-0.45116448,0.25190842,-0.48803627,-0.50068724,-0.5005134,-0.3528018,-0.49977544,-0.28120488,-0.48180485,-0.4514479,-0.076658525,-0.13124688,-0.4716319,-0.4833869,0.2423864,-0.47790635,-0.46577597,-0.444453,-0.49882835,-0.5013503,-0.4523194,1.3317628,0.018836735,-0.4882691,-0.23543222,-0.46937305,3.6456964,0.71090996,2.5651693,-0.5012144,3.4599411,-0.4619703,-0.5011795,-0.48957518,-0.44400567,0.26689383,2.5032132,-0.501376,-0.084083766,-0.50138485],[-0.2994198,-0.31110203,-0.3073766,-0.30241373,-0.14625368,-0.30726615,-0.11687084,-0.11532912,-0.30443332,-0.16420649,-0.30962572,-0.31139213,-0.3108417,-0.2830374,-0.31115735,-0.2489164,-0.2751817,0.005285848,0.11627507,-0.107567765,-0.31082082,-0.28712422,-0.19579957,-0.30808994,-0.29372194,-0.30931988,-0.31051916,-0.3093998,-0.2825403,0.22878294,-0.06751036,-0.3005053,-0.21492319,-0.28285536,0.9462382,0.30983,0.3242906,-0.31140858,0.8841036,-0.28960454,-0.31154805,-0.30056942,-0.20218165,6.5220356,0.7958985,-0.31051627,-0.09085881,-0.3105301],[-0.24844445,-0.25428766,-0.25163215,-0.25078675,0.018884921,-0.2266997,-0.16755128,-0.1690436,-0.2540582,-0.15001462,-0.25586754,-0.25605404,-0.2508585,-0.24087997,-0.2519901,-0.20735809,-0.25537276,-0.07511059,0.061735462,-0.1970899,-0.25390312,-0.23311715,-0.09396963,-0.23571506,-0.2518765,-0.244979,-0.25490144,-0.25470036,-0.24613632,0.039503906,-0.16974275,-0.24625823,-0.2186212,-0.24942726,0.5427958,-0.027272716,0.200082,-0.25430435,0.58713657,-0.25318575,-0.25562721,-0.24818206,-0.1764712,6.7170773,0.373216,-0.25454783,0.100570105,-0.2549632],[-0.24387135,-0.25284967,-0.24830493,-0.25523174,0.012763689,-0.089157835,-0.20096247,-0.1926208,-0.25518712,-0.17670408,-0.25495046,-0.2548663,-0.24986017,-0.2472589,-0.2513647,-0.22951134,-0.25469452,-0.034161072,0.014445819,-0.21853566,-0.25172606,-0.24157198,-0.05709106,-0.14756955,-0.23993203,-0.23712598,-0.2550088,-0.25102523,-0.24692453,0.027036635,-0.16961591,-0.24397013,-0.19002229,-0.25107032,0.3347265,0.06738606,0.18562873,-0.24917018,0.43878806,-0.22368456,-0.25223175,-0.2425775,-0.11562544,6.7521014,0.32349628,-0.25079277,0.1226456,-0.25218922],[-0.27019405,-0.28512564,-0.27705154,0.26887998,-0.15198734,-0.09474981,-0.19370955,-0.2289139,0.43489966,-0.23558088,-0.20629057,-0.069164515,-0.28179458,-0.2821895,-0.28335848,-0.2700574,-0.28883964,-0.13646771,-0.18300623,-0.17505029,-0.29171664,-0.2626055,-0.10665486,-0.23169637,-0.2411322,-0.2271579,-0.29168636,-0.28090298,-0.28829774,0.085289,-0.15371327,-0.26713026,-0.2414674,-0.2791914,0.50606745,0.19597062,0.19041422,-0.2862525,0.23378758,-0.28273526,-0.28266647,-0.289677,0.11450877,6.705621,0.24518326,-0.2812838,-0.19757758,-0.2835454],[-0.28453696,-0.29395217,-0.29280013,3.0473351,-0.20129222,-0.24743201,-0.28885916,-0.28242397,5.8069997,-0.27814972,0.46737424,0.012736101,-0.29228684,-0.28674823,-0.2922197,-0.29240602,-0.30002937,-0.27177557,-0.23846458,-0.22919337,-0.29985714,-0.28648084,-0.2338835,-0.27893668,-0.29783797,-0.15354347,-0.29994622,-0.29333335,-0.30011776,-0.1856014,-0.254549,-0.28411525,-0.29208964,-0.27538747,-0.044733606,-0.10471056,-0.20026904,-0.2954381,-0.059783228,-0.29866454,-0.29317814,-0.2990857,-0.062674485,1.3666284,-0.16090034,-0.292914,-0.18256886,-0.29790333],[-0.24338883,-0.25262478,-0.24645095,2.2338412,-0.21004675,-0.2450143,-0.25894487,-0.25272217,6.263716,-0.24886434,0.05983827,-0.11634266,-0.24914989,-0.24897066,-0.25159064,-0.25380084,-0.25839302,-0.2478298,-0.25002757,-0.22706817,-0.25892264,-0.23264693,-0.22193648,-0.24813387,-0.25888294,-0.21849276,-0.25830606,-0.2544516,-0.2585012,-0.21423799,-0.21325529,-0.24074906,-0.25410354,-0.19742247,-0.06350311,-0.20150527,-0.13224204,-0.24354047,0.013268333,-0.2563689,-0.25200483,-0.250291,-0.13361275,1.2021637,-0.13209507,-0.24926817,-0.20946021,-0.25766242],[-0.40450367,-0.41720867,-0.4212041,1.1322494,0.04751512,-0.3853822,-0.4294339,-0.4340009,3.263476,-0.4091949,0.2715852,-0.3924323,-0.41641808,-0.4092364,-0.42250898,-0.39593112,-0.43103683,-0.41976473,-0.33004618,-0.40015817,-0.4213143,-0.4321257,0.089668125,-0.42552564,-0.43402258,-0.35768646,-0.4291675,-0.4171339,-0.43359333,-0.39189413,-0.37274215,-0.401768,-0.19660091,-0.42568868,3.178382,0.7847067,1.6845455,-0.40694037,3.946069,-0.43393826,-0.4221621,-0.42121944,-0.28738645,0.7940435,-0.35431862,-0.41755918,-0.36013913,-0.43085104],[-0.2586613,-0.26939583,-0.26207006,0.37286952,-0.13368222,-0.23420615,-0.27480865,-0.27525052,0.9358457,-0.27378187,-0.069609635,-0.21540047,-0.26817912,-0.27600446,-0.2687124,-0.27506188,-0.27621427,-0.14966886,-0.22014251,-0.24141559,-0.27598038,-0.27006626,-0.17640235,-0.27539298,-0.27379438,-0.2760881,-0.2717872,-0.27478516,-0.2750948,-0.26643032,-0.26623294,-0.2553006,-0.17157379,-0.27287284,1.1034231,0.20033938,0.23291339,-0.27451462,0.6535198,-0.27413702,-0.27430865,-0.25902292,-0.060363375,6.530677,-0.25346795,-0.2681338,-0.24539569,-0.27617514],[-0.30547452,-0.31593645,-0.30988684,3.0219097,-0.14017054,-0.29554126,-0.3196231,-0.3193186,5.509035,-0.31901047,0.54318774,0.055178065,-0.3119235,-0.3135037,-0.31012866,-0.31449342,-0.31863138,-0.28033778,-0.26188833,-0.31082422,-0.3196369,-0.2906911,-0.117720455,-0.3157128,-0.31743848,-0.26789623,-0.31682736,-0.31829682,-0.3179233,-0.31305173,-0.30493164,-0.30439913,-0.30472785,-0.31402776,0.30849117,-0.05337613,-0.073313594,-0.31389052,0.08875283,-0.3189923,-0.31789586,-0.3140629,-0.17209825,2.1405365,-0.3142495,-0.31283015,-0.2868167,-0.3195927],[-0.32364413,-0.3336212,-0.33439526,3.5135775,-0.20147337,-0.3002822,-0.34080592,-0.33897734,5.099749,-0.22852057,0.3861043,-0.1938646,-0.33320805,-0.32919234,-0.33212963,-0.33723807,-0.34141502,-0.27981302,-0.27955866,-0.33259267,-0.34153455,-0.33562455,-0.31524968,-0.3294798,-0.33983445,-0.2697798,-0.33865902,-0.3412252,-0.33873397,0.061828066,-0.20919517,-0.32280603,-0.32627434,-0.3211518,0.33671314,-0.15640834,0.09402782,-0.33172864,0.17461085,-0.3408725,-0.33906263,-0.33557063,-0.062214162,2.3511233,-0.3275361,-0.33546588,-0.15850066,-0.34009472],[-0.3211689,-0.3279673,-0.34068447,3.8207374,-0.3078354,-0.2947531,-0.33919004,-0.33994105,4.825374,-0.26466224,0.907494,-0.22703293,-0.32905427,-0.33248618,-0.32730287,-0.33933976,-0.33906794,-0.22896075,-0.23670983,-0.3252054,-0.3399522,-0.33147994,-0.21381135,-0.3223673,-0.34068432,-0.28301305,-0.34065858,-0.34067962,-0.3368209,-0.06491057,-0.25629878,-0.33796087,-0.29634026,-0.32085407,0.19830017,-0.23706962,0.011544251,-0.3398115,0.22338234,-0.3405555,-0.3404751,-0.33967716,-0.17831986,2.3096123,-0.333463,-0.32858044,-0.1714662,-0.33983287],[-0.3889381,-0.40191075,-0.40813532,2.2418854,-0.32359463,-0.29110718,-0.40765682,-0.40756398,4.2470517,0.63594186,0.32532278,-0.32288107,-0.3982382,-0.40676928,-0.3979444,-0.40627012,-0.4059186,-0.31145662,-0.33109573,-0.40491992,-0.40738952,-0.40628242,-0.36218202,-0.3809546,-0.40364602,-0.27247941,-0.40712094,-0.40806633,-0.40574092,3.77648,0.09782688,-0.40370297,-0.39880726,-0.3794161,0.18238255,-0.1991685,0.08673721,-0.4049868,0.1742889,-0.40660685,-0.40801173,-0.40510625,-0.10614484,2.1716099,-0.4025913,-0.40085736,-0.14887153,-0.40699193],[-0.39357185,-0.41217434,-0.42710525,2.1337838,-0.41295627,-0.35089776,-0.42580038,-0.4273633,4.5091653,0.56122226,0.3556559,-0.354787,-0.41157642,-0.42042282,-0.41150644,-0.42807472,-0.42677566,-0.38278294,-0.14700802,-0.37874898,-0.4204151,-0.42667243,-0.2626724,-0.24780357,-0.42688826,-0.3525221,-0.42799002,-0.42412212,-0.41562966,3.5264375,0.008832881,-0.42158884,-0.39286977,-0.32984966,0.100090176,-0.28600666,-0.19297254,-0.42768112,0.2101511,-0.42489693,-0.42771256,-0.42450625,-0.054665606,2.1339288,-0.024909811,-0.40569437,0.31770587,-0.42735165],[-0.25632185,-0.2653806,-0.27179867,0.42533407,-0.24657027,-0.19787697,-0.2697552,-0.27105507,1.4670953,0.09832419,0.07682733,-0.23279381,-0.26227856,-0.27098465,-0.26102778,-0.27134135,-0.27211815,-0.159185,-0.12900726,-0.22043066,-0.27215147,-0.2684264,-0.23785806,-0.26522094,-0.271344,-0.261546,-0.2718336,-0.27141848,-0.26730385,0.9465438,-0.054803234,-0.26634762,-0.26589406,-0.2607237,-0.07785965,-0.18580052,-0.21698916,-0.27201605,-0.10991791,-0.2698413,-0.27209505,-0.25977397,0.097307846,6.5064697,-0.14725868,-0.26517418,-0.17642625,-0.27195156],[-0.29575604,-0.3092198,-0.32159278,0.97000855,-0.30573454,-0.30452523,-0.32038155,-0.3197754,1.0544789,-0.08944133,0.06608838,-0.24041146,-0.3101443,-0.2029336,-0.31167662,-0.3232902,-0.31589383,-0.22069655,0.073806085,-0.26508898,-0.29505494,-0.3205431,-0.27858016,-0.23089442,-0.32362753,-0.2631015,-0.32140505,-0.31985188,-0.31333628,1.0327649,-0.25032645,-0.3151837,-0.31307632,-0.24934615,-0.18336703,-0.2540813,-0.23311909,-0.3232254,-0.092326336,-0.32234985,-0.32306206,-0.3156323,0.019961204,6.335392,1.2139783,-0.30453348,0.15774563,-0.32163677],[-0.2800446,-0.29074016,-0.29752946,0.31876794,-0.28460574,-0.2853313,-0.29467463,-0.29539096,0.60089356,-0.10761761,-0.11101308,-0.25877622,-0.2881639,-0.16835645,-0.28883836,-0.2983687,-0.2856744,-0.22775106,-0.02364225,-0.05518163,-0.27712172,-0.2939676,-0.25830585,-0.22984236,-0.29834124,-0.21463047,-0.29804975,-0.29594415,-0.2908329,0.34377483,-0.18603496,-0.29042625,-0.2898775,-0.28118378,-0.17984794,-0.27520198,-0.2294313,-0.29813865,-0.2004155,-0.29701835,-0.29805514,-0.29245615,0.04006405,3.1926887,5.86587,-0.28618246,-0.06069408,-0.29835674],[-0.26735252,-0.27680764,-0.2838036,0.14635357,-0.24924743,-0.2637119,-0.27551842,-0.27590582,0.60574013,-0.07377242,-0.14477788,-0.25253865,-0.27280688,-0.007893854,-0.27505076,-0.27672866,-0.26785555,-0.19216558,-0.15104777,-0.00445446,-0.2706045,-0.282766,-0.2422226,-0.25270072,-0.28402334,-0.24523194,-0.28384155,-0.279391,-0.27647537,0.27817303,-0.075839594,-0.27657002,-0.2786726,-0.28020266,-0.1844885,-0.26147902,-0.25595143,-0.28286746,-0.20275544,-0.28040764,-0.28191766,-0.28030878,-0.07002611,2.878086,6.05495,-0.27590674,-0.16349185,-0.2837203],[-0.33593515,-0.34856546,-0.35301015,0.08911758,-0.34085423,-0.27685577,-0.3348393,-0.32756504,0.49058107,0.23324639,-0.25915068,-0.32192105,-0.34896913,-0.22064972,-0.34525117,-0.35388207,-0.31387535,-0.19287308,-0.04110504,0.23413336,-0.35246366,-0.3393868,-0.35206717,-0.25798213,-0.35475498,-0.2159206,-0.35088146,-0.35457662,-0.347662,3.5628142,0.028226104,-0.34729528,-0.35438037,-0.33829492,-0.28519627,-0.31940532,-0.26799044,-0.35493928,-0.29342207,-0.35139433,-0.35469726,-0.34434468,-0.089759305,2.1600015,5.129753,-0.34768012,0.115838796,-0.35391477],[-0.33628014,-0.34414124,-0.34719712,0.12169561,-0.33717528,-0.28166687,-0.34577394,-0.33495873,0.41017878,0.20529892,-0.28466308,-0.34376854,-0.34170127,-0.2878379,-0.34621596,-0.32936785,-0.2882544,-0.25158462,-0.10271483,0.15357187,-0.34699556,-0.33867276,-0.3303236,-0.26514533,-0.34792656,-0.279142,-0.34021735,-0.33931947,-0.3390786,3.5153592,0.3768898,-0.34027925,-0.3476862,-0.31611434,-0.3020426,-0.3427106,-0.28399703,-0.3465028,-0.26154748,-0.3428598,-0.34686682,-0.33814773,-0.08250477,2.2825234,5.1065617,-0.34143102,-0.0022188995,-0.34704724],[-0.261264,-0.2662441,-0.26415378,-0.09867765,-0.265112,-0.19879553,-0.26132163,-0.26322848,0.0033535927,0.8312475,-0.22386754,-0.24614233,-0.26605082,-0.21790004,-0.2654325,-0.26381537,-0.24844013,-0.18500943,-0.17406146,-0.08344347,-0.26352942,-0.258899,-0.26494405,-0.17575465,-0.26572338,-0.21974236,-0.2663294,-0.2653462,-0.26244828,6.489819,0.3229703,-0.2615052,-0.26638663,-0.25737107,-0.2409102,-0.2533331,-0.22368115,-0.26573524,-0.24515994,-0.2630918,-0.26622957,-0.2614887,-0.10981231,0.58022845,1.5264186,-0.26631823,-0.011752426,-0.26558542],[-0.27279353,-0.28069913,-0.2783392,-0.15769187,-0.28083387,-0.26819858,-0.28069034,-0.2792175,-0.05806062,0.52739185,-0.23259877,-0.27206334,-0.27916542,-0.16378011,-0.27906203,-0.27995226,-0.25243676,-0.261423,-0.14785537,-0.046942808,-0.26345438,-0.2761433,-0.27598792,-0.17331456,-0.27986664,-0.2533915,-0.28015113,-0.27677685,-0.27303228,3.9791195,0.07525832,-0.27360937,-0.28012833,-0.2603428,-0.26423335,-0.27694222,-0.25519088,-0.2792879,-0.26521674,-0.27809572,-0.2800107,-0.27965802,-0.17078286,0.34734747,5.384427,-0.27659404,0.13127711,-0.28080526],[-0.28496823,-0.290239,-0.28877398,-0.17163886,-0.28954276,-0.26028195,-0.2598736,-0.22899796,-0.103794664,0.45441672,-0.26617038,-0.285457,-0.2890808,-0.0929562,-0.2912356,-0.27687523,-0.24461053,-0.23958614,-0.18301858,-0.022953795,-0.2814779,-0.29049447,-0.2831915,-0.15360029,-0.29123154,-0.25789252,-0.2909085,-0.28576297,-0.28472358,4.316766,0.47689012,-0.28547162,-0.29051182,-0.28171742,-0.2809323,-0.2883884,-0.28635505,-0.28937906,-0.26899225,-0.28836915,-0.2883667,-0.28966933,-0.19096944,0.24156357,5.094924,-0.28917062,0.11377529,-0.29070324],[-0.31190702,-0.31731617,-0.31707478,-0.20954196,-0.29859868,-0.26451913,-0.23441434,-0.29661185,-0.14262646,0.6540698,-0.2561242,-0.32035425,-0.31821212,-0.22443593,-0.31623438,-0.26292557,-0.28379604,-0.3018411,-0.1263319,0.31423107,-0.3100341,-0.31307855,-0.278535,-0.22896089,-0.31761616,-0.2481887,-0.31966943,-0.31772238,-0.31045935,4.104392,0.6281829,-0.3106106,-0.31152138,-0.30794927,-0.0806749,-0.25084868,-0.09507862,-0.3190581,-0.14890166,-0.31293815,-0.32037097,-0.3180311,-0.2510669,0.25722265,5.190915,-0.3183012,-0.035071034,-0.3214595],[-0.30959722,-0.31971803,-0.31309298,-0.24238932,-0.3052952,-0.16664231,-0.29393405,-0.27269977,-0.20114966,0.4361255,-0.29634655,-0.3110921,-0.31408268,-0.26304662,-0.31480393,-0.2742622,-0.32147533,-0.29178348,-0.0045726323,0.024433041,-0.31024832,-0.3107068,-0.21307655,0.043749534,-0.32174742,-0.24487114,-0.3213954,-0.3129968,-0.31955147,4.0017676,0.42606303,-0.30963737,-0.3196084,-0.31583574,-0.23476376,-0.29297084,-0.2717905,-0.31513527,-0.12787835,-0.3218276,-0.319526,-0.31242353,-0.17117313,0.26446244,5.2757087,-0.3171531,0.64759374,-0.31960136],[-0.1915993,-0.19639334,-0.19497433,-0.15858419,-0.19600828,-0.18282437,-0.18894693,-0.18858053,-0.15710475,-0.020402057,-0.18750903,-0.19231628,-0.19478774,-0.07942909,-0.19536635,-0.19405355,-0.19035847,-0.19649072,-0.10525791,0.02794702,-0.182475,-0.19718805,-0.18225263,-0.1259333,-0.19723913,-0.1814453,-0.19693588,-0.19263004,-0.19542511,0.7891279,-0.09303536,-0.19138512,-0.18804167,-0.18517345,-0.15854079,-0.18465555,-0.16885208,-0.19547077,-0.13835141,-0.19712345,-0.19598037,-0.19662358,-0.15131526,-0.036752306,6.782086,-0.19445267,-0.06405892,-0.19683585],[-0.22536467,-0.23194422,-0.22905833,-0.21363313,-0.23276159,-0.16940875,-0.22326463,-0.22394976,-0.20021318,0.011015148,-0.22311717,-0.22245269,-0.23074676,-0.1949909,-0.23271568,-0.23009935,-0.21303245,-0.17413007,0.09119188,0.2016382,-0.23270379,-0.23062065,-0.22439098,-0.18062751,-0.23337202,-0.21972151,-0.23185436,-0.2283802,-0.23267558,1.0970836,-0.07307028,-0.22499454,-0.2265446,-0.22392382,-0.19004881,-0.17644356,-0.21542107,-0.2281062,-0.17879416,-0.23368923,-0.22926955,-0.23147216,-0.10041322,0.702734,6.6594906,-0.2308187,-0.08206615,-0.23284717],[-0.2336533,-0.23924018,-0.2363765,-0.2186617,-0.2174745,-0.12681997,-0.23406997,-0.22994213,-0.20493568,-0.06858656,-0.23723869,-0.23422396,-0.23744187,-0.11483881,-0.238345,-0.23339163,-0.23307458,-0.17909281,-0.04719789,0.16262539,-0.23598807,-0.23650515,-0.21341862,0.007804586,-0.22704,-0.18055506,-0.24027486,-0.23634028,-0.23978779,0.9963959,-0.028721115,-0.23280828,-0.23810315,-0.23545386,-0.19871719,-0.23323295,-0.22343159,-0.23628575,-0.18121766,-0.22512369,-0.237916,-0.23696761,-0.1517814,0.5608317,6.6810546,-0.23859064,0.30252942,-0.23837568],[-0.25010908,-0.2619076,-0.25513855,-0.13443828,-0.25206226,-0.15320826,-0.252105,-0.23493902,0.03594148,-0.07893911,-0.24020447,-0.17952481,-0.25711492,-0.10814612,-0.25884625,-0.25377563,-0.23963363,-0.20703965,-0.06846021,0.40724093,-0.2570826,-0.24547629,-0.24091372,-0.1455317,-0.24656506,-0.15188396,-0.2630959,-0.25552896,-0.26313505,1.1414831,0.0966691,-0.24848703,-0.26053226,-0.24829066,-0.22297159,-0.22577637,-0.22637652,-0.25734192,-0.2332717,-0.2587144,-0.2571511,-0.25860047,-0.048936628,0.71851534,6.622571,-0.25624025,-0.0052624536,-0.25966066],[-0.30562365,-0.317576,-0.31686476,-0.09836144,-0.23658922,-0.13557655,-0.30890244,-0.3211145,0.09442752,0.104646765,-0.23479608,-0.30538565,-0.31807387,-0.18695876,-0.31887177,-0.2901863,-0.3131383,-0.3010648,0.033051595,0.51161456,-0.3056071,-0.32246897,-0.18350308,-0.1245809,-0.3158617,-0.17489478,-0.32134283,-0.30973202,-0.3199645,1.1020721,0.2964334,-0.302876,-0.29638958,-0.3214314,0.102504864,-0.14731783,-0.06032188,-0.31236616,0.18220828,-0.3238666,-0.31633207,-0.3041338,-0.11695536,0.8818545,6.535408,-0.31624314,-0.01871113,-0.32023507],[-0.29682627,-0.30986825,-0.3044562,-0.15671106,-0.276578,-0.16926579,-0.31131458,-0.29732722,-0.09733794,-0.09903093,-0.2697631,-0.2862882,-0.3082051,-0.26160133,-0.3106069,-0.31401962,-0.31147128,-0.12643187,-0.0021713276,0.41418442,-0.3132777,-0.31235886,-0.26604068,-0.24179164,-0.30556563,-0.2936047,-0.3158245,-0.30140314,-0.3153488,0.82963973,-0.107614644,-0.29340026,-0.24908502,-0.31259817,-0.034210425,-0.15944427,-0.23149864,-0.30237648,-0.04362466,-0.3119795,-0.30468646,-0.30330613,0.06088041,4.0166655,5.291612,-0.30624172,-0.17016147,-0.3082648],[-0.36889923,-0.38060284,-0.37780634,-0.20243229,-0.3405261,-0.1305539,-0.3754435,-0.3727198,-0.12584184,0.5224483,-0.35149333,-0.35344613,-0.37798512,-0.2813926,-0.37867066,-0.36987725,-0.35836533,-0.21647753,0.25480923,0.2326548,-0.38209456,-0.381957,-0.34971085,-0.22308943,-0.30713302,-0.22314906,-0.38345024,-0.37594897,-0.3817328,3.447444,0.40655366,-0.36783534,-0.37623852,-0.36984956,-0.039275635,-0.23571485,-0.10982192,-0.37506765,-0.21332091,-0.38504404,-0.3762585,-0.37169102,-0.07485344,3.0231557,4.6995153,-0.3759489,-0.16188216,-0.3829793],[-0.36477846,-0.3701185,-0.3598964,-0.08648015,-0.3005772,-0.100754164,-0.36449346,-0.36220804,-0.1830477,0.10470389,-0.3482895,-0.36306223,-0.3678799,-0.2965302,-0.36961973,-0.3547629,-0.3289924,-0.2734124,-0.14035428,0.34161863,-0.36872095,-0.361123,-0.26943457,-0.15278362,-0.3641797,-0.2240128,-0.37050822,-0.35251233,-0.36863068,3.6651359,0.52516735,-0.3499366,-0.358454,-0.34601125,-0.1016456,-0.29289415,-0.14181194,-0.3562622,-0.12762085,-0.3664613,-0.35617962,-0.32236323,-0.18689069,3.1008885,4.5284815,-0.3627528,-0.06392204,-0.3656267],[-0.3535009,-0.36522046,-0.3447957,-0.23097515,-0.2842062,-0.14431584,-0.36574343,-0.35815176,-0.19721003,0.40493244,-0.36079144,-0.35550448,-0.36107907,-0.34515265,-0.3639647,-0.35650015,-0.3479115,-0.2614828,-0.24271326,0.18729399,-0.36498672,-0.34713796,-0.295196,-0.002436777,-0.35531837,-0.33438653,-0.36574927,-0.355912,-0.36567554,3.6464348,1.1741154,-0.33996552,-0.3565155,-0.2756221,-0.16862452,-0.32116964,-0.21408781,-0.3595264,-0.07116037,-0.3653011,-0.36344802,-0.35337898,-0.18120289,2.722117,4.633603,-0.3624366,-0.24652302,-0.36351416],[-0.27127743,-0.28132534,-0.2724906,-0.2107501,-0.26970625,-0.080467686,-0.28267175,-0.28080684,-0.20345554,0.17641073,-0.2542202,-0.2685284,-0.27976605,-0.26608655,-0.2816547,-0.2826614,-0.24236873,-0.13530512,-0.07604991,0.093887895,-0.28063363,-0.26652583,-0.26917833,-0.17242259,-0.28243133,-0.27758953,-0.28258637,-0.27906567,-0.28177142,1.5795015,0.09434786,-0.2660281,-0.26882535,-0.2560611,-0.20593753,-0.21375982,-0.2503902,-0.28055552,-0.18639363,-0.28238976,-0.28111273,-0.27704945,0.020404521,6.279229,1.8431008,-0.27838963,-0.12608273,-0.28210956],[-0.26824746,-0.27744457,-0.2691152,-0.21558015,-0.27296472,-0.21036974,-0.27791768,-0.27794605,-0.1940143,-0.048239205,-0.26431173,-0.26975363,-0.27517363,-0.14588636,-0.2763476,-0.2772954,-0.2713001,-0.24873231,0.12831375,-0.072682925,-0.24530292,-0.27482846,-0.2443271,-0.11621197,-0.27504674,-0.23085529,-0.27647284,-0.27486655,-0.2776617,0.89940757,-0.15993632,-0.26282352,-0.27184412,-0.25120148,-0.2288256,-0.25348634,-0.2423542,-0.27617773,-0.19256388,-0.27737054,-0.2762206,-0.2717925,-0.08049908,3.3304493,5.785137,-0.2726745,0.08130659,-0.27794674],[-0.20266922,-0.2066245,-0.20252556,-0.17595403,-0.20410258,-0.19553812,-0.20700645,-0.20662268,-0.18155892,-0.11723302,-0.20118414,-0.20204209,-0.20643242,-0.06206686,-0.20700242,-0.20701018,-0.18640232,-0.18445593,-0.051536966,-0.050015666,-0.18959156,-0.20285396,-0.20104843,-0.12190046,-0.2054101,-0.18929568,-0.20692486,-0.20502532,-0.20679864,0.26999494,-0.15522395,-0.19975384,-0.202455,-0.19005817,-0.17930521,-0.19561906,-0.18036938,-0.20496896,-0.17741013,-0.2064972,-0.20565572,-0.20461924,-0.10222126,1.0788186,6.72441,-0.2042981,-0.0710646,-0.2068693],[-0.22574492,-0.22796492,-0.22534786,-0.20463313,-0.19008218,-0.16559371,-0.22978806,-0.22948611,-0.20742889,-0.09615396,-0.2211013,-0.22785714,-0.22825344,-0.12787268,-0.22816698,-0.22430176,-0.21098204,-0.20543224,0.12589493,0.21811268,-0.22076108,-0.22509685,-0.16482115,-0.12916,-0.22957939,-0.17771772,-0.22967547,-0.2270379,-0.22973387,0.21935332,-0.0688922,-0.22182804,-0.21174116,-0.22742741,-0.086407386,-0.17741014,-0.09509486,-0.22859527,-0.08911634,-0.22970083,-0.22957957,-0.22215989,-0.107661724,1.0052896,6.7201753,-0.22762561,-0.12598322,-0.22982705],[-0.21668363,-0.2216591,-0.2184127,-0.20577839,-0.1787253,-0.1859396,-0.21632192,-0.2140843,-0.20566852,-0.06438309,-0.21982317,-0.21131784,-0.2194931,-0.06894181,-0.22148047,-0.21016173,-0.20978253,-0.20003968,-0.09067794,0.044283975,-0.21500692,-0.2163622,-0.16346806,-0.15102565,-0.22082987,-0.20856076,-0.22150163,-0.21624885,-0.22279212,0.21641538,0.052261643,-0.21281844,-0.20509404,-0.21418917,-0.052282866,-0.16766413,-0.15050934,-0.22118905,-0.058547094,-0.22286166,-0.2187783,-0.21832412,-0.08247597,0.9872346,6.7339916,-0.21977846,-0.15261309,-0.2218908],[-0.21033207,-0.21197231,-0.20680429,-0.18380393,-0.1746834,-0.15777832,-0.2103257,-0.2068756,-0.19709903,-0.13355835,-0.21151061,-0.21194291,-0.21121727,-0.15424468,-0.21117315,-0.2017907,-0.19102558,-0.1830834,-0.060554523,0.09517694,-0.21197136,-0.19945237,-0.19209711,-0.15790659,-0.2099437,-0.18247037,-0.21184883,-0.2082717,-0.21159178,0.19235945,-0.08384437,-0.20337483,-0.20891233,-0.1986342,-0.11072304,-0.19545206,-0.13583882,-0.20963342,-0.08958813,-0.21196285,-0.2101478,-0.20795567,-0.13284269,1.0170076,6.7356925,-0.21061984,-0.104024686,-0.21135333],[-0.2577378,-0.26111966,-0.25060925,-0.2415505,-0.2328461,-0.204815,-0.25905704,-0.2576674,-0.25346664,-0.08029115,-0.25141117,-0.25728935,-0.26047748,-0.20039508,-0.2604731,-0.25123292,-0.20587249,-0.17410703,0.09112285,0.1629683,-0.25945696,-0.24059919,-0.25165424,-0.2046132,-0.26110056,-0.24926281,-0.25835016,-0.2561689,-0.2592302,0.09407869,-0.110303454,-0.24620761,-0.24171965,-0.24499121,-0.14119932,-0.19218177,-0.2032248,-0.25641304,-0.17661986,-0.2608345,-0.25842372,-0.254772,0.012412663,3.5530024,5.745699,-0.25981885,-0.15139942,-0.26031998],[-0.25585636,-0.25914016,-0.25144944,-0.24784622,-0.22453485,-0.20117866,-0.25710413,-0.25570136,-0.2451085,-0.1814596,-0.2568379,-0.2491312,-0.2581204,-0.17473947,-0.2593291,-0.24999367,-0.2539881,-0.14397825,0.12963301,0.021349227,-0.24248232,-0.25041834,-0.22189078,-0.1629439,-0.25696754,-0.21099292,-0.25932807,-0.2536956,-0.25932682,0.06687394,-0.18205783,-0.24779418,-0.24674258,-0.25003436,-0.18324412,-0.23259139,-0.20910628,-0.2537505,-0.19724207,-0.2556294,-0.25538743,-0.2506828,-0.04720975,3.755883,5.6169004,-0.25893492,0.08048706,-0.25717568],[-0.2043066,-0.20599301,-0.19959208,-0.19920526,-0.20446822,-0.18820368,-0.20547889,-0.20479476,-0.20040627,-0.16564989,-0.20538034,-0.2017825,-0.205927,-0.10431125,-0.20620215,-0.2050077,-0.1907363,-0.19121666,0.033942495,-0.014434517,-0.19279556,-0.20508417,-0.18662587,-0.1460435,-0.20242462,-0.191802,-0.20617673,-0.20252272,-0.20616502,-0.05955528,-0.18771327,-0.19790913,-0.19780996,-0.18775687,-0.1670569,-0.18383975,-0.1561435,-0.20283854,-0.15739112,-0.2025883,-0.20340866,-0.20462786,-0.12003278,1.5476546,6.635122,-0.20444858,-0.13494697,-0.20591433],[-0.17711312,-0.17862947,-0.17578958,-0.17549135,-0.17592326,-0.17211829,-0.17832862,-0.17842555,-0.1739362,-0.15197584,-0.17799902,-0.17651968,-0.17846075,-0.077198856,-0.17821813,-0.17746457,-0.15100378,-0.16882475,-0.04251429,-0.0039584637,-0.1648028,-0.17837292,-0.1742786,-0.14039098,-0.1752032,-0.17248243,-0.17865184,-0.17592397,-0.17865025,-0.11209341,-0.16415325,-0.17361899,-0.17434551,-0.16497117,-0.15646721,-0.17070433,-0.162357,-0.17682219,-0.15842065,-0.17704663,-0.17717396,-0.17820922,-0.103754856,0.536885,6.817059,-0.1776056,-0.13932914,-0.17822072],[-0.18768091,-0.18758748,-0.18521956,-0.18435559,-0.17783898,-0.16231191,-0.18758196,-0.18667267,-0.18478188,-0.09846474,-0.18811965,-0.18676549,-0.1882851,-0.12778503,-0.1882972,-0.18715674,-0.14684835,-0.16682433,-0.025345923,0.06723118,-0.18702418,-0.18294272,-0.18820062,-0.14595321,-0.18413371,-0.1608336,-0.18814205,-0.18681505,-0.18751468,0.036281776,-0.09649628,-0.18330303,-0.1853758,-0.1862247,-0.16660005,-0.1761171,-0.1606312,-0.18703811,-0.16418274,-0.18816675,-0.18764527,-0.1803893,-0.0794072,0.4751267,6.8166738,-0.18840565,-0.117555216,-0.18829222],[-0.18823889,-0.18915541,-0.1857856,-0.1850996,-0.1828459,-0.13987176,-0.18921347,-0.1884648,-0.18679039,-0.13982853,-0.18894611,-0.18547578,-0.18796012,-0.1228677,-0.18912499,-0.18651389,-0.18710361,-0.17453052,0.035620548,0.06869013,-0.1830303,-0.1824327,-0.17565282,-0.11092814,-0.17680982,-0.15659077,-0.18919693,-0.18703166,-0.18254504,0.013514449,-0.15859155,-0.18462344,-0.18714894,-0.18748154,-0.1675229,-0.18404055,-0.1743531,-0.18777785,-0.16466402,-0.17635186,-0.1882588,-0.18583296,-0.070955046,0.46236503,6.8165255,-0.18909882,-0.058982555,-0.18899664],[-0.1897576,-0.1913499,-0.18855508,-0.18913546,-0.18801484,-0.14358589,-0.19146791,-0.1902833,-0.19099306,-0.14508715,-0.19113493,-0.18910183,-0.19109063,-0.10569142,-0.19066982,-0.19015217,-0.17182623,-0.16350248,0.032207925,0.3442321,-0.18462412,-0.18495253,-0.18538377,-0.1037102,-0.18491535,-0.17594191,-0.19140877,-0.18859114,-0.18622002,0.002255246,-0.10425354,-0.18724844,-0.1847184,-0.18797058,-0.17447013,-0.19099663,-0.16826995,-0.18985522,-0.17243329,-0.18832067,-0.19001645,-0.18826997,-0.13988517,0.41205215,6.8072505,-0.19091722,-0.16201945,-0.19120441],[-0.1774835,-0.17845388,-0.1759823,-0.1781114,-0.17257436,-0.15311393,-0.17867708,-0.17835489,-0.17802459,-0.1418901,-0.17806609,-0.17891134,-0.17869109,-0.12041307,-0.17874935,-0.17872669,-0.16410302,-0.15452127,-0.12439989,0.10617908,-0.17225567,-0.17305405,-0.1731986,-0.13584,-0.1710652,-0.15405741,-0.17785561,-0.17781246,-0.17527509,-0.0029484013,-0.12384009,-0.17489398,-0.17636406,-0.16133705,-0.1670549,-0.17489707,-0.15534768,-0.17760451,-0.16621503,-0.17458889,-0.17876858,-0.1744192,-0.123923816,0.39167053,6.8264246,-0.17865321,-0.15492532,-0.17883056],[-0.19311097,-0.19499843,-0.19289067,-0.19510381,-0.18785426,-0.13398205,-0.19559918,-0.19548121,-0.1941101,-0.10746902,-0.19557987,-0.19529611,-0.19547856,-0.13143785,-0.1956348,-0.19212377,-0.18727657,-0.18092842,0.16279286,0.081058115,-0.17856513,-0.19282559,-0.16238542,-0.12126051,-0.19086732,-0.15653896,-0.19562662,-0.19434516,-0.18960677,-0.009647545,-0.10798513,-0.19091941,-0.1783203,-0.19171809,-0.14272498,-0.15611114,-0.14072363,-0.19489627,-0.10870373,-0.19361557,-0.19506928,-0.19164202,-0.12097107,0.44249332,6.8134894,-0.1943771,-0.14040108,-0.1956313],[-0.18809006,-0.18988359,-0.18798502,-0.19051428,-0.17461848,-0.1438196,-0.1904333,-0.1909243,-0.19079047,-0.15333371,-0.18974039,-0.19078287,-0.18986975,-0.13130876,-0.19104463,-0.19089456,-0.18324086,-0.17091323,-0.13095255,0.21746859,-0.18911082,-0.16000868,-0.1763003,-0.14668714,-0.18519446,-0.16464262,-0.18799257,-0.19097003,-0.18840241,0.0027334495,-0.0840504,-0.18550916,-0.17771915,-0.15454486,-0.12951532,-0.16848573,-0.1449812,-0.19103712,-0.10579448,-0.18761678,-0.19083333,-0.17687017,-0.110958315,0.46363053,6.8134117,-0.1906458,-0.1491236,-0.19111067],[-0.2155761,-0.22025631,-0.21442229,-0.22012573,-0.20337142,-0.1698987,-0.219307,-0.22028589,-0.22021966,-0.17060365,-0.22031298,-0.2194771,-0.21889406,-0.11884839,-0.22000091,-0.21982211,-0.17812483,-0.11906457,0.06854726,0.32716656,-0.21680595,-0.20197661,-0.20626213,-0.18636356,-0.2072184,-0.21365662,-0.21981065,-0.22009642,-0.21801758,-0.037039824,-0.15372995,-0.21206264,-0.20215331,-0.2191147,-0.17065135,-0.18104312,-0.18569067,-0.21996532,-0.16333228,-0.21728687,-0.22030422,-0.20574641,-0.12845093,1.6084431,6.5991454,-0.21862644,-0.16898137,-0.2203024],[-0.21083736,-0.21152298,-0.20911446,-0.20992205,-0.17656246,-0.14628467,-0.21140935,-0.21158513,-0.21153305,-0.19460085,-0.2108985,-0.2115864,-0.21156862,-0.10789406,-0.21151647,-0.21001206,-0.14814565,-0.17359464,-0.094339795,0.22960758,-0.21070237,-0.17782797,-0.20415442,-0.15220502,-0.21124396,-0.20025414,-0.21078157,-0.21120934,-0.20984271,-0.058145393,-0.12563923,-0.20641583,-0.1992583,-0.20280823,-0.16613342,-0.19685042,-0.1651965,-0.21158122,-0.15711728,-0.20935106,-0.21154867,-0.19749112,-0.15139745,1.5043097,6.637744,-0.21061033,-0.13002992,-0.2109367],[-0.19170201,-0.19378212,-0.1900296,-0.19359304,-0.17775255,-0.17392519,-0.19279192,-0.19149326,-0.19378433,-0.15112375,-0.19345063,-0.19268486,-0.19316414,-0.044559352,-0.19343825,-0.1901459,-0.18176374,-0.16001455,-0.04433814,-0.0768873,-0.18891428,-0.18181558,-0.18312563,-0.15099187,-0.187693,-0.18887451,-0.19219093,-0.19188663,-0.19302513,-0.078522675,-0.13295247,-0.18766248,-0.18810049,-0.19235085,-0.15406914,-0.176474,-0.17043026,-0.19377957,-0.14473982,-0.19298254,-0.19337438,-0.19198026,-0.116706274,1.1086367,6.734969,-0.193253,-0.16357377,-0.19371213],[-0.20947261,-0.21207401,-0.20736593,-0.21196255,-0.19732037,-0.1767163,-0.20121175,-0.19470729,-0.21210217,-0.17282443,-0.21139063,-0.21023384,-0.2113423,0.082049325,-0.2117844,-0.18802676,-0.184612,-0.15958947,0.00063385715,0.0065467535,-0.20166005,-0.20655957,-0.16786408,-0.15415324,-0.2030457,-0.20294338,-0.21195403,-0.21028505,-0.21155746,-0.07480941,-0.12393545,-0.20356113,-0.20627823,-0.20054755,-0.15270674,-0.18852103,-0.1746042,-0.21202022,-0.17050146,-0.21092589,-0.21023743,-0.21045446,-0.12044789,1.471777,6.649338,-0.2109055,-0.18510278,-0.21202563],[-0.20725563,-0.20983581,-0.20478892,-0.21060117,-0.18733846,-0.18046804,-0.08283588,-0.08825416,-0.21057673,-0.1714727,-0.20997675,-0.20736979,-0.2092378,-0.08945559,-0.21045613,-0.17065178,-0.18040645,-0.15505081,-0.052632205,-0.069258556,-0.18824075,-0.20406222,-0.18472178,-0.15726995,-0.20649154,-0.20310007,-0.21056075,-0.20802478,-0.20993297,-0.071250975,-0.1272309,-0.20118989,-0.20131,-0.20702235,-0.17770772,-0.17924853,-0.18929079,-0.21053901,-0.1311229,-0.21063735,-0.20849125,-0.20876569,-0.14817622,1.5041732,6.6476216,-0.20963971,-0.1792183,-0.21062523],[-0.17558625,-0.17731544,-0.17410263,-0.17767856,-0.17536083,-0.17067215,-0.13978988,-0.15133114,-0.17780323,-0.16682126,-0.1778412,-0.17691936,-0.17739724,-0.060317468,-0.17789719,-0.16347344,-0.14914083,-0.16878743,-0.034675993,-0.06197995,-0.16044097,-0.16815251,-0.17437294,-0.13088755,-0.17788664,-0.17132549,-0.1777523,-0.17667407,-0.17789835,-0.12374948,-0.16567463,-0.17185162,-0.172496,-0.16979091,-0.1645302,-0.16815533,-0.15912335,-0.17769635,-0.1529572,-0.17780106,-0.17779805,-0.17759198,-0.1208879,0.46044183,6.824928,-0.1763613,-0.10102709,-0.17759502],[-0.19392404,-0.19591695,-0.19232933,-0.19591334,-0.19006729,-0.16749561,-0.13362235,-0.14241031,-0.19593139,-0.13706131,-0.19555472,-0.1934484,-0.19563875,-0.15703547,-0.19560316,-0.18135084,-0.07104726,-0.14073552,0.05072318,0.10437938,-0.190492,-0.18205826,-0.19555125,-0.14931235,-0.19301352,-0.18237585,-0.19544296,-0.19547461,-0.19591385,0.07181044,-0.09416881,-0.19014871,-0.19406208,-0.19006701,-0.17642008,-0.1863898,-0.17132722,-0.19594035,-0.17865351,-0.1956045,-0.19587915,-0.18653221,-0.12786527,0.5421048,6.8052025,-0.1958878,-0.14537682,-0.19517636],[-0.18733642,-0.1889654,-0.1876353,-0.18913823,-0.18898183,-0.15800725,-0.15037134,-0.1392913,-0.18885602,-0.11935953,-0.1892146,-0.18898724,-0.1882738,-0.12737988,-0.18876198,-0.17991705,-0.15590115,-0.15233268,-0.0014645703,0.2064908,-0.17883696,-0.17725383,-0.18492971,-0.14222474,-0.18864918,-0.176624,-0.18840855,-0.18906535,-0.18916029,0.00970064,-0.09664641,-0.18609893,-0.18138295,-0.17820397,-0.17338385,-0.18862914,-0.16190962,-0.18923078,-0.17861298,-0.18916678,-0.18923041,-0.18741933,-0.15160777,0.44713128,6.8141055,-0.18882398,-0.16252738,-0.18922602],[-0.16573855,-0.16734461,-0.16670173,-0.1675951,-0.16725948,-0.16326496,-0.14341341,-0.15792684,-0.16741942,-0.14674884,-0.16720006,-0.1673306,-0.1674622,-0.08137189,-0.1674286,-0.16511726,-0.14128113,-0.15550339,-0.040335335,0.013954835,-0.15306674,-0.16588385,-0.16471414,-0.13099341,-0.16584538,-0.16087972,-0.1670095,-0.16742845,-0.16738631,-0.079625815,-0.15519175,-0.16538696,-0.16477259,-0.15133831,-0.16249885,-0.1618564,-0.15999496,-0.16725169,-0.16232687,-0.16720086,-0.16730285,-0.16313457,-0.14726609,0.071405254,6.847855,-0.16630046,-0.11459875,-0.1675158],[-0.1687933,-0.17057939,-0.16876821,-0.17052433,-0.16191545,-0.1591081,-0.15746805,-0.14600708,-0.17019646,-0.14800808,-0.16870287,-0.17060865,-0.1700969,-0.12502006,-0.17053261,-0.16177797,-0.14474171,-0.15307486,-0.11706231,0.1407806,-0.16952717,-0.14537299,-0.16888517,-0.1509743,-0.16980153,-0.15836146,-0.16476488,-0.17059089,-0.17055482,-0.07397503,-0.099572934,-0.16765755,-0.17004353,-0.1542474,-0.16587634,-0.16764736,-0.1591388,-0.17051667,-0.16335012,-0.17061588,-0.1700273,-0.15711531,-0.14747056,0.121046744,6.8427534,-0.17026177,-0.15502562,-0.17021897],[-0.1654788,-0.16610046,-0.166304,-0.16672218,-0.16643712,-0.15945715,-0.15199572,-0.1459706,-0.16632476,-0.13983552,-0.16654426,-0.16669878,-0.16667645,-0.11773674,-0.1665412,-0.16230159,-0.14163111,-0.14288673,-0.050490912,0.07157172,-0.1594181,-0.15078929,-0.16531478,-0.13065661,-0.16672145,-0.1606658,-0.1649703,-0.16640401,-0.16668224,-0.090176456,-0.13897915,-0.16604894,-0.16094872,-0.16044495,-0.16181098,-0.1658909,-0.15185548,-0.16643953,-0.16058087,-0.16664274,-0.16596672,-0.16587916,-0.15405068,0.041793004,6.8478103,-0.16610526,-0.14617625,-0.16542217],[-0.16669677,-0.16799228,-0.16774859,-0.16816394,-0.16348438,-0.1574178,-0.16064581,-0.15145434,-0.16776659,-0.14287084,-0.16692102,-0.1686109,-0.1679919,-0.09755176,-0.1686905,-0.16014126,-0.09062383,-0.15545431,-0.122112416,0.03779231,-0.16603391,-0.13485773,-0.167974,-0.14912844,-0.16866821,-0.16009621,-0.15790336,-0.1677193,-0.16848148,-0.087157674,-0.1297813,-0.16653219,-0.16807276,-0.117845885,-0.1644932,-0.16652565,-0.15664636,-0.16607705,-0.16594219,-0.16869108,-0.16352764,-0.16525197,-0.13520683,0.06446268,6.8481774,-0.16807207,-0.14075066,-0.16665612],[-0.18301174,-0.18472761,-0.18417192,-0.18505503,-0.18223464,-0.17542692,-0.17376246,-0.16956922,-0.18401869,-0.15471402,-0.18458135,-0.18544483,-0.18445045,-0.15699896,-0.1851317,-0.17822361,-0.13265127,-0.115067214,-0.02402395,0.29796404,-0.18114527,-0.1540819,-0.18533342,-0.17302625,-0.18463378,-0.18356,-0.18464597,-0.1840177,-0.18486084,-0.10221634,-0.14525776,-0.18322583,-0.1836358,-0.18246706,-0.17954488,-0.18252765,-0.18404365,-0.1805828,-0.18119359,-0.18542004,-0.18041736,-0.17975388,-0.13797301,0.5403312,6.8028417,-0.1840882,-0.14764538,-0.18257384],[-0.18071048,-0.18227883,-0.1827239,-0.18300124,-0.17400251,-0.1727211,-0.11460135,-0.14574938,-0.18227288,-0.14766833,-0.18192929,-0.18299237,-0.18218093,-0.030445563,-0.18292241,-0.1723276,-0.14549828,-0.13239436,-0.10355221,0.11086598,-0.1661555,-0.1726431,-0.18064621,-0.15134685,-0.1820746,-0.1800017,-0.18250614,-0.18280968,-0.18258329,-0.11079197,-0.13794792,-0.1811205,-0.18012948,-0.17975803,-0.17801456,-0.18037827,-0.17924295,-0.17996845,-0.17580336,-0.18299909,-0.18282303,-0.18034928,-0.15102625,0.54047686,6.812866,-0.182107,-0.15886354,-0.18214582],[-0.19162787,-0.19375372,-0.19346556,-0.19369267,-0.17936099,-0.17932832,-0.12799461,-0.12674282,-0.19225201,-0.17083599,-0.19308582,-0.19389592,-0.19237338,-0.106073685,-0.19289632,-0.14929712,-0.17538443,-0.12341697,0.07768193,0.25405493,-0.17602947,-0.14474763,-0.19050248,-0.12052533,-0.19329941,-0.17819966,-0.18911953,-0.19349322,-0.19358653,-0.12034354,-0.16896406,-0.19191927,-0.19300443,-0.19052729,-0.19026837,-0.19246255,-0.1870388,-0.19111009,-0.1843744,-0.19282357,-0.19120587,-0.18948837,-0.12990755,0.462235,6.808206,-0.19340323,-0.04778998,-0.19256382],[-0.1895843,-0.1911612,-0.19216433,-0.19259767,-0.1908131,-0.16316354,-0.13551617,-0.12324875,-0.19078502,-0.15851727,-0.19240128,-0.19262558,-0.19099392,-0.14162602,-0.1900652,-0.17841569,-0.13719083,-0.15721287,0.08846114,0.3428448,-0.17843182,-0.14254156,-0.19102505,-0.12102449,-0.19240491,-0.18250003,-0.18252954,-0.19020587,-0.19217238,-0.12522756,-0.14677797,-0.19235468,-0.19024926,-0.17289852,-0.188957,-0.19253421,-0.18733683,-0.1863476,-0.18772832,-0.19224383,-0.18889014,-0.19093485,-0.1613179,0.4841167,6.801435,-0.19126816,-0.15452541,-0.18634742],[-0.18251584,-0.18509133,-0.18605474,-0.18613446,-0.17810626,-0.17092457,-0.13910526,-0.14809412,-0.18603076,-0.17200512,-0.18541904,-0.18343917,-0.18505639,-0.11744025,-0.18584718,-0.16211708,-0.13392188,-0.10661416,-0.09988023,0.2197282,-0.17894386,-0.095342755,-0.18417363,-0.14139006,-0.18247418,-0.176182,-0.1819503,-0.18554369,-0.18607956,-0.11482795,-0.10296098,-0.1855355,-0.18378015,-0.18042433,-0.18441944,-0.1811733,-0.18137398,-0.18395758,-0.18488191,-0.18617055,-0.18139894,-0.17316169,-0.109669775,0.40301478,6.820196,-0.18422934,-0.13349774,-0.18559816],[-0.18064985,-0.18124138,-0.18410946,-0.1841067,-0.16449377,-0.16467853,-0.11741687,-0.17133877,-0.18394822,-0.15611254,-0.1839858,-0.1840986,-0.18247257,-0.10602447,-0.18296173,-0.14560749,-0.13713793,-0.1606379,0.0419612,0.061368845,-0.15578982,-0.16393849,-0.17783137,-0.15429728,-0.18408597,-0.16670987,-0.18109377,-0.18342987,-0.18340355,-0.12667179,-0.13918658,-0.18329777,-0.17868845,-0.1838068,-0.17344484,-0.16613787,-0.1573158,-0.18336937,-0.15919718,-0.18410161,-0.1813768,-0.1736526,-0.15186039,0.40852034,6.8249373,-0.18257122,-0.109692775,-0.18081154],[-0.18041925,-0.1814347,-0.18126875,-0.1811464,-0.17110693,-0.16561335,-0.14418685,-0.14766212,-0.18099816,-0.16995718,-0.18026507,-0.18124942,-0.18051717,-0.080731,-0.1815135,-0.17162788,-0.111723505,-0.16338779,-0.12273361,0.1852683,-0.17870234,-0.15836559,-0.17817396,-0.15608527,-0.17941193,-0.17335466,-0.17131764,-0.18139647,-0.18152216,-0.12414896,-0.16649053,-0.18058315,-0.17959976,-0.17056608,-0.17097436,-0.17708647,-0.16305935,-0.18148248,-0.16252486,-0.18067265,-0.18121555,-0.15213653,-0.14534195,0.4580304,6.8185525,-0.18021506,-0.12944882,-0.18043227],[-0.22378545,-0.22675374,-0.22414787,-0.22668329,-0.21726957,-0.20174009,-0.19882149,-0.15581219,-0.22471128,-0.20212251,-0.22671428,-0.22609136,-0.22637531,-0.19541927,-0.22641459,-0.22002393,-0.15206955,-0.055964023,0.052559786,0.8948681,-0.20658734,-0.1687398,-0.22508259,-0.19960758,-0.22666289,-0.22230698,-0.22227612,-0.22608882,-0.22676954,-0.18313542,-0.18893453,-0.22396751,-0.2157905,-0.22044574,-0.20675902,-0.21448527,-0.22348112,-0.22624248,-0.217084,-0.22668914,-0.2267249,-0.19582675,-0.16155319,1.6810422,6.513133,-0.22470155,-0.20540118,-0.22533819],[-0.20653835,-0.21046393,-0.20889898,-0.21088713,-0.1942443,-0.19320722,-0.18568674,-0.16086379,-0.21059985,-0.19601503,-0.2066105,-0.21143457,-0.21146002,-0.14678696,-0.2114067,-0.19815029,-0.16494504,-0.123926245,-0.1179702,0.20304574,-0.19530873,-0.12766501,-0.20968416,-0.17124292,-0.20918617,-0.19810326,-0.19742487,-0.20453835,-0.21130839,-0.16864695,-0.17587164,-0.20775989,-0.21076688,-0.053581063,-0.20297357,-0.20352854,-0.19462124,-0.2061445,-0.20212176,-0.2108416,-0.2044752,-0.19215427,-0.122388646,1.6536225,6.601287,-0.21070485,-0.18769985,-0.20911755],[-0.22012159,-0.22264206,-0.22369017,-0.22274931,-0.15615442,-0.20166574,-0.15856814,-0.21238433,-0.22255243,-0.20155472,-0.22277874,-0.22285704,-0.22368638,-0.103585705,-0.22307725,-0.18840124,-0.058649763,-0.15899123,-0.029572433,0.35582334,-0.12217421,-0.19276646,-0.20876059,-0.19279082,-0.2232755,-0.21931447,-0.22246477,-0.21250084,-0.22359155,-0.18508781,-0.13896021,-0.22096191,-0.18516535,-0.22374797,-0.18273468,-0.18702249,-0.13575792,-0.2154532,-0.16181503,-0.22366261,-0.2118433,-0.18574192,-0.19505776,1.6141287,6.5985146,-0.22262074,-0.18343833,-0.21807306],[-0.21271475,-0.21657789,-0.21597917,-0.21674296,-0.10750097,-0.19433628,-0.1913885,-0.1619042,-0.21768722,-0.1956151,-0.21736312,-0.21596168,-0.21648602,-0.07549687,-0.21765591,-0.20900637,-0.16679403,-0.10929021,-0.017365564,0.19417189,-0.19712824,-0.06927138,-0.20200074,-0.16817194,-0.21704157,-0.1663043,-0.21648471,-0.20611887,-0.21626437,-0.17426467,-0.16460532,-0.21261966,-0.2122225,-0.19419,-0.15908688,-0.17081726,-0.1776703,-0.20851994,-0.18353662,-0.21752222,-0.20682652,-0.21422993,-0.10893361,1.3632745,6.6703863,-0.21471168,-0.15587567,-0.21754748],[-0.2362318,-0.2400542,-0.24161294,-0.2436934,-0.1591594,-0.21422061,-0.19590871,-0.23553252,-0.24387962,-0.2208091,-0.24317127,-0.24364531,-0.2424317,-0.17162748,-0.24017544,-0.175497,-0.21957266,-0.16927168,0.44549346,0.31187794,-0.20785832,-0.1778091,-0.19771472,-0.2252738,-0.2423198,-0.19854173,-0.24006914,-0.23585926,-0.24303861,-0.19627985,-0.16737948,-0.23869014,-0.21060158,-0.24303144,-0.06317016,-0.08494689,-0.08060056,-0.23789045,0.05035682,-0.23981869,-0.23862384,-0.21411349,-0.16738342,1.5582099,6.580967,-0.24247472,-0.18239847,-0.23452207],[-0.23558661,-0.24087176,-0.24219126,-0.24256684,-0.23733538,-0.21778429,-0.2024668,-0.21918318,-0.24165843,-0.23374291,-0.2431374,-0.24299692,-0.24129342,-0.09623144,-0.2378585,-0.22414322,-0.18403925,-0.13057114,0.55531704,0.48105255,-0.23075101,-0.20072097,-0.2002921,-0.20678025,-0.2423124,-0.2305193,-0.2398797,-0.2393277,-0.24147648,-0.21052572,-0.20459703,-0.24151471,-0.08043286,-0.22759418,-0.09046145,-0.21053967,0.08709939,-0.23390059,-0.080151744,-0.24044476,-0.23778194,-0.2361041,-0.20568065,1.4403665,6.5825086,-0.23902531,-0.22923583,-0.23263496],[-0.23359393,-0.23856694,-0.24013643,-0.24023063,-0.15739508,-0.19761077,-0.21153335,-0.21380185,-0.23993777,-0.16914791,-0.24022971,-0.23925208,-0.23818837,-0.018756073,-0.2382288,-0.23403534,-0.12448387,-0.15194516,0.18896607,0.08547238,-0.23123842,-0.18664367,-0.23771241,-0.20806068,-0.24044862,-0.21183826,-0.23414573,-0.2343099,-0.23869306,-0.08288544,-0.20870519,-0.23851034,-0.20934276,-0.22188802,-0.026151363,-0.13112278,-0.10890248,-0.23284505,-0.079043575,-0.23875673,-0.23491178,-0.20566627,-0.08593322,1.5551852,6.6120257,-0.23927699,-0.03057013,-0.21697238],[-0.27037802,-0.27711168,-0.2777684,-0.2784163,-0.2681884,-0.20330845,-0.2668137,-0.26002222,-0.27753493,-0.22793323,-0.2787704,-0.27896497,-0.2748932,-0.23027718,-0.2750031,-0.26238924,-0.24211359,0.01932386,0.4124661,0.6710999,-0.27363756,-0.17774472,-0.25993112,-0.26679236,-0.2779091,-0.27341297,-0.2651272,-0.2764376,-0.27587277,-0.16101104,-0.18862218,-0.27629524,-0.19609568,-0.27207825,-0.13375376,-0.13846712,-0.21813846,-0.27623558,-0.13637121,-0.27847353,-0.27316466,-0.24400426,-0.180032,4.9762163,4.4642043,-0.27478173,-0.22227749,-0.2767563],[-0.20136571,-0.20669228,-0.20808542,-0.20958413,-0.19164664,-0.20445338,-0.2016073,-0.20247026,-0.20940344,-0.19055408,-0.20961101,-0.2096369,-0.20817618,-0.08730034,-0.2071584,-0.20896861,-0.1848636,-0.18414421,0.14038655,-0.104019895,-0.14408855,-0.19895041,-0.18526585,-0.18074228,-0.20932607,-0.20552148,-0.20583169,-0.20811243,-0.20562461,-0.1631675,-0.20731346,-0.20677654,-0.19006771,-0.17706962,-0.1508885,-0.17018631,-0.17475913,-0.20914212,-0.14365512,-0.20921202,-0.20836939,-0.19594063,-0.15991558,1.6858445,6.5958796,-0.20483948,-0.072087556,-0.20551458],[-0.24695942,-0.2503824,-0.2536598,-0.25400525,-0.13540608,-0.23602176,-0.2300917,-0.24977477,-0.25348732,-0.21695341,-0.25395152,-0.25353906,-0.252349,-0.13626261,-0.25220448,-0.21596214,-0.19600078,-0.16791843,0.33622953,0.15104653,-0.21898644,-0.23302518,-0.1809795,-0.22744209,-0.2539042,-0.22671154,-0.23852968,-0.25326705,-0.25191325,-0.18233323,-0.17074694,-0.2522059,-0.17494297,-0.25317615,-0.0005258387,-0.06287335,0.15398936,-0.25210035,-0.014730535,-0.25196895,-0.24876961,-0.21443638,-0.14668983,1.9457053,6.4779544,-0.25110772,-0.19490135,-0.25372759],[-0.27174494,-0.2801318,-0.28213632,-0.2819427,-0.23822245,-0.2525073,-0.27761966,-0.26849458,-0.28039917,-0.2308741,-0.28215286,-0.28250825,-0.2791209,-0.2350508,-0.28176156,-0.27601746,-0.23492615,0.10006527,0.39110768,0.51086885,-0.2798106,-0.1732593,-0.2621249,-0.27684662,-0.28207862,-0.27466562,-0.27995396,-0.28258574,-0.27807337,-0.21568052,-0.23717655,-0.27874815,-0.21862015,-0.27445105,-0.06138055,-0.0528053,-0.19090529,-0.28246814,-0.013288999,-0.28167614,-0.28095976,-0.24007416,-0.10836684,4.076284,5.313942,-0.27947748,-0.16972248,-0.28145736],[-0.26738724,-0.2744235,-0.27725562,-0.26836917,-0.11592449,-0.2526774,-0.26924142,-0.2631975,-0.27581725,-0.26249772,-0.27746415,-0.27378622,-0.27404323,-0.16632575,-0.27543953,-0.26912022,-0.24701549,-0.02484168,-0.037759345,0.41701752,-0.27419257,-0.11176227,-0.23342238,-0.2466424,-0.2774903,-0.21876952,-0.27225077,-0.27726355,-0.27126154,-0.2037725,-0.17705488,-0.2738212,-0.25806078,-0.26228014,0.0063495766,-0.11495074,-0.061015386,-0.273837,-0.10956695,-0.27451175,-0.2731789,-0.26771492,-0.056051135,4.541164,4.9690995,-0.2742479,-0.22059935,-0.27732372],[-0.26007256,-0.26795492,-0.26995933,-0.27102664,-0.11288462,-0.24942999,-0.2700249,-0.26147044,-0.27099562,-0.25189,-0.27025393,-0.2705643,-0.26527047,-0.12513287,-0.26692963,-0.25520396,-0.2606632,-0.15200275,0.49118835,0.014255973,-0.25880706,-0.19063452,-0.17100556,-0.22022717,-0.270973,-0.23089458,-0.2661531,-0.2710248,-0.26887435,-0.23825647,-0.2335883,-0.26724118,-0.24910553,-0.26342463,-0.1418253,-0.20983997,-0.11197655,-0.2710025,-0.037340295,-0.27100024,-0.26977962,-0.22784443,-0.14292394,3.7920144,5.5585155,-0.26666334,0.11713641,-0.27097362],[-0.20488995,-0.20889226,-0.21214075,-0.21222717,-0.19277668,-0.21149714,-0.21214834,-0.21153696,-0.21275388,-0.20847026,-0.21321836,-0.21181984,-0.21032172,-0.07758109,-0.21076007,-0.21022925,-0.18798493,-0.19197927,0.052157003,-0.14136955,-0.18124431,-0.20850651,-0.1959543,-0.1931364,-0.21312405,-0.2099217,-0.21292676,-0.21204281,-0.21187091,-0.18845624,-0.21172327,-0.20971797,-0.17401466,-0.19274336,-0.10320274,-0.17303552,-0.11508134,-0.21300727,-0.10398947,-0.21294948,-0.21305178,-0.21104021,-0.05522434,1.9077711,6.532521,-0.20657752,-0.11474209,-0.21256594],[-0.21496475,-0.21637104,-0.2220836,-0.22095044,-0.21120825,-0.20612806,-0.21966326,-0.2184702,-0.22193235,-0.2077784,-0.22204763,-0.22153594,-0.21953326,-0.11581122,-0.2184571,-0.21913819,-0.18910569,-0.11210307,0.28372958,-0.015147038,-0.20925894,-0.19382584,-0.20796724,-0.18750383,-0.22208473,-0.21260256,-0.2178561,-0.22210301,-0.22142445,-0.19909349,-0.20325768,-0.22170603,-0.18066837,-0.20624182,-0.12703936,-0.21186508,-0.08676986,-0.22170904,-0.13103332,-0.2220388,-0.22127397,-0.22199251,-0.15922311,2.0868242,6.460539,-0.21807602,-0.19143319,-0.22061457],[-0.1850076,-0.1873562,-0.19088897,-0.19018222,-0.17836432,-0.19043073,-0.19037496,-0.19035475,-0.19107811,-0.18496077,-0.19094238,-0.19101243,-0.1895305,-0.05676504,-0.18921363,-0.1906367,-0.17085391,-0.16089596,0.18663874,-0.026192676,-0.14071111,-0.18106294,-0.17864047,-0.16666725,-0.19107239,-0.1725441,-0.19038962,-0.19075733,-0.1896922,-0.18040355,-0.18985327,-0.1905082,-0.17604779,-0.1751965,-0.13293712,-0.1772473,-0.15688291,-0.19107494,-0.13479656,-0.19093747,-0.19105397,-0.18428364,-0.15145347,0.79016024,6.7784243,-0.18711539,-0.10971769,-0.18913394],[-0.19525602,-0.19729981,-0.19759417,-0.19552116,-0.14449444,-0.18252853,-0.19517505,-0.19521347,-0.19756731,-0.19389431,-0.1972567,-0.19617653,-0.19728152,-0.13920945,-0.19758293,-0.19145462,-0.119425975,-0.14082024,-0.06694661,0.24498777,-0.19700477,-0.17078474,-0.19022387,-0.17811392,-0.19717082,-0.1778003,-0.19046636,-0.19751589,-0.19727878,-0.18116595,-0.18497102,-0.19747551,-0.18804179,-0.18700702,-0.14455067,-0.18062775,-0.14471921,-0.19759549,-0.11115663,-0.19702218,-0.19752148,-0.17599362,-0.15549451,0.99241334,6.744881,-0.1962081,-0.10966427,-0.19600978],[-0.20295444,-0.2047022,-0.20685911,-0.2034348,-0.108131126,-0.19231676,-0.20618051,-0.20245458,-0.20331554,-0.20525753,-0.20668803,-0.20115216,-0.20560917,-0.03774522,-0.20613362,-0.20658216,-0.16916737,-0.074101634,0.013247302,0.5869746,-0.20032807,-0.15680805,-0.1743861,-0.18317752,-0.2061913,-0.16346124,-0.20248255,-0.20685606,-0.20574373,-0.19685309,-0.1780942,-0.2063027,-0.195323,-0.20536971,-0.15146169,-0.18390642,-0.16604713,-0.20679139,-0.15221176,-0.2067008,-0.20681019,-0.20293768,-0.18133919,0.8490233,6.734246,-0.20510541,-0.18951868,-0.20649722],[-0.19439459,-0.19590248,-0.19795541,-0.1928685,-0.19776794,-0.18982121,-0.19779152,-0.19837274,-0.19796544,-0.19330756,-0.19778259,-0.19814709,-0.19762583,-0.09420065,-0.19643,-0.19734095,-0.15797517,-0.12332195,0.21694832,0.41832983,-0.19743203,-0.18524143,-0.19282071,-0.17508285,-0.19849198,-0.18693033,-0.19158287,-0.19798765,-0.19701475,-0.18780555,-0.19061388,-0.19827047,-0.17614336,-0.19038548,-0.163165,-0.19199027,-0.14868882,-0.1984838,-0.14439923,-0.1984704,-0.1984992,-0.19799589,-0.16116738,0.7539916,6.7582426,-0.19689433,-0.16545153,-0.19753174],[-0.20522246,-0.20819104,-0.20705526,-0.2089492,-0.16843157,-0.20311017,-0.2088816,-0.21021229,-0.20692006,-0.20086236,-0.20879886,-0.20985012,-0.2099881,-0.06642984,-0.208915,-0.20102477,-0.17778161,-0.16851902,0.19424762,0.23771514,-0.17543368,-0.19847742,-0.17226118,-0.19871764,-0.20993973,-0.16106278,-0.2067221,-0.20986687,-0.20997302,-0.19899075,-0.18583207,-0.21014103,-0.17905389,-0.21017864,-0.09863529,-0.11624002,-0.030512657,-0.21021211,-0.040328395,-0.2077579,-0.21009059,-0.16077487,-0.13488875,0.8351224,6.756299,-0.20834942,-0.18995881,-0.20984107],[-0.22274595,-0.22462636,-0.22654183,-0.22781071,-0.07339504,-0.21403378,-0.22779712,-0.22821753,-0.22683458,-0.21928157,-0.2271285,-0.2279096,-0.22723742,-0.13441904,-0.22622739,-0.22430553,-0.19130872,-0.19099171,0.3138402,0.14851838,-0.20892447,-0.22536136,-0.10452231,-0.21738672,-0.22788528,-0.1685108,-0.20280838,-0.22781445,-0.22723283,-0.22026515,-0.20270124,-0.22816628,-0.14764287,-0.22687626,0.08504386,-0.07268348,0.1210031,-0.22818595,0.122097805,-0.22695644,-0.22822061,-0.2135845,-0.1659674,0.8578723,6.731548,-0.22488272,-0.21431984,-0.22821149],[-0.21309257,-0.21652907,-0.21765344,-0.21516849,-0.17414193,-0.19108638,-0.21787122,-0.21646567,-0.21763024,-0.18802775,-0.21799156,-0.21726602,-0.21729763,-0.13279536,-0.2154258,-0.2168428,-0.19579872,-0.16514674,0.28903797,-0.0075620017,-0.21790628,-0.2079504,-0.20458591,-0.20907632,-0.21753718,-0.1686764,-0.20289597,-0.21769667,-0.21593328,-0.17820227,-0.19157395,-0.21798325,-0.20562373,-0.21227634,0.13260972,-0.027423475,-0.022297304,-0.21792452,0.06918778,-0.2172274,-0.21785863,-0.21376693,-0.13137838,0.91963655,6.736389,-0.21630009,-0.14454415,-0.2164303],[-0.23222286,-0.23426734,-0.23263493,-0.2249935,-0.15670486,-0.20036446,-0.23413396,-0.23364264,-0.23451336,-0.22721638,-0.23423935,-0.23406446,-0.2344657,-0.07273224,-0.23390839,-0.23376614,-0.17145103,-0.19177999,-0.027481288,0.58557755,-0.23418361,-0.1676873,-0.1697573,-0.2125127,-0.23301195,-0.19367145,-0.22496237,-0.23221408,-0.23205654,-0.18598598,-0.19643915,-0.2345107,-0.18063903,-0.23105356,0.115450986,-0.13620885,0.11924271,-0.23416597,0.1256806,-0.23385806,-0.23446023,-0.1736133,-0.20470257,0.98568606,6.691543,-0.2331832,-0.16588493,-0.23383461],[-0.22774868,-0.23046277,-0.23039784,-0.22738045,-0.17093703,-0.20737295,-0.23035082,-0.22952469,-0.23040684,-0.1367631,-0.23045862,-0.22715777,-0.23045366,-0.107613206,-0.23029631,-0.2301735,-0.18414469,-0.15846083,0.11150002,0.018388487,-0.22892518,-0.20645264,-0.21564151,-0.20938106,-0.22989954,-0.14507511,-0.22320165,-0.23027183,-0.22763595,-0.100438,-0.17475563,-0.23040743,-0.22197887,-0.21666557,0.11813337,0.07621516,0.010019549,-0.22928014,0.089204095,-0.22935283,-0.2300187,-0.2050223,-0.12953188,1.0172094,6.7217584,-0.23041661,-0.103599705,-0.22437261],[-0.2576269,-0.2608284,-0.2597373,-0.25656986,-0.21962358,-0.21950181,-0.2607225,-0.26052895,-0.26072174,-0.10891532,-0.2604008,-0.2597247,-0.25890696,0.06597032,-0.26041073,-0.25682247,-0.21044241,-0.20181908,0.66101104,0.12533808,-0.25925434,-0.23656617,-0.23566823,-0.22748224,-0.25998336,-0.1630731,-0.25553125,-0.26019928,-0.25840506,0.12577833,-0.15602283,-0.2607762,-0.23053743,-0.25692737,0.04277491,-0.04208736,0.12855582,-0.2606501,0.2058654,-0.2596916,-0.26072094,-0.24170856,-0.15667021,0.9449581,6.662438,-0.2605185,-0.088045284,-0.25886726],[-0.27074778,-0.2754065,-0.27281976,-0.2728728,-0.20042671,-0.23249051,-0.27540234,-0.2730504,-0.27523056,0.22295791,-0.2752563,-0.27414724,-0.2754033,-0.107575685,-0.2752576,-0.27249122,-0.23035283,-0.11039827,0.22182995,0.15823534,-0.26836893,-0.23560442,-0.261897,-0.2207318,-0.2746815,-0.16256012,-0.2669911,-0.27436444,-0.27224368,0.63344973,-0.016418545,-0.2751996,-0.25622362,-0.2544094,0.11440967,-0.083492614,0.12323995,-0.27524394,0.056567654,-0.27303782,-0.2753622,-0.25555068,-0.08748671,0.86805594,6.6605234,-0.2744242,-0.05096483,-0.27468294],[-0.27233085,-0.27784795,-0.2738068,-0.27998522,-0.25759697,-0.23345093,-0.2779579,-0.2777301,-0.27998844,0.079391815,-0.28002784,-0.27977645,-0.27889696,-0.076060444,-0.27883542,-0.27944264,-0.25424206,-0.16082235,0.39493328,0.46317425,-0.26342353,-0.25526553,-0.1398802,-0.21250992,-0.27912846,-0.22973412,-0.24022219,-0.27825278,-0.27358782,0.7620639,0.0028768866,-0.2782624,-0.1873387,-0.22507314,0.11528457,-0.22479744,0.082281604,-0.27816707,0.023071703,-0.27704617,-0.27937636,-0.27594605,-0.21643244,0.90591985,6.6138444,-0.2789592,-0.15073426,-0.27990463],[-0.26695436,-0.2667769,-0.2587421,-0.26590547,-0.20373034,-0.17410862,-0.26775175,-0.26782787,-0.26783317,-0.08099967,-0.26560715,-0.26673248,-0.2677256,-0.14675722,-0.26565045,-0.2665567,-0.22342603,-0.17006686,0.1481278,0.36528885,-0.2664004,-0.23381594,-0.17890462,-0.19653271,-0.26778087,-0.1753817,-0.24484773,-0.26353216,-0.26311797,0.71588063,-0.036234282,-0.2646246,-0.22530586,-0.24974544,0.09440242,-0.17444712,-0.03958093,-0.26534775,0.1819077,-0.26743296,-0.2635753,-0.22970466,-0.23191762,0.81223845,6.663231,-0.2656009,0.083472624,-0.26756543],[-0.26147917,-0.264484,-0.26132295,-0.2552229,-0.13689607,-0.21387163,-0.26364142,-0.26530403,-0.26178545,-0.1102925,-0.26494744,-0.26199037,-0.26446858,0.01729842,-0.26458687,-0.2650098,-0.23711151,-0.16792572,0.050255693,0.43154138,-0.2647766,-0.20267446,-0.19896841,-0.21578784,-0.2649733,-0.20574062,-0.20252118,-0.25961274,-0.25361833,0.6316878,0.054780714,-0.2651475,-0.19988582,-0.23976631,-0.02498782,-0.003508996,-0.07861286,-0.26191166,0.059721738,-0.2632641,-0.263996,-0.26356697,-0.18241134,0.7871543,6.6829443,-0.2649819,-0.052928694,-0.2614001],[-0.1982923,-0.20083836,-0.19993743,-0.1972362,-0.18030848,-0.19146115,-0.20043664,-0.20055719,-0.19778048,-0.023936136,-0.20127746,-0.20111857,-0.20088905,-0.119040094,-0.2012741,-0.20033272,-0.18631643,-0.18235737,0.042117894,0.051005222,-0.1854182,-0.20132682,-0.13910222,-0.14953293,-0.2010002,-0.17485158,-0.17680255,-0.19746608,-0.19422464,0.15005964,-0.15568435,-0.20136283,-0.15852065,-0.16757847,-0.06641894,-0.16327052,-0.10466645,-0.19913796,-0.050260693,-0.20089382,-0.19967334,-0.1993133,-0.16089232,0.305268,6.820032,-0.19872391,-0.03771616,-0.20125361],[-0.19981728,-0.20141807,-0.20150189,-0.19845593,-0.12468277,-0.18100893,-0.19878249,-0.20105447,-0.20090386,-0.086802736,-0.20067675,-0.20148718,-0.20105374,-0.08782828,-0.20152253,-0.20142457,-0.19331531,-0.15527591,-0.10410863,0.083563186,-0.20127484,-0.17527515,-0.15848374,-0.18238945,-0.20103493,-0.104299344,-0.18310657,-0.19954681,-0.19711743,0.1939136,-0.08245689,-0.20151854,-0.19433245,-0.14532807,-0.031048585,-0.17841153,-0.07230108,-0.20131944,-0.09039937,-0.19950067,-0.20136909,-0.19007239,-0.15428798,0.34666178,6.81739,-0.20126687,-0.15294407,-0.20132096],[-0.19896135,-0.19836034,-0.19769956,-0.19117403,-0.16582829,-0.18677108,-0.19798627,-0.19860037,-0.1984493,-0.116320655,-0.19811133,-0.1981831,-0.19873339,-0.07661366,-0.19568989,-0.1989816,-0.13606045,-0.17678541,-0.018553426,0.31129345,-0.19756785,-0.18158965,-0.17265622,-0.16942795,-0.19876546,-0.1697833,-0.19133084,-0.19720739,-0.19429259,0.14281932,-0.13225606,-0.19895802,-0.18398415,-0.18734007,-0.08248065,-0.17868881,-0.06805776,-0.19875135,-0.073879376,-0.19706099,-0.19898175,-0.17550361,-0.17250945,0.24187845,6.8154354,-0.19898067,-0.14508249,-0.19842792],[-0.22328252,-0.22277647,-0.22308116,-0.20846048,-0.13505751,-0.18674496,-0.22152446,-0.22319032,-0.20969793,-0.11120989,-0.22286537,-0.19794805,-0.22212178,0.1300037,-0.2216948,-0.221615,-0.19264874,-0.17049581,-0.12804236,0.45447037,-0.21868056,-0.1253514,-0.15158837,-0.15945013,-0.22250538,-0.05651068,-0.1773037,-0.2231078,-0.2146624,0.19214483,-0.032491654,-0.22327788,-0.21746108,-0.18499768,-0.09666728,-0.119107895,-0.13670929,-0.22254495,-0.13317494,-0.2191124,-0.22276132,-0.21164426,-0.16903253,0.25228488,6.791749,-0.22275102,-0.09416096,-0.22314073],[-0.22498956,-0.22787842,-0.22740346,-0.20941539,-0.22384448,-0.21351913,-0.22167467,-0.22704759,-0.22425857,-0.077517286,-0.21533407,-0.22770965,-0.2265913,0.024080593,-0.22759855,-0.2277591,-0.15170495,-0.16717142,0.42656383,0.7310877,-0.21795772,-0.20983309,-0.18748747,-0.16005023,-0.22349459,-0.17628674,-0.20768571,-0.22581077,-0.21855897,0.1053885,-0.04634808,-0.22548921,-0.18462683,-0.18334736,-0.12649474,-0.21299934,-0.12040689,-0.22716846,-0.08556643,-0.22224061,-0.22788844,-0.2241187,-0.1909638,0.16764782,6.7480583,-0.22752772,-0.12215907,-0.22689898],[-0.19392197,-0.19378127,-0.19297613,-0.18763392,-0.16475686,-0.18423887,-0.19181322,-0.19331174,-0.19147931,-0.11972371,-0.19129477,-0.1938226,-0.19379039,-0.11038173,-0.19413172,-0.19404921,-0.17702563,-0.15110442,0.072098814,0.2961809,-0.18422332,-0.18853298,-0.13749424,-0.119816855,-0.19324453,-0.13702457,-0.17229846,-0.1932102,-0.19070461,0.013298456,-0.15483814,-0.19253947,-0.18107943,-0.1923626,-0.12994553,-0.1660708,-0.16052791,-0.19283985,-0.10204426,-0.19412972,-0.19413313,-0.18996772,-0.16588832,0.12109734,6.8244452,-0.19412814,0.013294257,-0.19413306],[-0.1782579,-0.1797573,-0.17732772,-0.1777604,-0.17893955,-0.17668499,-0.17752947,-0.1779268,-0.17559585,-0.1456172,-0.17935923,-0.17937414,-0.17914139,0.0034149834,-0.17870574,-0.1792318,-0.14252721,-0.17337602,0.075936295,0.031498574,-0.16308074,-0.1797739,-0.15952629,-0.1565989,-0.1797102,-0.14936247,-0.15939464,-0.1775161,-0.17565185,-0.038039222,-0.1643201,-0.17885864,-0.15539671,-0.1491996,-0.14478105,-0.1570553,-0.14246275,-0.17932492,-0.113434784,-0.17935985,-0.1796812,-0.17586625,-0.14267257,0.00022972055,6.842582,-0.17870706,-0.037661217,-0.17911336],[-0.18895668,-0.18926837,-0.18913011,-0.18605664,-0.18547936,-0.17249957,-0.18567,-0.18831427,-0.18688282,-0.14094888,-0.1883136,-0.1866223,-0.18935147,-0.108546816,-0.18936859,-0.18655436,-0.15865526,-0.16230068,0.06177126,0.41074628,-0.18526672,-0.18615435,-0.17525092,-0.1774447,-0.18868104,-0.17406362,-0.17813958,-0.18851843,-0.18717138,-0.040071048,-0.17487653,-0.18882726,-0.17346528,-0.18752286,-0.14121939,-0.1437346,-0.1723876,-0.18826133,-0.1498487,-0.18924718,-0.18937837,-0.17002,-0.111792214,0.30391526,6.8106837,-0.18904807,-0.16480267,-0.1890038],[-0.19987299,-0.1962828,-0.19570956,-0.1939041,-0.16844936,-0.18149792,-0.19974464,-0.20091504,-0.19884196,-0.15162763,-0.20156434,-0.20061941,-0.19929476,0.0944944,-0.19640401,-0.20131461,-0.13016067,-0.17295147,-0.031131268,0.47476667,-0.19610728,-0.18806076,-0.18671599,-0.17507845,-0.20159137,-0.16091968,-0.19013113,-0.19959052,-0.19970565,-0.045837443,-0.16846463,-0.20038655,-0.1791645,-0.19843884,-0.14549258,-0.18842743,-0.14424537,-0.20068426,-0.1265425,-0.20157272,-0.20151071,-0.18328042,-0.14751172,0.35686776,6.797384,-0.20135888,-0.07072785,-0.20167892],[-0.19668046,-0.19272909,-0.19607048,-0.19366208,-0.1859081,-0.18337889,-0.19481735,-0.19638458,-0.19496927,-0.1510138,-0.19669783,-0.19582054,-0.1967247,-0.07203467,-0.19680165,-0.19697168,-0.1944524,-0.14272608,0.2423776,0.38947442,-0.18421455,-0.19016051,-0.1464736,-0.15597375,-0.19692948,-0.11264344,-0.17930745,-0.19573028,-0.19617274,-0.067006625,-0.18418671,-0.19608237,-0.18517609,-0.19441943,-0.14800541,-0.18303199,-0.18175831,-0.19633736,-0.14916348,-0.19683832,-0.1969204,-0.19267115,-0.13552736,0.28828233,6.8040204,-0.1932583,-0.09134234,-0.19697993],[-0.18489808,-0.18313491,-0.19135623,-0.18771583,-0.14941901,-0.1605753,-0.19267085,-0.19404994,-0.19473463,-0.1533354,-0.19548595,-0.19527113,-0.19212176,-0.06487067,-0.18886718,-0.19538744,-0.12722819,-0.1754463,0.117837146,0.35580105,-0.19567406,-0.17932637,-0.1800769,-0.17239252,-0.1956306,-0.12069852,-0.18379611,-0.19260769,-0.19536254,-0.04419402,-0.150683,-0.1951972,-0.18970323,-0.18822634,-0.14746048,-0.1853776,-0.14707121,-0.19424202,-0.1256253,-0.19562075,-0.1940264,-0.18888256,-0.16534367,0.27958617,6.813335,-0.19466154,-0.12240684,-0.19570261],[-0.19526586,-0.19219996,-0.20068736,-0.18461762,-0.15557969,-0.18439713,-0.19593304,-0.19946498,-0.1883263,-0.15563822,-0.19917376,-0.16645819,-0.1940952,-0.055893384,-0.19156991,-0.19945619,-0.17106117,-0.162649,-0.01589147,0.43454155,-0.20009434,-0.111078225,-0.17821608,-0.17335534,-0.20055187,-0.042454895,-0.18722361,-0.19760539,-0.197601,-0.037744563,-0.12854008,-0.20071073,-0.19626936,-0.17508219,-0.1490069,-0.14541991,-0.18083255,-0.19833428,-0.17121725,-0.1994766,-0.19995056,-0.1935199,-0.085777834,0.25485852,6.810588,-0.19139268,-0.14962776,-0.20054561],[-0.20227617,-0.19134541,-0.20633492,-0.19385865,-0.18708591,-0.19363849,-0.2016846,-0.20505701,-0.20169449,-0.14109826,-0.20320213,-0.19606358,-0.20466292,-0.048082095,-0.20288849,-0.20572302,-0.20408371,-0.16986392,0.30718055,0.22277628,-0.19622007,-0.19685575,-0.15719956,-0.09653027,-0.20547046,0.038218275,-0.18928082,-0.20240207,-0.2060051,-0.12506974,-0.19414888,-0.20630987,-0.19662865,-0.20431802,-0.18047386,-0.19473194,-0.18458389,-0.20314053,-0.16757603,-0.20366265,-0.20592012,-0.19444802,-0.050032478,0.15108472,6.804583,-0.19905901,0.20097864,-0.20610966],[-0.18616003,-0.1817336,-0.18904684,-0.18414178,-0.1704072,-0.16536056,-0.18553625,-0.18721583,-0.185545,-0.10604669,-0.18447149,-0.1869518,-0.1860207,-0.13692267,-0.18860836,-0.18871221,-0.18761489,-0.16638705,0.023999162,0.21138999,-0.17868364,-0.1745118,-0.15552008,-0.06654918,-0.1879891,-0.10335347,-0.18516555,-0.18663542,-0.18802966,-0.123170115,-0.17125699,-0.1891227,-0.18262628,-0.18869717,-0.16647582,-0.1788706,-0.17895034,-0.18540739,-0.16205192,-0.17669506,-0.18841022,-0.1579265,-0.11074303,0.17969449,6.828517,-0.1823442,0.08156792,-0.18909872],[-0.18970586,-0.19168863,-0.19194604,-0.1876226,-0.14339283,-0.17108257,-0.18317087,-0.18977632,-0.18475428,-0.15807818,-0.19097622,-0.19112355,-0.18764846,-0.040613063,-0.16390397,-0.19000009,-0.12287506,-0.16141461,-0.13054854,0.28462,-0.18943349,-0.18683869,-0.16811535,-0.14739914,-0.18340349,-0.09038632,-0.14011082,-0.18949988,-0.1874733,-0.10299242,-0.088915735,-0.19154404,-0.17892034,-0.06669826,-0.16341648,-0.17971957,-0.1213747,-0.18986528,-0.16487762,-0.18418378,-0.19194812,-0.18011653,-0.09481508,0.19942084,6.8276935,-0.1857967,-0.18214262,-0.19142419],[-0.21786584,-0.21617696,-0.21800163,-0.21539639,-0.19755457,-0.18599191,-0.21274282,-0.21198292,-0.21029507,-0.1181724,-0.20657727,-0.21846484,-0.19569485,0.09636178,-0.20629692,-0.2182268,-0.18342178,-0.1874921,0.18051952,0.45988214,-0.16064288,-0.20359091,-0.16707097,-0.16366018,-0.21852066,-0.09341333,-0.2157988,-0.21665855,-0.21310219,-0.10714755,-0.119542345,-0.21833992,-0.09801037,-0.21837057,-0.14617018,-0.11637933,-0.06609464,-0.21768196,-0.10125973,-0.21820445,-0.21852158,-0.15420671,-0.11424572,0.20640995,6.7976346,-0.2133465,-0.12367151,-0.21680094],[-0.19538563,-0.19392982,-0.19808254,-0.19676308,-0.03535702,-0.16470991,-0.18610519,-0.19460008,-0.19171764,-0.16856246,-0.1956178,-0.19126742,-0.19187655,-0.060478557,-0.19117971,-0.19601527,-0.15720476,-0.17761955,-0.13021046,0.3459948,-0.1982256,-0.18485075,-0.16446759,-0.18480872,-0.19041368,-0.13504142,-0.1611907,-0.1945777,-0.1951799,-0.106701106,-0.16458398,-0.19642948,-0.17455901,-0.055505432,-0.079481944,-0.17040437,-0.07260517,-0.1982123,-0.11688831,-0.19415465,-0.19733919,-0.19457063,-0.11562773,0.28222525,6.816698,-0.19439277,-0.19148217,-0.19654132]],\"type\":\"heatmap\",\"xaxis\":\"x\",\"yaxis\":\"y\",\"hovertemplate\":\"Neuron: %{x}<br>Pos: %{y}<br>color: %{z}<extra></extra>\"}],                        {\"template\":{\"data\":{\"histogram2dcontour\":[{\"type\":\"histogram2dcontour\",\"colorbar\":{\"outlinewidth\":0,\"ticks\":\"\"},\"colorscale\":[[0.0,\"#0d0887\"],[0.1111111111111111,\"#46039f\"],[0.2222222222222222,\"#7201a8\"],[0.3333333333333333,\"#9c179e\"],[0.4444444444444444,\"#bd3786\"],[0.5555555555555556,\"#d8576b\"],[0.6666666666666666,\"#ed7953\"],[0.7777777777777778,\"#fb9f3a\"],[0.8888888888888888,\"#fdca26\"],[1.0,\"#f0f921\"]]}],\"choropleth\":[{\"type\":\"choropleth\",\"colorbar\":{\"outlinewidth\":0,\"ticks\":\"\"}}],\"histogram2d\":[{\"type\":\"histogram2d\",\"colorbar\":{\"outlinewidth\":0,\"ticks\":\"\"},\"colorscale\":[[0.0,\"#0d0887\"],[0.1111111111111111,\"#46039f\"],[0.2222222222222222,\"#7201a8\"],[0.3333333333333333,\"#9c179e\"],[0.4444444444444444,\"#bd3786\"],[0.5555555555555556,\"#d8576b\"],[0.6666666666666666,\"#ed7953\"],[0.7777777777777778,\"#fb9f3a\"],[0.8888888888888888,\"#fdca26\"],[1.0,\"#f0f921\"]]}],\"heatmap\":[{\"type\":\"heatmap\",\"colorbar\":{\"outlinewidth\":0,\"ticks\":\"\"},\"colorscale\":[[0.0,\"#0d0887\"],[0.1111111111111111,\"#46039f\"],[0.2222222222222222,\"#7201a8\"],[0.3333333333333333,\"#9c179e\"],[0.4444444444444444,\"#bd3786\"],[0.5555555555555556,\"#d8576b\"],[0.6666666666666666,\"#ed7953\"],[0.7777777777777778,\"#fb9f3a\"],[0.8888888888888888,\"#fdca26\"],[1.0,\"#f0f921\"]]}],\"heatmapgl\":[{\"type\":\"heatmapgl\",\"colorbar\":{\"outlinewidth\":0,\"ticks\":\"\"},\"colorscale\":[[0.0,\"#0d0887\"],[0.1111111111111111,\"#46039f\"],[0.2222222222222222,\"#7201a8\"],[0.3333333333333333,\"#9c179e\"],[0.4444444444444444,\"#bd3786\"],[0.5555555555555556,\"#d8576b\"],[0.6666666666666666,\"#ed7953\"],[0.7777777777777778,\"#fb9f3a\"],[0.8888888888888888,\"#fdca26\"],[1.0,\"#f0f921\"]]}],\"contourcarpet\":[{\"type\":\"contourcarpet\",\"colorbar\":{\"outlinewidth\":0,\"ticks\":\"\"}}],\"contour\":[{\"type\":\"contour\",\"colorbar\":{\"outlinewidth\":0,\"ticks\":\"\"},\"colorscale\":[[0.0,\"#0d0887\"],[0.1111111111111111,\"#46039f\"],[0.2222222222222222,\"#7201a8\"],[0.3333333333333333,\"#9c179e\"],[0.4444444444444444,\"#bd3786\"],[0.5555555555555556,\"#d8576b\"],[0.6666666666666666,\"#ed7953\"],[0.7777777777777778,\"#fb9f3a\"],[0.8888888888888888,\"#fdca26\"],[1.0,\"#f0f921\"]]}],\"surface\":[{\"type\":\"surface\",\"colorbar\":{\"outlinewidth\":0,\"ticks\":\"\"},\"colorscale\":[[0.0,\"#0d0887\"],[0.1111111111111111,\"#46039f\"],[0.2222222222222222,\"#7201a8\"],[0.3333333333333333,\"#9c179e\"],[0.4444444444444444,\"#bd3786\"],[0.5555555555555556,\"#d8576b\"],[0.6666666666666666,\"#ed7953\"],[0.7777777777777778,\"#fb9f3a\"],[0.8888888888888888,\"#fdca26\"],[1.0,\"#f0f921\"]]}],\"mesh3d\":[{\"type\":\"mesh3d\",\"colorbar\":{\"outlinewidth\":0,\"ticks\":\"\"}}],\"scatter\":[{\"fillpattern\":{\"fillmode\":\"overlay\",\"size\":10,\"solidity\":0.2},\"type\":\"scatter\"}],\"parcoords\":[{\"type\":\"parcoords\",\"line\":{\"colorbar\":{\"outlinewidth\":0,\"ticks\":\"\"}}}],\"scatterpolargl\":[{\"type\":\"scatterpolargl\",\"marker\":{\"colorbar\":{\"outlinewidth\":0,\"ticks\":\"\"}}}],\"bar\":[{\"error_x\":{\"color\":\"#2a3f5f\"},\"error_y\":{\"color\":\"#2a3f5f\"},\"marker\":{\"line\":{\"color\":\"#E5ECF6\",\"width\":0.5},\"pattern\":{\"fillmode\":\"overlay\",\"size\":10,\"solidity\":0.2}},\"type\":\"bar\"}],\"scattergeo\":[{\"type\":\"scattergeo\",\"marker\":{\"colorbar\":{\"outlinewidth\":0,\"ticks\":\"\"}}}],\"scatterpolar\":[{\"type\":\"scatterpolar\",\"marker\":{\"colorbar\":{\"outlinewidth\":0,\"ticks\":\"\"}}}],\"histogram\":[{\"marker\":{\"pattern\":{\"fillmode\":\"overlay\",\"size\":10,\"solidity\":0.2}},\"type\":\"histogram\"}],\"scattergl\":[{\"type\":\"scattergl\",\"marker\":{\"colorbar\":{\"outlinewidth\":0,\"ticks\":\"\"}}}],\"scatter3d\":[{\"type\":\"scatter3d\",\"line\":{\"colorbar\":{\"outlinewidth\":0,\"ticks\":\"\"}},\"marker\":{\"colorbar\":{\"outlinewidth\":0,\"ticks\":\"\"}}}],\"scattermapbox\":[{\"type\":\"scattermapbox\",\"marker\":{\"colorbar\":{\"outlinewidth\":0,\"ticks\":\"\"}}}],\"scatterternary\":[{\"type\":\"scatterternary\",\"marker\":{\"colorbar\":{\"outlinewidth\":0,\"ticks\":\"\"}}}],\"scattercarpet\":[{\"type\":\"scattercarpet\",\"marker\":{\"colorbar\":{\"outlinewidth\":0,\"ticks\":\"\"}}}],\"carpet\":[{\"aaxis\":{\"endlinecolor\":\"#2a3f5f\",\"gridcolor\":\"white\",\"linecolor\":\"white\",\"minorgridcolor\":\"white\",\"startlinecolor\":\"#2a3f5f\"},\"baxis\":{\"endlinecolor\":\"#2a3f5f\",\"gridcolor\":\"white\",\"linecolor\":\"white\",\"minorgridcolor\":\"white\",\"startlinecolor\":\"#2a3f5f\"},\"type\":\"carpet\"}],\"table\":[{\"cells\":{\"fill\":{\"color\":\"#EBF0F8\"},\"line\":{\"color\":\"white\"}},\"header\":{\"fill\":{\"color\":\"#C8D4E3\"},\"line\":{\"color\":\"white\"}},\"type\":\"table\"}],\"barpolar\":[{\"marker\":{\"line\":{\"color\":\"#E5ECF6\",\"width\":0.5},\"pattern\":{\"fillmode\":\"overlay\",\"size\":10,\"solidity\":0.2}},\"type\":\"barpolar\"}],\"pie\":[{\"automargin\":true,\"type\":\"pie\"}]},\"layout\":{\"autotypenumbers\":\"strict\",\"colorway\":[\"#636efa\",\"#EF553B\",\"#00cc96\",\"#ab63fa\",\"#FFA15A\",\"#19d3f3\",\"#FF6692\",\"#B6E880\",\"#FF97FF\",\"#FECB52\"],\"font\":{\"color\":\"#2a3f5f\"},\"hovermode\":\"closest\",\"hoverlabel\":{\"align\":\"left\"},\"paper_bgcolor\":\"white\",\"plot_bgcolor\":\"#E5ECF6\",\"polar\":{\"bgcolor\":\"#E5ECF6\",\"angularaxis\":{\"gridcolor\":\"white\",\"linecolor\":\"white\",\"ticks\":\"\"},\"radialaxis\":{\"gridcolor\":\"white\",\"linecolor\":\"white\",\"ticks\":\"\"}},\"ternary\":{\"bgcolor\":\"#E5ECF6\",\"aaxis\":{\"gridcolor\":\"white\",\"linecolor\":\"white\",\"ticks\":\"\"},\"baxis\":{\"gridcolor\":\"white\",\"linecolor\":\"white\",\"ticks\":\"\"},\"caxis\":{\"gridcolor\":\"white\",\"linecolor\":\"white\",\"ticks\":\"\"}},\"coloraxis\":{\"colorbar\":{\"outlinewidth\":0,\"ticks\":\"\"}},\"colorscale\":{\"sequential\":[[0.0,\"#0d0887\"],[0.1111111111111111,\"#46039f\"],[0.2222222222222222,\"#7201a8\"],[0.3333333333333333,\"#9c179e\"],[0.4444444444444444,\"#bd3786\"],[0.5555555555555556,\"#d8576b\"],[0.6666666666666666,\"#ed7953\"],[0.7777777777777778,\"#fb9f3a\"],[0.8888888888888888,\"#fdca26\"],[1.0,\"#f0f921\"]],\"sequentialminus\":[[0.0,\"#0d0887\"],[0.1111111111111111,\"#46039f\"],[0.2222222222222222,\"#7201a8\"],[0.3333333333333333,\"#9c179e\"],[0.4444444444444444,\"#bd3786\"],[0.5555555555555556,\"#d8576b\"],[0.6666666666666666,\"#ed7953\"],[0.7777777777777778,\"#fb9f3a\"],[0.8888888888888888,\"#fdca26\"],[1.0,\"#f0f921\"]],\"diverging\":[[0,\"#8e0152\"],[0.1,\"#c51b7d\"],[0.2,\"#de77ae\"],[0.3,\"#f1b6da\"],[0.4,\"#fde0ef\"],[0.5,\"#f7f7f7\"],[0.6,\"#e6f5d0\"],[0.7,\"#b8e186\"],[0.8,\"#7fbc41\"],[0.9,\"#4d9221\"],[1,\"#276419\"]]},\"xaxis\":{\"gridcolor\":\"white\",\"linecolor\":\"white\",\"ticks\":\"\",\"title\":{\"standoff\":15},\"zerolinecolor\":\"white\",\"automargin\":true,\"zerolinewidth\":2},\"yaxis\":{\"gridcolor\":\"white\",\"linecolor\":\"white\",\"ticks\":\"\",\"title\":{\"standoff\":15},\"zerolinecolor\":\"white\",\"automargin\":true,\"zerolinewidth\":2},\"scene\":{\"xaxis\":{\"backgroundcolor\":\"#E5ECF6\",\"gridcolor\":\"white\",\"linecolor\":\"white\",\"showbackground\":true,\"ticks\":\"\",\"zerolinecolor\":\"white\",\"gridwidth\":2},\"yaxis\":{\"backgroundcolor\":\"#E5ECF6\",\"gridcolor\":\"white\",\"linecolor\":\"white\",\"showbackground\":true,\"ticks\":\"\",\"zerolinecolor\":\"white\",\"gridwidth\":2},\"zaxis\":{\"backgroundcolor\":\"#E5ECF6\",\"gridcolor\":\"white\",\"linecolor\":\"white\",\"showbackground\":true,\"ticks\":\"\",\"zerolinecolor\":\"white\",\"gridwidth\":2}},\"shapedefaults\":{\"line\":{\"color\":\"#2a3f5f\"}},\"annotationdefaults\":{\"arrowcolor\":\"#2a3f5f\",\"arrowhead\":0,\"arrowwidth\":1},\"geo\":{\"bgcolor\":\"white\",\"landcolor\":\"#E5ECF6\",\"subunitcolor\":\"white\",\"showland\":true,\"showlakes\":true,\"lakecolor\":\"white\"},\"title\":{\"x\":0.05},\"mapbox\":{\"style\":\"light\"}}},\"xaxis\":{\"anchor\":\"y\",\"domain\":[0.0,1.0],\"title\":{\"text\":\"Neuron\"}},\"yaxis\":{\"anchor\":\"x\",\"domain\":[0.0,1.0],\"autorange\":\"reversed\",\"title\":{\"text\":\"Pos\"}},\"coloraxis\":{\"colorscale\":[[0.0,\"rgb(103,0,31)\"],[0.1,\"rgb(178,24,43)\"],[0.2,\"rgb(214,96,77)\"],[0.3,\"rgb(244,165,130)\"],[0.4,\"rgb(253,219,199)\"],[0.5,\"rgb(247,247,247)\"],[0.6,\"rgb(209,229,240)\"],[0.7,\"rgb(146,197,222)\"],[0.8,\"rgb(67,147,195)\"],[0.9,\"rgb(33,102,172)\"],[1.0,\"rgb(5,48,97)\"]],\"cmid\":0.0},\"title\":{\"text\":\"Neuron activations for single inputs\"}},                        {\"responsive\": true}                    ).then(function(){\n",
       "                            \n",
       "var gd = document.getElementById('395bacce-184f-449b-bd24-540ce73800bb');\n",
       "var x = new MutationObserver(function (mutations, observer) {{\n",
       "        var display = window.getComputedStyle(gd).display;\n",
       "        if (!display || display === 'none') {{\n",
       "            console.log([gd, 'removed!']);\n",
       "            Plotly.purge(gd);\n",
       "            observer.disconnect();\n",
       "        }}\n",
       "}});\n",
       "\n",
       "// Listen for the removal of the full notebook cells\n",
       "var notebookContainer = gd.closest('#notebook-container');\n",
       "if (notebookContainer) {{\n",
       "    x.observe(notebookContainer, {childList: true});\n",
       "}}\n",
       "\n",
       "// Listen for the clearing of the current output cell\n",
       "var outputEl = gd.closest('.output');\n",
       "if (outputEl) {{\n",
       "    x.observe(outputEl, {childList: true});\n",
       "}}\n",
       "\n",
       "                        })                };                });            </script>        </div>"
      ]
     },
     "metadata": {},
     "output_type": "display_data"
    }
   ],
   "source": [
    "imshow(cache[\"post\", 0][0], yaxis=\"Pos\", xaxis=\"Neuron\", title=\"Neuron activations for single inputs\", aspect=\"auto\")"
   ]
  },
  {
   "cell_type": "markdown",
   "metadata": {},
   "source": [
    "Now we seem to be getting somewhere. Some observations:\n",
    "- There's a clear change at position 29, with most activations dropping off and mostly neuron 44 remaining. This is exactly the point at which--according to the above sequence--the network should register the number `2` as the majority element (a state that continues for almost the entire remaining sequence).\n",
    "- Activations become less widespread for most neurons, and neuron 44 remains almost constantly activated once `2` becomes the majority element.\n",
    "- This seems to suggest that for MLP layer 0, neuron 44 represents the number 2!\n",
    "- This is confirmed even more strongly when we go back to look at the OV circuit. Neuron 44 is only neuron that is affected positively by the attention layer when the value `2` is present.\n",
    "\n",
    "Let's graph this neuron specifically to see how it evolves with position."
   ]
  },
  {
   "cell_type": "code",
   "execution_count": 80,
   "metadata": {},
   "outputs": [
    {
     "data": {
      "text/html": [
       "<div>                            <div id=\"85a81b40-f729-44b8-b3a6-d848ebc0e4ea\" class=\"plotly-graph-div\" style=\"height:525px; width:100%;\"></div>            <script type=\"text/javascript\">                require([\"plotly\"], function(Plotly) {                    window.PLOTLYENV=window.PLOTLYENV || {};                                    if (document.getElementById(\"85a81b40-f729-44b8-b3a6-d848ebc0e4ea\")) {                    Plotly.newPlot(                        \"85a81b40-f729-44b8-b3a6-d848ebc0e4ea\",                        [{\"hovertemplate\":\"variable=0<br>index=%{x}<br>value=%{y}<extra></extra>\",\"legendgroup\":\"0\",\"line\":{\"color\":\"#636efa\",\"dash\":\"solid\"},\"marker\":{\"symbol\":\"circle\"},\"mode\":\"lines\",\"name\":\"0\",\"orientation\":\"v\",\"showlegend\":true,\"x\":[0,1,2,3,4,5,6,7,8,9,10,11,12,13,14,15,16,17,18,19,20,21,22,23,24,25,26,27,28,29,30,31,32,33,34,35,36,37,38,39,40,41,42,43,44,45,46,47,48,49,50,51,52,53,54,55,56,57,58,59,60,61,62,63,64,65,66,67,68,69,70,71,72,73,74,75,76,77,78,79,80,81,82,83,84,85,86,87,88,89,90,91,92,93,94,95,96,97,98,99,100,101,102,103,104,105,106,107,108,109,110,111,112,113,114,115,116,117,118,119,120,121,122,123,124,125,126,127],\"xaxis\":\"x\",\"y\":[-0.19781941,-0.27971417,-0.31992754,-0.3240402,-0.4898459,-0.50012344,-0.24198836,-0.24939694,0.008702175,-0.1502842,-0.18417238,-0.2819768,5.7666125,2.5032132,0.7958985,0.373216,0.32349628,0.24518326,-0.16090034,-0.13209507,-0.35431862,-0.25346795,-0.3142495,-0.3275361,-0.333463,-0.4025913,-0.024909811,-0.14725868,1.2139783,5.86587,6.05495,5.129753,5.1065617,1.5264186,5.384427,5.094924,5.190915,5.2757087,6.782086,6.6594906,6.6810546,6.622571,6.535408,5.291612,4.6995153,4.5284815,4.633603,1.8431008,5.785137,6.72441,6.7201753,6.7339916,6.7356925,5.745699,5.6169004,6.635122,6.817059,6.8166738,6.8165255,6.8072505,6.8264246,6.8134894,6.8134117,6.5991454,6.637744,6.734969,6.649338,6.6476216,6.824928,6.8052025,6.8141055,6.847855,6.8427534,6.8478103,6.8481774,6.8028417,6.812866,6.808206,6.801435,6.820196,6.8249373,6.8185525,6.513133,6.601287,6.5985146,6.6703863,6.580967,6.5825086,6.6120257,4.4642043,6.5958796,6.4779544,5.313942,4.9690995,5.5585155,6.532521,6.460539,6.7784243,6.744881,6.734246,6.7582426,6.756299,6.731548,6.736389,6.691543,6.7217584,6.662438,6.6605234,6.6138444,6.663231,6.6829443,6.820032,6.81739,6.8154354,6.791749,6.7480583,6.8244452,6.842582,6.8106837,6.797384,6.8040204,6.813335,6.810588,6.804583,6.828517,6.8276935,6.7976346,6.816698],\"yaxis\":\"y\",\"type\":\"scatter\"}],                        {\"template\":{\"data\":{\"histogram2dcontour\":[{\"type\":\"histogram2dcontour\",\"colorbar\":{\"outlinewidth\":0,\"ticks\":\"\"},\"colorscale\":[[0.0,\"#0d0887\"],[0.1111111111111111,\"#46039f\"],[0.2222222222222222,\"#7201a8\"],[0.3333333333333333,\"#9c179e\"],[0.4444444444444444,\"#bd3786\"],[0.5555555555555556,\"#d8576b\"],[0.6666666666666666,\"#ed7953\"],[0.7777777777777778,\"#fb9f3a\"],[0.8888888888888888,\"#fdca26\"],[1.0,\"#f0f921\"]]}],\"choropleth\":[{\"type\":\"choropleth\",\"colorbar\":{\"outlinewidth\":0,\"ticks\":\"\"}}],\"histogram2d\":[{\"type\":\"histogram2d\",\"colorbar\":{\"outlinewidth\":0,\"ticks\":\"\"},\"colorscale\":[[0.0,\"#0d0887\"],[0.1111111111111111,\"#46039f\"],[0.2222222222222222,\"#7201a8\"],[0.3333333333333333,\"#9c179e\"],[0.4444444444444444,\"#bd3786\"],[0.5555555555555556,\"#d8576b\"],[0.6666666666666666,\"#ed7953\"],[0.7777777777777778,\"#fb9f3a\"],[0.8888888888888888,\"#fdca26\"],[1.0,\"#f0f921\"]]}],\"heatmap\":[{\"type\":\"heatmap\",\"colorbar\":{\"outlinewidth\":0,\"ticks\":\"\"},\"colorscale\":[[0.0,\"#0d0887\"],[0.1111111111111111,\"#46039f\"],[0.2222222222222222,\"#7201a8\"],[0.3333333333333333,\"#9c179e\"],[0.4444444444444444,\"#bd3786\"],[0.5555555555555556,\"#d8576b\"],[0.6666666666666666,\"#ed7953\"],[0.7777777777777778,\"#fb9f3a\"],[0.8888888888888888,\"#fdca26\"],[1.0,\"#f0f921\"]]}],\"heatmapgl\":[{\"type\":\"heatmapgl\",\"colorbar\":{\"outlinewidth\":0,\"ticks\":\"\"},\"colorscale\":[[0.0,\"#0d0887\"],[0.1111111111111111,\"#46039f\"],[0.2222222222222222,\"#7201a8\"],[0.3333333333333333,\"#9c179e\"],[0.4444444444444444,\"#bd3786\"],[0.5555555555555556,\"#d8576b\"],[0.6666666666666666,\"#ed7953\"],[0.7777777777777778,\"#fb9f3a\"],[0.8888888888888888,\"#fdca26\"],[1.0,\"#f0f921\"]]}],\"contourcarpet\":[{\"type\":\"contourcarpet\",\"colorbar\":{\"outlinewidth\":0,\"ticks\":\"\"}}],\"contour\":[{\"type\":\"contour\",\"colorbar\":{\"outlinewidth\":0,\"ticks\":\"\"},\"colorscale\":[[0.0,\"#0d0887\"],[0.1111111111111111,\"#46039f\"],[0.2222222222222222,\"#7201a8\"],[0.3333333333333333,\"#9c179e\"],[0.4444444444444444,\"#bd3786\"],[0.5555555555555556,\"#d8576b\"],[0.6666666666666666,\"#ed7953\"],[0.7777777777777778,\"#fb9f3a\"],[0.8888888888888888,\"#fdca26\"],[1.0,\"#f0f921\"]]}],\"surface\":[{\"type\":\"surface\",\"colorbar\":{\"outlinewidth\":0,\"ticks\":\"\"},\"colorscale\":[[0.0,\"#0d0887\"],[0.1111111111111111,\"#46039f\"],[0.2222222222222222,\"#7201a8\"],[0.3333333333333333,\"#9c179e\"],[0.4444444444444444,\"#bd3786\"],[0.5555555555555556,\"#d8576b\"],[0.6666666666666666,\"#ed7953\"],[0.7777777777777778,\"#fb9f3a\"],[0.8888888888888888,\"#fdca26\"],[1.0,\"#f0f921\"]]}],\"mesh3d\":[{\"type\":\"mesh3d\",\"colorbar\":{\"outlinewidth\":0,\"ticks\":\"\"}}],\"scatter\":[{\"fillpattern\":{\"fillmode\":\"overlay\",\"size\":10,\"solidity\":0.2},\"type\":\"scatter\"}],\"parcoords\":[{\"type\":\"parcoords\",\"line\":{\"colorbar\":{\"outlinewidth\":0,\"ticks\":\"\"}}}],\"scatterpolargl\":[{\"type\":\"scatterpolargl\",\"marker\":{\"colorbar\":{\"outlinewidth\":0,\"ticks\":\"\"}}}],\"bar\":[{\"error_x\":{\"color\":\"#2a3f5f\"},\"error_y\":{\"color\":\"#2a3f5f\"},\"marker\":{\"line\":{\"color\":\"#E5ECF6\",\"width\":0.5},\"pattern\":{\"fillmode\":\"overlay\",\"size\":10,\"solidity\":0.2}},\"type\":\"bar\"}],\"scattergeo\":[{\"type\":\"scattergeo\",\"marker\":{\"colorbar\":{\"outlinewidth\":0,\"ticks\":\"\"}}}],\"scatterpolar\":[{\"type\":\"scatterpolar\",\"marker\":{\"colorbar\":{\"outlinewidth\":0,\"ticks\":\"\"}}}],\"histogram\":[{\"marker\":{\"pattern\":{\"fillmode\":\"overlay\",\"size\":10,\"solidity\":0.2}},\"type\":\"histogram\"}],\"scattergl\":[{\"type\":\"scattergl\",\"marker\":{\"colorbar\":{\"outlinewidth\":0,\"ticks\":\"\"}}}],\"scatter3d\":[{\"type\":\"scatter3d\",\"line\":{\"colorbar\":{\"outlinewidth\":0,\"ticks\":\"\"}},\"marker\":{\"colorbar\":{\"outlinewidth\":0,\"ticks\":\"\"}}}],\"scattermapbox\":[{\"type\":\"scattermapbox\",\"marker\":{\"colorbar\":{\"outlinewidth\":0,\"ticks\":\"\"}}}],\"scatterternary\":[{\"type\":\"scatterternary\",\"marker\":{\"colorbar\":{\"outlinewidth\":0,\"ticks\":\"\"}}}],\"scattercarpet\":[{\"type\":\"scattercarpet\",\"marker\":{\"colorbar\":{\"outlinewidth\":0,\"ticks\":\"\"}}}],\"carpet\":[{\"aaxis\":{\"endlinecolor\":\"#2a3f5f\",\"gridcolor\":\"white\",\"linecolor\":\"white\",\"minorgridcolor\":\"white\",\"startlinecolor\":\"#2a3f5f\"},\"baxis\":{\"endlinecolor\":\"#2a3f5f\",\"gridcolor\":\"white\",\"linecolor\":\"white\",\"minorgridcolor\":\"white\",\"startlinecolor\":\"#2a3f5f\"},\"type\":\"carpet\"}],\"table\":[{\"cells\":{\"fill\":{\"color\":\"#EBF0F8\"},\"line\":{\"color\":\"white\"}},\"header\":{\"fill\":{\"color\":\"#C8D4E3\"},\"line\":{\"color\":\"white\"}},\"type\":\"table\"}],\"barpolar\":[{\"marker\":{\"line\":{\"color\":\"#E5ECF6\",\"width\":0.5},\"pattern\":{\"fillmode\":\"overlay\",\"size\":10,\"solidity\":0.2}},\"type\":\"barpolar\"}],\"pie\":[{\"automargin\":true,\"type\":\"pie\"}]},\"layout\":{\"autotypenumbers\":\"strict\",\"colorway\":[\"#636efa\",\"#EF553B\",\"#00cc96\",\"#ab63fa\",\"#FFA15A\",\"#19d3f3\",\"#FF6692\",\"#B6E880\",\"#FF97FF\",\"#FECB52\"],\"font\":{\"color\":\"#2a3f5f\"},\"hovermode\":\"closest\",\"hoverlabel\":{\"align\":\"left\"},\"paper_bgcolor\":\"white\",\"plot_bgcolor\":\"#E5ECF6\",\"polar\":{\"bgcolor\":\"#E5ECF6\",\"angularaxis\":{\"gridcolor\":\"white\",\"linecolor\":\"white\",\"ticks\":\"\"},\"radialaxis\":{\"gridcolor\":\"white\",\"linecolor\":\"white\",\"ticks\":\"\"}},\"ternary\":{\"bgcolor\":\"#E5ECF6\",\"aaxis\":{\"gridcolor\":\"white\",\"linecolor\":\"white\",\"ticks\":\"\"},\"baxis\":{\"gridcolor\":\"white\",\"linecolor\":\"white\",\"ticks\":\"\"},\"caxis\":{\"gridcolor\":\"white\",\"linecolor\":\"white\",\"ticks\":\"\"}},\"coloraxis\":{\"colorbar\":{\"outlinewidth\":0,\"ticks\":\"\"}},\"colorscale\":{\"sequential\":[[0.0,\"#0d0887\"],[0.1111111111111111,\"#46039f\"],[0.2222222222222222,\"#7201a8\"],[0.3333333333333333,\"#9c179e\"],[0.4444444444444444,\"#bd3786\"],[0.5555555555555556,\"#d8576b\"],[0.6666666666666666,\"#ed7953\"],[0.7777777777777778,\"#fb9f3a\"],[0.8888888888888888,\"#fdca26\"],[1.0,\"#f0f921\"]],\"sequentialminus\":[[0.0,\"#0d0887\"],[0.1111111111111111,\"#46039f\"],[0.2222222222222222,\"#7201a8\"],[0.3333333333333333,\"#9c179e\"],[0.4444444444444444,\"#bd3786\"],[0.5555555555555556,\"#d8576b\"],[0.6666666666666666,\"#ed7953\"],[0.7777777777777778,\"#fb9f3a\"],[0.8888888888888888,\"#fdca26\"],[1.0,\"#f0f921\"]],\"diverging\":[[0,\"#8e0152\"],[0.1,\"#c51b7d\"],[0.2,\"#de77ae\"],[0.3,\"#f1b6da\"],[0.4,\"#fde0ef\"],[0.5,\"#f7f7f7\"],[0.6,\"#e6f5d0\"],[0.7,\"#b8e186\"],[0.8,\"#7fbc41\"],[0.9,\"#4d9221\"],[1,\"#276419\"]]},\"xaxis\":{\"gridcolor\":\"white\",\"linecolor\":\"white\",\"ticks\":\"\",\"title\":{\"standoff\":15},\"zerolinecolor\":\"white\",\"automargin\":true,\"zerolinewidth\":2},\"yaxis\":{\"gridcolor\":\"white\",\"linecolor\":\"white\",\"ticks\":\"\",\"title\":{\"standoff\":15},\"zerolinecolor\":\"white\",\"automargin\":true,\"zerolinewidth\":2},\"scene\":{\"xaxis\":{\"backgroundcolor\":\"#E5ECF6\",\"gridcolor\":\"white\",\"linecolor\":\"white\",\"showbackground\":true,\"ticks\":\"\",\"zerolinecolor\":\"white\",\"gridwidth\":2},\"yaxis\":{\"backgroundcolor\":\"#E5ECF6\",\"gridcolor\":\"white\",\"linecolor\":\"white\",\"showbackground\":true,\"ticks\":\"\",\"zerolinecolor\":\"white\",\"gridwidth\":2},\"zaxis\":{\"backgroundcolor\":\"#E5ECF6\",\"gridcolor\":\"white\",\"linecolor\":\"white\",\"showbackground\":true,\"ticks\":\"\",\"zerolinecolor\":\"white\",\"gridwidth\":2}},\"shapedefaults\":{\"line\":{\"color\":\"#2a3f5f\"}},\"annotationdefaults\":{\"arrowcolor\":\"#2a3f5f\",\"arrowhead\":0,\"arrowwidth\":1},\"geo\":{\"bgcolor\":\"white\",\"landcolor\":\"#E5ECF6\",\"subunitcolor\":\"white\",\"showland\":true,\"showlakes\":true,\"lakecolor\":\"white\"},\"title\":{\"x\":0.05},\"mapbox\":{\"style\":\"light\"}}},\"xaxis\":{\"anchor\":\"y\",\"domain\":[0.0,1.0],\"title\":{\"text\":\"index\"}},\"yaxis\":{\"anchor\":\"x\",\"domain\":[0.0,1.0],\"title\":{\"text\":\"value\"}},\"legend\":{\"title\":{\"text\":\"variable\"},\"tracegroupgap\":0},\"margin\":{\"t\":60}},                        {\"responsive\": true}                    ).then(function(){\n",
       "                            \n",
       "var gd = document.getElementById('85a81b40-f729-44b8-b3a6-d848ebc0e4ea');\n",
       "var x = new MutationObserver(function (mutations, observer) {{\n",
       "        var display = window.getComputedStyle(gd).display;\n",
       "        if (!display || display === 'none') {{\n",
       "            console.log([gd, 'removed!']);\n",
       "            Plotly.purge(gd);\n",
       "            observer.disconnect();\n",
       "        }}\n",
       "}});\n",
       "\n",
       "// Listen for the removal of the full notebook cells\n",
       "var notebookContainer = gd.closest('#notebook-container');\n",
       "if (notebookContainer) {{\n",
       "    x.observe(notebookContainer, {childList: true});\n",
       "}}\n",
       "\n",
       "// Listen for the clearing of the current output cell\n",
       "var outputEl = gd.closest('.output');\n",
       "if (outputEl) {{\n",
       "    x.observe(outputEl, {childList: true});\n",
       "}}\n",
       "\n",
       "                        })                };                });            </script>        </div>"
      ]
     },
     "metadata": {},
     "output_type": "display_data"
    }
   ],
   "source": [
    "line(cache[\"post\", 0][0, :, 44])"
   ]
  },
  {
   "cell_type": "markdown",
   "metadata": {},
   "source": [
    "Activations here shows a pattern of getting fairly high and remaining so for the remaining of the sequence. To explain the dips, let's look at the sequence at those points."
   ]
  },
  {
   "cell_type": "code",
   "execution_count": 89,
   "metadata": {},
   "outputs": [
    {
     "name": "stdout",
     "output_type": "stream",
     "text": [
      "Sequence at positions 30-34: tensor([5, 3, 7, 3, 2]) Predictions: tensor([2, 2, 2, 3, 2])\n",
      "Sequence at positions 45-49: tensor([7, 4, 6, 2]) Predictions: tensor([2, 2, 6, 2])\n"
     ]
    }
   ],
   "source": [
    "print(f\"Sequence at positions 30-34: {test_x[30:35]} Predictions: {test_y[30:35]}\")\n",
    "print(f\"Sequence at positions 45-49: {test_x[45:49]} Predictions: {test_y[45:49]}\")"
   ]
  },
  {
   "cell_type": "markdown",
   "metadata": {},
   "source": [
    "The activation drops when other values become more common, and returns to high activation once the predominance of `2` in the sequence is restored.\n",
    "\n",
    "Roughly, the output of neuron 44 seems to drop somewhat whenever the number of `2`s stops increasing (perhaps reflecting decreased confidence that 2 is the majority element). However, the activations don't go up monotonically with the number of `2`s, indicating that perhaps the network is simply keeping track of the relative predominance of 2 vs. other elements rather than strictly counting.\n",
    "\n",
    "To confirm that this neuron is indeed performing the function of tracking the predominance of `2`s, let's perform an ablation experiment."
   ]
  },
  {
   "cell_type": "markdown",
   "metadata": {},
   "source": [
    "### Ablation Experiment"
   ]
  },
  {
   "cell_type": "code",
   "execution_count": 90,
   "metadata": {},
   "outputs": [
    {
     "name": "stdout",
     "output_type": "stream",
     "text": [
      "tensor([1, 5, 3, 6, 0, 9, 6, 4, 2, 3, 7, 5, 2, 0, 6, 8, 8, 1, 1, 4, 0, 6, 1, 3,\n",
      "        9, 3, 2, 6, 2, 2, 5, 3, 7, 3, 2, 5, 0, 8, 2, 6, 8, 1, 0, 6, 3, 7, 4, 6,\n",
      "        2, 2, 0, 5, 7, 6, 8, 2, 2, 3, 8, 9, 4, 0, 4, 6, 7, 5, 5, 5, 2, 3, 9, 2,\n",
      "        4, 9, 4, 6, 5, 8, 9, 1, 0, 7, 6, 4, 0, 1, 0, 9, 3, 6, 2, 0, 6, 1, 8, 2,\n",
      "        9, 2, 7, 1, 9, 0, 0, 3, 7, 3, 3, 3, 9, 7, 1, 2, 4, 7, 1, 9, 8, 2, 6, 7,\n",
      "        8, 7, 1, 8, 8, 4, 0, 4])\n",
      "tensor([1, 1, 1, 1, 0, 0, 6, 6, 6, 3, 3, 3, 2, 0, 6, 6, 6, 6, 1, 1, 0, 6, 1, 1,\n",
      "        1, 1, 1, 6, 6, 2, 2, 2, 2, 3, 2, 2, 2, 2, 2, 2, 2, 2, 2, 2, 2, 2, 2, 6,\n",
      "        2, 2, 2, 2, 2, 2, 2, 2, 2, 2, 2, 2, 2, 2, 2, 2, 2, 2, 2, 2, 2, 2, 2, 2,\n",
      "        2, 2, 2, 2, 2, 2, 2, 2, 2, 2, 2, 2, 2, 2, 2, 2, 2, 2, 2, 2, 2, 2, 2, 2,\n",
      "        2, 2, 2, 2, 2, 2, 2, 2, 2, 2, 2, 2, 2, 2, 2, 2, 2, 2, 2, 2, 2, 2, 2, 2,\n",
      "        2, 2, 2, 2, 2, 2, 2, 2])\n",
      "True majority element: 2\n",
      "Model prediction for majority element: 2\n"
     ]
    }
   ],
   "source": [
    "with torch.inference_mode():\n",
    "    all_logits = analysis_model(test_x.long())\n",
    "    loss = analysis_model(test_x.long(), return_type=\"loss\")\n",
    "    logits = all_logits[0, -1]\n",
    "    print(test_x)\n",
    "    print(test_y)\n",
    "    print(f\"True majority element: {torch.bincount(test_x).argmax().item()}\")\n",
    "    print(f\"Model prediction for majority element: {int(logits.argmax(dim=-1).squeeze())}\")"
   ]
  },
  {
   "cell_type": "markdown",
   "metadata": {},
   "source": [
    "We'll define two helper functions that will set activations at specific neurons to 0. We'll then calculate loss with and without the ablation."
   ]
  },
  {
   "cell_type": "code",
   "execution_count": 97,
   "metadata": {},
   "outputs": [
    {
     "name": "stdout",
     "output_type": "stream",
     "text": [
      "Original Loss: 0.004\n",
      "Ablated Loss: 1.768\n"
     ]
    }
   ],
   "source": [
    "layer_to_ablate = 0\n",
    "neurons_to_ablate = [44]\n",
    "analysis_model.reset_hooks()\n",
    "\n",
    "def multi_neuron_ablation_hook(\n",
    "    value: TT[\"batch\", \"pos\", \"neuron_index\"], \n",
    "    hook: HookPoint,\n",
    "    neurons_to_ablate: list[int] = [],\n",
    "    complement: bool = False\n",
    ") -> TT[\"batch\", \"pos\", \"neuron_index\"]:\n",
    "    #print(f\"Shape of the value tensor: {value.shape}\")\n",
    "    if complement:\n",
    "        neurons_to_ablate = [n for n in range(value.shape[-1]) if n not in neurons_to_ablate]\n",
    "    for n in neurons_to_ablate:\n",
    "        value[:, :, n] = 0.\n",
    "    return value\n",
    "\n",
    "def ablate_neurons_in_layer(layer_to_ablate: int, neurons_to_ablate: list[int], complement: bool = False):\n",
    "\n",
    "    analysis_model.reset_hooks()\n",
    "    original_logits = analysis_model(test_x, return_type=\"logits\")\n",
    "    ablated_logits = analysis_model.run_with_hooks(\n",
    "        test_x, \n",
    "        return_type=\"logits\", \n",
    "        fwd_hooks=[(\n",
    "            utils.get_act_name(\"post\", layer_to_ablate), \n",
    "            functools.partial(multi_neuron_ablation_hook, neurons_to_ablate=neurons_to_ablate, complement=complement)\n",
    "        )]\n",
    "    )\n",
    "    return original_logits, ablated_logits\n",
    "\n",
    "original_logits, ablated_logits = ablate_neurons_in_layer(layer_to_ablate, neurons_to_ablate, complement=False)\n",
    "print(f\"Original Loss: {F.cross_entropy(original_logits[0], test_y.long()).item():.3f}\")\n",
    "print(f\"Ablated Loss: {F.cross_entropy(ablated_logits[0], test_y.long()).item():.3f}\")"
   ]
  },
  {
   "cell_type": "markdown",
   "metadata": {},
   "source": [
    "The result of our ablation seems fairly clear: Ablating Neuron 44 above resulted in a dramatically higher loss. What if we ablate the complement (all neurons aside from 44)?"
   ]
  },
  {
   "cell_type": "code",
   "execution_count": 100,
   "metadata": {},
   "outputs": [
    {
     "name": "stdout",
     "output_type": "stream",
     "text": [
      "Original Loss: 0.004\n",
      "Ablated Loss: 0.460\n",
      "Input:\n",
      " tensor([1, 5, 3, 6, 0, 9, 6, 4, 2, 3, 7, 5, 2, 0, 6, 8, 8, 1, 1, 4, 0, 6, 1, 3,\n",
      "        9, 3, 2, 6, 2, 2, 5, 3, 7, 3, 2, 5, 0, 8, 2, 6, 8, 1, 0, 6, 3, 7, 4, 6,\n",
      "        2, 2, 0, 5, 7, 6, 8, 2, 2, 3, 8, 9, 4, 0, 4, 6, 7, 5, 5, 5, 2, 3, 9, 2,\n",
      "        4, 9, 4, 6, 5, 8, 9, 1, 0, 7, 6, 4, 0, 1, 0, 9, 3, 6, 2, 0, 6, 1, 8, 2,\n",
      "        9, 2, 7, 1, 9, 0, 0, 3, 7, 3, 3, 3, 9, 7, 1, 2, 4, 7, 1, 9, 8, 2, 6, 7,\n",
      "        8, 7, 1, 8, 8, 4, 0, 4])\n",
      "True majority element at each point:\n",
      " tensor([1, 1, 1, 1, 0, 0, 6, 6, 6, 3, 3, 3, 2, 0, 6, 6, 6, 6, 1, 1, 0, 6, 1, 1,\n",
      "        1, 1, 1, 6, 6, 2, 2, 2, 2, 3, 2, 2, 2, 2, 2, 2, 2, 2, 2, 2, 2, 2, 2, 6,\n",
      "        2, 2, 2, 2, 2, 2, 2, 2, 2, 2, 2, 2, 2, 2, 2, 2, 2, 2, 2, 2, 2, 2, 2, 2,\n",
      "        2, 2, 2, 2, 2, 2, 2, 2, 2, 2, 2, 2, 2, 2, 2, 2, 2, 2, 2, 2, 2, 2, 2, 2,\n",
      "        2, 2, 2, 2, 2, 2, 2, 2, 2, 2, 2, 2, 2, 2, 2, 2, 2, 2, 2, 2, 2, 2, 2, 2,\n",
      "        2, 2, 2, 2, 2, 2, 2, 2])\n",
      "Original model prediction for majority element:\n",
      " tensor([1, 1, 1, 1, 0, 0, 6, 6, 6, 3, 3, 3, 2, 0, 6, 6, 6, 6, 1, 1, 0, 6, 1, 1,\n",
      "        1, 1, 1, 6, 6, 2, 2, 2, 2, 3, 2, 2, 2, 2, 2, 2, 2, 2, 2, 2, 2, 2, 2, 6,\n",
      "        2, 2, 2, 2, 2, 2, 2, 2, 2, 2, 2, 2, 2, 2, 2, 2, 2, 2, 2, 2, 2, 2, 2, 2,\n",
      "        2, 2, 2, 2, 2, 2, 2, 2, 2, 2, 2, 2, 2, 2, 2, 2, 2, 2, 2, 2, 2, 2, 2, 2,\n",
      "        2, 2, 2, 2, 2, 2, 2, 2, 2, 2, 2, 2, 2, 2, 2, 2, 2, 2, 2, 2, 2, 2, 2, 2,\n",
      "        2, 2, 2, 2, 2, 2, 2, 2])\n",
      "Ablated model prediction for majority element:\n",
      " tensor([1, 1, 3, 3, 0, 0, 0, 6, 0, 3, 3, 5, 2, 2, 2, 2, 2, 2, 1, 1, 0, 0, 1, 0,\n",
      "        1, 0, 0, 3, 2, 2, 2, 2, 2, 2, 2, 2, 2, 2, 2, 2, 2, 2, 2, 2, 2, 2, 2, 2,\n",
      "        2, 2, 2, 2, 2, 2, 2, 2, 2, 2, 2, 2, 2, 2, 2, 2, 2, 2, 2, 2, 2, 2, 2, 2,\n",
      "        2, 2, 2, 2, 2, 2, 2, 2, 2, 2, 2, 2, 2, 2, 2, 2, 2, 2, 2, 2, 2, 2, 2, 2,\n",
      "        2, 2, 2, 2, 2, 2, 2, 2, 2, 2, 2, 2, 2, 2, 2, 2, 2, 2, 2, 2, 2, 2, 2, 2,\n",
      "        2, 2, 2, 2, 2, 2, 2, 2])\n"
     ]
    }
   ],
   "source": [
    "org_logits, abl_logits = ablate_neurons_in_layer(layer_to_ablate, neurons_to_ablate, complement=True)\n",
    "print(f\"Original Loss: {F.cross_entropy(org_logits[0], test_y.long()).item():.3f}\")\n",
    "print(f\"Ablated Loss: {F.cross_entropy(abl_logits[0], test_y.long()).item():.3f}\")\n",
    "\n",
    "print(f\"Input:\\n {test_x}\")\n",
    "print(f\"True majority element at each point:\\n {test_y}\")\n",
    "print(f\"Original model prediction for majority element:\\n {org_logits.argmax(dim=-1).squeeze()}\")\n",
    "print(f\"Ablated model prediction for majority element:\\n {abl_logits.argmax(dim=-1).squeeze()}\")"
   ]
  },
  {
   "cell_type": "markdown",
   "metadata": {},
   "source": [
    "Loss did go up, but not by much--and the final prediction was still correct. In addition, the model seems to have gotten pretty bad at prediction any value other than `2`--even when those numbers would be appropriate."
   ]
  },
  {
   "cell_type": "markdown",
   "metadata": {},
   "source": [
    "### Checking Other Values"
   ]
  },
  {
   "cell_type": "markdown",
   "metadata": {},
   "source": [
    "Let's generate a sequence to see what neurons are activated by each potential value:"
   ]
  },
  {
   "cell_type": "code",
   "execution_count": 115,
   "metadata": {},
   "outputs": [
    {
     "name": "stdout",
     "output_type": "stream",
     "text": [
      "[0, 0, 1, 1, 1, 1, 1, 1, 1, 1, 1, 1, 2, 2, 2, 2, 2, 2, 2, 2, 2, 2, 2, 3, 3, 3, 3, 3, 3, 3, 3, 3, 3, 3, 3, 4, 4, 4, 4, 4, 4, 4, 4, 4, 4, 4, 4, 4, 5, 5, 5, 5, 5, 5, 5, 5, 5, 5, 5, 5, 5, 5, 6, 6, 6, 6, 6, 6, 6, 6, 6, 6, 6, 6, 6, 6, 6, 7, 7, 7, 7, 7, 7, 7, 7, 7, 7, 7, 7, 7, 7, 7, 7, 8, 8, 8, 8, 8, 8, 8, 8, 8, 8, 8, 8, 8, 8, 8, 8, 8, 9, 9, 9, 9, 9, 9, 9, 9, 9, 9, 9, 9, 9, 9, 9, 9, 9, 9]\n"
     ]
    }
   ],
   "source": [
    "comprehensive_sequence = [0 for _ in range(2)]\n",
    "for i in range(1, data_args.max_val+1):\n",
    "    for _ in range(9+i):\n",
    "        comprehensive_sequence.append(i)\n",
    "print(comprehensive_sequence)\n",
    "comprehensive_sequence = torch.tensor(comprehensive_sequence)"
   ]
  },
  {
   "cell_type": "code",
   "execution_count": 116,
   "metadata": {},
   "outputs": [
    {
     "data": {
      "text/html": [
       "<div>                            <div id=\"aa5ccf06-d2f6-4d8a-987f-9e4d1c5fee26\" class=\"plotly-graph-div\" style=\"height:525px; width:100%;\"></div>            <script type=\"text/javascript\">                require([\"plotly\"], function(Plotly) {                    window.PLOTLYENV=window.PLOTLYENV || {};                                    if (document.getElementById(\"aa5ccf06-d2f6-4d8a-987f-9e4d1c5fee26\")) {                    Plotly.newPlot(                        \"aa5ccf06-d2f6-4d8a-987f-9e4d1c5fee26\",                        [{\"coloraxis\":\"coloraxis\",\"name\":\"0\",\"z\":[[-0.26072714,-0.26077625,-0.26050287,-0.26013118,-0.03379227,-0.25855333,-0.26078188,-0.260736,-0.2606513,-0.2606014,-0.26058757,-0.26074517,-0.26078233,-0.25970012,-0.26076898,-0.2605814,-0.25992212,-0.2607305,-0.25855976,-0.2603056,-0.2607179,-0.26078314,0.15192652,-0.26069343,-0.26070434,-0.2578254,-0.26074415,-0.26078328,-0.26074153,-0.26054347,-0.2601072,-0.26065558,-0.082651906,-0.25956285,6.013297,0.6756594,1.358055,-0.2607616,2.5931838,-0.26067618,-0.26059124,-0.2602104,-0.26077774,-0.26077202,-0.2603217,-0.26077446,-0.26001158,-0.26077396],[-0.26071584,-0.2607611,-0.26059952,-0.2597841,0.0011944812,-0.2589073,-0.26075205,-0.26076815,-0.26038018,-0.26067165,-0.26036432,-0.26066342,-0.2607687,-0.25959918,-0.26074687,-0.26067525,-0.25987726,-0.2607183,-0.25894752,-0.26050243,-0.26070789,-0.260769,0.15839495,-0.26071486,-0.26068693,-0.25777766,-0.26076785,-0.26076895,-0.26071027,-0.26067573,-0.2603035,-0.2605579,-0.078354746,-0.25966132,6.0253515,0.62195086,1.3807423,-0.2607551,2.5664732,-0.260665,-0.26049843,-0.26010814,-0.26075113,-0.260765,-0.26050687,-0.26073676,-0.2599035,-0.26075825],[-0.2668204,-0.26721242,-0.2673131,-0.14282851,0.009806912,-0.2667003,-0.26709718,-0.26731634,-0.11194117,-0.26731333,-0.22349483,-0.26029083,-0.2671893,-0.26495087,-0.26728377,-0.26730844,-0.26551434,-0.26677743,-0.2658625,-0.26647535,-0.26681644,-0.26723036,0.1942082,-0.26730594,-0.26731652,-0.25392374,-0.26700234,-0.2672737,-0.26652542,-0.26731643,-0.26683158,-0.26612094,-0.10473993,-0.26531428,6.0282216,0.61348474,1.2177328,-0.26731715,2.6396747,-0.26730195,-0.26686442,-0.2666817,-0.26698136,-0.26707643,-0.26702437,-0.2673172,-0.26584306,-0.2673151],[-0.35452792,-0.35567534,-0.355846,1.2443289,-0.065487646,-0.3556002,-0.35496527,-0.3558501,2.9007258,-0.3558375,0.23255785,-0.29012728,-0.35558078,-0.35154086,-0.35567898,-0.35584387,-0.35221058,-0.35428712,-0.3541612,-0.35344216,-0.35447586,-0.35512844,0.19591118,-0.35583764,-0.35584876,-0.30254596,-0.35531175,-0.35551533,-0.35351375,-0.35584006,-0.35494038,-0.35276103,-0.19164126,-0.35077563,5.1581697,0.5616238,1.0614312,-0.35579193,2.265006,-0.3557332,-0.35545295,-0.35466108,-0.3525908,-0.35507128,-0.35565677,-0.3558426,-0.35230604,-0.35584953],[-0.2685342,-0.2694121,-0.26944357,2.4566486,-0.19037685,-0.26946807,-0.26917663,-0.26947796,6.1441364,-0.26944354,0.7140763,-0.1803901,-0.26929736,-0.2666673,-0.26927128,-0.26947096,-0.26791427,-0.26869747,-0.268666,-0.26734424,-0.2688215,-0.26911905,-0.10946073,-0.26948857,-0.26945886,-0.22580779,-0.26913443,-0.2692107,-0.2680658,-0.26948857,-0.26898125,-0.26803035,-0.22610946,-0.2665933,0.86395407,-0.017228633,0.03982069,-0.26948732,0.40522984,-0.26936355,-0.2691616,-0.26878518,-0.2648988,-0.2693404,-0.26942962,-0.26946175,-0.2664697,-0.26941907],[-0.22723117,-0.22768053,-0.22768764,2.4100134,-0.19988915,-0.22768405,-0.22760166,-0.22765216,6.290185,-0.22765781,0.72844535,-0.1547864,-0.2276362,-0.2262709,-0.22759804,-0.22762345,-0.22708619,-0.22727199,-0.22725487,-0.2263111,-0.22735743,-0.22745809,-0.17431863,-0.2276667,-0.22764775,-0.19642992,-0.22739337,-0.22759074,-0.22723171,-0.22768012,-0.22734174,-0.22688353,-0.21353598,-0.22594354,0.054201085,-0.15540178,-0.14735238,-0.22768727,-0.06030882,-0.22767954,-0.22738686,-0.2270498,-0.2242007,-0.22761032,-0.22766031,-0.22766073,-0.22586353,-0.22758035],[-0.21448942,-0.21470752,-0.21471149,2.180782,-0.20177852,-0.21471658,-0.21466067,-0.21467057,6.3909264,-0.21470004,0.68492115,-0.14498447,-0.21471447,-0.21372491,-0.21467444,-0.21466173,-0.21446222,-0.21451591,-0.21447004,-0.21346703,-0.21454789,-0.21460426,-0.19015683,-0.21470654,-0.21468966,-0.19253989,-0.21455632,-0.21460603,-0.21449026,-0.21470977,-0.21454595,-0.21420495,-0.20752211,-0.2136293,-0.09965046,-0.18225354,-0.1772584,-0.21471672,-0.1422721,-0.2147164,-0.21457295,-0.21432124,-0.2109455,-0.21471277,-0.21469687,-0.21461324,-0.21366501,-0.21461457],[-0.20432568,-0.2044519,-0.20436154,1.8917834,-0.1979558,-0.2044587,-0.20442961,-0.20443952,6.50342,-0.20439975,0.5735086,-0.14282374,-0.20445898,-0.20357145,-0.20444609,-0.20441234,-0.20435715,-0.2043301,-0.20433564,-0.20347689,-0.20435801,-0.20437504,-0.19093934,-0.20444824,-0.20444626,-0.18695772,-0.20441212,-0.20444259,-0.20425014,-0.2044571,-0.20424041,-0.20426545,-0.2010045,-0.20355898,-0.15494287,-0.18767181,-0.18651213,-0.20444842,-0.16863939,-0.20445873,-0.20427497,-0.20411599,-0.20153615,-0.20444956,-0.20444727,-0.20433305,-0.20340629,-0.20428477],[-0.203815,-0.20394102,-0.2038992,1.9276403,-0.19950244,-0.20394963,-0.20394798,-0.2038566,6.4910617,-0.20390594,0.5843412,-0.14267202,-0.2039346,-0.20318139,-0.20394005,-0.20386656,-0.20391165,-0.20388009,-0.2037661,-0.2029844,-0.20387256,-0.20388007,-0.19532888,-0.20388746,-0.20387736,-0.18766448,-0.20390305,-0.20392767,-0.20383972,-0.20394932,-0.20377994,-0.20378245,-0.20184667,-0.20305748,-0.1737873,-0.19350599,-0.19350916,-0.20394787,-0.18195273,-0.20394658,-0.20380722,-0.20367333,-0.2009073,-0.20394675,-0.2039362,-0.20381793,-0.20294106,-0.20381206],[-0.20191929,-0.20194104,-0.20191483,1.8436815,-0.19932267,-0.20198092,-0.20198236,-0.2018759,6.516637,-0.20188203,0.5896789,-0.14161897,-0.20196551,-0.2012218,-0.2019815,-0.20191313,-0.20197594,-0.20192578,-0.20185024,-0.20105778,-0.20195903,-0.20194606,-0.1965387,-0.20195235,-0.20195602,-0.18659103,-0.20195736,-0.20197539,-0.20185411,-0.20196886,-0.20172718,-0.20187038,-0.20057099,-0.20126268,-0.18365407,-0.1954289,-0.1953346,-0.20195241,-0.1880311,-0.20198093,-0.20177184,-0.20165403,-0.19915222,-0.20198202,-0.20196378,-0.20181708,-0.20101713,-0.20179799],[-0.20222788,-0.20220608,-0.20221902,1.8847147,-0.20023131,-0.20227219,-0.20227261,-0.2021659,6.504356,-0.20219402,0.58688974,-0.14098541,-0.20225163,-0.2016282,-0.20227392,-0.20217828,-0.20227449,-0.20222583,-0.20210811,-0.20122191,-0.20225222,-0.2022534,-0.19778444,-0.20222381,-0.20223482,-0.18655905,-0.20225471,-0.20226626,-0.2021877,-0.20226906,-0.20202596,-0.20216517,-0.20128855,-0.20148046,-0.18904683,-0.19727501,-0.19749396,-0.20223917,-0.1923485,-0.20227085,-0.20209482,-0.20193721,-0.19899036,-0.20227449,-0.2022458,-0.20212515,-0.20135435,-0.20208345],[-0.19982341,-0.19977789,-0.19972119,1.7853448,-0.1981567,-0.19984128,-0.19983785,-0.1997733,6.537289,-0.19976234,0.562714,-0.14542633,-0.19979014,-0.19909386,-0.1998456,-0.19976917,-0.19984464,-0.19982804,-0.19970338,-0.19883996,-0.19983757,-0.19981956,-0.19649546,-0.19979735,-0.19979823,-0.18577674,-0.19983022,-0.19984394,-0.19978356,-0.19983797,-0.19967587,-0.19979969,-0.19907664,-0.1991803,-0.18978444,-0.19625199,-0.1963078,-0.19982228,-0.19256246,-0.19983946,-0.19969738,-0.19952784,-0.19633397,-0.19983377,-0.19982691,-0.19965799,-0.19886148,-0.19965212],[-0.19927622,-0.199319,-0.19927417,1.721197,-0.19834901,-0.19932611,-0.19934772,-0.19931196,6.5528784,-0.1992937,0.58872914,-0.14798751,-0.19932221,-0.19796108,-0.19935848,-0.19931018,-0.19933322,-0.19925435,-0.19904612,-0.19720505,-0.19935891,-0.19928426,-0.19604425,-0.19930372,-0.1993117,-0.18361501,-0.19934118,-0.19935243,-0.19927748,-0.1993566,-0.19928691,-0.19926451,-0.1985357,-0.19847974,-0.18953125,-0.1959036,-0.19576074,-0.19933718,-0.19208957,-0.19935232,-0.19921106,-0.19905432,-0.19591326,-0.19935016,-0.19852288,-0.19925,-0.19837964,-0.19906086],[-0.19945113,-0.1995601,-0.19947803,1.7102652,-0.19851743,-0.19952273,-0.19952838,-0.19956867,6.5559196,-0.19952217,0.58880955,-0.14439493,-0.19956192,-0.19656593,-0.19956335,-0.19955646,-0.19944946,-0.19946302,-0.19878218,-0.1949568,-0.19957098,-0.1994842,-0.19602618,-0.19945332,-0.19953805,-0.17987591,-0.19955184,-0.199522,-0.19947448,-0.19955795,-0.19954516,-0.19945937,-0.19864781,-0.1988197,-0.18975839,-0.19641757,-0.19632348,-0.19957119,-0.1918015,-0.19956823,-0.1995356,-0.19926518,-0.1951904,-0.19956484,-0.19477014,-0.19951487,-0.19840081,-0.19934243],[-0.20135814,-0.2016412,-0.20161808,1.817116,-0.20088269,-0.20152003,-0.20159598,-0.2016087,6.526552,-0.20163213,0.5733558,-0.1470258,-0.20163986,-0.19577497,-0.20162983,-0.20161411,-0.20100296,-0.2014779,-0.19994171,-0.19041926,-0.20163888,-0.2015407,-0.1986434,-0.20142923,-0.20161408,-0.1758735,-0.2016217,-0.20152788,-0.20143908,-0.20160927,-0.2015765,-0.20142153,-0.20073687,-0.2007042,-0.19220817,-0.19847064,-0.19854261,-0.20164138,-0.19398472,-0.20163657,-0.20157394,-0.20132911,-0.19703993,-0.20159665,-0.18214636,-0.20162588,-0.20005749,-0.20140944],[-0.20242397,-0.20273064,-0.20271757,1.8064736,-0.20188217,-0.20257364,-0.20263952,-0.2027321,6.531928,-0.20273249,0.55086714,-0.14825632,-0.20273416,-0.19238938,-0.20270444,-0.20273481,-0.20150661,-0.20254357,-0.19944966,-0.17895313,-0.20273666,-0.20265666,-0.19969252,-0.20250852,-0.20272577,-0.16891737,-0.20272799,-0.2026177,-0.2024712,-0.20262931,-0.20272674,-0.20238568,-0.2018576,-0.20186508,-0.19240531,-0.19965619,-0.19972004,-0.20273142,-0.19455363,-0.20273556,-0.2027006,-0.20238708,-0.19678424,-0.20272061,-0.13656642,-0.20272633,-0.20091169,-0.20244671],[-0.20308559,-0.20350099,-0.20347483,1.7063115,-0.20287776,-0.20325911,-0.20338725,-0.20349273,6.5611806,-0.20349438,0.53553766,-0.14803858,-0.20350033,-0.18757717,-0.20349684,-0.20350195,-0.20152083,-0.20328376,-0.19880535,-0.1642298,-0.20350246,-0.2033956,-0.20064445,-0.20305024,-0.20346092,-0.15963498,-0.20348828,-0.20331195,-0.2031826,-0.2033862,-0.20348583,-0.20316204,-0.20259348,-0.20245883,-0.19424565,-0.2004294,-0.20071618,-0.20346493,-0.19582306,-0.20349967,-0.20348585,-0.20312783,-0.19592153,-0.20346007,-0.051737834,-0.20349114,-0.20109646,-0.203244],[-0.2127379,-0.21316932,-0.21313892,1.853287,-0.2128686,-0.21283446,-0.21301587,-0.21316908,6.5095124,-0.21316563,0.50606626,-0.14526562,-0.21316838,-0.18588577,-0.21316242,-0.2131642,-0.21013688,-0.21282648,-0.20518325,-0.12658195,-0.21316504,-0.21310484,-0.21010272,-0.21261898,-0.21310131,-0.15310477,-0.2131693,-0.21290809,-0.2127125,-0.21300389,-0.21316504,-0.21273947,-0.2120704,-0.21200395,-0.20219412,-0.20996186,-0.20972697,-0.21316677,-0.20479767,-0.21315174,-0.21315283,-0.2127551,-0.20252907,-0.21310419,0.2089904,-0.21315336,-0.21096544,-0.21275207],[-0.22850133,-0.22908787,-0.22899905,1.9110441,-0.22861208,-0.2286421,-0.22868706,-0.22909674,6.4318566,-0.22909543,0.5294037,-0.16001138,-0.22910301,-0.1774319,-0.22908266,-0.2290822,-0.22185622,-0.22855318,-0.2134777,-0.06269782,-0.22909597,-0.2290882,-0.22578333,-0.22820939,-0.22910433,-0.13596891,-0.22907911,-0.22879437,-0.22841433,-0.22887415,-0.22910078,-0.22864267,-0.22789843,-0.22702187,-0.21682596,-0.22515137,-0.22564745,-0.22909601,-0.21843885,-0.22905156,-0.22908986,-0.2285447,-0.21527837,-0.22899231,0.7431633,-0.22910093,-0.22494599,-0.22821103],[-0.24342419,-0.24404232,-0.24401067,1.8008996,-0.24370974,-0.24349017,-0.24349074,-0.2440353,6.305635,-0.24403355,0.50289094,-0.16424395,-0.24404167,-0.1681298,-0.24403396,-0.24401969,-0.23200814,-0.24336095,-0.22334172,0.0008581195,-0.2439898,-0.24403308,-0.24026452,-0.24236247,-0.2440253,-0.14217623,-0.24401823,-0.24358019,-0.24333684,-0.24370751,-0.24401449,-0.24336496,-0.24268757,-0.24203064,-0.23092358,-0.24054979,-0.24022397,-0.24401386,-0.23236687,-0.24404104,-0.24403615,-0.24321257,-0.2287046,-0.2438579,1.525169,-0.24404277,-0.2391544,-0.24331559],[-0.266398,-0.26727676,-0.26720926,1.5937085,-0.26696348,-0.266632,-0.26673177,-0.267305,5.6199584,-0.26730183,0.4047059,-0.19987676,-0.2672951,-0.14741957,-0.2673146,-0.26730892,-0.2486797,-0.2667124,-0.23687088,0.15506881,-0.26711005,-0.26730075,-0.263919,-0.2650728,-0.26727027,-0.14526145,-0.26724303,-0.26690197,-0.2664587,-0.26686674,-0.2672798,-0.2664313,-0.26567575,-0.26476422,-0.25470126,-0.26421216,-0.26351702,-0.26730287,-0.25517455,-0.26730767,-0.2672858,-0.26630437,-0.24680315,-0.26706696,3.286785,-0.2673161,-0.26198706,-0.2663959],[-0.26523042,-0.26600218,-0.26602146,1.1522909,-0.2658787,-0.26538476,-0.26574224,-0.26602587,4.2141027,-0.26602274,0.23071527,-0.20141771,-0.26602277,-0.128295,-0.26602516,-0.2660008,-0.23899911,-0.2654546,-0.23320438,0.3101442,-0.26573646,-0.26602456,-0.2632364,-0.2633389,-0.26590636,-0.15392219,-0.2659244,-0.2656049,-0.26525354,-0.26548478,-0.2660148,-0.26492143,-0.26442757,-0.26412308,-0.25472587,-0.2633659,-0.26193386,-0.2659852,-0.25727966,-0.26602563,-0.26599592,-0.26473913,-0.2482743,-0.2656865,5.0901003,-0.26601171,-0.26088914,-0.26479334],[-0.2394772,-0.24010886,-0.24009472,0.7195556,-0.23998655,-0.23965879,-0.23961604,-0.24009833,2.5133395,-0.2401083,0.117436565,-0.18815745,-0.24010739,-0.104005836,-0.24008825,-0.24009822,-0.214045,-0.23959091,-0.19623266,0.3264295,-0.23989306,-0.24006596,-0.2370932,-0.23737304,-0.23997119,-0.1283125,-0.23996647,-0.23968907,-0.23959614,-0.23961866,-0.24009603,-0.23954402,-0.23910622,-0.23864698,-0.23156407,-0.23812851,-0.2376584,-0.24009682,-0.23353967,-0.24007775,-0.2400956,-0.23898,-0.22423579,-0.23992622,6.2230625,-0.24010909,-0.23587254,-0.23909214],[-0.25271562,-0.25335258,-0.2533318,0.9541855,-0.25318125,-0.25315768,-0.253105,-0.25336146,3.1232457,-0.252637,0.12184726,-0.20487975,-0.25340044,-0.115622826,-0.2533992,-0.25340608,-0.2225486,-0.25302798,-0.21815108,0.36639985,-0.25338975,-0.2533634,-0.2525048,-0.25005236,-0.25332618,-0.11779082,-0.25329477,-0.25299332,-0.25268123,-0.25331283,-0.25214577,-0.25259852,-0.25281188,-0.25153777,-0.2448049,-0.2518026,-0.2504562,-0.2534077,-0.24679808,-0.2532949,-0.25335452,-0.2525278,-0.23521681,-0.25301564,5.8823476,-0.2533073,-0.2464145,-0.25254294],[-0.26205295,-0.26267806,-0.26265267,1.0865959,-0.26263818,-0.26268357,-0.26195535,-0.26263773,3.7324002,-0.25959322,0.17698088,-0.2058375,-0.26267362,-0.1313587,-0.26269546,-0.2626648,-0.23716047,-0.26241687,-0.22490346,0.34675896,-0.26268038,-0.26264334,-0.2612381,-0.25692636,-0.26245916,-0.110294625,-0.26253116,-0.2622111,-0.26209867,-0.26034945,-0.25950864,-0.26198894,-0.26232898,-0.2608964,-0.25464058,-0.26087925,-0.2601241,-0.2626462,-0.25600263,-0.26263174,-0.262699,-0.26190168,-0.24258602,-0.26233986,5.474174,-0.26266843,-0.25138992,-0.2616428],[-0.25918838,-0.2598872,-0.25988692,1.0272979,-0.2598605,-0.259887,-0.2591814,-0.25988716,3.6687174,-0.25084826,0.16116312,-0.21277332,-0.25985476,-0.14430928,-0.25988722,-0.2598587,-0.23961957,-0.25938442,-0.2236632,0.3055655,-0.25985005,-0.25988722,-0.25854316,-0.25273377,-0.25967547,-0.100517645,-0.2597237,-0.25918362,-0.25919813,-0.24966317,-0.25247636,-0.2588362,-0.2595949,-0.25727457,-0.25141874,-0.25825188,-0.25646156,-0.25983426,-0.25251293,-0.25970668,-0.2598872,-0.2594034,-0.24016885,-0.2593823,5.536884,-0.25981903,-0.24840076,-0.2592451],[-0.26165554,-0.26259816,-0.2626049,1.0546117,-0.262601,-0.2624191,-0.26183787,-0.2625961,3.7907345,-0.240478,0.16464467,-0.21481222,-0.26254466,-0.17173971,-0.26258445,-0.26255918,-0.24196509,-0.26222658,-0.22120859,0.32790723,-0.26260597,-0.2625768,-0.26118264,-0.2490848,-0.2623249,-0.11371461,-0.26252207,-0.2617685,-0.2616945,-0.23166989,-0.2448641,-0.26162615,-0.26241264,-0.25934106,-0.25448737,-0.2611458,-0.26017827,-0.2625256,-0.2552524,-0.2622496,-0.262603,-0.2620475,-0.23924121,-0.26221,5.4442306,-0.26258585,-0.24192682,-0.26185498],[-0.25822255,-0.25937262,-0.2593863,0.9178008,-0.25939617,-0.25888807,-0.2585953,-0.25937635,3.436436,-0.21904251,0.14665297,-0.2138961,-0.25915974,-0.13839145,-0.25922483,-0.25939593,-0.23874241,-0.2586944,-0.21964404,0.33253816,-0.25939238,-0.25939572,-0.2576925,-0.24508576,-0.25896776,-0.10960382,-0.25912765,-0.25874054,-0.2584618,-0.1864767,-0.2311856,-0.25813344,-0.2593189,-0.25525066,-0.25159824,-0.25805923,-0.25687662,-0.25931412,-0.25297534,-0.25891477,-0.2593628,-0.25865212,-0.23737308,-0.25864473,5.708061,-0.25937533,-0.23537886,-0.25870156],[-0.26822212,-0.26950288,-0.2695278,1.1776406,-0.2695216,-0.2686315,-0.26845202,-0.26947248,3.3930175,-0.2044389,0.19717751,-0.21126083,-0.2693846,-0.12117537,-0.2695219,-0.2694569,-0.24258108,-0.26909962,-0.2267581,0.2901014,-0.2694596,-0.2695203,-0.2681068,-0.24205701,-0.26928544,-0.09262012,-0.26909506,-0.26840353,-0.26844826,-0.100898765,-0.22831187,-0.26824847,-0.26950485,-0.2631079,-0.26325452,-0.26837173,-0.26761085,-0.26928368,-0.2627604,-0.2692035,-0.26952505,-0.26873013,-0.2468751,-0.26880175,5.675245,-0.2695286,-0.22660525,-0.26855436],[-0.2734951,-0.27466732,-0.2746602,1.057387,-0.27466613,-0.2719709,-0.2733516,-0.27458403,3.3161204,-0.13683735,0.17222406,-0.22177853,-0.27444762,-0.1435772,-0.2746214,-0.27466804,-0.25199226,-0.27439252,-0.23612152,0.32163295,-0.2745556,-0.27464646,-0.27241525,-0.23703548,-0.27426213,-0.08153175,-0.27439225,-0.27352792,-0.27354133,0.09985183,-0.18005565,-0.27288112,-0.27463272,-0.26933673,-0.2665564,-0.27379546,-0.2719425,-0.27444485,-0.2683696,-0.27427098,-0.27467167,-0.2739511,-0.2455093,-0.27412483,5.738119,-0.2746561,-0.22018462,-0.27421063],[-0.29245284,-0.29361176,-0.29366595,1.1098868,-0.29364988,-0.2885167,-0.29230896,-0.29358044,3.736116,-0.04479853,0.19685724,-0.23825437,-0.2934572,-0.1273762,-0.29365504,-0.29363677,-0.2717175,-0.2931986,-0.25515,0.31086773,-0.2933566,-0.29366958,-0.29080385,-0.24502216,-0.29309505,-0.081929296,-0.29282746,-0.2925518,-0.29228944,0.48493367,-0.15338631,-0.29193026,-0.29363406,-0.2861673,-0.28576362,-0.29262358,-0.2909292,-0.29332203,-0.28679758,-0.29311627,-0.2936703,-0.29279903,-0.26723745,-0.2927809,5.410308,-0.29356247,-0.21367131,-0.29300144],[-0.3104072,-0.31233707,-0.3123105,0.9705108,-0.3122237,-0.30269742,-0.31135634,-0.31233865,3.3887405,0.051300243,0.11269714,-0.26149234,-0.31233132,-0.141216,-0.3123565,-0.31225404,-0.28871512,-0.31208315,-0.26778376,0.3953066,-0.31212336,-0.31233597,-0.30956537,-0.23503974,-0.3117576,-0.08919307,-0.31118488,-0.31128067,-0.31075272,1.4146047,-0.100239456,-0.31037852,-0.3123364,-0.3010897,-0.30485007,-0.31112668,-0.30846316,-0.3121669,-0.30544257,-0.3118744,-0.31235284,-0.31122628,-0.28606513,-0.31127357,5.464774,-0.31233856,-0.19018506,-0.31138816],[-0.3318222,-0.33457285,-0.33463448,0.9267824,-0.3344756,-0.31945077,-0.33296102,-0.33467522,3.256064,0.2972752,0.10175662,-0.28267983,-0.33400217,-0.18445171,-0.33454993,-0.33467457,-0.3086857,-0.3344457,-0.27947518,0.28703812,-0.3343075,-0.33467218,-0.3309416,-0.24213931,-0.33378,-0.106492236,-0.33171675,-0.33274418,-0.3331002,2.5210555,0.02926578,-0.33309942,-0.3346797,-0.31960872,-0.32694635,-0.33355635,-0.33034098,-0.33451667,-0.32531628,-0.3339018,-0.3346342,-0.33377218,-0.29723316,-0.33377466,5.0959496,-0.33463404,-0.1796183,-0.3341015],[-0.33703983,-0.33917987,-0.33915898,0.84025383,-0.338819,-0.32015646,-0.33787975,-0.33918974,2.800182,0.37882766,0.065345384,-0.28483474,-0.33912054,-0.1729006,-0.3392064,-0.33919978,-0.317399,-0.3390601,-0.2984795,0.30635116,-0.33863676,-0.3391125,-0.3355636,-0.22155124,-0.33770952,-0.1271423,-0.3381729,-0.33798602,-0.3378689,3.369202,0.056124285,-0.3372557,-0.33920622,-0.3256232,-0.3310572,-0.33793637,-0.33419594,-0.33901,-0.33183777,-0.338624,-0.33910367,-0.33766383,-0.30764338,-0.33794844,4.8695216,-0.33915263,-0.1763602,-0.3378223],[-0.32709754,-0.3285983,-0.32883483,0.5552627,-0.32853726,-0.3080457,-0.32719904,-0.32883626,1.9420947,0.73512864,-0.0021587235,-0.2890872,-0.32865763,-0.199621,-0.3288053,-0.32883656,-0.3077747,-0.3287076,-0.29339755,0.15811382,-0.32828692,-0.32850796,-0.32627204,-0.20980895,-0.32815254,-0.15118305,-0.32717812,-0.32739836,-0.32743612,5.211177,0.2310986,-0.32708555,-0.32882905,-0.31566,-0.32209644,-0.32802963,-0.32453352,-0.32863548,-0.32276854,-0.32830015,-0.32879978,-0.32790682,-0.29951772,-0.32804283,3.4977725,-0.32883564,-0.125093,-0.32809377],[-0.30848888,-0.3101313,-0.31003878,0.5307461,-0.3099512,-0.2901402,-0.30769905,-0.31006804,1.8765163,0.57277536,-0.09013395,-0.28479764,-0.30986327,-0.1948081,-0.30998272,-0.31006378,-0.2951408,-0.30998322,-0.29024267,0.08540345,-0.30930853,-0.30998817,-0.30585098,-0.17987864,-0.30961573,-0.14561948,-0.30776194,-0.30959544,-0.30873844,5.7782054,0.2607457,-0.30851275,-0.31011862,-0.28645024,-0.30661482,-0.30998334,-0.30814388,-0.31013194,-0.30427617,-0.3098663,-0.30931097,-0.3087963,-0.28947058,-0.30926657,2.628674,-0.31013113,-0.11474399,-0.3093576],[-0.3110793,-0.31301582,-0.31274885,0.57839435,-0.31281912,-0.29533297,-0.31051794,-0.31284422,1.9609329,0.59716284,-0.059076495,-0.28741738,-0.3125013,-0.19540547,-0.31299043,-0.31302875,-0.29748395,-0.31258157,-0.29672146,0.13743207,-0.31219804,-0.31170404,-0.3092052,-0.20484032,-0.3129068,-0.16808386,-0.31066388,-0.31300768,-0.31103808,5.747905,0.2718864,-0.3107185,-0.3130366,-0.28302526,-0.3071782,-0.312811,-0.3096628,-0.3113278,-0.30759856,-0.3123109,-0.30772555,-0.31201276,-0.29466668,-0.31197402,2.598637,-0.3129928,-0.16630615,-0.3097891],[-0.31204063,-0.31461114,-0.31414765,0.517877,-0.3141178,-0.29494154,-0.3118095,-0.31436557,2.1695814,0.55500335,-0.07128714,-0.28488454,-0.31402966,-0.19550754,-0.31459835,-0.31462672,-0.29958943,-0.31427085,-0.29453585,0.060681455,-0.31227723,-0.3128216,-0.31018373,-0.18472864,-0.3144712,-0.17545545,-0.31305355,-0.31376958,-0.3127449,5.6624575,0.29702428,-0.3120743,-0.31455615,-0.2869977,-0.3124859,-0.3145992,-0.3135383,-0.3085714,-0.30968034,-0.31380218,-0.30159885,-0.31267622,-0.29228154,-0.31366405,2.6403286,-0.31453001,-0.14430903,-0.3087186],[-0.32573134,-0.32818305,-0.32794026,0.7103166,-0.32773483,-0.31516933,-0.32484382,-0.3278434,2.3589182,0.51220644,-0.06259744,-0.29373303,-0.32742822,-0.15474103,-0.32818174,-0.3280863,-0.31024116,-0.3270795,-0.31214246,0.13089429,-0.3250916,-0.3257087,-0.32460412,-0.22027501,-0.32817885,-0.17816009,-0.32610285,-0.32399634,-0.32531968,5.282968,0.24251905,-0.32512864,-0.32818565,-0.2956275,-0.32511905,-0.32813644,-0.32632637,-0.30620566,-0.32207832,-0.32699192,-0.2952644,-0.32666373,-0.30943343,-0.3263776,3.1305957,-0.32818484,-0.18297547,-0.3166039],[-0.31654155,-0.31981188,-0.31940258,0.54694414,-0.31896028,-0.30707878,-0.31615487,-0.3190162,2.168763,0.45063767,-0.08432289,-0.28158426,-0.31899214,-0.14521515,-0.31984594,-0.31962118,-0.2967731,-0.31932625,-0.2956939,0.06274216,-0.31690517,-0.3153563,-0.31684822,-0.20916152,-0.31984398,-0.16177484,-0.3167845,-0.29859105,-0.31729904,5.431764,0.14380066,-0.3163896,-0.31983683,-0.27525532,-0.31763,-0.31970024,-0.3181725,-0.27472177,-0.31551415,-0.3189152,-0.266333,-0.31849122,-0.3017417,-0.31795523,3.1076329,-0.31976035,-0.14864038,-0.29232168],[-0.32006016,-0.32332802,-0.32275492,0.49077535,-0.3230981,-0.30820066,-0.31939858,-0.32267118,2.1060128,0.4166606,-0.123211846,-0.29432094,-0.32272476,-0.093123645,-0.32331353,-0.3231284,-0.2925075,-0.32302594,-0.3063474,0.112068415,-0.31893885,-0.31685254,-0.320397,-0.1878847,-0.32312885,-0.16724995,-0.3219109,-0.27528656,-0.32040015,5.5829043,0.2600535,-0.3193727,-0.32332224,-0.27632496,-0.32066315,-0.32335848,-0.32223463,-0.22237033,-0.31840858,-0.322618,-0.20991303,-0.32123184,-0.30781603,-0.3216061,2.881197,-0.32328638,-0.1321467,-0.29173356],[-0.32712358,-0.3312794,-0.3304796,0.5240716,-0.33037618,-0.32139736,-0.3269996,-0.33086392,2.302705,0.47689345,-0.11519347,-0.2954189,-0.330083,-0.09841528,-0.33127928,-0.3311806,-0.29922393,-0.3304874,-0.31033722,0.09697524,-0.3237259,-0.32001203,-0.32836017,-0.23343565,-0.33127874,-0.16292144,-0.32901022,-0.22856711,-0.32704666,5.6322494,0.22960813,-0.3266477,-0.33124375,-0.27525583,-0.32912743,-0.33124918,-0.32909396,-0.11690375,-0.3276089,-0.32973242,-0.12821701,-0.32759747,-0.31347752,-0.32869038,2.5973647,-0.3309375,-0.13926058,-0.27032778],[-0.35793898,-0.3626699,-0.36182138,0.65224636,-0.3623036,-0.3520688,-0.35751444,-0.36189422,2.276322,0.49575612,-0.13549794,-0.32770607,-0.36132228,-0.07419967,-0.36268562,-0.3626257,-0.3268958,-0.36168483,-0.3392384,0.19759554,-0.3521619,-0.3384955,-0.35934448,-0.23002298,-0.36271462,-0.1812627,-0.36219636,-0.14284874,-0.35784084,5.2694674,0.2878253,-0.35684872,-0.36251602,-0.2976109,-0.35917184,-0.36271587,-0.3606379,0.09632962,-0.35580277,-0.36055914,0.08685204,-0.35748303,-0.34299475,-0.3599802,3.157207,-0.36240554,-0.16582774,-0.2600902],[-0.34692347,-0.35103384,-0.35055816,0.5174102,-0.35043326,-0.3420801,-0.34671208,-0.3506919,1.9018211,0.42306107,-0.16026737,-0.3185105,-0.34996775,-0.07422682,-0.35107455,-0.35091436,-0.3189536,-0.3506465,-0.3337496,0.07275487,-0.33698457,-0.32642695,-0.3487664,-0.23183526,-0.35115448,-0.19944523,-0.3480896,0.026902506,-0.34689415,5.740751,0.18447125,-0.3461738,-0.35115296,-0.29124007,-0.34967285,-0.3511358,-0.34966487,0.35256478,-0.34733355,-0.34923482,0.23801273,-0.34695837,-0.33540487,-0.34832266,2.5975995,-0.35086304,-0.18523605,-0.21661237],[-0.38809663,-0.39294413,-0.3922961,0.47014034,-0.39220405,-0.38321844,-0.38757896,-0.39214772,1.9529387,0.43467838,-0.19504069,-0.3594685,-0.39140913,-0.07591227,-0.3930327,-0.39302108,-0.34573925,-0.3923983,-0.361339,0.14612287,-0.37563062,-0.36044472,-0.3890548,-0.27006105,-0.39277467,-0.20188668,-0.38811952,0.3736438,-0.38826787,5.4610248,0.26261047,-0.38788655,-0.39303195,-0.31258398,-0.38994047,-0.39305303,-0.3893823,0.882792,-0.38945982,-0.39038187,0.7082778,-0.38660172,-0.37976858,-0.38976792,2.7298124,-0.39230752,-0.2562977,-0.16949187],[-0.4191067,-0.42459312,-0.423371,0.53419816,-0.42397755,-0.41440195,-0.4186603,-0.42370722,1.7636567,0.35017037,-0.21257642,-0.38126853,-0.4225871,-0.082541026,-0.4245959,-0.4244375,-0.35824606,-0.42368326,-0.40018398,0.07020279,-0.39918366,-0.36823675,-0.4204398,-0.28716522,-0.42455742,-0.21011087,-0.42015046,0.7461227,-0.4196453,5.2853866,0.24068487,-0.41798854,-0.424471,-0.32469228,-0.42244154,-0.42457557,-0.42160577,1.7792665,-0.42016417,-0.42246947,1.1503515,-0.41301835,-0.41077417,-0.42113018,2.3869247,-0.42376703,-0.25082442,-0.08161508],[-0.45128798,-0.4574434,-0.45549616,0.46233955,-0.45695144,-0.4473523,-0.45137328,-0.45669925,1.6787524,0.34064892,-0.23571889,-0.41679502,-0.455421,-0.17715949,-0.4574704,-0.45744577,-0.39336255,-0.45655116,-0.42925525,0.029459856,-0.43441573,-0.38745967,-0.45402727,-0.28307566,-0.45743892,-0.31066415,-0.45428535,1.2732868,-0.45166713,4.3837557,0.22754695,-0.45077786,-0.4573787,-0.355288,-0.45518008,-0.45745778,-0.45504346,2.8091316,-0.4503948,-0.4548839,2.0526888,-0.44895905,-0.4445813,-0.45303696,2.2604265,-0.4569591,-0.30251983,0.013238813],[-0.4533928,-0.46003607,-0.45995703,0.33997244,-0.45959496,-0.4500825,-0.4543678,-0.45959622,1.404644,0.23901862,-0.26667112,-0.42418554,-0.45836183,-0.11347462,-0.46032065,-0.4600026,-0.37140468,-0.45934123,-0.43859255,0.017631967,-0.4338609,-0.37994385,-0.4583183,-0.31505856,-0.46019527,-0.3030723,-0.45449778,1.6092614,-0.45423248,3.7603192,0.07367076,-0.45496926,-0.46034163,-0.3326519,-0.45885727,-0.46037015,-0.45765665,3.4209986,-0.45555893,-0.4578297,2.2720141,-0.45358106,-0.4451845,-0.4562643,2.3356092,-0.45966,-0.2850694,0.07341574],[-0.44024915,-0.44671342,-0.44622213,0.22575188,-0.44571978,-0.43589124,-0.4439463,-0.4467483,1.1471168,0.23565955,-0.23175591,-0.40869823,-0.44418865,0.039243564,-0.44678187,-0.4466867,-0.396907,-0.44556445,-0.4092399,-0.083504535,-0.40630063,-0.38888666,-0.44256237,-0.29939973,-0.4466179,-0.30066517,-0.44638303,1.5291734,-0.4424918,3.750579,0.0674058,-0.44098726,-0.44667697,-0.38932502,-0.4454147,-0.4467816,-0.44639385,3.9173627,-0.4422979,-0.44475904,1.8921789,-0.43995544,-0.43357366,-0.44243097,2.1895676,-0.44601485,-0.24643241,0.10912939],[-0.4430617,-0.44941524,-0.44847497,0.29545572,-0.44851446,-0.44564196,-0.4488336,-0.44847792,1.1030779,0.14341055,-0.21828867,-0.40472537,-0.44748,0.111986265,-0.44937894,-0.44929063,-0.36862826,-0.4488526,-0.42515576,-0.13394074,-0.4068527,-0.3738146,-0.4481938,-0.31513348,-0.44952986,-0.34037971,-0.44886988,1.8404063,-0.44397038,3.4624405,0.034818564,-0.4432935,-0.44936505,-0.3852862,-0.44847167,-0.44951278,-0.44896683,4.002967,-0.4471206,-0.4469582,2.0327628,-0.4436985,-0.43721324,-0.44475242,2.1410131,-0.44860846,-0.2713618,0.101174966],[-0.43956247,-0.4466001,-0.4460744,0.31477195,-0.4462939,-0.44017953,-0.44722578,-0.44286978,0.9911625,0.18419813,-0.21298116,-0.40469486,-0.44354677,0.048680507,-0.44691828,-0.4434,-0.36455232,-0.44649175,-0.41032216,-0.048927996,-0.41006494,-0.3851388,-0.44446933,-0.2767553,-0.44731396,-0.3401125,-0.44672707,1.2835346,-0.44195452,3.5230563,0.07343733,-0.441248,-0.44707897,-0.3844619,-0.446778,-0.4470096,-0.44709975,4.072553,-0.4456455,-0.44414872,2.1915898,-0.44162026,-0.43208703,-0.44223917,2.2357879,-0.44527566,-0.25551698,0.124614865],[-0.43140343,-0.43935686,-0.43877214,0.26211685,-0.4387926,-0.43564633,-0.43672532,-0.42810404,1.0815058,0.2233882,-0.19976914,-0.3804338,-0.43588126,-0.0153314145,-0.43949983,-0.43130305,-0.3572291,-0.43826652,-0.41495577,-0.11248426,-0.3916222,-0.3604881,-0.43791518,-0.3058206,-0.4397159,-0.34463376,-0.4394686,1.4502717,-0.4331337,3.270413,0.18687242,-0.43239862,-0.43960798,-0.36702344,-0.43937352,-0.4397472,-0.43947393,4.5491333,-0.43736002,-0.43552852,1.8717606,-0.43276858,-0.4266107,-0.43440047,1.866013,-0.43787864,-0.2618087,0.08925875],[-0.43386117,-0.44287094,-0.4422761,0.264583,-0.44243875,-0.43793368,-0.43299198,-0.40683088,1.1108927,0.20831238,-0.21458226,-0.40720278,-0.43936363,-0.019085996,-0.44376397,-0.42909825,-0.35767058,-0.4427701,-0.41646075,-0.1395051,-0.41029048,-0.3805361,-0.44296044,-0.30429158,-0.44394976,-0.34602842,-0.44291762,1.4841063,-0.43707046,3.6600695,0.12088395,-0.43616435,-0.44300523,-0.36820725,-0.44389594,-0.44348267,-0.44394788,4.0630193,-0.44254622,-0.4402806,1.9135727,-0.44091755,-0.43458128,-0.4368597,2.1346734,-0.44164246,-0.24179716,0.053967867],[-0.45428464,-0.46455178,-0.46357208,0.38697585,-0.46477988,-0.4619776,-0.42094103,-0.39325383,1.0449374,0.25890446,-0.16223508,-0.41947058,-0.46079218,0.06703305,-0.4657744,-0.4284834,-0.31932938,-0.46452957,-0.43649796,-0.12998103,-0.41751683,-0.38062206,-0.4654344,-0.29768303,-0.46552008,-0.36133325,-0.46598783,1.6393477,-0.45620933,3.3406162,0.1780931,-0.45583534,-0.46556234,-0.3674164,-0.4657297,-0.46580458,-0.4655522,4.1659627,-0.46482068,-0.45984975,2.0015187,-0.4614394,-0.4540154,-0.45816788,2.1696053,-0.46252298,-0.21407722,0.12855913],[-0.44260922,-0.45299074,-0.45262143,0.18931943,-0.45224923,-0.4515158,-0.3509917,-0.31384525,1.1492988,0.101992644,-0.21116574,-0.40237084,-0.45043492,0.047177467,-0.45451832,-0.41046733,-0.31963858,-0.45383912,-0.4286622,-0.077022605,-0.38785237,-0.39831194,-0.45416656,-0.32180646,-0.45428,-0.36224368,-0.45373094,1.588329,-0.44459873,3.5539973,0.14570884,-0.44491056,-0.45432267,-0.35949144,-0.4546826,-0.45421553,-0.45469713,4.1426735,-0.45441812,-0.4487056,1.7765837,-0.44915918,-0.44696045,-0.44547173,2.1875482,-0.4520328,-0.21750417,0.055877447],[-0.45159426,-0.46290874,-0.45830482,0.23526388,-0.45957255,-0.45989886,-0.2669632,-0.16279265,1.0189294,0.12618575,-0.22702903,-0.40828416,-0.4577786,0.006354233,-0.46269134,-0.39540324,-0.32694194,-0.4612408,-0.43716806,-0.07332238,-0.41204756,-0.3929711,-0.4620897,-0.31697446,-0.46285272,-0.37974557,-0.46211922,1.8294133,-0.4525806,3.2772348,0.121406175,-0.45157322,-0.46211448,-0.36568114,-0.46317416,-0.46287668,-0.46301904,4.2900863,-0.46216172,-0.45784774,1.9879006,-0.45909375,-0.45764878,-0.45332983,1.9891245,-0.46045187,-0.25873545,0.109084554],[-0.45437622,-0.46638784,-0.4642552,0.17588647,-0.46489084,-0.46560073,-0.082170226,-0.023012394,1.0459251,0.13286315,-0.2247467,-0.4145908,-0.4617899,0.023034249,-0.4671374,-0.34974426,-0.25326425,-0.46611568,-0.44621432,-0.096400745,-0.39390975,-0.4026595,-0.46718574,-0.32321244,-0.46685034,-0.40812385,-0.4659025,1.637965,-0.45461905,2.89358,0.18455139,-0.4546568,-0.465628,-0.3525724,-0.46717137,-0.46631405,-0.46717185,4.6577096,-0.4669205,-0.46071416,2.108954,-0.46421087,-0.45864746,-0.45731243,1.792015,-0.46449634,-0.2634924,0.03998541],[-0.48219982,-0.49754968,-0.4925764,0.1921945,-0.49570337,-0.4954675,0.21242183,0.33580792,0.95035857,0.1510131,-0.2402942,-0.45157325,-0.49112585,-0.06694196,-0.49736035,-0.34219298,-0.29229423,-0.49586856,-0.47400603,-0.1345211,-0.4361734,-0.4192689,-0.49777707,-0.31946468,-0.4969006,-0.42706126,-0.49776888,1.5986965,-0.4851824,3.5000591,0.3490254,-0.48329404,-0.49716845,-0.41024837,-0.49746692,-0.49680534,-0.49777758,4.011445,-0.49738172,-0.49008054,2.1775477,-0.48575482,-0.4893033,-0.48548484,1.9642476,-0.4947785,-0.20460372,0.116604336],[-0.49867412,-0.5146361,-0.50993055,0.26748273,-0.5123348,-0.51150584,0.996273,0.9756798,1.0348624,0.025064014,-0.23816311,-0.44342926,-0.50710684,-0.041206896,-0.51427245,-0.2283957,-0.3479851,-0.51386565,-0.48433426,-0.130217,-0.4341103,-0.4316873,-0.5151931,-0.3531047,-0.51533127,-0.438314,-0.51477325,1.4298366,-0.502228,3.1985068,0.098366566,-0.5002477,-0.51371145,-0.41350093,-0.51551855,-0.5145231,-0.51552916,4.3082905,-0.5150758,-0.50809443,1.6658038,-0.5092524,-0.50365,-0.5033776,1.9019313,-0.5120168,-0.21429336,0.037495777],[-0.5207656,-0.5384786,-0.53230053,0.20754097,-0.5384042,-0.5366442,1.6902786,1.7124453,0.91513985,-0.025111422,-0.26097295,-0.4665059,-0.53195053,-0.06432438,-0.5371039,-0.16371368,-0.3196024,-0.5382049,-0.51181006,-0.050667297,-0.4496348,-0.44864988,-0.53924316,-0.34393138,-0.5386352,-0.4747005,-0.53900856,1.2640998,-0.5228673,2.9391348,0.31883922,-0.52189326,-0.5380296,-0.4461299,-0.5394571,-0.5373682,-0.5396042,4.0287576,-0.5390991,-0.52871466,1.8141986,-0.5287107,-0.5348222,-0.5249644,1.7569499,-0.53569126,-0.294045,-0.045623027],[-0.525832,-0.5416803,-0.5365546,0.12620318,-0.53954923,-0.5420561,2.6969852,2.6658587,0.726904,-0.044991493,-0.31347328,-0.49911007,-0.53754264,-0.08802216,-0.5428587,-0.12366243,-0.3175154,-0.54193693,-0.516401,-0.15849133,-0.43077204,-0.47006884,-0.5428552,-0.37439275,-0.54209775,-0.46545967,-0.54233056,1.5340712,-0.5264574,2.5220673,0.11233342,-0.5269007,-0.5415825,-0.42618462,-0.5426729,-0.54225546,-0.5431749,3.1799743,-0.54307544,-0.5330983,1.7455317,-0.5370316,-0.53936106,-0.52751905,1.6214359,-0.54028237,-0.28737924,-0.036736444],[-0.48866585,-0.5046947,-0.50039184,0.026843823,-0.50135106,-0.5029526,3.7817125,3.2124436,0.5655044,-0.015848534,-0.3119538,-0.45137954,-0.50045216,-0.19481279,-0.5051575,0.040940203,-0.34005594,-0.5044323,-0.47276923,-0.19303714,-0.429714,-0.4411112,-0.505255,-0.3293381,-0.5052107,-0.44464174,-0.5051202,1.0025392,-0.49212152,1.9998364,0.1347942,-0.49195626,-0.5042897,-0.37360564,-0.5049115,-0.50491047,-0.5052609,2.8067768,-0.50526744,-0.49801132,1.0966367,-0.50162476,-0.5003263,-0.490868,1.2137734,-0.5017354,-0.26320282,-0.09536254],[-0.47608292,-0.49208203,-0.4868305,0.05775899,-0.48829803,-0.48953944,3.9711027,3.6087599,0.4794947,-0.09974359,-0.250098,-0.43506813,-0.48713052,-0.35093954,-0.49180645,-0.039355252,-0.30142945,-0.49332473,-0.4572598,0.024542995,-0.45183143,-0.36889812,-0.49278432,-0.37902433,-0.49148217,-0.45164883,-0.4901706,1.1654763,-0.47879845,1.8360125,0.09211414,-0.47777382,-0.49271443,-0.37890995,-0.49221963,-0.49331966,-0.49245086,2.130615,-0.49334446,-0.48504195,1.2246432,-0.47838667,-0.48266098,-0.48528478,1.0165367,-0.49086726,-0.22311044,-0.19734651],[-0.47402105,-0.4915168,-0.4826043,-0.005011055,-0.48793575,-0.49020144,4.2420707,3.4920866,0.44512585,-0.13102253,-0.25594512,-0.44232133,-0.48601553,-0.28276452,-0.49020976,0.08191199,-0.14062412,-0.49117813,-0.45196575,-0.026667519,-0.44090948,-0.37895283,-0.4908537,-0.38879862,-0.48985636,-0.4601295,-0.4915987,1.3257756,-0.47532898,1.6555238,0.039038345,-0.47427914,-0.48974097,-0.4191821,-0.48844188,-0.49071816,-0.4909773,1.8412412,-0.4914624,-0.4813087,1.2647988,-0.47821254,-0.48541653,-0.4864141,1.0247895,-0.48869768,-0.23846835,-0.16260828],[-0.4786391,-0.4956196,-0.49085552,0.00810576,-0.49515787,-0.49343184,4.1377816,3.3829362,0.44274056,-0.1586271,-0.2712998,-0.44175282,-0.49207154,-0.32921752,-0.49480608,0.006993581,-0.14311634,-0.49754718,-0.45885924,-0.026021523,-0.4574818,-0.36249173,-0.4963297,-0.38121125,-0.49199513,-0.47540036,-0.49473932,1.1788132,-0.48135036,1.886537,0.13399822,-0.48138037,-0.49708366,-0.39491898,-0.49532348,-0.4979099,-0.49690437,2.071828,-0.4980759,-0.48786253,1.3438205,-0.48599643,-0.4861348,-0.49700642,0.97785586,-0.4935874,-0.19256628,-0.15863632],[-0.46773767,-0.48741782,-0.4795206,0.052630246,-0.48568007,-0.487296,4.3201094,3.2884748,0.44808277,-0.07495863,-0.26535708,-0.4332583,-0.4808123,-0.35847077,-0.4865063,0.018627938,-0.25918624,-0.48693964,-0.42509395,-0.1414974,-0.4453329,-0.32164446,-0.48672175,-0.38477296,-0.48561367,-0.4621235,-0.48929003,1.1238177,-0.47100884,1.7362257,0.019114558,-0.4701401,-0.4861665,-0.40830177,-0.48646244,-0.48857737,-0.4883973,2.0391476,-0.48924834,-0.47790545,1.303674,-0.4778644,-0.46798828,-0.48920396,1.09046,-0.483767,-0.19990778,-0.16019274],[-0.45632666,-0.47525722,-0.4677717,0.007822136,-0.47332838,-0.47361258,4.4452577,3.4833477,0.37393677,-0.12790851,-0.29172897,-0.42195436,-0.46898386,-0.31745127,-0.47429535,0.16099934,-0.20733252,-0.47183105,-0.39943606,-0.07820217,-0.42406642,-0.34780055,-0.47676226,-0.37495908,-0.4744096,-0.44860008,-0.4762168,1.2725147,-0.4597475,1.5948154,0.029486278,-0.4578081,-0.47403783,-0.35362563,-0.47486258,-0.47686192,-0.47692177,1.868091,-0.47708067,-0.46689263,0.89042693,-0.46720514,-0.4514323,-0.47395355,0.9336618,-0.47058234,-0.23448889,-0.21662496],[-0.469434,-0.48801726,-0.48094893,0.0584549,-0.4887088,-0.48885858,4.309797,3.1634738,0.4183366,-0.088964395,-0.27639467,-0.42628044,-0.4824544,-0.38875464,-0.4887941,-0.0018944839,-0.21258004,-0.47999933,-0.4104005,-0.16700366,-0.41107824,-0.33164528,-0.49008504,-0.39856973,-0.48675427,-0.4624763,-0.4908374,1.361298,-0.47224376,1.8502302,0.014978917,-0.47141266,-0.4889071,-0.40436676,-0.4873504,-0.49163783,-0.49044728,2.1623552,-0.49217188,-0.4778618,1.0646548,-0.47988284,-0.46019584,-0.46819472,1.0758591,-0.48537582,-0.21044308,-0.18801264],[-0.4719915,-0.4907548,-0.48361245,0.031581815,-0.4919875,-0.48953855,4.3540754,3.3510296,0.31217054,-0.11978349,-0.26340353,-0.43110394,-0.48503953,-0.35984665,-0.49061453,0.10939792,-0.15890701,-0.47473258,-0.42358735,-0.17827941,-0.42765117,-0.21942367,-0.49120185,-0.39227983,-0.48836753,-0.47560844,-0.49531507,1.037117,-0.47616038,1.7318292,0.06853097,-0.47323814,-0.49142563,-0.41698256,-0.49018285,-0.49424496,-0.49336064,2.0905,-0.49500087,-0.48183164,1.2313217,-0.4864185,-0.43069834,-0.4384299,0.9140721,-0.48804432,-0.119017735,-0.15356177],[-0.47449633,-0.49674234,-0.4873894,-0.011320914,-0.49570453,-0.49691993,4.3662896,3.2430334,0.43830118,-0.146029,-0.28084517,-0.43127123,-0.4902789,-0.4235661,-0.49366105,-0.013747081,0.015278012,-0.4493347,-0.3882776,-0.12908152,-0.40842745,-0.2857656,-0.49613407,-0.4060117,-0.49351513,-0.48984173,-0.49854052,0.9818147,-0.47682366,1.9471756,0.09769574,-0.47858658,-0.49677315,-0.40128466,-0.49399766,-0.49757886,-0.4974679,2.067241,-0.4987276,-0.4833275,1.1117319,-0.47138262,-0.43424144,-0.35397077,1.000318,-0.4925719,-0.20996529,-0.19527692],[-0.47363618,-0.49509144,-0.48573628,0.0133183645,-0.49468312,-0.49045637,4.5121813,3.2259197,0.3753383,-0.028719543,-0.26828307,-0.4363405,-0.48657188,-0.3994508,-0.49259382,-0.029307604,-0.14533764,-0.4345243,-0.39308998,-0.14452718,-0.4004056,-0.28327733,-0.4948668,-0.4217912,-0.49338195,-0.48199078,-0.49723044,1.1578013,-0.4747173,1.77922,0.07814559,-0.4763573,-0.49484453,-0.39851162,-0.4936895,-0.4958281,-0.49654,1.9481381,-0.49660274,-0.48390788,1.0154455,-0.4741474,-0.39940554,-0.17462172,0.9803297,-0.4905178,-0.2099056,-0.25494486],[-0.48249888,-0.5065751,-0.49756768,0.0036733705,-0.5074781,-0.5043306,4.868131,2.6667717,0.33420596,-0.088360004,-0.3214217,-0.43544513,-0.50065005,-0.3933421,-0.5076744,-0.036401026,-0.051018886,-0.38368672,-0.3657606,-0.11604038,-0.40602046,-0.22755826,-0.50604373,-0.4152897,-0.50761735,-0.49614966,-0.5105913,1.6303606,-0.48661703,1.753058,0.056006443,-0.4866786,-0.50623477,-0.37187925,-0.503476,-0.510448,-0.50843203,1.7375897,-0.5085983,-0.49718356,0.85421216,-0.46822366,-0.39728442,0.06745439,0.8587895,-0.5001191,-0.11296218,-0.204592],[-0.5151652,-0.54583263,-0.53037405,0.0761996,-0.5469261,-0.54040664,4.4094415,3.0616295,0.34099975,-0.08613093,-0.3240139,-0.46388805,-0.53506875,-0.44452184,-0.5395428,0.091121145,-0.12853873,-0.40431583,-0.33176363,-0.1859182,-0.46113184,-0.12048392,-0.5423027,-0.46271607,-0.54264426,-0.53461486,-0.54707223,1.4157346,-0.51946217,1.6912875,0.13780615,-0.5200271,-0.5416052,-0.448051,-0.5388996,-0.5472089,-0.5455903,1.9931566,-0.5466555,-0.5293333,1.0426564,-0.49089345,-0.38063297,0.69161403,0.88500494,-0.53620076,-0.15171613,-0.20700188],[-0.5235978,-0.54803187,-0.53649855,0.018563563,-0.552856,-0.5461215,4.3226323,2.9291317,0.32683104,-0.07862102,-0.34336263,-0.4991463,-0.5449044,-0.47014806,-0.54830825,-0.0072080134,-0.12342168,-0.31143954,-0.3891468,-0.29407975,-0.40567932,-0.12973218,-0.54874194,-0.44651422,-0.5456215,-0.5470191,-0.55376464,1.4244219,-0.5268281,1.7585652,-0.008808596,-0.52810663,-0.55069596,-0.4432516,-0.54600143,-0.55303955,-0.5525133,1.7323902,-0.55253917,-0.5345731,1.1270412,-0.520067,-0.36817524,1.5663295,0.86144644,-0.54173315,-0.124854885,-0.22219856],[-0.54298186,-0.57296574,-0.55715,-0.054321144,-0.576214,-0.56428903,4.0595574,2.604207,0.17576982,-0.059961945,-0.32923797,-0.49966162,-0.5646414,-0.4565675,-0.57175344,0.13099442,0.16493061,-0.34027869,-0.30934042,-0.32739735,-0.44693032,-0.060960755,-0.5696366,-0.48360953,-0.56856936,-0.57065547,-0.5767704,1.1456985,-0.54612774,1.5523999,-0.020055907,-0.5447964,-0.5709659,-0.39348373,-0.567734,-0.57685715,-0.5758955,1.8384639,-0.5739918,-0.5573569,0.95643485,-0.5480718,-0.2450893,2.7652876,0.73814774,-0.56445664,-0.0037213836,-0.239393],[-0.5027209,-0.5279906,-0.51506466,-0.04069895,-0.5337169,-0.5257498,3.3458052,2.0163882,0.08123885,-0.11741516,-0.3675886,-0.47615582,-0.52073663,-0.46917754,-0.5257667,0.103052355,-0.056564625,-0.13706705,-0.32167658,-0.2745344,-0.4077317,-0.06031155,-0.5259664,-0.46419242,-0.52784604,-0.528703,-0.5343364,0.84319687,-0.50418794,1.3317088,0.059535656,-0.5052666,-0.52732325,-0.44215187,-0.52552366,-0.5308549,-0.53069407,1.6102641,-0.5313712,-0.5156567,0.7258035,-0.5024134,-0.25169104,4.4048424,0.6018974,-0.5201804,-0.027385455,-0.24732031],[-0.41875497,-0.43837404,-0.42911747,-0.053672772,-0.44196326,-0.42982027,2.595186,1.1636589,-0.011762369,-0.10198626,-0.33183113,-0.40251476,-0.43376696,-0.3773065,-0.4376385,-0.10568749,-0.089983255,-0.06614944,-0.25758183,-0.1885399,-0.31115276,-0.093920134,-0.43613422,-0.3707186,-0.43676412,-0.43759757,-0.44174084,0.84283954,-0.4200166,0.8144256,-0.062665835,-0.41998777,-0.4386063,-0.36284634,-0.43411854,-0.44064716,-0.43983582,0.99413633,-0.44037402,-0.42946294,0.401311,-0.4079759,-0.19740172,5.6735296,0.3677803,-0.43378404,-0.11396842,-0.26669598],[-0.44745818,-0.463815,-0.45467746,-0.017005242,-0.4646829,-0.45769227,2.6116064,1.1904151,-0.015567828,-0.241434,-0.38265622,-0.44002232,-0.45866513,-0.3640273,-0.46232054,0.18345296,0.005119026,-0.11407802,-0.3202411,-0.2545957,-0.35475233,0.04737376,-0.46056834,-0.3818128,-0.45788288,-0.45352373,-0.46473747,0.5902351,-0.44439802,0.92405903,-0.03756348,-0.44487944,-0.45903087,-0.3649099,-0.4589596,-0.46098766,-0.46509513,1.4799452,-0.46455243,-0.44904572,0.41441515,-0.4322373,-0.22714621,5.5102825,0.36543345,-0.45699784,-0.014987102,-0.20933083],[-0.4402293,-0.45260617,-0.4389868,0.019576028,-0.4524135,-0.44028074,2.4033267,1.1987661,-0.0012627128,-0.18954615,-0.36247483,-0.4335491,-0.44796517,-0.394701,-0.45077324,0.017315045,0.0020684416,-0.23743653,-0.31688866,-0.2703213,-0.35103428,0.064568006,-0.44878975,-0.35704505,-0.44537613,-0.44079974,-0.45156762,0.65927917,-0.43207696,0.84091026,-0.010845233,-0.43393695,-0.44500408,-0.32766968,-0.4454335,-0.44715628,-0.45105132,1.3276223,-0.45091256,-0.43813866,0.48536503,-0.4185083,-0.26668668,5.663378,0.39088473,-0.44806314,-0.054262,-0.17926575],[-0.46042198,-0.46992365,-0.4572693,-0.015097024,-0.47060356,-0.46625635,2.7366676,1.1300892,-0.0032745425,-0.22099651,-0.39117467,-0.45284525,-0.46989924,-0.40030742,-0.4699844,0.29170933,0.15552047,-0.12806901,-0.35639182,-0.3103887,-0.36615515,0.07807227,-0.46505493,-0.39596003,-0.46357444,-0.46516415,-0.470851,0.55540335,-0.4453332,0.83663446,0.10506145,-0.44957596,-0.46580166,-0.37344792,-0.460816,-0.46523005,-0.47019866,1.13852,-0.46747348,-0.4515172,0.5938365,-0.3997605,-0.20566489,5.516071,0.39620942,-0.4677627,-0.039847724,-0.20170078],[-0.46156996,-0.4651929,-0.4528132,0.0014155855,-0.46640214,-0.46094516,2.675485,1.1131613,-0.054079644,-0.21707188,-0.40361282,-0.44634002,-0.46572995,-0.36603418,-0.46378776,0.1908576,0.17776714,-0.19306158,-0.33205387,-0.33095646,-0.3376737,0.14733706,-0.45941725,-0.38933086,-0.4585549,-0.45728377,-0.4664107,0.74590516,-0.44435582,0.77877074,-0.036699828,-0.44532531,-0.45767465,-0.37944445,-0.4543131,-0.45993626,-0.4642663,1.1618325,-0.4627811,-0.45032072,0.59600586,-0.42379746,-0.27086663,5.54152,0.38461676,-0.4658465,0.010127079,-0.16085169],[-0.42943147,-0.41637257,-0.41517916,-0.038342938,-0.42944154,-0.4275346,2.5237014,1.2164177,-0.051915746,-0.20478797,-0.3659584,-0.40720206,-0.4303523,-0.3127197,-0.42028773,0.024679868,0.30117357,-0.22658914,-0.34259364,-0.29817617,-0.30887857,0.007964523,-0.4238852,-0.37155703,-0.42283884,-0.4245026,-0.42929244,0.7502194,-0.40739825,0.62420684,-0.15027037,-0.40929618,-0.4226594,-0.30575147,-0.4181024,-0.42445937,-0.4280881,0.81894106,-0.42627433,-0.41485792,0.35739672,-0.3756189,-0.21882935,5.768865,0.32576463,-0.4302578,-0.10547191,-0.18415613],[-0.46592635,-0.4333745,-0.44687533,-0.020947136,-0.46587622,-0.46160835,2.4294221,1.4749907,-0.11125075,-0.20244464,-0.3783997,-0.4400845,-0.46255577,-0.38133037,-0.44907236,0.09226694,0.32223096,-0.12816681,-0.34031177,-0.22680159,-0.2661431,0.21737346,-0.45956147,-0.37323484,-0.45248717,-0.45142108,-0.4659455,0.792378,-0.44057465,0.66876173,0.025422683,-0.4414497,-0.45876846,-0.33636296,-0.45557785,-0.45764485,-0.46380603,1.1335112,-0.46102318,-0.4470243,0.23538433,-0.40633732,-0.30184823,5.625434,0.33743322,-0.46575165,-0.17582197,-0.15879916],[-0.454465,-0.39887345,-0.4347349,-0.09449308,-0.45401666,-0.45159444,2.5195262,1.1528854,-0.046589043,-0.18346272,-0.398841,-0.4298167,-0.43505993,-0.36814225,-0.39920303,0.11526882,0.21355148,-0.19982116,-0.30306074,-0.2909012,-0.29815668,0.13296124,-0.44669077,-0.36105382,-0.44699305,-0.4465612,-0.45530185,0.8542452,-0.42855737,0.6784793,-0.07706661,-0.4288993,-0.44447145,-0.2240227,-0.44150248,-0.4479851,-0.4518513,1.0466704,-0.4489121,-0.437181,0.32919517,-0.4159907,-0.22286515,5.700595,0.31095847,-0.44908392,-0.14597937,-0.19213706],[-0.4496188,-0.34670615,-0.44778186,-0.11774831,-0.46609762,-0.46449342,2.5827973,1.1227117,-0.07246681,-0.21436596,-0.4092222,-0.4555224,-0.43648997,-0.35902974,-0.38786197,0.15277842,0.8892087,-0.16820021,-0.38699436,-0.23360005,-0.27530256,0.05771405,-0.45702758,-0.39927015,-0.45231742,-0.4646298,-0.46536884,0.7201445,-0.4367694,0.5847057,0.097164854,-0.43941024,-0.45967644,-0.38278222,-0.45171818,-0.45648023,-0.46316707,0.9290537,-0.46008864,-0.44573593,0.43842024,-0.4088863,-0.31434327,5.6247697,0.30629805,-0.4459074,-0.19852309,-0.21216214],[-0.44466674,-0.3047264,-0.47323057,-0.119363904,-0.49540722,-0.4929765,2.3196025,1.3807057,-0.124634184,-0.06422904,-0.4048102,-0.48493865,-0.43412346,-0.39209554,-0.2788559,0.16339903,0.67381793,-0.17955264,-0.3531284,-0.3435118,-0.29684773,0.109021865,-0.48584795,-0.40831742,-0.482669,-0.4800077,-0.4940907,0.8885187,-0.463622,0.71140355,0.009070101,-0.46453118,-0.48567995,-0.30670848,-0.47967654,-0.48533413,-0.4911264,1.0063483,-0.4877765,-0.47192365,0.4706162,-0.463721,-0.22010393,5.625862,0.3484444,-0.45845446,-0.15122451,-0.2388941],[-0.3804552,-0.16207837,-0.4837501,-0.109042525,-0.50965714,-0.5096322,2.6704934,1.2764401,-0.1183461,-0.21805617,-0.4166979,-0.49267125,-0.4056764,-0.43252528,-0.28582928,0.42449462,0.40860128,-0.14091791,-0.32296452,-0.29109982,-0.37083775,0.3955456,-0.49937975,-0.45520142,-0.49232,-0.500354,-0.5108175,0.83889353,-0.47355106,0.6599738,0.04480199,-0.4774331,-0.49844635,-0.37230206,-0.4920759,-0.5004498,-0.5041264,1.0184648,-0.50435615,-0.47999078,0.34308708,-0.45908025,-0.2647863,5.5028,0.27127734,-0.37723988,-0.21658948,-0.12613493],[-0.19566463,0.1614865,-0.49364954,-0.16139205,-0.51878715,-0.51976365,2.9663692,0.8873474,-0.15507165,-0.24730721,-0.4449143,-0.4948985,-0.3213731,-0.4081155,-0.11841569,0.29739988,1.010598,-0.2148863,-0.35075584,-0.30673224,-0.35883772,0.053218365,-0.51312643,-0.4414866,-0.50571215,-0.51664245,-0.5209565,0.675762,-0.48707488,0.6758405,0.00996867,-0.48802602,-0.5169066,-0.37227422,-0.5014855,-0.50990015,-0.5182413,1.0415013,-0.5124434,-0.4926474,0.38230217,-0.468712,-0.3287239,5.37227,0.2894293,-0.3528289,-0.35055116,-0.11518968],[0.04611147,0.42105028,-0.5460231,-0.20814049,-0.5790317,-0.5788906,2.6645243,1.1244526,-0.19021028,-0.24381056,-0.4757931,-0.548439,-0.25757012,-0.40003252,0.34455612,0.1532457,1.2730165,-0.31624267,-0.44004562,-0.40565044,-0.34792027,0.16947137,-0.5667754,-0.48824513,-0.5577127,-0.5757368,-0.5790152,0.71864384,-0.53725845,0.6932817,-0.17097369,-0.5387735,-0.5736053,-0.3311231,-0.5576614,-0.5661868,-0.57174265,0.95535123,-0.5694261,-0.5486859,0.41943732,-0.5056672,-0.30363417,5.3207154,0.24771774,-0.18470083,-0.19479384,-0.092055984],[0.6261562,0.85095316,-0.5830166,-0.29123566,-0.60719746,-0.61174643,2.477976,0.89326227,-0.22106509,-0.2340418,-0.5243253,-0.58969414,-0.16803911,-0.45959353,0.41077417,0.49962866,1.1241676,-0.25669745,-0.41595992,-0.34521616,-0.40398815,0.34039822,-0.601317,-0.53954786,-0.59118587,-0.59705055,-0.6142469,0.77638113,-0.57131433,0.5236608,0.05940517,-0.57500416,-0.6056959,-0.4245083,-0.5882206,-0.59918267,-0.60722053,0.9393187,-0.60135925,-0.58180034,0.35742098,-0.56012577,-0.41612124,5.291838,0.22277878,-0.084337585,-0.35590094,-0.16816165],[1.2190678,1.4109265,-0.61245227,-0.35888398,-0.6508328,-0.65184206,2.30394,1.1063749,-0.25697768,-0.2546749,-0.544667,-0.6228731,0.2215526,-0.53328264,1.1045792,0.05385189,1.2760475,-0.3745127,-0.50334024,-0.49146768,-0.38331056,0.16985527,-0.6379381,-0.57737005,-0.628143,-0.6466386,-0.65092766,0.9387699,-0.6027104,0.36611164,-0.19423695,-0.6051501,-0.6379782,-0.41488627,-0.6218081,-0.635518,-0.6384332,0.66358143,-0.63587415,-0.6158677,0.29767218,-0.5782169,-0.43199158,4.8885818,0.14189713,0.38064027,-0.37104717,-0.17959705],[2.3290956,2.0947506,-0.6386466,-0.33882803,-0.66656727,-0.6685015,1.877252,0.8573699,-0.367661,-0.33014807,-0.5953954,-0.64357847,0.3600295,-0.5306753,2.0187361,0.24670844,1.454082,-0.3344794,-0.5084188,-0.48073125,-0.47371164,-0.0076950514,-0.6549379,-0.5969991,-0.6507309,-0.6617324,-0.66857016,0.41577277,-0.62193215,0.26182264,-0.13514091,-0.6276986,-0.6585184,-0.48583144,-0.6417951,-0.65328985,-0.6616989,0.6551932,-0.6528723,-0.6347703,0.3048746,-0.60091084,-0.35795945,4.032276,0.0030469424,0.4990207,-0.47625548,-0.3833516],[2.8675086,2.649469,-0.63173527,-0.409109,-0.65733606,-0.6611294,1.4286017,0.5561844,-0.3802708,-0.30211508,-0.58638394,-0.6408172,0.52756757,-0.54366887,2.8805633,0.11592662,1.265673,-0.32240245,-0.5156789,-0.47664306,-0.49168512,0.25712126,-0.6474495,-0.61843693,-0.6380145,-0.64596444,-0.65879345,0.34022412,-0.6173013,0.05989406,-0.22023427,-0.6222294,-0.651443,-0.4683523,-0.6355847,-0.64855486,-0.65367603,0.45381215,-0.65033466,-0.62785053,0.09854552,-0.60480076,-0.44341436,2.9704099,-0.09632054,0.92688805,-0.40270567,-0.2279529],[3.1204672,3.3458545,-0.58971167,-0.40847006,-0.61853194,-0.621695,1.1215433,0.5897305,-0.3828136,-0.23272704,-0.507128,-0.57269734,0.4698609,-0.5412322,1.8506083,0.099185616,0.15589637,-0.34640652,-0.44350243,-0.49077782,-0.39769295,-0.04329052,-0.61232734,-0.5390895,-0.6038053,-0.60140884,-0.62050396,0.2254208,-0.58234394,0.040165957,-0.26412103,-0.58352154,-0.61186093,-0.50643533,-0.5974759,-0.60980743,-0.6126615,0.28366917,-0.6078295,-0.5950787,0.23343557,-0.60126245,-0.28487602,2.8659096,-0.1786096,2.1044483,-0.37845683,-0.31804317],[2.942806,3.5938342,-0.57577753,-0.5097651,-0.6082246,-0.61042774,0.88279396,0.5923413,-0.41236085,-0.27761018,-0.5446601,-0.5355705,0.62209654,-0.47949767,2.4037333,0.14279528,0.38536036,-0.40704575,-0.3881579,-0.53722966,-0.3227737,0.009830612,-0.6032792,-0.5177062,-0.5948219,-0.5996748,-0.6081049,0.28764203,-0.5737171,-0.07261402,-0.2393292,-0.57001865,-0.60030234,-0.46278653,-0.580973,-0.5964745,-0.5986142,0.14021331,-0.59519,-0.5865707,0.044106282,-0.57039785,-0.3860637,2.562305,-0.24247034,1.8708924,-0.27173954,-0.40080106],[3.7218852,2.9183443,-0.58202344,-0.47633296,-0.6168986,-0.6205497,1.1586833,0.7762907,-0.40073368,-0.321808,-0.5297061,-0.49714056,0.43634886,-0.5208865,1.8961705,0.28432953,0.3003042,-0.42014778,-0.45606992,-0.5719822,-0.26685393,-0.030693647,-0.6077991,-0.5099181,-0.6088856,-0.6143199,-0.6171715,0.11851018,-0.59037274,-0.017938348,-0.36334282,-0.5772446,-0.61043614,-0.49909672,-0.5890129,-0.60309356,-0.6054943,0.3061421,-0.60150695,-0.60628307,0.18982916,-0.60582185,-0.19866753,2.7820718,-0.18723491,1.6845897,-0.3063271,-0.34170362],[3.8749607,2.1950338,-0.57607174,-0.47473958,-0.610433,-0.6135039,1.3073145,0.48483577,-0.42992297,-0.2486313,-0.5229978,-0.48395053,0.47319853,-0.5188112,2.0189822,0.13079403,0.18985406,-0.3621528,-0.40042537,-0.57986027,-0.16748434,-0.051208224,-0.6029625,-0.4209794,-0.60935885,-0.6078885,-0.6130594,0.2946738,-0.59130317,-0.0099620875,-0.35926816,-0.5715397,-0.6038601,-0.47593516,-0.5808648,-0.59380496,-0.5967215,0.16932766,-0.5924751,-0.60472107,0.21863347,-0.6075975,-0.32107612,3.1717772,-0.16909605,1.7151238,-0.3468282,-0.32501167],[3.825094,2.5990126,-0.5924996,-0.48950452,-0.6362903,-0.6378267,1.1077075,0.6503262,-0.50115967,-0.2654753,-0.5210885,-0.52248394,0.5069069,-0.5335785,2.0319982,0.15570405,0.15519781,-0.36193585,-0.34507018,-0.5475983,0.0035893144,0.27044755,-0.62714046,-0.39360324,-0.6347947,-0.6094859,-0.63240784,0.2296225,-0.62164265,-0.07363824,-0.3287967,-0.5896408,-0.6263785,-0.50470114,-0.60374916,-0.6164489,-0.6180479,0.12298086,-0.61643696,-0.6304553,0.09473174,-0.60097575,-0.38828254,2.5776715,-0.23989287,2.1411455,-0.27749103,-0.28361702],[3.12473,3.6222188,-0.5702297,-0.47329494,-0.610829,-0.6010147,1.0180389,0.46972668,-0.44423625,-0.32982907,-0.5154279,-0.53665173,0.491005,-0.5387907,2.0464525,0.20236479,0.3643265,-0.37382364,-0.42906567,-0.53416437,-0.28359726,-0.018179594,-0.60115474,-0.3470836,-0.61351097,-0.5952269,-0.61248195,0.3096414,-0.6048562,-0.07216435,-0.35411748,-0.56773573,-0.60365134,-0.45876896,-0.5786305,-0.5972543,-0.59485626,0.046722863,-0.5936357,-0.6134816,0.06032642,-0.5774382,-0.3166826,2.6370194,-0.26604107,1.8813598,-0.17392044,-0.2721051],[4.05852,2.8202586,-0.5613521,-0.49347323,-0.60187924,-0.5816826,0.92664045,0.68421453,-0.43934578,-0.35434532,-0.5429265,-0.4598809,0.4088039,-0.49112925,2.134162,0.03875633,0.31230032,-0.22956826,-0.3613449,-0.4692268,-0.05183467,-0.028953029,-0.5950533,-0.2711922,-0.6027262,-0.58511245,-0.60073465,0.35945964,-0.60296154,-0.09734778,-0.24521385,-0.5574132,-0.5938767,-0.54564404,-0.5654302,-0.57772475,-0.5817523,0.09922019,-0.5787278,-0.60439205,-0.0016574466,-0.57214636,-0.43768966,2.4665692,-0.27833012,1.6696346,-0.4144598,-0.402012],[3.9302828,2.8301802,-0.5680938,-0.48670313,-0.60215276,-0.57301044,1.3216736,0.2384811,-0.48361704,-0.37704065,-0.5438313,-0.4111352,0.46332228,-0.5173819,2.0618987,0.2310583,0.31360963,-0.3291371,-0.38791817,-0.5033293,-0.26283053,0.0060207187,-0.5978369,-0.13023078,-0.600413,-0.60502654,-0.61162555,0.11869366,-0.61306626,-0.099229455,-0.3863023,-0.56494933,-0.60151887,-0.48775402,-0.5708442,-0.5886276,-0.5866411,0.15169917,-0.5845581,-0.6025901,0.05868791,-0.5856953,-0.29692566,2.5730517,-0.289678,1.7326769,-0.29082546,-0.29081666],[3.4500308,3.934395,-0.5527311,-0.50438446,-0.59102464,-0.56571823,0.8134414,0.59081763,-0.4826986,-0.38698363,-0.5349509,-0.31881055,0.5281082,-0.48229343,2.0863605,0.28931397,0.023930794,-0.37764424,-0.38134646,-0.51163584,0.09438087,0.109728,-0.58565223,-0.16514716,-0.57034796,-0.5797324,-0.5923507,0.05722162,-0.574925,-0.16393478,-0.31344473,-0.54798186,-0.58602023,-0.5406306,-0.558482,-0.5767549,-0.57775915,0.061292615,-0.5716725,-0.5915808,-0.03782931,-0.48878324,-0.1622792,2.2448668,-0.31404054,1.318177,-0.44010925,-0.3723813],[3.987516,3.3504221,-0.54483825,-0.5150954,-0.59468144,-0.527791,0.77703315,0.73098254,-0.49233568,-0.3691609,-0.5240731,-0.22355305,0.28219864,-0.5276737,1.9774975,0.16601725,0.22644855,-0.3711423,-0.32516554,-0.5321219,-0.011625035,-0.10998438,-0.58722204,-0.045777254,-0.5259866,-0.5795914,-0.5988751,0.17235997,-0.5379596,-0.14727288,-0.28246516,-0.5414745,-0.58651346,-0.46085578,-0.55196005,-0.5696294,-0.57135797,0.063809164,-0.5644459,-0.5441919,-0.06751176,-0.5571991,-0.14900726,2.610289,-0.29972312,0.97868407,-0.46299157,-0.4220054],[3.722219,3.5170677,-0.57517076,-0.5315849,-0.6222865,-0.4911477,0.9921455,0.73578286,-0.5339024,-0.42316547,-0.56409115,-0.29442316,0.470348,-0.5609674,1.789138,0.4270133,-0.027155992,-0.4467729,-0.34518206,-0.59028375,-0.055995084,0.04591905,-0.62165844,0.044257265,-0.5199097,-0.62072754,-0.6356828,0.28780887,-0.4651848,-0.19867231,-0.34033898,-0.5730417,-0.6210306,-0.4942395,-0.5839045,-0.60901254,-0.6020213,0.07166388,-0.5990147,-0.46661648,-0.027022103,-0.5986856,-0.23000738,2.5956929,-0.30260172,1.1480414,-0.37010252,-0.30549616],[3.1786933,4.458562,-0.577546,-0.51525533,-0.62443644,-0.44321695,0.99380463,0.5208138,-0.571027,-0.47217268,-0.5490904,-0.15899442,0.3791929,-0.4918469,1.1034192,0.03755973,0.304053,-0.4630471,-0.40819928,-0.50982285,0.039744154,0.5452158,-0.62287384,0.20214096,-0.5440191,-0.6098606,-0.6332485,0.12041923,-0.23592906,-0.2324085,-0.35359088,-0.57268506,-0.6287472,-0.56859815,-0.58571917,-0.6125413,-0.6103167,0.04776482,-0.6000056,-0.42494616,-0.025438799,-0.51683444,-0.31174448,2.1373146,-0.3593598,1.4453167,-0.42328763,-0.2572039],[3.3673055,3.5208156,-0.646854,-0.6036287,-0.7091744,-0.51587456,1.0477091,0.631544,-0.62655294,-0.480693,-0.6312691,-0.05655054,0.23099196,-0.6249849,2.2085733,0.26008275,0.08418175,-0.4934907,-0.52534527,-0.6653925,0.19633253,0.27953854,-0.7049543,0.4261649,-0.30369416,-0.68868095,-0.71867234,0.37877283,0.23397654,-0.25128263,-0.40780485,-0.64350885,-0.703035,-0.5335394,-0.6572496,-0.6946481,-0.6815322,-0.16333733,-0.67599076,-0.083992064,-0.14265828,-0.5762981,-0.23630582,2.475123,-0.38394785,1.1052345,-0.41031817,-0.20508718],[3.4560313,3.784574,-0.6425469,-0.60089564,-0.69658667,-0.45028436,0.69381124,0.44775778,-0.6326447,-0.54085827,-0.65368706,-0.1514243,-0.16562437,-0.5055949,2.047897,0.7323514,0.05053907,-0.5417533,-0.29379228,-0.6327242,0.14119953,0.20591696,-0.69885975,0.51380086,-0.12442927,-0.6787942,-0.70442146,0.12471709,0.990199,-0.25603065,-0.42575064,-0.6376614,-0.7028356,-0.62790024,-0.64895964,-0.6802662,-0.67766243,-0.08173839,-0.6711129,0.23295154,-0.16376095,-0.5889494,-0.27652043,2.0630167,-0.44980517,0.94817126,-0.4424701,-0.38658774],[2.7675965,3.398081,-0.69459337,-0.67217755,-0.75810474,-0.47808057,0.5740539,0.51248145,-0.6770299,-0.5106937,-0.6878958,-0.061962735,0.21867582,-0.6630112,2.0995908,0.39592856,-0.10201826,-0.39752057,-0.52842104,-0.67647064,0.4881481,0.33984607,-0.7481997,0.7085259,0.1947148,-0.72494376,-0.76165146,-0.027960306,2.548742,-0.3752739,-0.43848318,-0.6869214,-0.75566256,-0.6018357,-0.7023283,-0.7320628,-0.7315025,-0.14420895,-0.71900356,0.70347464,-0.23153633,-0.62964,-0.045587942,1.9977366,-0.5118818,0.5554445,-0.5313165,-0.49505854],[2.3496237,2.1594465,-0.62100327,-0.6495289,-0.6866913,-0.3057226,0.2412919,0.49228776,-0.61787313,-0.52361363,-0.6204904,-0.1411203,-0.09517687,-0.6103127,1.7108532,0.21520282,-0.12377157,-0.4688337,-0.48633638,-0.6131864,0.32707274,0.005907335,-0.6821124,0.45917496,0.8010439,-0.6622992,-0.69017833,0.04438385,4.382692,-0.3659924,-0.44490728,-0.61505586,-0.68245834,-0.5497938,-0.6322306,-0.65859747,-0.6537524,-0.2818157,-0.64372414,1.145299,-0.3199987,-0.5810336,-0.183546,1.6015528,-0.505536,0.8077791,-0.5360276,-0.490891],[1.6601583,1.8092449,-0.55032676,-0.57012653,-0.5952314,-0.14019418,0.34954068,0.07616412,-0.5591141,-0.4911282,-0.5636698,0.111831695,-0.04675514,-0.54066116,1.0864468,-0.015169906,-0.12966758,-0.42033485,-0.3420734,-0.54940164,0.1565019,-0.01875805,-0.59438366,0.6063627,0.7999053,-0.56363904,-0.6037062,-0.035427116,5.2724757,-0.37594074,-0.43287304,-0.5458482,-0.59979266,-0.5333123,-0.55629903,-0.5821096,-0.57347274,-0.23845658,-0.5694068,1.7846631,-0.43207687,-0.51647216,-0.30439755,0.90414166,-0.45705205,0.25080103,-0.4052897,-0.41566706],[1.6823982,0.78673375,-0.5523437,-0.5409211,-0.583316,-0.16428341,0.261755,0.104996905,-0.57339144,-0.47442946,-0.5392122,-0.19714826,0.1448508,-0.4932604,1.5193647,0.071594186,0.8874658,-0.4055901,-0.39593676,-0.50061065,-0.035982218,-0.097277954,-0.57902104,0.30782396,0.77054846,-0.6060122,-0.6089204,-0.1100628,5.507506,-0.3112422,-0.28403088,-0.54496753,-0.6089735,-0.40796608,-0.5484915,-0.5729421,-0.5779196,-0.16885334,-0.56372225,1.276124,-0.38131493,-0.5791799,-0.28172615,1.0371433,-0.445789,0.29831818,-0.5652482,-0.35653526],[1.9040084,0.7212807,-0.5443156,-0.53783315,-0.57701147,-0.013189426,0.3514111,0.07520137,-0.549442,-0.37684265,-0.526872,-0.057435792,0.033652965,-0.5571654,0.78991765,-0.1681632,0.6753983,-0.30472168,-0.45021942,-0.44950703,0.007053855,-0.13043465,-0.5731971,0.48568538,0.7658942,-0.5820098,-0.5950924,-0.016005212,5.664665,-0.33258498,-0.18583094,-0.53769106,-0.59304225,-0.40744632,-0.536743,-0.5539225,-0.5636785,-0.12757178,-0.5478475,1.259521,-0.38422126,-0.55538476,-0.30025274,0.9932243,-0.4439503,0.23661041,-0.5646798,-0.31921944],[1.8899369,1.0124174,-0.5198615,-0.50572175,-0.542227,-0.100038156,0.33096105,0.0016670363,-0.5461913,-0.3956481,-0.4545567,0.015722197,0.14568901,-0.46069857,0.6958322,0.062003497,0.30140597,-0.3051104,-0.3078862,-0.5010487,0.032192305,0.002610187,-0.5425719,0.3763623,0.66395473,-0.5319871,-0.56265575,-0.17250302,5.8752575,-0.29762736,-0.3426648,-0.52047175,-0.55662626,-0.4110793,-0.51244736,-0.52507716,-0.53396785,-0.1322192,-0.5186774,0.71210176,-0.3760666,-0.5214027,-0.2523156,0.8728526,-0.43032268,0.12041242,-0.5270439,-0.20466182],[1.6204547,0.7049901,-0.53958535,-0.53014207,-0.5492238,-0.23755603,0.25782064,0.04044888,-0.55610937,-0.4008376,-0.51383764,-0.010670499,0.29113978,-0.49056154,0.81173223,-0.19706303,1.0272473,-0.32251862,-0.36271733,-0.49135515,0.31277093,-0.11177347,-0.5515317,0.39217812,0.7925637,-0.5713401,-0.5781413,-0.15494248,5.7884755,-0.32632858,-0.38756034,-0.5371893,-0.57542497,-0.41361192,-0.5177314,-0.53731996,-0.54514426,-0.20836067,-0.52713114,0.84904444,-0.38040093,-0.52220196,-0.27747694,0.871178,-0.465322,0.43737465,-0.5643517,-0.24195646],[1.7584778,0.57736987,-0.5447271,-0.53962094,-0.5499945,-0.04797261,0.21518032,0.033846036,-0.55443674,-0.38915733,-0.5007063,-0.0058830217,0.40156722,-0.45205665,0.6365828,-0.2739772,0.9035282,-0.2491532,-0.47872382,-0.46279243,0.21702553,0.067493424,-0.5500161,0.48962837,0.57569766,-0.54286003,-0.5530844,-0.03864313,5.8808174,-0.32568023,-0.3048404,-0.5468813,-0.56592965,-0.33362672,-0.5170885,-0.53569025,-0.539902,-0.30159876,-0.52510387,0.7805164,-0.35287285,-0.48281646,-0.2905683,0.79947114,-0.44726586,0.25422403,-0.5240695,-0.26368868],[1.3003254,0.8010673,-0.56015325,-0.561111,-0.56551576,-0.14995457,0.01751472,0.052841105,-0.58048266,-0.44757888,-0.48624325,-0.18020435,0.58713955,-0.5059313,0.6507015,0.092590064,1.4232246,-0.1527509,-0.37385634,-0.46015862,0.3363517,-0.04823122,-0.565835,0.5345575,0.47691208,-0.58307916,-0.57864285,-0.19392917,5.8026147,-0.3864487,-0.28512716,-0.5697843,-0.58813,-0.35447764,-0.52728283,-0.5474717,-0.5498324,-0.2779547,-0.5384772,0.8121118,-0.40023702,-0.5063968,-0.3067187,0.7593931,-0.507282,0.49165258,-0.5473934,-0.25232527],[1.5177056,0.504271,-0.54328144,-0.5308907,-0.5325469,-0.17852962,0.24129397,-0.016689211,-0.54517174,-0.44100875,-0.4552668,-0.20926426,0.30518186,-0.49838808,0.66159075,-0.18134086,2.1505191,-0.067122415,-0.42674622,-0.4258113,0.3637663,-0.2258598,-0.5335902,0.41327953,0.40306926,-0.5517405,-0.53743607,-0.080636136,5.612944,-0.3657659,-0.34861562,-0.5481492,-0.55609334,-0.4134187,-0.5026412,-0.5212686,-0.5227267,-0.2566261,-0.51099086,1.0283417,-0.39657345,-0.514488,-0.34770164,0.7241986,-0.46346244,0.087727316,-0.5378495,-0.226194],[1.4857233,0.6846942,-0.57346827,-0.5625046,-0.54807645,-0.068441756,0.114090726,-0.04676162,-0.5622975,-0.45961174,-0.51652795,-0.16981675,0.5046853,-0.5103247,0.7626348,-0.116284005,1.7299768,-0.03538273,-0.38201857,-0.44181207,0.10160869,-0.18336809,-0.55116826,0.13131924,0.6748621,-0.5539949,-0.5041944,-0.25467762,5.6829934,-0.38078505,-0.2953091,-0.5785176,-0.5766353,-0.38733843,-0.51860183,-0.5380801,-0.5421693,-0.23918527,-0.52966636,1.1211519,-0.40530452,-0.49525812,-0.22908172,0.7287045,-0.49416664,0.27481657,-0.5239909,-0.22244015],[1.8142428,0.48881194,-0.53554994,-0.508159,-0.5094312,-0.16437528,0.10748577,0.011022948,-0.52798724,-0.41778547,-0.4764425,-0.057096746,0.35307285,-0.43321052,0.2720348,-0.31834775,1.0719438,-0.18927014,-0.37731516,-0.4647044,0.6134056,-0.16996013,-0.5158761,0.2988282,0.15655941,-0.5118912,-0.47221234,-0.08333639,5.8840585,-0.33966956,-0.4460724,-0.53807265,-0.53297937,-0.4201002,-0.4826439,-0.49903518,-0.5051412,-0.27434704,-0.48968187,1.0134047,-0.35838446,-0.43980584,-0.23044899,0.7698931,-0.4515614,0.4984074,-0.51113963,-0.101136774],[1.6309538,0.6846908,-0.56314176,-0.55299824,-0.53668845,-0.18195817,0.026866518,-0.057036135,-0.558485,-0.37223428,-0.47083706,-0.31599826,0.5487427,-0.3583664,0.34862322,-0.0931943,1.3380343,-0.041805685,-0.35009834,-0.4430505,0.8267098,-0.12771356,-0.536096,0.1627866,0.34173197,-0.5451989,-0.45448908,-0.18771082,5.7615795,-0.39001086,-0.4571193,-0.5531838,-0.5632339,-0.48259848,-0.50615937,-0.52421993,-0.5263888,-0.30313802,-0.5143391,1.1730585,-0.39209,-0.49998173,-0.21811795,0.64978826,-0.4959466,0.46693888,-0.4903151,-0.29655913],[1.5949694,0.6093478,-0.54881954,-0.5388066,-0.52635145,-0.18560384,0.11361547,-0.01830259,-0.5459646,-0.42043424,-0.48247305,-0.20207392,0.6902154,-0.46958312,0.32605192,-0.2217903,1.0208192,0.32515147,-0.33443472,-0.36687735,0.50267786,-0.22359487,-0.53552914,0.046803724,0.5438593,-0.5322844,-0.39080438,-0.19211416,5.917328,-0.3565428,-0.4539808,-0.48850515,-0.55741984,-0.3976936,-0.5029241,-0.5185403,-0.5183869,-0.20983075,-0.5089489,0.7996285,-0.43442202,-0.5050436,-0.24164817,0.7206739,-0.48401457,0.47507456,-0.5437647,-0.22870706],[1.7163205,0.616946,-0.5113968,-0.53849435,-0.526148,-0.109632105,0.0095972195,-0.066000156,-0.5514052,-0.35174212,-0.48294902,-0.21463814,0.42316666,-0.466075,0.049787715,-0.042719144,1.4410312,0.09123901,-0.13475636,-0.4525141,-0.012204388,-0.0035261295,-0.5219874,0.01030264,0.31831416,-0.50038075,-0.27865368,-0.18449089,5.865916,-0.37947044,-0.41826746,-0.39309815,-0.5468764,-0.4186279,-0.48457947,-0.5058366,-0.50803626,-0.25545463,-0.49512148,1.1481695,-0.44646123,-0.51936716,-0.3030295,0.6701456,-0.48941195,0.429153,-0.5021171,-0.1746184],[1.619645,0.46170235,-0.5232813,-0.55095774,-0.53305775,-0.2553632,-0.020898195,-0.013161466,-0.5639626,-0.36934885,-0.46233886,-0.14905153,0.6650716,-0.5305433,0.2165777,-0.22947223,1.211177,0.21312812,-0.36798975,-0.46808633,0.059776377,0.18359171,-0.53105456,-0.08062059,0.5072471,-0.5119274,-0.22881226,-0.2502371,5.960052,-0.3997079,-0.4395138,-0.110420376,-0.55891025,-0.33233926,-0.49763107,-0.5181294,-0.51669604,-0.34124118,-0.50494784,0.80126923,-0.4311709,-0.4296605,-0.14771144,0.5342455,-0.52076787,0.5704024,-0.52415645,-0.09071863],[1.6635731,0.47692055,-0.46209252,-0.6234309,-0.5990819,-0.30306986,-0.07383103,-0.044307865,-0.63542646,-0.41042915,-0.5459496,-0.1600785,0.9034072,-0.5292005,0.35777816,-0.36222908,1.3163165,0.56467295,-0.3702227,-0.50214916,0.5105451,-0.14200121,-0.6046604,0.25856128,0.5350142,-0.5452244,-0.024660759,-0.33715653,5.6673236,-0.48900956,-0.5364085,0.43040892,-0.63264656,-0.4675342,-0.5632463,-0.5842444,-0.5868517,-0.38002163,-0.57176906,1.0855511,-0.4799957,-0.49934858,-0.11732746,0.41516122,-0.5823164,0.34570754,-0.5277772,-0.23724197],[1.5988369,0.2650529,-0.28742525,-0.6438475,-0.61677516,-0.28078917,0.03441398,-0.17416823,-0.6492991,-0.31647807,-0.49805957,-0.40170342,1.3346314,-0.6133733,0.023810426,-0.33061334,1.3068149,0.51482135,-0.51561713,-0.50729287,0.5368653,-0.0027049007,-0.61874783,0.15946898,0.15342386,-0.6154803,-0.15484695,-0.20239338,5.423317,-0.5128221,-0.5090241,1.4613582,-0.6487809,-0.5244226,-0.5772524,-0.6003317,-0.59889877,-0.45237985,-0.58570343,1.0981311,-0.49404976,-0.3799697,-0.30447498,0.50072545,-0.59444827,0.48445776,-0.5655779,-0.11838037],[1.441032,-0.06394799,0.085885465,-0.6551444,-0.6319668,-0.3970606,-0.22529846,-0.065373376,-0.663669,-0.43392402,-0.5763226,-0.4166265,0.6644805,-0.5504872,0.33060724,-0.37100035,2.1831925,0.5996502,-0.3829821,-0.5323403,0.33768967,-0.3232528,-0.63398415,-0.010703244,0.24565879,-0.58326906,0.68741786,-0.31350958,4.5816164,-0.5189877,-0.47592372,3.004473,-0.660487,-0.4147725,-0.5881958,-0.6118144,-0.61790407,-0.43986568,-0.59731275,0.8794466,-0.5055875,-0.5614185,-0.28645992,0.33888268,-0.60059047,0.3125483,-0.6205069,-0.36189434],[0.7445474,0.17666638,0.4047362,-0.6259477,-0.5960566,-0.41202387,-0.2505494,-0.13532436,-0.6319861,-0.37872702,-0.53048885,-0.46873173,1.0275099,-0.5053647,0.09186982,-0.29331666,0.9675343,1.120977,-0.44601545,-0.45323464,0.35709488,0.098989554,-0.600151,-0.1288803,-0.058788225,-0.5742531,0.28337,-0.41230392,3.706384,-0.50294113,-0.49939805,4.6553454,-0.6322747,-0.5237451,-0.56367403,-0.586122,-0.5874928,-0.4367599,-0.5729753,0.70270586,-0.5061013,-0.361387,-0.22656822,0.20743427,-0.5866066,0.29867402,-0.52388376,-0.23176435],[0.89942116,0.07715185,0.73422456,-0.5118607,-0.49624333,-0.29165325,-0.15587164,-0.12590559,-0.51411855,-0.35824722,-0.44903895,-0.22286816,0.50031763,-0.46871623,-0.21803245,-0.2880054,0.87093735,0.33680582,-0.33607113,-0.42452484,-0.11926091,-0.26817983,-0.4902064,-0.2967329,0.070944,-0.47717726,0.69727457,-0.39846313,2.8241112,-0.4215624,-0.47271132,5.583087,-0.512391,-0.37545544,-0.45679405,-0.47467995,-0.47814375,-0.33682933,-0.46388054,0.39965475,-0.43285656,-0.47695336,-0.28520882,0.18048857,-0.48376232,0.051207848,-0.49043623,-0.1527823]],\"type\":\"heatmap\",\"xaxis\":\"x\",\"yaxis\":\"y\",\"hovertemplate\":\"Neuron: %{x}<br>Pos: %{y}<br>color: %{z}<extra></extra>\"}],                        {\"template\":{\"data\":{\"histogram2dcontour\":[{\"type\":\"histogram2dcontour\",\"colorbar\":{\"outlinewidth\":0,\"ticks\":\"\"},\"colorscale\":[[0.0,\"#0d0887\"],[0.1111111111111111,\"#46039f\"],[0.2222222222222222,\"#7201a8\"],[0.3333333333333333,\"#9c179e\"],[0.4444444444444444,\"#bd3786\"],[0.5555555555555556,\"#d8576b\"],[0.6666666666666666,\"#ed7953\"],[0.7777777777777778,\"#fb9f3a\"],[0.8888888888888888,\"#fdca26\"],[1.0,\"#f0f921\"]]}],\"choropleth\":[{\"type\":\"choropleth\",\"colorbar\":{\"outlinewidth\":0,\"ticks\":\"\"}}],\"histogram2d\":[{\"type\":\"histogram2d\",\"colorbar\":{\"outlinewidth\":0,\"ticks\":\"\"},\"colorscale\":[[0.0,\"#0d0887\"],[0.1111111111111111,\"#46039f\"],[0.2222222222222222,\"#7201a8\"],[0.3333333333333333,\"#9c179e\"],[0.4444444444444444,\"#bd3786\"],[0.5555555555555556,\"#d8576b\"],[0.6666666666666666,\"#ed7953\"],[0.7777777777777778,\"#fb9f3a\"],[0.8888888888888888,\"#fdca26\"],[1.0,\"#f0f921\"]]}],\"heatmap\":[{\"type\":\"heatmap\",\"colorbar\":{\"outlinewidth\":0,\"ticks\":\"\"},\"colorscale\":[[0.0,\"#0d0887\"],[0.1111111111111111,\"#46039f\"],[0.2222222222222222,\"#7201a8\"],[0.3333333333333333,\"#9c179e\"],[0.4444444444444444,\"#bd3786\"],[0.5555555555555556,\"#d8576b\"],[0.6666666666666666,\"#ed7953\"],[0.7777777777777778,\"#fb9f3a\"],[0.8888888888888888,\"#fdca26\"],[1.0,\"#f0f921\"]]}],\"heatmapgl\":[{\"type\":\"heatmapgl\",\"colorbar\":{\"outlinewidth\":0,\"ticks\":\"\"},\"colorscale\":[[0.0,\"#0d0887\"],[0.1111111111111111,\"#46039f\"],[0.2222222222222222,\"#7201a8\"],[0.3333333333333333,\"#9c179e\"],[0.4444444444444444,\"#bd3786\"],[0.5555555555555556,\"#d8576b\"],[0.6666666666666666,\"#ed7953\"],[0.7777777777777778,\"#fb9f3a\"],[0.8888888888888888,\"#fdca26\"],[1.0,\"#f0f921\"]]}],\"contourcarpet\":[{\"type\":\"contourcarpet\",\"colorbar\":{\"outlinewidth\":0,\"ticks\":\"\"}}],\"contour\":[{\"type\":\"contour\",\"colorbar\":{\"outlinewidth\":0,\"ticks\":\"\"},\"colorscale\":[[0.0,\"#0d0887\"],[0.1111111111111111,\"#46039f\"],[0.2222222222222222,\"#7201a8\"],[0.3333333333333333,\"#9c179e\"],[0.4444444444444444,\"#bd3786\"],[0.5555555555555556,\"#d8576b\"],[0.6666666666666666,\"#ed7953\"],[0.7777777777777778,\"#fb9f3a\"],[0.8888888888888888,\"#fdca26\"],[1.0,\"#f0f921\"]]}],\"surface\":[{\"type\":\"surface\",\"colorbar\":{\"outlinewidth\":0,\"ticks\":\"\"},\"colorscale\":[[0.0,\"#0d0887\"],[0.1111111111111111,\"#46039f\"],[0.2222222222222222,\"#7201a8\"],[0.3333333333333333,\"#9c179e\"],[0.4444444444444444,\"#bd3786\"],[0.5555555555555556,\"#d8576b\"],[0.6666666666666666,\"#ed7953\"],[0.7777777777777778,\"#fb9f3a\"],[0.8888888888888888,\"#fdca26\"],[1.0,\"#f0f921\"]]}],\"mesh3d\":[{\"type\":\"mesh3d\",\"colorbar\":{\"outlinewidth\":0,\"ticks\":\"\"}}],\"scatter\":[{\"fillpattern\":{\"fillmode\":\"overlay\",\"size\":10,\"solidity\":0.2},\"type\":\"scatter\"}],\"parcoords\":[{\"type\":\"parcoords\",\"line\":{\"colorbar\":{\"outlinewidth\":0,\"ticks\":\"\"}}}],\"scatterpolargl\":[{\"type\":\"scatterpolargl\",\"marker\":{\"colorbar\":{\"outlinewidth\":0,\"ticks\":\"\"}}}],\"bar\":[{\"error_x\":{\"color\":\"#2a3f5f\"},\"error_y\":{\"color\":\"#2a3f5f\"},\"marker\":{\"line\":{\"color\":\"#E5ECF6\",\"width\":0.5},\"pattern\":{\"fillmode\":\"overlay\",\"size\":10,\"solidity\":0.2}},\"type\":\"bar\"}],\"scattergeo\":[{\"type\":\"scattergeo\",\"marker\":{\"colorbar\":{\"outlinewidth\":0,\"ticks\":\"\"}}}],\"scatterpolar\":[{\"type\":\"scatterpolar\",\"marker\":{\"colorbar\":{\"outlinewidth\":0,\"ticks\":\"\"}}}],\"histogram\":[{\"marker\":{\"pattern\":{\"fillmode\":\"overlay\",\"size\":10,\"solidity\":0.2}},\"type\":\"histogram\"}],\"scattergl\":[{\"type\":\"scattergl\",\"marker\":{\"colorbar\":{\"outlinewidth\":0,\"ticks\":\"\"}}}],\"scatter3d\":[{\"type\":\"scatter3d\",\"line\":{\"colorbar\":{\"outlinewidth\":0,\"ticks\":\"\"}},\"marker\":{\"colorbar\":{\"outlinewidth\":0,\"ticks\":\"\"}}}],\"scattermapbox\":[{\"type\":\"scattermapbox\",\"marker\":{\"colorbar\":{\"outlinewidth\":0,\"ticks\":\"\"}}}],\"scatterternary\":[{\"type\":\"scatterternary\",\"marker\":{\"colorbar\":{\"outlinewidth\":0,\"ticks\":\"\"}}}],\"scattercarpet\":[{\"type\":\"scattercarpet\",\"marker\":{\"colorbar\":{\"outlinewidth\":0,\"ticks\":\"\"}}}],\"carpet\":[{\"aaxis\":{\"endlinecolor\":\"#2a3f5f\",\"gridcolor\":\"white\",\"linecolor\":\"white\",\"minorgridcolor\":\"white\",\"startlinecolor\":\"#2a3f5f\"},\"baxis\":{\"endlinecolor\":\"#2a3f5f\",\"gridcolor\":\"white\",\"linecolor\":\"white\",\"minorgridcolor\":\"white\",\"startlinecolor\":\"#2a3f5f\"},\"type\":\"carpet\"}],\"table\":[{\"cells\":{\"fill\":{\"color\":\"#EBF0F8\"},\"line\":{\"color\":\"white\"}},\"header\":{\"fill\":{\"color\":\"#C8D4E3\"},\"line\":{\"color\":\"white\"}},\"type\":\"table\"}],\"barpolar\":[{\"marker\":{\"line\":{\"color\":\"#E5ECF6\",\"width\":0.5},\"pattern\":{\"fillmode\":\"overlay\",\"size\":10,\"solidity\":0.2}},\"type\":\"barpolar\"}],\"pie\":[{\"automargin\":true,\"type\":\"pie\"}]},\"layout\":{\"autotypenumbers\":\"strict\",\"colorway\":[\"#636efa\",\"#EF553B\",\"#00cc96\",\"#ab63fa\",\"#FFA15A\",\"#19d3f3\",\"#FF6692\",\"#B6E880\",\"#FF97FF\",\"#FECB52\"],\"font\":{\"color\":\"#2a3f5f\"},\"hovermode\":\"closest\",\"hoverlabel\":{\"align\":\"left\"},\"paper_bgcolor\":\"white\",\"plot_bgcolor\":\"#E5ECF6\",\"polar\":{\"bgcolor\":\"#E5ECF6\",\"angularaxis\":{\"gridcolor\":\"white\",\"linecolor\":\"white\",\"ticks\":\"\"},\"radialaxis\":{\"gridcolor\":\"white\",\"linecolor\":\"white\",\"ticks\":\"\"}},\"ternary\":{\"bgcolor\":\"#E5ECF6\",\"aaxis\":{\"gridcolor\":\"white\",\"linecolor\":\"white\",\"ticks\":\"\"},\"baxis\":{\"gridcolor\":\"white\",\"linecolor\":\"white\",\"ticks\":\"\"},\"caxis\":{\"gridcolor\":\"white\",\"linecolor\":\"white\",\"ticks\":\"\"}},\"coloraxis\":{\"colorbar\":{\"outlinewidth\":0,\"ticks\":\"\"}},\"colorscale\":{\"sequential\":[[0.0,\"#0d0887\"],[0.1111111111111111,\"#46039f\"],[0.2222222222222222,\"#7201a8\"],[0.3333333333333333,\"#9c179e\"],[0.4444444444444444,\"#bd3786\"],[0.5555555555555556,\"#d8576b\"],[0.6666666666666666,\"#ed7953\"],[0.7777777777777778,\"#fb9f3a\"],[0.8888888888888888,\"#fdca26\"],[1.0,\"#f0f921\"]],\"sequentialminus\":[[0.0,\"#0d0887\"],[0.1111111111111111,\"#46039f\"],[0.2222222222222222,\"#7201a8\"],[0.3333333333333333,\"#9c179e\"],[0.4444444444444444,\"#bd3786\"],[0.5555555555555556,\"#d8576b\"],[0.6666666666666666,\"#ed7953\"],[0.7777777777777778,\"#fb9f3a\"],[0.8888888888888888,\"#fdca26\"],[1.0,\"#f0f921\"]],\"diverging\":[[0,\"#8e0152\"],[0.1,\"#c51b7d\"],[0.2,\"#de77ae\"],[0.3,\"#f1b6da\"],[0.4,\"#fde0ef\"],[0.5,\"#f7f7f7\"],[0.6,\"#e6f5d0\"],[0.7,\"#b8e186\"],[0.8,\"#7fbc41\"],[0.9,\"#4d9221\"],[1,\"#276419\"]]},\"xaxis\":{\"gridcolor\":\"white\",\"linecolor\":\"white\",\"ticks\":\"\",\"title\":{\"standoff\":15},\"zerolinecolor\":\"white\",\"automargin\":true,\"zerolinewidth\":2},\"yaxis\":{\"gridcolor\":\"white\",\"linecolor\":\"white\",\"ticks\":\"\",\"title\":{\"standoff\":15},\"zerolinecolor\":\"white\",\"automargin\":true,\"zerolinewidth\":2},\"scene\":{\"xaxis\":{\"backgroundcolor\":\"#E5ECF6\",\"gridcolor\":\"white\",\"linecolor\":\"white\",\"showbackground\":true,\"ticks\":\"\",\"zerolinecolor\":\"white\",\"gridwidth\":2},\"yaxis\":{\"backgroundcolor\":\"#E5ECF6\",\"gridcolor\":\"white\",\"linecolor\":\"white\",\"showbackground\":true,\"ticks\":\"\",\"zerolinecolor\":\"white\",\"gridwidth\":2},\"zaxis\":{\"backgroundcolor\":\"#E5ECF6\",\"gridcolor\":\"white\",\"linecolor\":\"white\",\"showbackground\":true,\"ticks\":\"\",\"zerolinecolor\":\"white\",\"gridwidth\":2}},\"shapedefaults\":{\"line\":{\"color\":\"#2a3f5f\"}},\"annotationdefaults\":{\"arrowcolor\":\"#2a3f5f\",\"arrowhead\":0,\"arrowwidth\":1},\"geo\":{\"bgcolor\":\"white\",\"landcolor\":\"#E5ECF6\",\"subunitcolor\":\"white\",\"showland\":true,\"showlakes\":true,\"lakecolor\":\"white\"},\"title\":{\"x\":0.05},\"mapbox\":{\"style\":\"light\"}}},\"xaxis\":{\"anchor\":\"y\",\"domain\":[0.0,1.0],\"title\":{\"text\":\"Neuron\"}},\"yaxis\":{\"anchor\":\"x\",\"domain\":[0.0,1.0],\"autorange\":\"reversed\",\"title\":{\"text\":\"Pos\"}},\"coloraxis\":{\"colorscale\":[[0.0,\"rgb(103,0,31)\"],[0.1,\"rgb(178,24,43)\"],[0.2,\"rgb(214,96,77)\"],[0.3,\"rgb(244,165,130)\"],[0.4,\"rgb(253,219,199)\"],[0.5,\"rgb(247,247,247)\"],[0.6,\"rgb(209,229,240)\"],[0.7,\"rgb(146,197,222)\"],[0.8,\"rgb(67,147,195)\"],[0.9,\"rgb(33,102,172)\"],[1.0,\"rgb(5,48,97)\"]],\"cmid\":0.0},\"title\":{\"text\":\"Neuron activations for single inputs\"}},                        {\"responsive\": true}                    ).then(function(){\n",
       "                            \n",
       "var gd = document.getElementById('aa5ccf06-d2f6-4d8a-987f-9e4d1c5fee26');\n",
       "var x = new MutationObserver(function (mutations, observer) {{\n",
       "        var display = window.getComputedStyle(gd).display;\n",
       "        if (!display || display === 'none') {{\n",
       "            console.log([gd, 'removed!']);\n",
       "            Plotly.purge(gd);\n",
       "            observer.disconnect();\n",
       "        }}\n",
       "}});\n",
       "\n",
       "// Listen for the removal of the full notebook cells\n",
       "var notebookContainer = gd.closest('#notebook-container');\n",
       "if (notebookContainer) {{\n",
       "    x.observe(notebookContainer, {childList: true});\n",
       "}}\n",
       "\n",
       "// Listen for the clearing of the current output cell\n",
       "var outputEl = gd.closest('.output');\n",
       "if (outputEl) {{\n",
       "    x.observe(outputEl, {childList: true});\n",
       "}}\n",
       "\n",
       "                        })                };                });            </script>        </div>"
      ]
     },
     "metadata": {},
     "output_type": "display_data"
    }
   ],
   "source": [
    "logits, cache = analysis_model.run_with_cache(comprehensive_sequence.long(), return_type=\"logits\")\n",
    "imshow(cache[\"post\", 0][0], yaxis=\"Pos\", xaxis=\"Neuron\", title=\"Neuron activations for single inputs\", aspect=\"auto\")"
   ]
  },
  {
   "cell_type": "markdown",
   "metadata": {},
   "source": [
    "This appears to be a map of which neurons correspond to exactly which values! A predominance of `0` elements activates neuron 34, `1` activates neuron 8, `2` activates neuron 44, etc. Activation values slowly drop once the predominance of another element becomes more clear. Sometimes, multiple neurons are activated, but there's usually an obvious primary. Let's also check our OV circuit again to see if this matches."
   ]
  },
  {
   "cell_type": "code",
   "execution_count": 117,
   "metadata": {},
   "outputs": [
    {
     "data": {
      "text/html": [
       "<div>                            <div id=\"64e5d837-2e2a-48c9-89a6-d4af675bb482\" class=\"plotly-graph-div\" style=\"height:525px; width:100%;\"></div>            <script type=\"text/javascript\">                require([\"plotly\"], function(Plotly) {                    window.PLOTLYENV=window.PLOTLYENV || {};                                    if (document.getElementById(\"64e5d837-2e2a-48c9-89a6-d4af675bb482\")) {                    Plotly.newPlot(                        \"64e5d837-2e2a-48c9-89a6-d4af675bb482\",                        [{\"coloraxis\":\"coloraxis\",\"name\":\"0\",\"z\":[[-0.20883504,-0.35022542,-0.015877241,-0.16725297,0.56025,-0.0127256755,-0.2025763,-0.2639685,-0.2822275,-0.046378452,-0.19517013,-0.23650442,-0.17358895,-0.05852094,-0.22185715,-0.087758586,-0.59156626,-0.28929874,0.013012941,-0.16309407,-0.19907606,-0.1917147,0.6426795,-0.10792574,-0.037994176,0.04748745,-0.17588305,-0.10487823,-0.15653482,-0.09943137,-0.115797,-0.14705433,0.52817637,0.015750088,1.096624,0.752186,0.83294827,-0.1187393,0.9415345,-0.06091482,-0.046584,-0.17056511,-0.18142387,-0.31698075,-0.16266847,-0.21303248,-0.0096077155,-0.21186328],[-0.10909389,-0.0023781403,-0.15959655,1.0196441,-0.30753428,-0.21137068,-0.21552601,-0.25324017,1.3024573,-0.1986711,0.90246207,0.46474805,-0.026699925,-0.106751755,-0.14860748,-0.17608395,-0.09616859,-0.18013509,-0.12666829,-0.037545174,-0.19560876,-0.2571686,-0.19590694,-0.22576614,-0.11798597,0.25004828,-0.039954934,-0.21517819,-0.10082665,-0.23463234,-0.18297656,-0.24070202,-0.21695961,-0.2017697,-0.18493493,-0.06934398,-0.10119239,-0.19715597,-0.17901841,-0.1339929,-0.17830847,-0.13032492,0.070819765,-0.17951563,-0.19848035,-0.08436099,-0.16614744,-0.037358016],[-0.268023,-0.19368194,-0.18522087,-0.116154775,-0.1959231,-0.14974655,-0.08397269,-0.014125787,-0.06595861,-0.17925182,-0.13813995,-0.18322504,-0.18624803,0.47506893,-0.14953832,-0.08816191,0.37971285,-0.15581559,0.38643488,0.82179314,-0.04657236,-0.093412645,-0.16855352,0.07379495,0.039748687,0.18981537,-0.07707965,-0.25859505,-0.05578285,-0.31170538,-0.13877396,-0.26231012,0.02517614,-0.041768868,-0.03235244,-0.23182142,-0.093636975,-0.17438702,-0.08229373,-0.0039790454,-0.18678212,-0.09247652,0.05047927,-0.21419092,1.4524205,-0.13178606,-0.09278078,-0.16730016],[0.12409991,0.11005182,-0.012834049,-0.01495233,-0.03586032,0.45676047,-0.12924735,-0.02196283,-0.17177694,0.9237371,-0.16080865,-0.13041423,0.0151563855,-0.12130405,0.093432985,-0.022564434,-0.14904082,-0.031778626,-0.100994915,-0.058932904,0.02336493,0.0703491,0.08333195,0.45780998,-0.10922161,0.05621851,0.073811196,-0.17636304,-0.07241032,1.3721352,0.8554516,0.01616582,-0.05218232,0.16415094,-0.045564007,0.008475542,0.061190803,-0.14574811,0.06345399,-0.12217848,-0.023199778,0.020943308,-0.07083888,-0.06597817,-0.24469556,-0.011062124,0.38509303,-0.091214165],[-0.20128083,-0.13740893,0.0059980433,-0.15356596,-0.07360887,-0.18323019,-0.20234334,-0.09564247,-0.16120952,-0.19589418,-0.13549155,-0.0073813037,-0.10745233,0.27031198,0.06360358,-0.09368843,0.16195309,-0.09158019,-0.018023256,-0.09783982,0.22400978,0.39948985,0.00053669413,-0.11566582,-0.11754881,-0.20019235,0.032519244,1.2810503,-0.20402737,-0.24200581,-0.18748198,-0.06011839,0.028788557,0.18098487,-0.08244234,-8.441691e-8,-0.048568532,1.2533537,-0.045290258,-0.14847107,1.1116958,0.13096859,-0.17209584,-0.1560084,-0.21413007,-0.12395963,-0.07432201,0.6941642],[-0.16590302,-0.056543548,-0.024190951,-0.14116181,-0.1039278,-0.068792455,1.1258109,1.0128888,-0.15043965,-0.07355936,-0.07229861,-0.025104672,-0.093209326,-0.08946974,-0.11066899,0.5535579,0.09742371,-0.07094313,-0.10934987,0.0023743913,0.10565535,-0.028559132,-0.032164387,0.012478387,-0.16855182,-0.092944205,-0.05175686,-0.079412155,-0.11535736,-0.07257691,0.040126614,-0.035502046,-0.12188777,-0.051296636,-0.12982169,-0.07240965,-0.083826326,-0.060229056,-0.049799617,-0.134667,-0.053154737,0.00557606,-0.14175066,-0.24009612,-0.012364674,-0.045298807,0.0073491363,-0.040479496],[-0.08785487,-0.03811517,-0.06662313,-0.12752463,0.15769622,0.04762844,-0.16172929,-0.25347918,-0.12321021,-0.04625767,-0.1510172,0.012632643,0.036103316,-0.070378296,-0.038144678,-0.16279168,0.13339508,0.7315824,0.16268562,-0.15727246,0.08828352,0.22680932,-0.13541402,-0.079416804,-0.062463365,-0.16772336,0.033140425,0.023467582,-0.19655746,-0.011311934,-0.08099619,-0.060090013,-0.20677741,0.039792884,-0.13111731,-0.14062622,-0.07416692,-0.048717346,-0.17469434,-0.026131295,-0.20068033,0.17610542,0.33313045,1.4024018,-0.1421579,-0.009539857,0.10091288,-0.041142534],[1.182966,0.8544961,-0.19029105,-0.093932144,-0.0052164234,-0.16828142,-0.18473272,-0.2532706,-0.092000194,0.042605836,0.04062705,-0.024233527,0.7780709,-0.054440927,0.8783377,0.008150008,0.09365038,-0.06543198,-0.08442311,-0.14032668,-0.047650743,0.0037502996,-0.01908591,-0.13890114,-0.20727636,0.006174387,-0.1914234,-0.10861821,-0.30485794,-0.024175815,0.07411526,-0.1446124,-0.0041106874,-0.0037287916,-0.17915641,-0.022275416,-0.17446083,-0.22205158,-0.18434903,-0.31690904,-0.087970786,-0.020128146,-0.10806608,-0.15127195,-0.22400662,0.8947926,-0.13579582,-0.020870063],[-0.22133607,-0.1155097,-0.17068799,-0.022649117,0.06170716,0.41413578,-0.24208947,-0.10718125,-0.057777543,-0.098241754,-0.0040911348,0.22408275,-0.30125663,-0.0969407,-0.1925705,-0.12077609,-0.15195456,-0.13201906,-0.09029532,-0.03317238,-0.010006772,0.02824224,-0.0014457239,0.28262845,0.79728097,-0.014121755,-0.10940219,-0.14454602,1.2468592,-0.138786,-0.08724739,-0.17606777,0.095437504,-0.052567378,-0.024879577,-0.05650479,-0.08346088,-0.09793947,-0.05278057,0.92149097,-0.095773555,0.0439105,0.15204087,-0.15258878,-0.05408751,-0.26721364,-0.037327487,-0.019522669],[-0.04625125,-0.10511077,0.9546429,-0.10416056,-0.09621632,-0.086620346,-0.058718603,-0.07013854,-0.17867516,0.075540625,-0.041139748,-0.13463734,0.08042532,-0.08608243,-0.189431,-0.03816303,-0.052861854,0.1854753,0.009802014,-0.10757662,0.028462837,-0.13211495,-0.02303512,-0.114640996,-0.1458139,0.027633315,0.57448435,-0.120266885,-0.21599063,0.009595276,-0.08071828,1.2726722,0.06388124,-0.007792063,-0.06997425,-0.014315512,-0.05799278,-0.048778027,-0.023616254,-0.12807198,-0.11635815,-0.014002999,-0.028333856,-0.098940104,-0.20534305,-0.013791361,0.06574772,-0.015948988]],\"type\":\"heatmap\",\"xaxis\":\"x\",\"yaxis\":\"y\",\"hovertemplate\":\"Neuron: %{x}<br>Input Vocab: %{y}<br>color: %{z}<extra></extra>\"}],                        {\"template\":{\"data\":{\"histogram2dcontour\":[{\"type\":\"histogram2dcontour\",\"colorbar\":{\"outlinewidth\":0,\"ticks\":\"\"},\"colorscale\":[[0.0,\"#0d0887\"],[0.1111111111111111,\"#46039f\"],[0.2222222222222222,\"#7201a8\"],[0.3333333333333333,\"#9c179e\"],[0.4444444444444444,\"#bd3786\"],[0.5555555555555556,\"#d8576b\"],[0.6666666666666666,\"#ed7953\"],[0.7777777777777778,\"#fb9f3a\"],[0.8888888888888888,\"#fdca26\"],[1.0,\"#f0f921\"]]}],\"choropleth\":[{\"type\":\"choropleth\",\"colorbar\":{\"outlinewidth\":0,\"ticks\":\"\"}}],\"histogram2d\":[{\"type\":\"histogram2d\",\"colorbar\":{\"outlinewidth\":0,\"ticks\":\"\"},\"colorscale\":[[0.0,\"#0d0887\"],[0.1111111111111111,\"#46039f\"],[0.2222222222222222,\"#7201a8\"],[0.3333333333333333,\"#9c179e\"],[0.4444444444444444,\"#bd3786\"],[0.5555555555555556,\"#d8576b\"],[0.6666666666666666,\"#ed7953\"],[0.7777777777777778,\"#fb9f3a\"],[0.8888888888888888,\"#fdca26\"],[1.0,\"#f0f921\"]]}],\"heatmap\":[{\"type\":\"heatmap\",\"colorbar\":{\"outlinewidth\":0,\"ticks\":\"\"},\"colorscale\":[[0.0,\"#0d0887\"],[0.1111111111111111,\"#46039f\"],[0.2222222222222222,\"#7201a8\"],[0.3333333333333333,\"#9c179e\"],[0.4444444444444444,\"#bd3786\"],[0.5555555555555556,\"#d8576b\"],[0.6666666666666666,\"#ed7953\"],[0.7777777777777778,\"#fb9f3a\"],[0.8888888888888888,\"#fdca26\"],[1.0,\"#f0f921\"]]}],\"heatmapgl\":[{\"type\":\"heatmapgl\",\"colorbar\":{\"outlinewidth\":0,\"ticks\":\"\"},\"colorscale\":[[0.0,\"#0d0887\"],[0.1111111111111111,\"#46039f\"],[0.2222222222222222,\"#7201a8\"],[0.3333333333333333,\"#9c179e\"],[0.4444444444444444,\"#bd3786\"],[0.5555555555555556,\"#d8576b\"],[0.6666666666666666,\"#ed7953\"],[0.7777777777777778,\"#fb9f3a\"],[0.8888888888888888,\"#fdca26\"],[1.0,\"#f0f921\"]]}],\"contourcarpet\":[{\"type\":\"contourcarpet\",\"colorbar\":{\"outlinewidth\":0,\"ticks\":\"\"}}],\"contour\":[{\"type\":\"contour\",\"colorbar\":{\"outlinewidth\":0,\"ticks\":\"\"},\"colorscale\":[[0.0,\"#0d0887\"],[0.1111111111111111,\"#46039f\"],[0.2222222222222222,\"#7201a8\"],[0.3333333333333333,\"#9c179e\"],[0.4444444444444444,\"#bd3786\"],[0.5555555555555556,\"#d8576b\"],[0.6666666666666666,\"#ed7953\"],[0.7777777777777778,\"#fb9f3a\"],[0.8888888888888888,\"#fdca26\"],[1.0,\"#f0f921\"]]}],\"surface\":[{\"type\":\"surface\",\"colorbar\":{\"outlinewidth\":0,\"ticks\":\"\"},\"colorscale\":[[0.0,\"#0d0887\"],[0.1111111111111111,\"#46039f\"],[0.2222222222222222,\"#7201a8\"],[0.3333333333333333,\"#9c179e\"],[0.4444444444444444,\"#bd3786\"],[0.5555555555555556,\"#d8576b\"],[0.6666666666666666,\"#ed7953\"],[0.7777777777777778,\"#fb9f3a\"],[0.8888888888888888,\"#fdca26\"],[1.0,\"#f0f921\"]]}],\"mesh3d\":[{\"type\":\"mesh3d\",\"colorbar\":{\"outlinewidth\":0,\"ticks\":\"\"}}],\"scatter\":[{\"fillpattern\":{\"fillmode\":\"overlay\",\"size\":10,\"solidity\":0.2},\"type\":\"scatter\"}],\"parcoords\":[{\"type\":\"parcoords\",\"line\":{\"colorbar\":{\"outlinewidth\":0,\"ticks\":\"\"}}}],\"scatterpolargl\":[{\"type\":\"scatterpolargl\",\"marker\":{\"colorbar\":{\"outlinewidth\":0,\"ticks\":\"\"}}}],\"bar\":[{\"error_x\":{\"color\":\"#2a3f5f\"},\"error_y\":{\"color\":\"#2a3f5f\"},\"marker\":{\"line\":{\"color\":\"#E5ECF6\",\"width\":0.5},\"pattern\":{\"fillmode\":\"overlay\",\"size\":10,\"solidity\":0.2}},\"type\":\"bar\"}],\"scattergeo\":[{\"type\":\"scattergeo\",\"marker\":{\"colorbar\":{\"outlinewidth\":0,\"ticks\":\"\"}}}],\"scatterpolar\":[{\"type\":\"scatterpolar\",\"marker\":{\"colorbar\":{\"outlinewidth\":0,\"ticks\":\"\"}}}],\"histogram\":[{\"marker\":{\"pattern\":{\"fillmode\":\"overlay\",\"size\":10,\"solidity\":0.2}},\"type\":\"histogram\"}],\"scattergl\":[{\"type\":\"scattergl\",\"marker\":{\"colorbar\":{\"outlinewidth\":0,\"ticks\":\"\"}}}],\"scatter3d\":[{\"type\":\"scatter3d\",\"line\":{\"colorbar\":{\"outlinewidth\":0,\"ticks\":\"\"}},\"marker\":{\"colorbar\":{\"outlinewidth\":0,\"ticks\":\"\"}}}],\"scattermapbox\":[{\"type\":\"scattermapbox\",\"marker\":{\"colorbar\":{\"outlinewidth\":0,\"ticks\":\"\"}}}],\"scatterternary\":[{\"type\":\"scatterternary\",\"marker\":{\"colorbar\":{\"outlinewidth\":0,\"ticks\":\"\"}}}],\"scattercarpet\":[{\"type\":\"scattercarpet\",\"marker\":{\"colorbar\":{\"outlinewidth\":0,\"ticks\":\"\"}}}],\"carpet\":[{\"aaxis\":{\"endlinecolor\":\"#2a3f5f\",\"gridcolor\":\"white\",\"linecolor\":\"white\",\"minorgridcolor\":\"white\",\"startlinecolor\":\"#2a3f5f\"},\"baxis\":{\"endlinecolor\":\"#2a3f5f\",\"gridcolor\":\"white\",\"linecolor\":\"white\",\"minorgridcolor\":\"white\",\"startlinecolor\":\"#2a3f5f\"},\"type\":\"carpet\"}],\"table\":[{\"cells\":{\"fill\":{\"color\":\"#EBF0F8\"},\"line\":{\"color\":\"white\"}},\"header\":{\"fill\":{\"color\":\"#C8D4E3\"},\"line\":{\"color\":\"white\"}},\"type\":\"table\"}],\"barpolar\":[{\"marker\":{\"line\":{\"color\":\"#E5ECF6\",\"width\":0.5},\"pattern\":{\"fillmode\":\"overlay\",\"size\":10,\"solidity\":0.2}},\"type\":\"barpolar\"}],\"pie\":[{\"automargin\":true,\"type\":\"pie\"}]},\"layout\":{\"autotypenumbers\":\"strict\",\"colorway\":[\"#636efa\",\"#EF553B\",\"#00cc96\",\"#ab63fa\",\"#FFA15A\",\"#19d3f3\",\"#FF6692\",\"#B6E880\",\"#FF97FF\",\"#FECB52\"],\"font\":{\"color\":\"#2a3f5f\"},\"hovermode\":\"closest\",\"hoverlabel\":{\"align\":\"left\"},\"paper_bgcolor\":\"white\",\"plot_bgcolor\":\"#E5ECF6\",\"polar\":{\"bgcolor\":\"#E5ECF6\",\"angularaxis\":{\"gridcolor\":\"white\",\"linecolor\":\"white\",\"ticks\":\"\"},\"radialaxis\":{\"gridcolor\":\"white\",\"linecolor\":\"white\",\"ticks\":\"\"}},\"ternary\":{\"bgcolor\":\"#E5ECF6\",\"aaxis\":{\"gridcolor\":\"white\",\"linecolor\":\"white\",\"ticks\":\"\"},\"baxis\":{\"gridcolor\":\"white\",\"linecolor\":\"white\",\"ticks\":\"\"},\"caxis\":{\"gridcolor\":\"white\",\"linecolor\":\"white\",\"ticks\":\"\"}},\"coloraxis\":{\"colorbar\":{\"outlinewidth\":0,\"ticks\":\"\"}},\"colorscale\":{\"sequential\":[[0.0,\"#0d0887\"],[0.1111111111111111,\"#46039f\"],[0.2222222222222222,\"#7201a8\"],[0.3333333333333333,\"#9c179e\"],[0.4444444444444444,\"#bd3786\"],[0.5555555555555556,\"#d8576b\"],[0.6666666666666666,\"#ed7953\"],[0.7777777777777778,\"#fb9f3a\"],[0.8888888888888888,\"#fdca26\"],[1.0,\"#f0f921\"]],\"sequentialminus\":[[0.0,\"#0d0887\"],[0.1111111111111111,\"#46039f\"],[0.2222222222222222,\"#7201a8\"],[0.3333333333333333,\"#9c179e\"],[0.4444444444444444,\"#bd3786\"],[0.5555555555555556,\"#d8576b\"],[0.6666666666666666,\"#ed7953\"],[0.7777777777777778,\"#fb9f3a\"],[0.8888888888888888,\"#fdca26\"],[1.0,\"#f0f921\"]],\"diverging\":[[0,\"#8e0152\"],[0.1,\"#c51b7d\"],[0.2,\"#de77ae\"],[0.3,\"#f1b6da\"],[0.4,\"#fde0ef\"],[0.5,\"#f7f7f7\"],[0.6,\"#e6f5d0\"],[0.7,\"#b8e186\"],[0.8,\"#7fbc41\"],[0.9,\"#4d9221\"],[1,\"#276419\"]]},\"xaxis\":{\"gridcolor\":\"white\",\"linecolor\":\"white\",\"ticks\":\"\",\"title\":{\"standoff\":15},\"zerolinecolor\":\"white\",\"automargin\":true,\"zerolinewidth\":2},\"yaxis\":{\"gridcolor\":\"white\",\"linecolor\":\"white\",\"ticks\":\"\",\"title\":{\"standoff\":15},\"zerolinecolor\":\"white\",\"automargin\":true,\"zerolinewidth\":2},\"scene\":{\"xaxis\":{\"backgroundcolor\":\"#E5ECF6\",\"gridcolor\":\"white\",\"linecolor\":\"white\",\"showbackground\":true,\"ticks\":\"\",\"zerolinecolor\":\"white\",\"gridwidth\":2},\"yaxis\":{\"backgroundcolor\":\"#E5ECF6\",\"gridcolor\":\"white\",\"linecolor\":\"white\",\"showbackground\":true,\"ticks\":\"\",\"zerolinecolor\":\"white\",\"gridwidth\":2},\"zaxis\":{\"backgroundcolor\":\"#E5ECF6\",\"gridcolor\":\"white\",\"linecolor\":\"white\",\"showbackground\":true,\"ticks\":\"\",\"zerolinecolor\":\"white\",\"gridwidth\":2}},\"shapedefaults\":{\"line\":{\"color\":\"#2a3f5f\"}},\"annotationdefaults\":{\"arrowcolor\":\"#2a3f5f\",\"arrowhead\":0,\"arrowwidth\":1},\"geo\":{\"bgcolor\":\"white\",\"landcolor\":\"#E5ECF6\",\"subunitcolor\":\"white\",\"showland\":true,\"showlakes\":true,\"lakecolor\":\"white\"},\"title\":{\"x\":0.05},\"mapbox\":{\"style\":\"light\"}}},\"xaxis\":{\"anchor\":\"y\",\"domain\":[0.0,1.0],\"title\":{\"text\":\"Neuron\"}},\"yaxis\":{\"anchor\":\"x\",\"domain\":[0.0,1.0],\"autorange\":\"reversed\",\"title\":{\"text\":\"Input Vocab\"}},\"coloraxis\":{\"colorscale\":[[0.0,\"rgb(103,0,31)\"],[0.1,\"rgb(178,24,43)\"],[0.2,\"rgb(214,96,77)\"],[0.3,\"rgb(244,165,130)\"],[0.4,\"rgb(253,219,199)\"],[0.5,\"rgb(247,247,247)\"],[0.6,\"rgb(209,229,240)\"],[0.7,\"rgb(146,197,222)\"],[0.8,\"rgb(67,147,195)\"],[0.9,\"rgb(33,102,172)\"],[1.0,\"rgb(5,48,97)\"]],\"cmid\":0.0},\"title\":{\"text\":\"OV Circuit Impact on MLP\"}},                        {\"responsive\": true}                    ).then(function(){\n",
       "                            \n",
       "var gd = document.getElementById('64e5d837-2e2a-48c9-89a6-d4af675bb482');\n",
       "var x = new MutationObserver(function (mutations, observer) {{\n",
       "        var display = window.getComputedStyle(gd).display;\n",
       "        if (!display || display === 'none') {{\n",
       "            console.log([gd, 'removed!']);\n",
       "            Plotly.purge(gd);\n",
       "            observer.disconnect();\n",
       "        }}\n",
       "}});\n",
       "\n",
       "// Listen for the removal of the full notebook cells\n",
       "var notebookContainer = gd.closest('#notebook-container');\n",
       "if (notebookContainer) {{\n",
       "    x.observe(notebookContainer, {childList: true});\n",
       "}}\n",
       "\n",
       "// Listen for the clearing of the current output cell\n",
       "var outputEl = gd.closest('.output');\n",
       "if (outputEl) {{\n",
       "    x.observe(outputEl, {childList: true});\n",
       "}}\n",
       "\n",
       "                        })                };                });            </script>        </div>"
      ]
     },
     "metadata": {},
     "output_type": "display_data"
    }
   ],
   "source": [
    "OV = analysis_model.W_E @ analysis_model.W_V[0, 0] @ analysis_model.W_O[0, 0] @ analysis_model.W_in[0]\n",
    "imshow(OV, yaxis=\"Input Vocab\", xaxis=\"Neuron\", title=\"OV Circuit Impact on MLP\",aspect=\"auto\")"
   ]
  },
  {
   "cell_type": "markdown",
   "metadata": {},
   "source": [
    "It does indeed! We can now map each value to a specific neuron (or neural pair). As an aside, we can also see that our MLP is too large for this task--most neurons aren't even used."
   ]
  },
  {
   "cell_type": "markdown",
   "metadata": {},
   "source": [
    "# Conclusion"
   ]
  },
  {
   "cell_type": "markdown",
   "metadata": {},
   "source": [
    "We have identified that the most salient neural patterns involved with solving the Majority Element task are single neurons or small combinations.\n",
    "\n",
    "Instead of \"counting\" specifically, it appears that these neurons simply signal the strength of a value's predominance. It might be interesting to see how this scales with more complex sequences or more values.\n",
    "\n",
    "We can also see more directions for future investigations:\n",
    "- Attempt activation patching to see if we can make the model conclude that particular (incorrect) values are in the majority\n",
    "- Try the model without an MLP to see what the attention pattern looks like\n",
    "- Try higher vocabulary to see what that changes (possible superposition?)\n",
    "\n",
    "More investigations will be added to this notebook (and other notebooks as well, as I look at other tasks)!"
   ]
  },
  {
   "cell_type": "markdown",
   "metadata": {},
   "source": []
  }
 ],
 "metadata": {
  "kernelspec": {
   "display_name": "Python 3.9.13 ('arena')",
   "language": "python",
   "name": "python3"
  },
  "language_info": {
   "codemirror_mode": {
    "name": "ipython",
    "version": 3
   },
   "file_extension": ".py",
   "mimetype": "text/x-python",
   "name": "python",
   "nbconvert_exporter": "python",
   "pygments_lexer": "ipython3",
   "version": "3.9.13"
  },
  "orig_nbformat": 4,
  "vscode": {
   "interpreter": {
    "hash": "e28c680d33f95a364b6d7e112cefa96ea26c04ddac857c82a143b1aa5b3dfb2e"
   }
  }
 },
 "nbformat": 4,
 "nbformat_minor": 2
}
